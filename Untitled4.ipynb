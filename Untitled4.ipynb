{
 "cells": [
  {
   "cell_type": "code",
   "execution_count": 13,
   "id": "f987bd45-c0bd-497e-815d-c525467749d5",
   "metadata": {},
   "outputs": [
    {
     "name": "stdout",
     "output_type": "stream",
     "text": [
      "Requirement already satisfied: qlib in c:\\users\\kiit\\anaconda3\\lib\\site-packages (0.0.2.dev20)\n",
      "Requirement already satisfied: pandas in c:\\users\\kiit\\anaconda3\\lib\\site-packages (2.2.3)\n",
      "Requirement already satisfied: numpy in c:\\users\\kiit\\anaconda3\\lib\\site-packages (1.26.4)\n",
      "Requirement already satisfied: yfinance in c:\\users\\kiit\\anaconda3\\lib\\site-packages (0.2.55)\n",
      "Requirement already satisfied: python-dateutil>=2.8.2 in c:\\users\\kiit\\anaconda3\\lib\\site-packages (from pandas) (2.9.0.post0)\n",
      "Requirement already satisfied: pytz>=2020.1 in c:\\users\\kiit\\anaconda3\\lib\\site-packages (from pandas) (2025.1)\n",
      "Requirement already satisfied: tzdata>=2022.7 in c:\\users\\kiit\\anaconda3\\lib\\site-packages (from pandas) (2025.1)\n",
      "Requirement already satisfied: requests>=2.31 in c:\\users\\kiit\\appdata\\roaming\\python\\python312\\site-packages (from yfinance) (2.32.3)\n",
      "Requirement already satisfied: multitasking>=0.0.7 in c:\\users\\kiit\\anaconda3\\lib\\site-packages (from yfinance) (0.0.11)\n",
      "Requirement already satisfied: platformdirs>=2.0.0 in c:\\users\\kiit\\appdata\\roaming\\python\\python312\\site-packages (from yfinance) (4.3.7)\n",
      "Requirement already satisfied: frozendict>=2.3.4 in c:\\users\\kiit\\anaconda3\\lib\\site-packages (from yfinance) (2.4.2)\n",
      "Requirement already satisfied: peewee>=3.16.2 in c:\\users\\kiit\\anaconda3\\lib\\site-packages (from yfinance) (3.17.9)\n",
      "Requirement already satisfied: beautifulsoup4>=4.11.1 in c:\\users\\kiit\\appdata\\roaming\\python\\python312\\site-packages (from yfinance) (4.13.3)\n",
      "Requirement already satisfied: soupsieve>1.2 in c:\\users\\kiit\\appdata\\roaming\\python\\python312\\site-packages (from beautifulsoup4>=4.11.1->yfinance) (2.6)\n",
      "Requirement already satisfied: typing-extensions>=4.0.0 in c:\\users\\kiit\\anaconda3\\lib\\site-packages (from beautifulsoup4>=4.11.1->yfinance) (4.12.2)\n",
      "Requirement already satisfied: six>=1.5 in c:\\users\\kiit\\anaconda3\\lib\\site-packages (from python-dateutil>=2.8.2->pandas) (1.17.0)\n",
      "Requirement already satisfied: charset-normalizer<4,>=2 in c:\\users\\kiit\\appdata\\roaming\\python\\python312\\site-packages (from requests>=2.31->yfinance) (3.4.1)\n",
      "Requirement already satisfied: idna<4,>=2.5 in c:\\users\\kiit\\appdata\\roaming\\python\\python312\\site-packages (from requests>=2.31->yfinance) (3.10)\n",
      "Requirement already satisfied: urllib3<3,>=1.21.1 in c:\\users\\kiit\\appdata\\roaming\\python\\python312\\site-packages (from requests>=2.31->yfinance) (2.3.0)\n",
      "Requirement already satisfied: certifi>=2017.4.17 in c:\\users\\kiit\\appdata\\roaming\\python\\python312\\site-packages (from requests>=2.31->yfinance) (2025.1.31)\n",
      "Qlib installed successfully!\n",
      "YF.download() has changed argument auto_adjust default to True\n"
     ]
    },
    {
     "name": "stderr",
     "output_type": "stream",
     "text": [
      "[*********************100%***********************]  1 of 1 completed\n",
      "[*********************100%***********************]  1 of 1 completed\n",
      "[*********************100%***********************]  1 of 1 completed\n",
      "[*********************100%***********************]  1 of 1 completed\n",
      "[*********************100%***********************]  1 of 1 completed\n",
      "[*********************100%***********************]  1 of 1 completed\n",
      "[*********************100%***********************]  1 of 1 completed\n",
      "[*********************100%***********************]  1 of 1 completed\n",
      "[*********************100%***********************]  1 of 1 completed\n",
      "[*********************100%***********************]  1 of 1 completed\n"
     ]
    },
    {
     "name": "stdout",
     "output_type": "stream",
     "text": [
      "Dataset formatted and saved as indian_stocks_qlib.csv\n"
     ]
    },
    {
     "name": "stderr",
     "output_type": "stream",
     "text": [
      "[19760:MainThread](2025-03-23 21:24:51,931) INFO - qlib.Initialization - [config.py:420] - default_conf: client.\n",
      "[19760:MainThread](2025-03-23 21:24:51,943) INFO - qlib.Initialization - [__init__.py:74] - qlib successfully initialized based on client settings.\n",
      "[19760:MainThread](2025-03-23 21:24:51,947) INFO - qlib.Initialization - [__init__.py:76] - data_path={'__DEFAULT_FREQ': WindowsPath('C:/Users/KIIT/.qlib/qlib_data/cn_data')}\n"
     ]
    },
    {
     "ename": "AttributeError",
     "evalue": "module 'qlib.data.dataset.processor' has no attribute 'RobustScaler'",
     "output_type": "error",
     "traceback": [
      "\u001b[31m---------------------------------------------------------------------------\u001b[39m",
      "\u001b[31mAttributeError\u001b[39m                            Traceback (most recent call last)",
      "\u001b[36mCell\u001b[39m\u001b[36m \u001b[39m\u001b[32mIn[13]\u001b[39m\u001b[32m, line 56\u001b[39m\n\u001b[32m     53\u001b[39m qlib.init(provider_uri=\u001b[33m\"\u001b[39m\u001b[33m~/.qlib/qlib_data/cn_data\u001b[39m\u001b[33m\"\u001b[39m, region=\u001b[33m\"\u001b[39m\u001b[33mcn\u001b[39m\u001b[33m\"\u001b[39m)  \u001b[38;5;66;03m# Adjust path if needed\u001b[39;00m\n\u001b[32m     55\u001b[39m \u001b[38;5;66;03m# Qlib Data Handler\u001b[39;00m\n\u001b[32m---> \u001b[39m\u001b[32m56\u001b[39m handler = \u001b[43mDataHandlerLP\u001b[49m\u001b[43m(\u001b[49m\n\u001b[32m     57\u001b[39m \u001b[43m    \u001b[49m\u001b[43minstruments\u001b[49m\u001b[43m=\u001b[49m\u001b[43mtickers\u001b[49m\u001b[43m,\u001b[49m\n\u001b[32m     58\u001b[39m \u001b[43m    \u001b[49m\u001b[43mstart_time\u001b[49m\u001b[43m=\u001b[49m\u001b[33;43m\"\u001b[39;49m\u001b[33;43m2022-03-23\u001b[39;49m\u001b[33;43m\"\u001b[39;49m\u001b[43m,\u001b[49m\n\u001b[32m     59\u001b[39m \u001b[43m    \u001b[49m\u001b[43mend_time\u001b[49m\u001b[43m=\u001b[49m\u001b[33;43m\"\u001b[39;49m\u001b[33;43m2024-03-23\u001b[39;49m\u001b[33;43m\"\u001b[39;49m\u001b[43m,\u001b[49m\n\u001b[32m     60\u001b[39m \u001b[43m    \u001b[49m\u001b[43mdata_provider\u001b[49m\u001b[43m=\u001b[49m\u001b[33;43m\"\u001b[39;49m\u001b[33;43mcsv\u001b[39;49m\u001b[33;43m\"\u001b[39;49m\u001b[43m,\u001b[49m\n\u001b[32m     61\u001b[39m \u001b[43m    \u001b[49m\u001b[43muri\u001b[49m\u001b[43m=\u001b[49m\u001b[43mcsv_file\u001b[49m\u001b[43m,\u001b[49m\n\u001b[32m     62\u001b[39m \u001b[43m    \u001b[49m\u001b[43mfit_start_time\u001b[49m\u001b[43m=\u001b[49m\u001b[33;43m\"\u001b[39;49m\u001b[33;43m2022-03-23\u001b[39;49m\u001b[33;43m\"\u001b[39;49m\u001b[43m,\u001b[49m\u001b[43m \u001b[49m\u001b[38;5;66;43;03m# add this line\u001b[39;49;00m\n\u001b[32m     63\u001b[39m \u001b[43m    \u001b[49m\u001b[43mfit_end_time\u001b[49m\u001b[43m=\u001b[49m\u001b[33;43m\"\u001b[39;49m\u001b[33;43m2023-03-23\u001b[39;49m\u001b[33;43m\"\u001b[39;49m\u001b[43m,\u001b[49m\u001b[43m \u001b[49m\u001b[38;5;66;43;03m# add this line\u001b[39;49;00m\n\u001b[32m     64\u001b[39m \u001b[43m    \u001b[49m\u001b[43minfer_processors\u001b[49m\u001b[43m \u001b[49m\u001b[43m=\u001b[49m\u001b[43m \u001b[49m\u001b[43m[\u001b[49m\u001b[43m{\u001b[49m\u001b[33;43m'\u001b[39;49m\u001b[33;43mclass\u001b[39;49m\u001b[33;43m'\u001b[39;49m\u001b[43m:\u001b[49m\u001b[43m \u001b[49m\u001b[33;43m'\u001b[39;49m\u001b[33;43mRobustScaler\u001b[39;49m\u001b[33;43m'\u001b[39;49m\u001b[43m}\u001b[49m\u001b[43m]\u001b[49m\u001b[43m \u001b[49m\u001b[38;5;66;43;03m# add this line\u001b[39;49;00m\n\u001b[32m     65\u001b[39m \u001b[43m)\u001b[49m\n\u001b[32m     67\u001b[39m \u001b[38;5;66;03m# Qlib Dataset\u001b[39;00m\n\u001b[32m     68\u001b[39m dataset = DatasetH(handler,segments={\u001b[33m\"\u001b[39m\u001b[33mtrain\u001b[39m\u001b[33m\"\u001b[39m: (\u001b[33m\"\u001b[39m\u001b[33m2022-03-23\u001b[39m\u001b[33m\"\u001b[39m, \u001b[33m\"\u001b[39m\u001b[33m2023-03-23\u001b[39m\u001b[33m\"\u001b[39m), \u001b[33m\"\u001b[39m\u001b[33mvalid\u001b[39m\u001b[33m\"\u001b[39m: (\u001b[33m\"\u001b[39m\u001b[33m2023-03-24\u001b[39m\u001b[33m\"\u001b[39m, \u001b[33m\"\u001b[39m\u001b[33m2024-02-23\u001b[39m\u001b[33m\"\u001b[39m), \u001b[33m\"\u001b[39m\u001b[33mtest\u001b[39m\u001b[33m\"\u001b[39m: (\u001b[33m\"\u001b[39m\u001b[33m2024-02-24\u001b[39m\u001b[33m\"\u001b[39m, \u001b[33m\"\u001b[39m\u001b[33m2024-03-23\u001b[39m\u001b[33m\"\u001b[39m)})\n",
      "\u001b[36mFile \u001b[39m\u001b[32m~\\AppData\\Roaming\\Python\\Python312\\site-packages\\qlib\\data\\dataset\\handler.py:459\u001b[39m, in \u001b[36mDataHandlerLP.__init__\u001b[39m\u001b[34m(self, instruments, start_time, end_time, data_loader, infer_processors, learn_processors, shared_processors, process_type, drop_raw, **kwargs)\u001b[39m\n\u001b[32m    456\u001b[39m \u001b[38;5;28;01mfor\u001b[39;00m pname \u001b[38;5;129;01min\u001b[39;00m \u001b[33m\"\u001b[39m\u001b[33minfer_processors\u001b[39m\u001b[33m\"\u001b[39m, \u001b[33m\"\u001b[39m\u001b[33mlearn_processors\u001b[39m\u001b[33m\"\u001b[39m, \u001b[33m\"\u001b[39m\u001b[33mshared_processors\u001b[39m\u001b[33m\"\u001b[39m:\n\u001b[32m    457\u001b[39m     \u001b[38;5;28;01mfor\u001b[39;00m proc \u001b[38;5;129;01min\u001b[39;00m \u001b[38;5;28mlocals\u001b[39m()[pname]:\n\u001b[32m    458\u001b[39m         \u001b[38;5;28mgetattr\u001b[39m(\u001b[38;5;28mself\u001b[39m, pname).append(\n\u001b[32m--> \u001b[39m\u001b[32m459\u001b[39m             \u001b[43minit_instance_by_config\u001b[49m\u001b[43m(\u001b[49m\n\u001b[32m    460\u001b[39m \u001b[43m                \u001b[49m\u001b[43mproc\u001b[49m\u001b[43m,\u001b[49m\n\u001b[32m    461\u001b[39m \u001b[43m                \u001b[49m\u001b[38;5;28;43;01mNone\u001b[39;49;00m\u001b[43m \u001b[49m\u001b[38;5;28;43;01mif\u001b[39;49;00m\u001b[43m \u001b[49m\u001b[43m(\u001b[49m\u001b[38;5;28;43misinstance\u001b[39;49m\u001b[43m(\u001b[49m\u001b[43mproc\u001b[49m\u001b[43m,\u001b[49m\u001b[43m \u001b[49m\u001b[38;5;28;43mdict\u001b[39;49m\u001b[43m)\u001b[49m\u001b[43m \u001b[49m\u001b[38;5;129;43;01mand\u001b[39;49;00m\u001b[43m \u001b[49m\u001b[33;43m\"\u001b[39;49m\u001b[33;43mmodule_path\u001b[39;49m\u001b[33;43m\"\u001b[39;49m\u001b[43m \u001b[49m\u001b[38;5;129;43;01min\u001b[39;49;00m\u001b[43m \u001b[49m\u001b[43mproc\u001b[49m\u001b[43m)\u001b[49m\u001b[43m \u001b[49m\u001b[38;5;28;43;01melse\u001b[39;49;00m\u001b[43m \u001b[49m\u001b[43mprocessor_module\u001b[49m\u001b[43m,\u001b[49m\n\u001b[32m    462\u001b[39m \u001b[43m                \u001b[49m\u001b[43maccept_types\u001b[49m\u001b[43m=\u001b[49m\u001b[43mprocessor_module\u001b[49m\u001b[43m.\u001b[49m\u001b[43mProcessor\u001b[49m\u001b[43m,\u001b[49m\n\u001b[32m    463\u001b[39m \u001b[43m            \u001b[49m\u001b[43m)\u001b[49m\n\u001b[32m    464\u001b[39m         )\n\u001b[32m    466\u001b[39m \u001b[38;5;28mself\u001b[39m.process_type = process_type\n\u001b[32m    467\u001b[39m \u001b[38;5;28mself\u001b[39m.drop_raw = drop_raw\n",
      "\u001b[36mFile \u001b[39m\u001b[32m~\\AppData\\Roaming\\Python\\Python312\\site-packages\\qlib\\utils\\mod.py:177\u001b[39m, in \u001b[36minit_instance_by_config\u001b[39m\u001b[34m(config, default_module, accept_types, try_kwargs, **kwargs)\u001b[39m\n\u001b[32m    174\u001b[39m         \u001b[38;5;28;01mwith\u001b[39;00m config.open(\u001b[33m\"\u001b[39m\u001b[33mrb\u001b[39m\u001b[33m\"\u001b[39m) \u001b[38;5;28;01mas\u001b[39;00m f:\n\u001b[32m    175\u001b[39m             \u001b[38;5;28;01mreturn\u001b[39;00m pickle.load(f)\n\u001b[32m--> \u001b[39m\u001b[32m177\u001b[39m klass, cls_kwargs = \u001b[43mget_callable_kwargs\u001b[49m\u001b[43m(\u001b[49m\u001b[43mconfig\u001b[49m\u001b[43m,\u001b[49m\u001b[43m \u001b[49m\u001b[43mdefault_module\u001b[49m\u001b[43m=\u001b[49m\u001b[43mdefault_module\u001b[49m\u001b[43m)\u001b[49m\n\u001b[32m    179\u001b[39m \u001b[38;5;28;01mtry\u001b[39;00m:\n\u001b[32m    180\u001b[39m     \u001b[38;5;28;01mreturn\u001b[39;00m klass(**cls_kwargs, **try_kwargs, **kwargs)\n",
      "\u001b[36mFile \u001b[39m\u001b[32m~\\AppData\\Roaming\\Python\\Python312\\site-packages\\qlib\\utils\\mod.py:103\u001b[39m, in \u001b[36mget_callable_kwargs\u001b[39m\u001b[34m(config, default_module)\u001b[39m\n\u001b[32m    100\u001b[39m     module = get_module_by_module_path(m_path)\n\u001b[32m    102\u001b[39m     \u001b[38;5;66;03m# 2) get callable\u001b[39;00m\n\u001b[32m--> \u001b[39m\u001b[32m103\u001b[39m     _callable = \u001b[38;5;28;43mgetattr\u001b[39;49m\u001b[43m(\u001b[49m\u001b[43mmodule\u001b[49m\u001b[43m,\u001b[49m\u001b[43m \u001b[49m\u001b[38;5;28;43mcls\u001b[39;49m\u001b[43m)\u001b[49m  \u001b[38;5;66;03m# may raise AttributeError\u001b[39;00m\n\u001b[32m    104\u001b[39m \u001b[38;5;28;01melse\u001b[39;00m:\n\u001b[32m    105\u001b[39m     _callable = config[key]  \u001b[38;5;66;03m# the class type itself is passed in\u001b[39;00m\n",
      "\u001b[31mAttributeError\u001b[39m: module 'qlib.data.dataset.processor' has no attribute 'RobustScaler'"
     ]
    }
   ],
   "source": [
    "!pip install qlib pandas numpy yfinance\n",
    "import qlib\n",
    "print(\"Qlib installed successfully!\")\n",
    "import yfinance as yf\n",
    "import pandas as pd\n",
    "from datetime import datetime, timedelta\n",
    "import torch\n",
    "import torch.nn as nn\n",
    "import torch.optim as optim\n",
    "from qlib.data.dataset.handler import DataHandlerLP\n",
    "from qlib.data.dataset import DatasetH\n",
    "from qlib.utils import init_instance_by_config\n",
    "#from qlib.contrib.trainer import Trainer\n",
    "\n",
    "# Define top 10 Indian companies (based on market cap)\n",
    "tickers = [\n",
    "    \"RELIANCE.NS\", \"TCS.NS\", \"HDFCBANK.NS\", \"ICICIBANK.NS\", \"INFY.NS\",\n",
    "    \"HINDUNILVR.NS\", \"SBIN.NS\", \"BHARTIARTL.NS\", \"HDFCBANK.NS\", \"ITC.NS\"\n",
    "]\n",
    "\n",
    "# Define date range\n",
    "end_date = datetime.today().strftime('%Y-%m-%d')\n",
    "start_date = (datetime.today() - timedelta(days=730)).strftime('%Y-%m-%d')\n",
    "\n",
    "# Fetch data and store in a DataFrame\n",
    "all_data = []\n",
    "for ticker in tickers:\n",
    "    stock_data = yf.download(ticker, start=start_date, end=end_date)\n",
    "    stock_data.insert(0, \"ticker\", ticker)  # Add ticker column\n",
    "    all_data.append(stock_data)\n",
    "\n",
    "# Concatenate all stock data\n",
    "df = pd.concat(all_data)\n",
    "df.reset_index(inplace=True)\n",
    "\n",
    "# Format data to match Qlib structure\n",
    "df.rename(columns={\n",
    "    \"Date\": \"datetime\",\n",
    "    \"Open\": \"open\",\n",
    "    \"High\": \"high\",\n",
    "    \"Low\": \"low\",\n",
    "    \"Close\": \"close\",\n",
    "    \"Adj Close\": \"close_adj\",\n",
    "    \"Volume\": \"volume\"\n",
    "}, inplace=True)\n",
    "\n",
    "# Save as CSV in Qlib format\n",
    "csv_file = \"indian_stocks_qlib.csv\"\n",
    "df.to_csv(csv_file, index=False)\n",
    "print(f\"Dataset formatted and saved as {csv_file}\")\n",
    "\n",
    "# Initialize Qlib\n",
    "qlib.init(provider_uri=\"~/.qlib/qlib_data/cn_data\", region=\"cn\")  # Adjust path if needed\n",
    "\n",
    "# Qlib Data Handler\n",
    "handler = DataHandlerLP(\n",
    "    instruments=tickers,\n",
    "    start_time=\"2022-03-23\",\n",
    "    end_time=\"2024-03-23\",\n",
    "    data_provider=\"csv\",\n",
    "    uri=csv_file,\n",
    "    fit_start_time=\"2022-03-23\", # add this line\n",
    "    fit_end_time=\"2023-03-23\", # add this line\n",
    "    infer_processors = [{'class': 'RobustScaler'}] # add this line\n",
    ")\n",
    "\n",
    "# Qlib Dataset\n",
    "dataset = DatasetH(handler,segments={\"train\": (\"2022-03-23\", \"2023-03-23\"), \"valid\": (\"2023-03-24\", \"2024-02-23\"), \"test\": (\"2024-02-24\", \"2024-03-23\")})\n",
    "print(\"✅ Qlib dataset loaded successfully!\")\n"
   ]
  },
  {
   "cell_type": "code",
   "execution_count": null,
   "id": "744a6901-6914-46ef-8f56-fbb53e4baebc",
   "metadata": {},
   "outputs": [],
   "source": [
    "import qlib.contrib.model.pytorch_sfm as sfm\n",
    "print(dir(sfm))  # Lists all available objects in the module"
   ]
  }
 ],
 "metadata": {
  "kernelspec": {
   "display_name": "Python 3 (ipykernel)",
   "language": "python",
   "name": "python3"
  },
  "language_info": {
   "codemirror_mode": {
    "name": "ipython",
    "version": 3
   },
   "file_extension": ".py",
   "mimetype": "text/x-python",
   "name": "python",
   "nbconvert_exporter": "python",
   "pygments_lexer": "ipython3",
   "version": "3.12.4"
  }
 },
 "nbformat": 4,
 "nbformat_minor": 5
}
