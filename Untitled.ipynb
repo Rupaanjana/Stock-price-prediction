{
 "cells": [
  {
   "cell_type": "code",
   "execution_count": 7,
   "id": "ad78e3e7-375d-4faf-8fbc-e730e0f37bbc",
   "metadata": {},
   "outputs": [
    {
     "name": "stderr",
     "output_type": "stream",
     "text": [
      "ERROR: Exception:"
     ]
    },
    {
     "name": "stdout",
     "output_type": "stream",
     "text": [
      "Collecting catboost"
     ]
    },
    {
     "name": "stderr",
     "output_type": "stream",
     "text": [
      "\n"
     ]
    },
    {
     "name": "stdout",
     "output_type": "stream",
     "text": [
      "\n"
     ]
    },
    {
     "name": "stderr",
     "output_type": "stream",
     "text": [
      "Traceback (most recent call last):"
     ]
    },
    {
     "name": "stdout",
     "output_type": "stream",
     "text": [
      "  Using cached catboost-1.2.7-cp312-cp312-win_amd64.whl.metadata (1.2 kB)\n"
     ]
    },
    {
     "name": "stderr",
     "output_type": "stream",
     "text": [
      "\n"
     ]
    },
    {
     "name": "stdout",
     "output_type": "stream",
     "text": [
      "Collecting xgboost\n",
      "  Using cached xgboost-3.0.0-py3-none-win_amd64.whl.metadata (2.1 kB)"
     ]
    },
    {
     "name": "stderr",
     "output_type": "stream",
     "text": [
      "  File \"C:\\Users\\KIIT\\AppData\\Roaming\\Python\\Python312\\site-packages\\pip\\_vendor\\urllib3\\response.py\", line 438, in _error_catcher"
     ]
    },
    {
     "name": "stdout",
     "output_type": "stream",
     "text": [
      "\n"
     ]
    },
    {
     "name": "stderr",
     "output_type": "stream",
     "text": [
      "\n"
     ]
    },
    {
     "name": "stdout",
     "output_type": "stream",
     "text": [
      "Collecting graphviz (from catboost)"
     ]
    },
    {
     "name": "stderr",
     "output_type": "stream",
     "text": [
      "    yield\n"
     ]
    },
    {
     "name": "stdout",
     "output_type": "stream",
     "text": [
      "\n"
     ]
    },
    {
     "name": "stderr",
     "output_type": "stream",
     "text": [
      "  File \"C:\\Users\\KIIT\\AppData\\Roaming\\Python\\Python312\\site-packages\\pip\\_vendor\\urllib3\\response.py\", line 561, in read"
     ]
    },
    {
     "name": "stdout",
     "output_type": "stream",
     "text": [
      "  Using cached graphviz-0.20.3-py3-none-any.whl.metadata (12 kB)\n"
     ]
    },
    {
     "name": "stderr",
     "output_type": "stream",
     "text": [
      "\n"
     ]
    },
    {
     "name": "stdout",
     "output_type": "stream",
     "text": [
      "Requirement already satisfied: matplotlib in c:\\users\\kiit\\appdata\\roaming\\python\\python312\\site-packages (from catboost) (3.10.1)"
     ]
    },
    {
     "name": "stderr",
     "output_type": "stream",
     "text": [
      "    data = self._fp_read(amt) if not fp_closed else b\"\""
     ]
    },
    {
     "name": "stdout",
     "output_type": "stream",
     "text": [
      "\n"
     ]
    },
    {
     "name": "stderr",
     "output_type": "stream",
     "text": [
      "\n",
      "           ^^^^^^^^^^^^^^^^^^"
     ]
    },
    {
     "name": "stdout",
     "output_type": "stream",
     "text": [
      "Requirement already satisfied: numpy<2.0,>=1.16.0 in c:\\users\\kiit\\anaconda3\\lib\\site-packages (from catboost) (1.26.4)"
     ]
    },
    {
     "name": "stderr",
     "output_type": "stream",
     "text": [
      "\n"
     ]
    },
    {
     "name": "stdout",
     "output_type": "stream",
     "text": [
      "\n",
      "Requirement already satisfied: pandas>=0.24 in c:\\users\\kiit\\appdata\\roaming\\python\\python312\\site-packages (from catboost) (2.2.3)"
     ]
    },
    {
     "name": "stderr",
     "output_type": "stream",
     "text": [
      "  File \"C:\\Users\\KIIT\\AppData\\Roaming\\Python\\Python312\\site-packages\\pip\\_vendor\\urllib3\\response.py\", line 527, in _fp_read\n"
     ]
    },
    {
     "name": "stdout",
     "output_type": "stream",
     "text": [
      "\n"
     ]
    },
    {
     "name": "stderr",
     "output_type": "stream",
     "text": [
      "    return self._fp.read(amt) if amt is not None else self._fp.read()"
     ]
    },
    {
     "name": "stdout",
     "output_type": "stream",
     "text": [
      "Requirement already satisfied: scipy in c:\\users\\kiit\\appdata\\roaming\\python\\python312\\site-packages (from catboost) (1.15.2)\n"
     ]
    },
    {
     "name": "stderr",
     "output_type": "stream",
     "text": [
      "\n"
     ]
    },
    {
     "name": "stdout",
     "output_type": "stream",
     "text": [
      "Requirement already satisfied: plotly in c:\\users\\kiit\\anaconda3\\lib\\site-packages (from catboost) (5.22.0)"
     ]
    },
    {
     "name": "stderr",
     "output_type": "stream",
     "text": [
      "           ^^^^^^^^^^^^^^^^^^\n"
     ]
    },
    {
     "name": "stdout",
     "output_type": "stream",
     "text": [
      "\n",
      "Requirement already satisfied: six in c:\\users\\kiit\\appdata\\roaming\\python\\python312\\site-packages (from catboost) (1.17.0)"
     ]
    },
    {
     "name": "stderr",
     "output_type": "stream",
     "text": [
      "  File \"C:\\Users\\KIIT\\AppData\\Roaming\\Python\\Python312\\site-packages\\pip\\_vendor\\cachecontrol\\filewrapper.py\", line 98, in read"
     ]
    },
    {
     "name": "stdout",
     "output_type": "stream",
     "text": [
      "\n"
     ]
    },
    {
     "name": "stderr",
     "output_type": "stream",
     "text": [
      "\n"
     ]
    },
    {
     "name": "stdout",
     "output_type": "stream",
     "text": [
      "Requirement already satisfied: python-dateutil>=2.8.2 in c:\\users\\kiit\\appdata\\roaming\\python\\python312\\site-packages (from pandas>=0.24->catboost) (2.9.0.post0)\n"
     ]
    },
    {
     "name": "stderr",
     "output_type": "stream",
     "text": [
      "    data: bytes = self.__fp.read(amt)"
     ]
    },
    {
     "name": "stdout",
     "output_type": "stream",
     "text": [
      "Requirement already satisfied: pytz>=2020.1 in c:\\users\\kiit\\appdata\\roaming\\python\\python312\\site-packages (from pandas>=0.24->catboost) (2025.1)"
     ]
    },
    {
     "name": "stderr",
     "output_type": "stream",
     "text": [
      "\n"
     ]
    },
    {
     "name": "stdout",
     "output_type": "stream",
     "text": [
      "\n"
     ]
    },
    {
     "name": "stderr",
     "output_type": "stream",
     "text": [
      "                  ^^^^^^^^^^^^^^^^^^^\n"
     ]
    },
    {
     "name": "stdout",
     "output_type": "stream",
     "text": [
      "Requirement already satisfied: tzdata>=2022.7 in c:\\users\\kiit\\appdata\\roaming\\python\\python312\\site-packages (from pandas>=0.24->catboost) (2025.1)"
     ]
    },
    {
     "name": "stderr",
     "output_type": "stream",
     "text": [
      "  File \"C:\\Users\\KIIT\\anaconda3\\Lib\\http\\client.py\", line 479, in read"
     ]
    },
    {
     "name": "stdout",
     "output_type": "stream",
     "text": [
      "\n",
      "Requirement already satisfied: contourpy>=1.0.1 in c:\\users\\kiit\\appdata\\roaming\\python\\python312\\site-packages (from matplotlib->catboost) (1.3.1)"
     ]
    },
    {
     "name": "stderr",
     "output_type": "stream",
     "text": [
      "\n"
     ]
    },
    {
     "name": "stdout",
     "output_type": "stream",
     "text": [
      "\n"
     ]
    },
    {
     "name": "stderr",
     "output_type": "stream",
     "text": [
      "    s = self.fp.read(amt)\n"
     ]
    },
    {
     "name": "stdout",
     "output_type": "stream",
     "text": [
      "Requirement already satisfied: cycler>=0.10 in c:\\users\\kiit\\appdata\\roaming\\python\\python312\\site-packages (from matplotlib->catboost) (0.12.1)"
     ]
    },
    {
     "name": "stderr",
     "output_type": "stream",
     "text": [
      "        ^^^^^^^^^^^^^^^^^"
     ]
    },
    {
     "name": "stdout",
     "output_type": "stream",
     "text": [
      "\n"
     ]
    },
    {
     "name": "stderr",
     "output_type": "stream",
     "text": [
      "\n",
      "  File \"C:\\Users\\KIIT\\anaconda3\\Lib\\socket.py\", line 708, in readinto"
     ]
    },
    {
     "name": "stdout",
     "output_type": "stream",
     "text": [
      "Requirement already satisfied: fonttools>=4.22.0 in c:\\users\\kiit\\appdata\\roaming\\python\\python312\\site-packages (from matplotlib->catboost) (4.56.0)\n"
     ]
    },
    {
     "name": "stderr",
     "output_type": "stream",
     "text": [
      "\n"
     ]
    },
    {
     "name": "stdout",
     "output_type": "stream",
     "text": [
      "Requirement already satisfied: kiwisolver>=1.3.1 in c:\\users\\kiit\\appdata\\roaming\\python\\python312\\site-packages (from matplotlib->catboost) (1.4.8)\n"
     ]
    },
    {
     "name": "stderr",
     "output_type": "stream",
     "text": [
      "    return self._sock.recv_into(b)\n"
     ]
    },
    {
     "name": "stdout",
     "output_type": "stream",
     "text": [
      "Requirement already satisfied: packaging>=20.0 in c:\\users\\kiit\\appdata\\roaming\\python\\python312\\site-packages (from matplotlib->catboost) (24.2)"
     ]
    },
    {
     "name": "stderr",
     "output_type": "stream",
     "text": [
      "           ^^^^^^^^^^^^^^^^^^^^^^^\n",
      "  File \"C:\\Users\\KIIT\\anaconda3\\Lib\\ssl.py\", line 1252, in recv_into"
     ]
    },
    {
     "name": "stdout",
     "output_type": "stream",
     "text": [
      "\n"
     ]
    },
    {
     "name": "stderr",
     "output_type": "stream",
     "text": [
      "\n",
      "    return self.read(nbytes, buffer)"
     ]
    },
    {
     "name": "stdout",
     "output_type": "stream",
     "text": [
      "Requirement already satisfied: pillow>=8 in c:\\users\\kiit\\appdata\\roaming\\python\\python312\\site-packages (from matplotlib->catboost) (11.1.0)\n"
     ]
    },
    {
     "name": "stderr",
     "output_type": "stream",
     "text": [
      "\n"
     ]
    },
    {
     "name": "stdout",
     "output_type": "stream",
     "text": [
      "Requirement already satisfied: pyparsing>=2.3.1 in c:\\users\\kiit\\appdata\\roaming\\python\\python312\\site-packages (from matplotlib->catboost) (3.2.1)"
     ]
    },
    {
     "name": "stderr",
     "output_type": "stream",
     "text": [
      "           ^^^^^^^^^^^^^^^^^^^^^^^^^"
     ]
    },
    {
     "name": "stdout",
     "output_type": "stream",
     "text": [
      "\n",
      "Requirement already satisfied: tenacity>=6.2.0 in c:\\users\\kiit\\anaconda3\\lib\\site-packages (from plotly->catboost) (8.2.2)"
     ]
    },
    {
     "name": "stderr",
     "output_type": "stream",
     "text": [
      "\n",
      "  File \"C:\\Users\\KIIT\\anaconda3\\Lib\\ssl.py\", line 1104, in read"
     ]
    },
    {
     "name": "stdout",
     "output_type": "stream",
     "text": [
      "\n",
      "Downloading catboost-1.2.7-cp312-cp312-win_amd64.whl (101.7 MB)"
     ]
    },
    {
     "name": "stderr",
     "output_type": "stream",
     "text": [
      "\n",
      "    return self._sslobj.read(len, buffer)"
     ]
    },
    {
     "name": "stdout",
     "output_type": "stream",
     "text": [
      "\n",
      "   ---------------------------------------- 0.0/101.7 MB ? eta -:--:--"
     ]
    },
    {
     "name": "stderr",
     "output_type": "stream",
     "text": [
      "\n",
      "           ^^^^^^^^^^^^^^^^^^^^^^^^^^^^^^"
     ]
    },
    {
     "name": "stdout",
     "output_type": "stream",
     "text": [
      "\n"
     ]
    },
    {
     "name": "stderr",
     "output_type": "stream",
     "text": [
      "\n"
     ]
    },
    {
     "name": "stdout",
     "output_type": "stream",
     "text": [
      "   ---------------------------------------- 0.0/101.7 MB ? eta -:--:--"
     ]
    },
    {
     "name": "stderr",
     "output_type": "stream",
     "text": [
      "TimeoutError: The read operation timed out"
     ]
    },
    {
     "name": "stdout",
     "output_type": "stream",
     "text": [
      "\n"
     ]
    },
    {
     "name": "stderr",
     "output_type": "stream",
     "text": [
      "\n",
      "\n"
     ]
    },
    {
     "name": "stdout",
     "output_type": "stream",
     "text": [
      "   ---------------------------------------- 0.0/101.7 MB ? eta -:--:--"
     ]
    },
    {
     "name": "stderr",
     "output_type": "stream",
     "text": [
      "During handling of the above exception, another exception occurred:"
     ]
    },
    {
     "name": "stdout",
     "output_type": "stream",
     "text": [
      "\n",
      "   ---------------------------------------- 0.0/101.7 MB ? eta -:--:--"
     ]
    },
    {
     "name": "stderr",
     "output_type": "stream",
     "text": [
      "\n",
      "\n"
     ]
    },
    {
     "name": "stdout",
     "output_type": "stream",
     "text": [
      "\n"
     ]
    },
    {
     "name": "stderr",
     "output_type": "stream",
     "text": [
      "Traceback (most recent call last):"
     ]
    },
    {
     "name": "stdout",
     "output_type": "stream",
     "text": [
      "   ---------------------------------------- 0.0/101.7 MB ? eta -:--:--"
     ]
    },
    {
     "name": "stderr",
     "output_type": "stream",
     "text": [
      "\n"
     ]
    },
    {
     "name": "stdout",
     "output_type": "stream",
     "text": [
      "\n"
     ]
    },
    {
     "name": "stderr",
     "output_type": "stream",
     "text": [
      "  File \"C:\\Users\\KIIT\\AppData\\Roaming\\Python\\Python312\\site-packages\\pip\\_internal\\cli\\base_command.py\", line 106, in _run_wrapper"
     ]
    },
    {
     "name": "stdout",
     "output_type": "stream",
     "text": [
      "   ---------------------------------------- 0.0/101.7 MB ? eta -:--:--"
     ]
    },
    {
     "name": "stderr",
     "output_type": "stream",
     "text": [
      "\n"
     ]
    },
    {
     "name": "stdout",
     "output_type": "stream",
     "text": [
      "\n"
     ]
    },
    {
     "name": "stderr",
     "output_type": "stream",
     "text": [
      "    status = _inner_run()"
     ]
    },
    {
     "name": "stdout",
     "output_type": "stream",
     "text": [
      "   ---------------------------------------- 0.0/101.7 MB ? eta -:--:--\n"
     ]
    },
    {
     "name": "stderr",
     "output_type": "stream",
     "text": [
      "\n",
      "             ^^^^^^^^^^^^"
     ]
    },
    {
     "name": "stdout",
     "output_type": "stream",
     "text": [
      "   ---------------------------------------- 0.0/101.7 MB ? eta -:--:--"
     ]
    },
    {
     "name": "stderr",
     "output_type": "stream",
     "text": [
      "\n"
     ]
    },
    {
     "name": "stdout",
     "output_type": "stream",
     "text": [
      "\n"
     ]
    },
    {
     "name": "stderr",
     "output_type": "stream",
     "text": [
      "  File \"C:\\Users\\KIIT\\AppData\\Roaming\\Python\\Python312\\site-packages\\pip\\_internal\\cli\\base_command.py\", line 97, in _inner_run"
     ]
    },
    {
     "name": "stdout",
     "output_type": "stream",
     "text": [
      "   ---------------------------------------- 0.0/101.7 MB ? eta -:--:--\n"
     ]
    },
    {
     "name": "stderr",
     "output_type": "stream",
     "text": [
      "\n"
     ]
    },
    {
     "name": "stdout",
     "output_type": "stream",
     "text": [
      "   ---------------------------------------- 0.0/101.7 MB ? eta -:--:--"
     ]
    },
    {
     "name": "stderr",
     "output_type": "stream",
     "text": [
      "    return self.run(options, args)"
     ]
    },
    {
     "name": "stdout",
     "output_type": "stream",
     "text": [
      "\n"
     ]
    },
    {
     "name": "stderr",
     "output_type": "stream",
     "text": [
      "\n"
     ]
    },
    {
     "name": "stdout",
     "output_type": "stream",
     "text": [
      "   ---------------------------------------- 0.0/101.7 MB ? eta -:--:--"
     ]
    },
    {
     "name": "stderr",
     "output_type": "stream",
     "text": [
      "           ^^^^^^^^^^^^^^^^^^^^^^^\n"
     ]
    },
    {
     "name": "stdout",
     "output_type": "stream",
     "text": [
      "\n"
     ]
    },
    {
     "name": "stderr",
     "output_type": "stream",
     "text": [
      "  File \"C:\\Users\\KIIT\\AppData\\Roaming\\Python\\Python312\\site-packages\\pip\\_internal\\cli\\req_command.py\", line 67, in wrapper"
     ]
    },
    {
     "name": "stdout",
     "output_type": "stream",
     "text": [
      "   ---------------------------------------- 0.0/101.7 MB ? eta -:--:--"
     ]
    },
    {
     "name": "stderr",
     "output_type": "stream",
     "text": [
      "\n"
     ]
    },
    {
     "name": "stdout",
     "output_type": "stream",
     "text": [
      "\n"
     ]
    },
    {
     "name": "stderr",
     "output_type": "stream",
     "text": [
      "    return func(self, options, args)"
     ]
    },
    {
     "name": "stdout",
     "output_type": "stream",
     "text": [
      "   ---------------------------------------- 0.0/101.7 MB ? eta -:--:--"
     ]
    },
    {
     "name": "stderr",
     "output_type": "stream",
     "text": [
      "\n"
     ]
    },
    {
     "name": "stdout",
     "output_type": "stream",
     "text": [
      "\n"
     ]
    },
    {
     "name": "stderr",
     "output_type": "stream",
     "text": [
      "           ^^^^^^^^^^^^^^^^^^^^^^^^^"
     ]
    },
    {
     "name": "stdout",
     "output_type": "stream",
     "text": [
      "   ---------------------------------------- 0.0/101.7 MB ? eta -:--:--"
     ]
    },
    {
     "name": "stderr",
     "output_type": "stream",
     "text": [
      "\n"
     ]
    },
    {
     "name": "stdout",
     "output_type": "stream",
     "text": [
      "\n"
     ]
    },
    {
     "name": "stderr",
     "output_type": "stream",
     "text": [
      "  File \"C:\\Users\\KIIT\\AppData\\Roaming\\Python\\Python312\\site-packages\\pip\\_internal\\commands\\install.py\", line 386, in run\n"
     ]
    },
    {
     "name": "stdout",
     "output_type": "stream",
     "text": [
      "   ---------------------------------------- 0.0/101.7 MB ? eta -:--:--"
     ]
    },
    {
     "name": "stderr",
     "output_type": "stream",
     "text": [
      "    requirement_set = resolver.resolve("
     ]
    },
    {
     "name": "stdout",
     "output_type": "stream",
     "text": [
      "\n"
     ]
    },
    {
     "name": "stderr",
     "output_type": "stream",
     "text": [
      "\n"
     ]
    },
    {
     "name": "stdout",
     "output_type": "stream",
     "text": [
      "   ---------------------------------------- 0.0/101.7 MB ? eta -:--:--\n"
     ]
    },
    {
     "name": "stderr",
     "output_type": "stream",
     "text": [
      "                      ^^^^^^^^^^^^^^^^^"
     ]
    },
    {
     "name": "stdout",
     "output_type": "stream",
     "text": [
      "   ---------------------------------------- 0.0/101.7 MB ? eta -:--:--"
     ]
    },
    {
     "name": "stderr",
     "output_type": "stream",
     "text": [
      "\n",
      "  File \"C:\\Users\\KIIT\\AppData\\Roaming\\Python\\Python312\\site-packages\\pip\\_internal\\resolution\\resolvelib\\resolver.py\", line 179, in resolve"
     ]
    },
    {
     "name": "stdout",
     "output_type": "stream",
     "text": [
      "\n"
     ]
    },
    {
     "name": "stderr",
     "output_type": "stream",
     "text": [
      "\n"
     ]
    },
    {
     "name": "stdout",
     "output_type": "stream",
     "text": [
      "   ---------------------------------------- 0.0/101.7 MB ? eta -:--:--"
     ]
    },
    {
     "name": "stderr",
     "output_type": "stream",
     "text": [
      "    self.factory.preparer.prepare_linked_requirements_more(reqs)"
     ]
    },
    {
     "name": "stdout",
     "output_type": "stream",
     "text": [
      "\n",
      "   ---------------------------------------- 0.0/101.7 MB ? eta -:--:--"
     ]
    },
    {
     "name": "stderr",
     "output_type": "stream",
     "text": [
      "\n",
      "  File \"C:\\Users\\KIIT\\AppData\\Roaming\\Python\\Python312\\site-packages\\pip\\_internal\\operations\\prepare.py\", line 554, in prepare_linked_requirements_more"
     ]
    },
    {
     "name": "stdout",
     "output_type": "stream",
     "text": [
      "\n"
     ]
    },
    {
     "name": "stderr",
     "output_type": "stream",
     "text": [
      "\n",
      "    self._complete_partial_requirements("
     ]
    },
    {
     "name": "stdout",
     "output_type": "stream",
     "text": [
      "   ---------------------------------------- 0.0/101.7 MB ? eta -:--:--\n"
     ]
    },
    {
     "name": "stderr",
     "output_type": "stream",
     "text": [
      "\n"
     ]
    },
    {
     "name": "stdout",
     "output_type": "stream",
     "text": [
      "   ---------------------------------------- 0.0/101.7 MB ? eta -:--:--"
     ]
    },
    {
     "name": "stderr",
     "output_type": "stream",
     "text": [
      "  File \"C:\\Users\\KIIT\\AppData\\Roaming\\Python\\Python312\\site-packages\\pip\\_internal\\operations\\prepare.py\", line 469, in _complete_partial_requirements"
     ]
    },
    {
     "name": "stdout",
     "output_type": "stream",
     "text": [
      "\n"
     ]
    },
    {
     "name": "stderr",
     "output_type": "stream",
     "text": [
      "\n"
     ]
    },
    {
     "name": "stdout",
     "output_type": "stream",
     "text": [
      "   ---------------------------------------- 0.0/101.7 MB ? eta -:--:--"
     ]
    },
    {
     "name": "stderr",
     "output_type": "stream",
     "text": [
      "    for link, (filepath, _) in batch_download:\n"
     ]
    },
    {
     "name": "stdout",
     "output_type": "stream",
     "text": [
      "\n"
     ]
    },
    {
     "name": "stderr",
     "output_type": "stream",
     "text": [
      "                               ^^^^^^^^^^^^^^"
     ]
    },
    {
     "name": "stdout",
     "output_type": "stream",
     "text": [
      "   ---------------------------------------- 0.0/101.7 MB ? eta -:--:--\n"
     ]
    },
    {
     "name": "stderr",
     "output_type": "stream",
     "text": [
      "\n",
      "  File \"C:\\Users\\KIIT\\AppData\\Roaming\\Python\\Python312\\site-packages\\pip\\_internal\\network\\download.py\", line 184, in __call__"
     ]
    },
    {
     "name": "stdout",
     "output_type": "stream",
     "text": [
      "   ---------------------------------------- 0.0/101.7 MB ? eta -:--:--"
     ]
    },
    {
     "name": "stderr",
     "output_type": "stream",
     "text": [
      "\n"
     ]
    },
    {
     "name": "stdout",
     "output_type": "stream",
     "text": [
      "\n",
      "   ---------------------------------------- 0.0/101.7 MB ? eta -:--:--"
     ]
    },
    {
     "name": "stderr",
     "output_type": "stream",
     "text": [
      "    for chunk in chunks:\n"
     ]
    },
    {
     "name": "stdout",
     "output_type": "stream",
     "text": [
      "\n",
      "   ---------------------------------------- 0.3/101.7 MB ? eta -:--:--"
     ]
    },
    {
     "name": "stderr",
     "output_type": "stream",
     "text": [
      "                 ^^^^^^\n"
     ]
    },
    {
     "name": "stdout",
     "output_type": "stream",
     "text": [
      "\n"
     ]
    },
    {
     "name": "stderr",
     "output_type": "stream",
     "text": [
      "  File \"C:\\Users\\KIIT\\AppData\\Roaming\\Python\\Python312\\site-packages\\pip\\_internal\\cli\\progress_bars.py\", line 55, in _rich_progress_bar"
     ]
    },
    {
     "name": "stdout",
     "output_type": "stream",
     "text": [
      "   ---------------------------------------- 0.3/101.7 MB ? eta -:--:--"
     ]
    },
    {
     "name": "stderr",
     "output_type": "stream",
     "text": [
      "\n"
     ]
    },
    {
     "name": "stdout",
     "output_type": "stream",
     "text": [
      "\n",
      "   ---------------------------------------- 0.3/101.7 MB ? eta -:--:--"
     ]
    },
    {
     "name": "stderr",
     "output_type": "stream",
     "text": [
      "    for chunk in iterable:"
     ]
    },
    {
     "name": "stdout",
     "output_type": "stream",
     "text": [
      "\n"
     ]
    },
    {
     "name": "stderr",
     "output_type": "stream",
     "text": [
      "\n"
     ]
    },
    {
     "name": "stdout",
     "output_type": "stream",
     "text": [
      "   ---------------------------------------- 0.3/101.7 MB ? eta -:--:--"
     ]
    },
    {
     "name": "stderr",
     "output_type": "stream",
     "text": [
      "                 ^^^^^^^^"
     ]
    },
    {
     "name": "stdout",
     "output_type": "stream",
     "text": [
      "\n"
     ]
    },
    {
     "name": "stderr",
     "output_type": "stream",
     "text": [
      "\n"
     ]
    },
    {
     "name": "stdout",
     "output_type": "stream",
     "text": [
      "   ---------------------------------------- 0.3/101.7 MB ? eta -:--:--\n"
     ]
    },
    {
     "name": "stderr",
     "output_type": "stream",
     "text": [
      "  File \"C:\\Users\\KIIT\\AppData\\Roaming\\Python\\Python312\\site-packages\\pip\\_internal\\network\\utils.py\", line 65, in response_chunks\n"
     ]
    },
    {
     "name": "stdout",
     "output_type": "stream",
     "text": [
      "   ---------------------------------------- 0.3/101.7 MB ? eta -:--:--\n"
     ]
    },
    {
     "name": "stderr",
     "output_type": "stream",
     "text": [
      "    for chunk in response.raw.stream(\n"
     ]
    },
    {
     "name": "stdout",
     "output_type": "stream",
     "text": [
      "   ---------------------------------------- 0.3/101.7 MB ? eta -:--:--\n"
     ]
    },
    {
     "name": "stderr",
     "output_type": "stream",
     "text": [
      "                 ^^^^^^^^^^^^^^^^^^^^"
     ]
    },
    {
     "name": "stdout",
     "output_type": "stream",
     "text": [
      "   ---------------------------------------- 0.3/101.7 MB ? eta -:--:--"
     ]
    },
    {
     "name": "stderr",
     "output_type": "stream",
     "text": [
      "\n",
      "  File \"C:\\Users\\KIIT\\AppData\\Roaming\\Python\\Python312\\site-packages\\pip\\_vendor\\urllib3\\response.py\", line 622, in stream"
     ]
    },
    {
     "name": "stdout",
     "output_type": "stream",
     "text": [
      "\n",
      "   ---------------------------------------- 0.3/101.7 MB ? eta -:--:--"
     ]
    },
    {
     "name": "stderr",
     "output_type": "stream",
     "text": [
      "\n"
     ]
    },
    {
     "name": "stdout",
     "output_type": "stream",
     "text": [
      "\n"
     ]
    },
    {
     "name": "stderr",
     "output_type": "stream",
     "text": [
      "    data = self.read(amt=amt, decode_content=decode_content)"
     ]
    },
    {
     "name": "stdout",
     "output_type": "stream",
     "text": [
      "   ---------------------------------------- 0.3/101.7 MB ? eta -:--:--\n"
     ]
    },
    {
     "name": "stderr",
     "output_type": "stream",
     "text": [
      "\n",
      "           ^^^^^^^^^^^^^^^^^^^^^^^^^^^^^^^^^^^^^^^^^^^^^^^^^"
     ]
    },
    {
     "name": "stdout",
     "output_type": "stream",
     "text": [
      "   ---------------------------------------- 0.3/101.7 MB ? eta -:--:--\n"
     ]
    },
    {
     "name": "stderr",
     "output_type": "stream",
     "text": [
      "\n"
     ]
    },
    {
     "name": "stdout",
     "output_type": "stream",
     "text": [
      "   ---------------------------------------- 0.3/101.7 MB ? eta -:--:--"
     ]
    },
    {
     "name": "stderr",
     "output_type": "stream",
     "text": [
      "  File \"C:\\Users\\KIIT\\AppData\\Roaming\\Python\\Python312\\site-packages\\pip\\_vendor\\urllib3\\response.py\", line 560, in read"
     ]
    },
    {
     "name": "stdout",
     "output_type": "stream",
     "text": [
      "\n"
     ]
    },
    {
     "name": "stderr",
     "output_type": "stream",
     "text": [
      "\n"
     ]
    },
    {
     "name": "stdout",
     "output_type": "stream",
     "text": [
      "   ---------------------------------------- 0.3/101.7 MB ? eta -:--:--"
     ]
    },
    {
     "name": "stderr",
     "output_type": "stream",
     "text": [
      "    with self._error_catcher():\n"
     ]
    },
    {
     "name": "stdout",
     "output_type": "stream",
     "text": [
      "\n",
      "   ---------------------------------------- 0.3/101.7 MB ? eta -:--:--"
     ]
    },
    {
     "name": "stderr",
     "output_type": "stream",
     "text": [
      "  File \"C:\\Users\\KIIT\\anaconda3\\Lib\\contextlib.py\", line 158, in __exit__"
     ]
    },
    {
     "name": "stdout",
     "output_type": "stream",
     "text": [
      "\n"
     ]
    },
    {
     "name": "stderr",
     "output_type": "stream",
     "text": [
      "\n"
     ]
    },
    {
     "name": "stdout",
     "output_type": "stream",
     "text": [
      "   ---------------------------------------- 0.3/101.7 MB ? eta -:--:--"
     ]
    },
    {
     "name": "stderr",
     "output_type": "stream",
     "text": [
      "    self.gen.throw(value)"
     ]
    },
    {
     "name": "stdout",
     "output_type": "stream",
     "text": [
      "\n"
     ]
    },
    {
     "name": "stderr",
     "output_type": "stream",
     "text": [
      "\n"
     ]
    },
    {
     "name": "stdout",
     "output_type": "stream",
     "text": [
      "   ---------------------------------------- 0.3/101.7 MB ? eta -:--:--"
     ]
    },
    {
     "name": "stderr",
     "output_type": "stream",
     "text": [
      "  File \"C:\\Users\\KIIT\\AppData\\Roaming\\Python\\Python312\\site-packages\\pip\\_vendor\\urllib3\\response.py\", line 443, in _error_catcher"
     ]
    },
    {
     "name": "stdout",
     "output_type": "stream",
     "text": [
      "\n"
     ]
    },
    {
     "name": "stderr",
     "output_type": "stream",
     "text": [
      "\n",
      "    raise ReadTimeoutError(self._pool, None, \"Read timed out.\")"
     ]
    },
    {
     "name": "stdout",
     "output_type": "stream",
     "text": [
      "   ---------------------------------------- 0.3/101.7 MB ? eta -:--:--"
     ]
    },
    {
     "name": "stderr",
     "output_type": "stream",
     "text": [
      "\n"
     ]
    },
    {
     "name": "stdout",
     "output_type": "stream",
     "text": [
      "\n",
      "   ---------------------------------------- 0.3/101.7 MB ? eta -:--:--"
     ]
    },
    {
     "name": "stderr",
     "output_type": "stream",
     "text": [
      "pip._vendor.urllib3.exceptions.ReadTimeoutError: HTTPSConnectionPool(host='files.pythonhosted.org', port=443): Read timed out."
     ]
    },
    {
     "name": "stdout",
     "output_type": "stream",
     "text": [
      "\n"
     ]
    },
    {
     "name": "stderr",
     "output_type": "stream",
     "text": [
      "\n"
     ]
    },
    {
     "name": "stdout",
     "output_type": "stream",
     "text": [
      "   ---------------------------------------- 0.3/101.7 MB ? eta -:--:--\n",
      "   ---------------------------------------- 0.3/101.7 MB ? eta -:--:--\n",
      "   ---------------------------------------- 0.3/101.7 MB ? eta -:--:--\n",
      "   ---------------------------------------- 0.3/101.7 MB ? eta -:--:--\n",
      "   ---------------------------------------- 0.3/101.7 MB ? eta -:--:--\n",
      "   ---------------------------------------- 0.3/101.7 MB ? eta -:--:--\n",
      "   ---------------------------------------- 0.3/101.7 MB ? eta -:--:--\n",
      "   ---------------------------------------- 0.3/101.7 MB ? eta -:--:--\n",
      "   ---------------------------------------- 0.3/101.7 MB ? eta -:--:--\n",
      "   ---------------------------------------- 0.3/101.7 MB ? eta -:--:--\n",
      "   ---------------------------------------- 0.3/101.7 MB ? eta -:--:--\n",
      "   ---------------------------------------- 0.3/101.7 MB ? eta -:--:--\n",
      "   ---------------------------------------- 0.3/101.7 MB ? eta -:--:--\n",
      "   ---------------------------------------- 0.3/101.7 MB ? eta -:--:--\n",
      "   ---------------------------------------- 0.3/101.7 MB ? eta -:--:--\n",
      "   ---------------------------------------- 0.3/101.7 MB ? eta -:--:--\n",
      "   ---------------------------------------- 0.3/101.7 MB ? eta -:--:--\n",
      "   ---------------------------------------- 0.3/101.7 MB ? eta -:--:--\n",
      "   ---------------------------------------- 0.3/101.7 MB ? eta -:--:--\n",
      "   ---------------------------------------- 0.3/101.7 MB ? eta -:--:--\n",
      "   ---------------------------------------- 0.3/101.7 MB ? eta -:--:--\n",
      "   ---------------------------------------- 0.3/101.7 MB ? eta -:--:--\n",
      "   ---------------------------------------- 0.5/101.7 MB 30.9 kB/s eta 0:54:35\n",
      "   ---------------------------------------- 0.5/101.7 MB 30.9 kB/s eta 0:54:35\n",
      "   ---------------------------------------- 0.5/101.7 MB 30.9 kB/s eta 0:54:35\n",
      "   ---------------------------------------- 0.5/101.7 MB 30.9 kB/s eta 0:54:35\n",
      "   ---------------------------------------- 0.5/101.7 MB 30.9 kB/s eta 0:54:35\n",
      "   ---------------------------------------- 0.5/101.7 MB 30.9 kB/s eta 0:54:35\n",
      "   ---------------------------------------- 0.5/101.7 MB 30.9 kB/s eta 0:54:35\n",
      "   ---------------------------------------- 0.5/101.7 MB 30.9 kB/s eta 0:54:35\n",
      "   ---------------------------------------- 0.5/101.7 MB 30.9 kB/s eta 0:54:35\n",
      "   ---------------------------------------- 0.5/101.7 MB 30.9 kB/s eta 0:54:35\n",
      "   ---------------------------------------- 0.5/101.7 MB 30.9 kB/s eta 0:54:35\n",
      "   ---------------------------------------- 0.5/101.7 MB 30.9 kB/s eta 0:54:35\n",
      "   ---------------------------------------- 0.5/101.7 MB 30.9 kB/s eta 0:54:35\n",
      "   ---------------------------------------- 0.5/101.7 MB 30.9 kB/s eta 0:54:35\n",
      "   ---------------------------------------- 0.5/101.7 MB 30.9 kB/s eta 0:54:35\n",
      "   ---------------------------------------- 0.5/101.7 MB 30.9 kB/s eta 0:54:35\n",
      "   ---------------------------------------- 0.5/101.7 MB 30.9 kB/s eta 0:54:35\n",
      "   ---------------------------------------- 0.5/101.7 MB 30.9 kB/s eta 0:54:35\n",
      "   ---------------------------------------- 0.5/101.7 MB 30.9 kB/s eta 0:54:35\n",
      "   ---------------------------------------- 0.5/101.7 MB 30.9 kB/s eta 0:54:35\n",
      "   ---------------------------------------- 0.5/101.7 MB 30.9 kB/s eta 0:54:35\n",
      "   ---------------------------------------- 0.5/101.7 MB 30.9 kB/s eta 0:54:35\n",
      "   ---------------------------------------- 0.5/101.7 MB 30.9 kB/s eta 0:54:35\n",
      "   ---------------------------------------- 0.5/101.7 MB 30.9 kB/s eta 0:54:35\n",
      "   ---------------------------------------- 0.5/101.7 MB 30.9 kB/s eta 0:54:35\n",
      "   ---------------------------------------- 0.5/101.7 MB 30.9 kB/s eta 0:54:35\n",
      "   ---------------------------------------- 0.5/101.7 MB 30.9 kB/s eta 0:54:35\n",
      "   ---------------------------------------- 0.5/101.7 MB 30.9 kB/s eta 0:54:35\n",
      "   ---------------------------------------- 0.5/101.7 MB 30.9 kB/s eta 0:54:35\n",
      "   ---------------------------------------- 0.5/101.7 MB 30.9 kB/s eta 0:54:35\n",
      "   ---------------------------------------- 0.5/101.7 MB 30.9 kB/s eta 0:54:35\n",
      "   ---------------------------------------- 0.5/101.7 MB 30.9 kB/s eta 0:54:35\n",
      "   ---------------------------------------- 0.5/101.7 MB 30.9 kB/s eta 0:54:35\n",
      "   ---------------------------------------- 0.5/101.7 MB 30.9 kB/s eta 0:54:35\n",
      "   ---------------------------------------- 0.5/101.7 MB 30.9 kB/s eta 0:54:35\n",
      "   ---------------------------------------- 0.5/101.7 MB 30.9 kB/s eta 0:54:35\n",
      "   ---------------------------------------- 0.5/101.7 MB 30.9 kB/s eta 0:54:35\n",
      "   ---------------------------------------- 0.5/101.7 MB 30.9 kB/s eta 0:54:35\n",
      "   ---------------------------------------- 0.5/101.7 MB 30.9 kB/s eta 0:54:35\n",
      "   ---------------------------------------- 0.5/101.7 MB 30.9 kB/s eta 0:54:35\n",
      "   ---------------------------------------- 0.5/101.7 MB 30.9 kB/s eta 0:54:35\n",
      "   ---------------------------------------- 0.5/101.7 MB 30.9 kB/s eta 0:54:35\n",
      "   ---------------------------------------- 0.8/101.7 MB 30.1 kB/s eta 0:55:54\n",
      "   ---------------------------------------- 0.8/101.7 MB 30.1 kB/s eta 0:55:54\n",
      "   ---------------------------------------- 0.8/101.7 MB 30.1 kB/s eta 0:55:54\n",
      "   ---------------------------------------- 0.8/101.7 MB 30.1 kB/s eta 0:55:54\n",
      "   ---------------------------------------- 0.8/101.7 MB 30.1 kB/s eta 0:55:54\n",
      "   ---------------------------------------- 0.8/101.7 MB 30.1 kB/s eta 0:55:54\n",
      "   ---------------------------------------- 0.8/101.7 MB 30.1 kB/s eta 0:55:54\n",
      "   ---------------------------------------- 0.8/101.7 MB 30.1 kB/s eta 0:55:54\n",
      "   ---------------------------------------- 0.8/101.7 MB 30.1 kB/s eta 0:55:54\n",
      "   ---------------------------------------- 0.8/101.7 MB 30.1 kB/s eta 0:55:54\n",
      "   ---------------------------------------- 0.8/101.7 MB 30.1 kB/s eta 0:55:54\n",
      "   ---------------------------------------- 0.8/101.7 MB 30.1 kB/s eta 0:55:54\n",
      "   ---------------------------------------- 0.8/101.7 MB 30.1 kB/s eta 0:55:54\n",
      "   ---------------------------------------- 0.8/101.7 MB 30.1 kB/s eta 0:55:54\n",
      "   ---------------------------------------- 0.8/101.7 MB 30.1 kB/s eta 0:55:54\n",
      "   ---------------------------------------- 0.8/101.7 MB 30.1 kB/s eta 0:55:54\n",
      "   ---------------------------------------- 0.8/101.7 MB 30.1 kB/s eta 0:55:54\n",
      "   ---------------------------------------- 0.8/101.7 MB 30.1 kB/s eta 0:55:54\n",
      "   ---------------------------------------- 0.8/101.7 MB 30.1 kB/s eta 0:55:54\n",
      "   ---------------------------------------- 0.8/101.7 MB 30.1 kB/s eta 0:55:54\n",
      "   ---------------------------------------- 0.8/101.7 MB 30.1 kB/s eta 0:55:54\n",
      "   ---------------------------------------- 0.8/101.7 MB 30.1 kB/s eta 0:55:54\n",
      "   ---------------------------------------- 0.8/101.7 MB 30.1 kB/s eta 0:55:54\n",
      "   ---------------------------------------- 0.8/101.7 MB 30.1 kB/s eta 0:55:54\n",
      "   ---------------------------------------- 0.8/101.7 MB 30.1 kB/s eta 0:55:54\n",
      "   ---------------------------------------- 0.8/101.7 MB 30.1 kB/s eta 0:55:54\n",
      "   ---------------------------------------- 0.8/101.7 MB 30.1 kB/s eta 0:55:54\n",
      "   ---------------------------------------- 0.8/101.7 MB 30.1 kB/s eta 0:55:54\n",
      "   ---------------------------------------- 0.8/101.7 MB 30.1 kB/s eta 0:55:54\n",
      "   ---------------------------------------- 0.8/101.7 MB 30.1 kB/s eta 0:55:54\n",
      "   ---------------------------------------- 0.8/101.7 MB 30.1 kB/s eta 0:55:54\n",
      "   ---------------------------------------- 0.8/101.7 MB 30.1 kB/s eta 0:55:54\n",
      "   ---------------------------------------- 0.8/101.7 MB 30.1 kB/s eta 0:55:54\n",
      "   ---------------------------------------- 0.8/101.7 MB 30.1 kB/s eta 0:55:54\n",
      "   ---------------------------------------- 0.8/101.7 MB 30.1 kB/s eta 0:55:54\n",
      "   ---------------------------------------- 0.8/101.7 MB 30.1 kB/s eta 0:55:54\n",
      "   ---------------------------------------- 0.8/101.7 MB 30.1 kB/s eta 0:55:54\n",
      "   ---------------------------------------- 0.8/101.7 MB 30.1 kB/s eta 0:55:54\n",
      "   ---------------------------------------- 0.8/101.7 MB 30.1 kB/s eta 0:55:54\n",
      "   ---------------------------------------- 0.8/101.7 MB 30.1 kB/s eta 0:55:54\n",
      "   ---------------------------------------- 1.0/101.7 MB 30.4 kB/s eta 0:55:17\n",
      "   ---------------------------------------- 1.0/101.7 MB 30.4 kB/s eta 0:55:17\n",
      "   ---------------------------------------- 1.0/101.7 MB 30.4 kB/s eta 0:55:17\n",
      "   ---------------------------------------- 1.0/101.7 MB 30.4 kB/s eta 0:55:17\n",
      "   ---------------------------------------- 1.0/101.7 MB 30.4 kB/s eta 0:55:17\n",
      "   ---------------------------------------- 1.0/101.7 MB 30.4 kB/s eta 0:55:17\n",
      "   ---------------------------------------- 1.0/101.7 MB 30.4 kB/s eta 0:55:17\n",
      "   ---------------------------------------- 1.0/101.7 MB 30.4 kB/s eta 0:55:17\n",
      "   ---------------------------------------- 1.0/101.7 MB 30.4 kB/s eta 0:55:17\n",
      "   ---------------------------------------- 1.0/101.7 MB 30.4 kB/s eta 0:55:17\n",
      "   ---------------------------------------- 1.0/101.7 MB 30.4 kB/s eta 0:55:17\n",
      "   ---------------------------------------- 1.0/101.7 MB 30.4 kB/s eta 0:55:17\n",
      "   ---------------------------------------- 1.0/101.7 MB 30.4 kB/s eta 0:55:17\n",
      "   ---------------------------------------- 1.0/101.7 MB 30.4 kB/s eta 0:55:17\n",
      "   ---------------------------------------- 1.0/101.7 MB 30.4 kB/s eta 0:55:17\n",
      "   ---------------------------------------- 1.0/101.7 MB 30.4 kB/s eta 0:55:17\n",
      "   ---------------------------------------- 1.0/101.7 MB 30.4 kB/s eta 0:55:17\n",
      "   ---------------------------------------- 1.0/101.7 MB 30.4 kB/s eta 0:55:17\n",
      "   ---------------------------------------- 1.0/101.7 MB 30.4 kB/s eta 0:55:17\n",
      "   ---------------------------------------- 1.0/101.7 MB 30.4 kB/s eta 0:55:17\n",
      "   ---------------------------------------- 1.0/101.7 MB 30.4 kB/s eta 0:55:17\n",
      "   ---------------------------------------- 1.0/101.7 MB 30.4 kB/s eta 0:55:17\n",
      "   ---------------------------------------- 1.0/101.7 MB 30.4 kB/s eta 0:55:17\n",
      "   ---------------------------------------- 1.0/101.7 MB 30.4 kB/s eta 0:55:17\n",
      "   ---------------------------------------- 1.0/101.7 MB 30.4 kB/s eta 0:55:17\n",
      "   ---------------------------------------- 1.0/101.7 MB 30.4 kB/s eta 0:55:17\n",
      "   ---------------------------------------- 1.0/101.7 MB 30.4 kB/s eta 0:55:17\n",
      "   ---------------------------------------- 1.0/101.7 MB 30.4 kB/s eta 0:55:17\n",
      "   ---------------------------------------- 1.0/101.7 MB 30.4 kB/s eta 0:55:17\n",
      "   ---------------------------------------- 1.0/101.7 MB 30.4 kB/s eta 0:55:17\n",
      "   ---------------------------------------- 1.0/101.7 MB 30.4 kB/s eta 0:55:17\n",
      "   ---------------------------------------- 1.0/101.7 MB 30.4 kB/s eta 0:55:17\n",
      "   ---------------------------------------- 1.0/101.7 MB 30.4 kB/s eta 0:55:17\n",
      "   ---------------------------------------- 1.0/101.7 MB 30.4 kB/s eta 0:55:17\n",
      "   ---------------------------------------- 1.0/101.7 MB 30.4 kB/s eta 0:55:17\n",
      "   ---------------------------------------- 1.0/101.7 MB 30.4 kB/s eta 0:55:17\n",
      "   ---------------------------------------- 1.0/101.7 MB 30.4 kB/s eta 0:55:17\n",
      "   ---------------------------------------- 1.0/101.7 MB 30.4 kB/s eta 0:55:17\n",
      "   ---------------------------------------- 1.0/101.7 MB 30.4 kB/s eta 0:55:17\n",
      "   ---------------------------------------- 1.0/101.7 MB 30.4 kB/s eta 0:55:17\n",
      "   ---------------------------------------- 1.0/101.7 MB 30.4 kB/s eta 0:55:17\n",
      "   ---------------------------------------- 1.0/101.7 MB 30.4 kB/s eta 0:55:17\n",
      "   ---------------------------------------- 1.0/101.7 MB 30.4 kB/s eta 0:55:17\n",
      "   ---------------------------------------- 1.0/101.7 MB 30.4 kB/s eta 0:55:17\n",
      "   ---------------------------------------- 1.0/101.7 MB 30.4 kB/s eta 0:55:17\n",
      "   ---------------------------------------- 1.0/101.7 MB 30.4 kB/s eta 0:55:17\n",
      "   ---------------------------------------- 1.0/101.7 MB 30.4 kB/s eta 0:55:17\n",
      "   ---------------------------------------- 1.0/101.7 MB 30.4 kB/s eta 0:55:17\n",
      "   ---------------------------------------- 1.0/101.7 MB 30.4 kB/s eta 0:55:17\n",
      "   ---------------------------------------- 1.0/101.7 MB 30.4 kB/s eta 0:55:17\n",
      "   ---------------------------------------- 1.0/101.7 MB 30.4 kB/s eta 0:55:17\n",
      "   ---------------------------------------- 1.0/101.7 MB 30.4 kB/s eta 0:55:17\n",
      "   ---------------------------------------- 1.0/101.7 MB 30.4 kB/s eta 0:55:17\n",
      "   ---------------------------------------- 1.0/101.7 MB 30.4 kB/s eta 0:55:17\n",
      "   ---------------------------------------- 1.0/101.7 MB 30.4 kB/s eta 0:55:17\n",
      "   ---------------------------------------- 1.0/101.7 MB 30.4 kB/s eta 0:55:17\n",
      "   ---------------------------------------- 1.0/101.7 MB 30.4 kB/s eta 0:55:17\n",
      "   ---------------------------------------- 1.0/101.7 MB 30.4 kB/s eta 0:55:17\n",
      "   ---------------------------------------- 1.0/101.7 MB 30.4 kB/s eta 0:55:17\n",
      "    --------------------------------------- 1.3/101.7 MB 24.9 kB/s eta 1:07:17\n",
      "    --------------------------------------- 1.3/101.7 MB 24.9 kB/s eta 1:07:17\n",
      "    --------------------------------------- 1.3/101.7 MB 24.9 kB/s eta 1:07:17\n",
      "    --------------------------------------- 1.3/101.7 MB 24.9 kB/s eta 1:07:17\n",
      "    --------------------------------------- 1.3/101.7 MB 24.9 kB/s eta 1:07:17\n",
      "    --------------------------------------- 1.3/101.7 MB 24.9 kB/s eta 1:07:17\n",
      "    --------------------------------------- 1.3/101.7 MB 24.9 kB/s eta 1:07:17\n",
      "    --------------------------------------- 1.3/101.7 MB 24.9 kB/s eta 1:07:17\n",
      "    --------------------------------------- 1.3/101.7 MB 24.9 kB/s eta 1:07:17\n",
      "    --------------------------------------- 1.3/101.7 MB 24.9 kB/s eta 1:07:17\n",
      "    --------------------------------------- 1.3/101.7 MB 24.9 kB/s eta 1:07:17\n",
      "    --------------------------------------- 1.3/101.7 MB 24.9 kB/s eta 1:07:17\n",
      "    --------------------------------------- 1.3/101.7 MB 24.9 kB/s eta 1:07:17\n",
      "    --------------------------------------- 1.3/101.7 MB 24.9 kB/s eta 1:07:17\n",
      "    --------------------------------------- 1.3/101.7 MB 24.9 kB/s eta 1:07:17\n",
      "    --------------------------------------- 1.3/101.7 MB 24.9 kB/s eta 1:07:17\n",
      "    --------------------------------------- 1.3/101.7 MB 24.9 kB/s eta 1:07:17\n",
      "    --------------------------------------- 1.3/101.7 MB 24.9 kB/s eta 1:07:17\n",
      "    --------------------------------------- 1.3/101.7 MB 24.9 kB/s eta 1:07:17\n",
      "    --------------------------------------- 1.3/101.7 MB 24.9 kB/s eta 1:07:17\n",
      "    --------------------------------------- 1.3/101.7 MB 24.9 kB/s eta 1:07:17\n",
      "    --------------------------------------- 1.3/101.7 MB 24.9 kB/s eta 1:07:17\n",
      "    --------------------------------------- 1.3/101.7 MB 24.9 kB/s eta 1:07:17\n",
      "    --------------------------------------- 1.3/101.7 MB 24.9 kB/s eta 1:07:17\n",
      "    --------------------------------------- 1.3/101.7 MB 24.9 kB/s eta 1:07:17\n",
      "    --------------------------------------- 1.3/101.7 MB 24.9 kB/s eta 1:07:17\n",
      "    --------------------------------------- 1.3/101.7 MB 24.9 kB/s eta 1:07:17\n",
      "    --------------------------------------- 1.3/101.7 MB 24.9 kB/s eta 1:07:17\n",
      "    --------------------------------------- 1.3/101.7 MB 24.9 kB/s eta 1:07:17\n",
      "    --------------------------------------- 1.3/101.7 MB 24.9 kB/s eta 1:07:17\n",
      "    --------------------------------------- 1.3/101.7 MB 24.9 kB/s eta 1:07:17\n",
      "    --------------------------------------- 1.3/101.7 MB 24.9 kB/s eta 1:07:17\n",
      "    --------------------------------------- 1.3/101.7 MB 24.9 kB/s eta 1:07:17\n",
      "    --------------------------------------- 1.3/101.7 MB 24.9 kB/s eta 1:07:17\n",
      "    --------------------------------------- 1.3/101.7 MB 24.9 kB/s eta 1:07:17\n",
      "    --------------------------------------- 1.3/101.7 MB 24.9 kB/s eta 1:07:17\n",
      "    --------------------------------------- 1.3/101.7 MB 24.9 kB/s eta 1:07:17\n",
      "    --------------------------------------- 1.3/101.7 MB 24.9 kB/s eta 1:07:17\n",
      "    --------------------------------------- 1.3/101.7 MB 24.9 kB/s eta 1:07:17\n",
      "    --------------------------------------- 1.3/101.7 MB 24.9 kB/s eta 1:07:17\n",
      "    --------------------------------------- 1.3/101.7 MB 24.9 kB/s eta 1:07:17\n",
      "    --------------------------------------- 1.3/101.7 MB 24.9 kB/s eta 1:07:17\n",
      "    --------------------------------------- 1.3/101.7 MB 24.9 kB/s eta 1:07:17\n",
      "    --------------------------------------- 1.3/101.7 MB 24.9 kB/s eta 1:07:17\n",
      "    --------------------------------------- 1.3/101.7 MB 24.9 kB/s eta 1:07:17\n",
      "    --------------------------------------- 1.3/101.7 MB 24.9 kB/s eta 1:07:17\n",
      "    --------------------------------------- 1.3/101.7 MB 24.9 kB/s eta 1:07:17\n",
      "    --------------------------------------- 1.3/101.7 MB 24.9 kB/s eta 1:07:17\n",
      "    --------------------------------------- 1.3/101.7 MB 24.9 kB/s eta 1:07:17\n",
      "    --------------------------------------- 1.3/101.7 MB 24.9 kB/s eta 1:07:17\n",
      "    --------------------------------------- 1.3/101.7 MB 24.9 kB/s eta 1:07:17\n",
      "    --------------------------------------- 1.3/101.7 MB 24.9 kB/s eta 1:07:17\n",
      "    --------------------------------------- 1.3/101.7 MB 24.9 kB/s eta 1:07:17\n",
      "    --------------------------------------- 1.6/101.7 MB 21.9 kB/s eta 1:16:10\n",
      "    --------------------------------------- 1.6/101.7 MB 21.9 kB/s eta 1:16:10\n",
      "    --------------------------------------- 1.6/101.7 MB 21.9 kB/s eta 1:16:10\n",
      "    --------------------------------------- 1.6/101.7 MB 21.9 kB/s eta 1:16:10\n",
      "    --------------------------------------- 1.6/101.7 MB 21.9 kB/s eta 1:16:10\n",
      "    --------------------------------------- 1.6/101.7 MB 21.9 kB/s eta 1:16:10\n",
      "    --------------------------------------- 1.6/101.7 MB 21.9 kB/s eta 1:16:10\n",
      "    --------------------------------------- 1.6/101.7 MB 21.9 kB/s eta 1:16:10\n",
      "    --------------------------------------- 1.6/101.7 MB 21.9 kB/s eta 1:16:10\n",
      "    --------------------------------------- 1.6/101.7 MB 21.9 kB/s eta 1:16:10\n",
      "    --------------------------------------- 1.6/101.7 MB 21.9 kB/s eta 1:16:10\n",
      "    --------------------------------------- 1.6/101.7 MB 21.9 kB/s eta 1:16:10\n",
      "    --------------------------------------- 1.6/101.7 MB 21.9 kB/s eta 1:16:10\n",
      "    --------------------------------------- 1.6/101.7 MB 21.9 kB/s eta 1:16:10\n",
      "    --------------------------------------- 1.6/101.7 MB 21.9 kB/s eta 1:16:10\n",
      "    --------------------------------------- 1.6/101.7 MB 21.9 kB/s eta 1:16:10\n",
      "    --------------------------------------- 1.6/101.7 MB 21.9 kB/s eta 1:16:10\n",
      "    --------------------------------------- 1.6/101.7 MB 21.9 kB/s eta 1:16:10\n",
      "    --------------------------------------- 1.6/101.7 MB 21.9 kB/s eta 1:16:10\n",
      "    --------------------------------------- 1.6/101.7 MB 21.9 kB/s eta 1:16:10\n",
      "    --------------------------------------- 1.6/101.7 MB 21.9 kB/s eta 1:16:10\n",
      "    --------------------------------------- 1.6/101.7 MB 21.9 kB/s eta 1:16:10\n",
      "    --------------------------------------- 1.6/101.7 MB 21.9 kB/s eta 1:16:10\n",
      "    --------------------------------------- 1.6/101.7 MB 21.9 kB/s eta 1:16:10\n",
      "    --------------------------------------- 1.6/101.7 MB 21.9 kB/s eta 1:16:10\n",
      "    --------------------------------------- 1.6/101.7 MB 21.9 kB/s eta 1:16:10\n",
      "    --------------------------------------- 1.6/101.7 MB 21.9 kB/s eta 1:16:10\n",
      "    --------------------------------------- 1.6/101.7 MB 21.9 kB/s eta 1:16:10\n",
      "    --------------------------------------- 1.6/101.7 MB 21.9 kB/s eta 1:16:10\n",
      "    --------------------------------------- 1.6/101.7 MB 21.9 kB/s eta 1:16:10\n",
      "    --------------------------------------- 1.8/101.7 MB 29.7 kB/s eta 0:56:04\n",
      "    --------------------------------------- 1.8/101.7 MB 29.7 kB/s eta 0:56:04\n",
      "    --------------------------------------- 1.8/101.7 MB 29.7 kB/s eta 0:56:04\n",
      "    --------------------------------------- 1.8/101.7 MB 29.7 kB/s eta 0:56:04\n",
      "    --------------------------------------- 1.8/101.7 MB 29.7 kB/s eta 0:56:04\n",
      "    --------------------------------------- 1.8/101.7 MB 29.7 kB/s eta 0:56:04\n",
      "    --------------------------------------- 1.8/101.7 MB 29.7 kB/s eta 0:56:04\n",
      "    --------------------------------------- 1.8/101.7 MB 29.7 kB/s eta 0:56:04\n",
      "    --------------------------------------- 1.8/101.7 MB 29.7 kB/s eta 0:56:04\n",
      "    --------------------------------------- 1.8/101.7 MB 29.7 kB/s eta 0:56:04\n",
      "    --------------------------------------- 1.8/101.7 MB 29.7 kB/s eta 0:56:04\n",
      "    --------------------------------------- 1.8/101.7 MB 29.7 kB/s eta 0:56:04\n",
      "    --------------------------------------- 1.8/101.7 MB 29.7 kB/s eta 0:56:04\n",
      "    --------------------------------------- 1.8/101.7 MB 29.7 kB/s eta 0:56:04\n",
      "    --------------------------------------- 1.8/101.7 MB 29.7 kB/s eta 0:56:04\n",
      "    --------------------------------------- 1.8/101.7 MB 29.7 kB/s eta 0:56:04\n",
      "    --------------------------------------- 1.8/101.7 MB 29.7 kB/s eta 0:56:04\n",
      "    --------------------------------------- 1.8/101.7 MB 29.7 kB/s eta 0:56:04\n",
      "    --------------------------------------- 1.8/101.7 MB 29.7 kB/s eta 0:56:04\n",
      "    --------------------------------------- 1.8/101.7 MB 29.7 kB/s eta 0:56:04\n",
      "    --------------------------------------- 1.8/101.7 MB 29.7 kB/s eta 0:56:04\n",
      "    --------------------------------------- 1.8/101.7 MB 29.7 kB/s eta 0:56:04\n",
      "    --------------------------------------- 1.8/101.7 MB 29.7 kB/s eta 0:56:04\n",
      "    --------------------------------------- 1.8/101.7 MB 29.7 kB/s eta 0:56:04\n",
      "    --------------------------------------- 1.8/101.7 MB 29.7 kB/s eta 0:56:04\n",
      "    --------------------------------------- 1.8/101.7 MB 29.7 kB/s eta 0:56:04\n",
      "    --------------------------------------- 1.8/101.7 MB 29.7 kB/s eta 0:56:04\n",
      "    --------------------------------------- 1.8/101.7 MB 29.7 kB/s eta 0:56:04\n",
      "    --------------------------------------- 1.8/101.7 MB 29.7 kB/s eta 0:56:04\n",
      "    --------------------------------------- 1.8/101.7 MB 29.7 kB/s eta 0:56:04\n",
      "    --------------------------------------- 1.8/101.7 MB 29.7 kB/s eta 0:56:04\n",
      "    --------------------------------------- 1.8/101.7 MB 29.7 kB/s eta 0:56:04\n",
      "    --------------------------------------- 1.8/101.7 MB 29.7 kB/s eta 0:56:04\n",
      "    --------------------------------------- 1.8/101.7 MB 29.7 kB/s eta 0:56:04\n",
      "    --------------------------------------- 1.8/101.7 MB 29.7 kB/s eta 0:56:04\n",
      "    --------------------------------------- 1.8/101.7 MB 29.7 kB/s eta 0:56:04\n",
      "    --------------------------------------- 1.8/101.7 MB 29.7 kB/s eta 0:56:04\n",
      "    --------------------------------------- 1.8/101.7 MB 29.7 kB/s eta 0:56:04\n",
      "    --------------------------------------- 1.8/101.7 MB 29.7 kB/s eta 0:56:04\n",
      "    --------------------------------------- 1.8/101.7 MB 29.7 kB/s eta 0:56:04\n",
      "    --------------------------------------- 1.8/101.7 MB 29.7 kB/s eta 0:56:04\n",
      "    --------------------------------------- 1.8/101.7 MB 29.7 kB/s eta 0:56:04\n",
      "    --------------------------------------- 1.8/101.7 MB 29.7 kB/s eta 0:56:04\n",
      "    --------------------------------------- 1.8/101.7 MB 29.7 kB/s eta 0:56:04\n",
      "    --------------------------------------- 1.8/101.7 MB 29.7 kB/s eta 0:56:04\n",
      "    --------------------------------------- 1.8/101.7 MB 29.7 kB/s eta 0:56:04\n",
      "    --------------------------------------- 1.8/101.7 MB 29.7 kB/s eta 0:56:04\n",
      "    --------------------------------------- 1.8/101.7 MB 29.7 kB/s eta 0:56:04\n",
      "    --------------------------------------- 1.8/101.7 MB 29.7 kB/s eta 0:56:04\n",
      "    --------------------------------------- 1.8/101.7 MB 29.7 kB/s eta 0:56:04\n",
      "    --------------------------------------- 1.8/101.7 MB 29.7 kB/s eta 0:56:04\n",
      "    --------------------------------------- 2.1/101.7 MB 27.6 kB/s eta 1:00:07\n",
      "    --------------------------------------- 2.1/101.7 MB 27.6 kB/s eta 1:00:07\n",
      "    --------------------------------------- 2.1/101.7 MB 27.6 kB/s eta 1:00:07\n",
      "    --------------------------------------- 2.1/101.7 MB 27.6 kB/s eta 1:00:07\n",
      "    --------------------------------------- 2.1/101.7 MB 27.6 kB/s eta 1:00:07\n",
      "    --------------------------------------- 2.1/101.7 MB 27.6 kB/s eta 1:00:07\n",
      "    --------------------------------------- 2.1/101.7 MB 27.6 kB/s eta 1:00:07\n",
      "    --------------------------------------- 2.1/101.7 MB 27.6 kB/s eta 1:00:07\n",
      "    --------------------------------------- 2.1/101.7 MB 27.6 kB/s eta 1:00:07\n",
      "    --------------------------------------- 2.1/101.7 MB 27.6 kB/s eta 1:00:07\n",
      "    --------------------------------------- 2.1/101.7 MB 27.6 kB/s eta 1:00:07\n",
      "    --------------------------------------- 2.1/101.7 MB 27.6 kB/s eta 1:00:07\n",
      "    --------------------------------------- 2.1/101.7 MB 27.6 kB/s eta 1:00:07\n",
      "    --------------------------------------- 2.1/101.7 MB 27.6 kB/s eta 1:00:07\n",
      "    --------------------------------------- 2.1/101.7 MB 27.6 kB/s eta 1:00:07\n",
      "    --------------------------------------- 2.1/101.7 MB 27.6 kB/s eta 1:00:07\n",
      "    --------------------------------------- 2.1/101.7 MB 27.6 kB/s eta 1:00:07\n",
      "    --------------------------------------- 2.1/101.7 MB 27.6 kB/s eta 1:00:07\n",
      "    --------------------------------------- 2.1/101.7 MB 27.6 kB/s eta 1:00:07\n",
      "    --------------------------------------- 2.1/101.7 MB 27.6 kB/s eta 1:00:07\n",
      "    --------------------------------------- 2.1/101.7 MB 27.6 kB/s eta 1:00:07\n",
      "    --------------------------------------- 2.1/101.7 MB 27.6 kB/s eta 1:00:07\n",
      "    --------------------------------------- 2.1/101.7 MB 27.6 kB/s eta 1:00:07\n",
      "    --------------------------------------- 2.1/101.7 MB 27.6 kB/s eta 1:00:07\n",
      "    --------------------------------------- 2.1/101.7 MB 27.6 kB/s eta 1:00:07\n",
      "    --------------------------------------- 2.1/101.7 MB 27.6 kB/s eta 1:00:07\n",
      "    --------------------------------------- 2.1/101.7 MB 27.6 kB/s eta 1:00:07\n",
      "    --------------------------------------- 2.1/101.7 MB 27.6 kB/s eta 1:00:07\n",
      "    --------------------------------------- 2.1/101.7 MB 27.6 kB/s eta 1:00:07\n",
      "    --------------------------------------- 2.1/101.7 MB 27.6 kB/s eta 1:00:07\n",
      "    --------------------------------------- 2.1/101.7 MB 27.6 kB/s eta 1:00:07\n",
      "    --------------------------------------- 2.1/101.7 MB 27.6 kB/s eta 1:00:07\n",
      "    --------------------------------------- 2.4/101.7 MB 32.8 kB/s eta 0:50:33\n",
      "    --------------------------------------- 2.4/101.7 MB 32.8 kB/s eta 0:50:33\n",
      "    --------------------------------------- 2.4/101.7 MB 32.8 kB/s eta 0:50:33\n",
      "    --------------------------------------- 2.4/101.7 MB 32.8 kB/s eta 0:50:33\n",
      "    --------------------------------------- 2.4/101.7 MB 32.8 kB/s eta 0:50:33\n",
      "    --------------------------------------- 2.4/101.7 MB 32.8 kB/s eta 0:50:33\n",
      "    --------------------------------------- 2.4/101.7 MB 32.8 kB/s eta 0:50:33\n",
      "    --------------------------------------- 2.4/101.7 MB 32.8 kB/s eta 0:50:33\n",
      "    --------------------------------------- 2.4/101.7 MB 32.8 kB/s eta 0:50:33\n",
      "    --------------------------------------- 2.4/101.7 MB 32.8 kB/s eta 0:50:33\n",
      "    --------------------------------------- 2.4/101.7 MB 32.8 kB/s eta 0:50:33\n",
      "    --------------------------------------- 2.4/101.7 MB 32.8 kB/s eta 0:50:33\n",
      "    --------------------------------------- 2.4/101.7 MB 32.8 kB/s eta 0:50:33\n",
      "    --------------------------------------- 2.4/101.7 MB 32.8 kB/s eta 0:50:33\n",
      "    --------------------------------------- 2.4/101.7 MB 32.8 kB/s eta 0:50:33\n",
      "    --------------------------------------- 2.4/101.7 MB 32.8 kB/s eta 0:50:33\n",
      "    --------------------------------------- 2.4/101.7 MB 32.8 kB/s eta 0:50:33\n",
      "    --------------------------------------- 2.4/101.7 MB 32.8 kB/s eta 0:50:33\n",
      "    --------------------------------------- 2.4/101.7 MB 32.8 kB/s eta 0:50:33\n",
      "    --------------------------------------- 2.4/101.7 MB 32.8 kB/s eta 0:50:33\n",
      "    --------------------------------------- 2.4/101.7 MB 32.8 kB/s eta 0:50:33\n",
      "    --------------------------------------- 2.4/101.7 MB 32.8 kB/s eta 0:50:33\n",
      "    --------------------------------------- 2.4/101.7 MB 32.8 kB/s eta 0:50:33\n",
      "    --------------------------------------- 2.4/101.7 MB 32.8 kB/s eta 0:50:33\n",
      "    --------------------------------------- 2.4/101.7 MB 32.8 kB/s eta 0:50:33\n",
      "    --------------------------------------- 2.4/101.7 MB 32.8 kB/s eta 0:50:33\n",
      "    --------------------------------------- 2.4/101.7 MB 32.8 kB/s eta 0:50:33\n",
      "    --------------------------------------- 2.4/101.7 MB 32.8 kB/s eta 0:50:33\n",
      "    --------------------------------------- 2.4/101.7 MB 32.8 kB/s eta 0:50:33\n",
      "    --------------------------------------- 2.4/101.7 MB 32.8 kB/s eta 0:50:33\n",
      "    --------------------------------------- 2.4/101.7 MB 32.8 kB/s eta 0:50:33\n",
      "    --------------------------------------- 2.4/101.7 MB 32.8 kB/s eta 0:50:33\n",
      "    --------------------------------------- 2.4/101.7 MB 32.8 kB/s eta 0:50:33\n",
      "    --------------------------------------- 2.4/101.7 MB 32.8 kB/s eta 0:50:33\n",
      "    --------------------------------------- 2.4/101.7 MB 32.8 kB/s eta 0:50:33\n",
      "    --------------------------------------- 2.4/101.7 MB 32.8 kB/s eta 0:50:33\n",
      "    --------------------------------------- 2.4/101.7 MB 32.8 kB/s eta 0:50:33\n",
      "    --------------------------------------- 2.4/101.7 MB 32.8 kB/s eta 0:50:33\n",
      "    --------------------------------------- 2.4/101.7 MB 32.8 kB/s eta 0:50:33\n",
      "    --------------------------------------- 2.4/101.7 MB 32.8 kB/s eta 0:50:33\n",
      "    --------------------------------------- 2.4/101.7 MB 32.8 kB/s eta 0:50:33\n",
      "    --------------------------------------- 2.4/101.7 MB 32.8 kB/s eta 0:50:33\n",
      "    --------------------------------------- 2.4/101.7 MB 32.8 kB/s eta 0:50:33\n",
      "    --------------------------------------- 2.4/101.7 MB 32.8 kB/s eta 0:50:33\n",
      "    --------------------------------------- 2.4/101.7 MB 32.8 kB/s eta 0:50:33\n",
      "    --------------------------------------- 2.4/101.7 MB 32.8 kB/s eta 0:50:33\n",
      "    --------------------------------------- 2.4/101.7 MB 32.8 kB/s eta 0:50:33\n",
      "    --------------------------------------- 2.4/101.7 MB 32.8 kB/s eta 0:50:33\n",
      "    --------------------------------------- 2.4/101.7 MB 32.8 kB/s eta 0:50:33\n",
      "    --------------------------------------- 2.4/101.7 MB 32.8 kB/s eta 0:50:33\n",
      "    --------------------------------------- 2.4/101.7 MB 32.8 kB/s eta 0:50:33\n",
      "    --------------------------------------- 2.4/101.7 MB 32.8 kB/s eta 0:50:33\n",
      "    --------------------------------------- 2.4/101.7 MB 32.8 kB/s eta 0:50:33\n",
      "    --------------------------------------- 2.4/101.7 MB 32.8 kB/s eta 0:50:33\n",
      "    --------------------------------------- 2.4/101.7 MB 32.8 kB/s eta 0:50:33\n",
      "    --------------------------------------- 2.4/101.7 MB 32.8 kB/s eta 0:50:33\n",
      "    --------------------------------------- 2.4/101.7 MB 32.8 kB/s eta 0:50:33\n",
      "    --------------------------------------- 2.4/101.7 MB 32.8 kB/s eta 0:50:33\n",
      "    --------------------------------------- 2.4/101.7 MB 32.8 kB/s eta 0:50:33\n",
      "    --------------------------------------- 2.4/101.7 MB 32.8 kB/s eta 0:50:33\n",
      "    --------------------------------------- 2.4/101.7 MB 32.8 kB/s eta 0:50:33\n",
      "    --------------------------------------- 2.4/101.7 MB 32.8 kB/s eta 0:50:33\n",
      "   - -------------------------------------- 2.6/101.7 MB 26.0 kB/s eta 1:03:36\n",
      "   - -------------------------------------- 2.6/101.7 MB 26.0 kB/s eta 1:03:36\n",
      "   - -------------------------------------- 2.6/101.7 MB 26.0 kB/s eta 1:03:36\n",
      "   - -------------------------------------- 2.6/101.7 MB 26.0 kB/s eta 1:03:36\n",
      "   - -------------------------------------- 2.6/101.7 MB 26.0 kB/s eta 1:03:36\n",
      "   - -------------------------------------- 2.6/101.7 MB 26.0 kB/s eta 1:03:36\n",
      "   - -------------------------------------- 2.6/101.7 MB 26.0 kB/s eta 1:03:36\n",
      "   - -------------------------------------- 2.6/101.7 MB 26.0 kB/s eta 1:03:36\n",
      "   - -------------------------------------- 2.6/101.7 MB 26.0 kB/s eta 1:03:36\n",
      "   - -------------------------------------- 2.6/101.7 MB 26.0 kB/s eta 1:03:36\n",
      "   - -------------------------------------- 2.6/101.7 MB 26.0 kB/s eta 1:03:36\n",
      "   - -------------------------------------- 2.6/101.7 MB 26.0 kB/s eta 1:03:36\n",
      "   - -------------------------------------- 2.6/101.7 MB 26.0 kB/s eta 1:03:36\n",
      "   - -------------------------------------- 2.6/101.7 MB 26.0 kB/s eta 1:03:36\n",
      "   - -------------------------------------- 2.6/101.7 MB 26.0 kB/s eta 1:03:36\n",
      "   - -------------------------------------- 2.6/101.7 MB 26.0 kB/s eta 1:03:36\n",
      "   - -------------------------------------- 2.6/101.7 MB 26.0 kB/s eta 1:03:36\n",
      "   - -------------------------------------- 2.6/101.7 MB 26.0 kB/s eta 1:03:36\n",
      "   - -------------------------------------- 2.6/101.7 MB 26.0 kB/s eta 1:03:36\n",
      "   - -------------------------------------- 2.6/101.7 MB 26.0 kB/s eta 1:03:36\n",
      "   - -------------------------------------- 2.6/101.7 MB 26.0 kB/s eta 1:03:36\n",
      "   - -------------------------------------- 2.6/101.7 MB 26.0 kB/s eta 1:03:36\n",
      "   - -------------------------------------- 2.6/101.7 MB 26.0 kB/s eta 1:03:36\n",
      "   - -------------------------------------- 2.6/101.7 MB 26.0 kB/s eta 1:03:36\n",
      "   - -------------------------------------- 2.6/101.7 MB 26.0 kB/s eta 1:03:36\n",
      "   - -------------------------------------- 2.6/101.7 MB 26.0 kB/s eta 1:03:36\n",
      "   - -------------------------------------- 2.6/101.7 MB 26.0 kB/s eta 1:03:36\n",
      "   - -------------------------------------- 2.6/101.7 MB 26.0 kB/s eta 1:03:36\n",
      "   - -------------------------------------- 2.6/101.7 MB 26.0 kB/s eta 1:03:36\n",
      "   - -------------------------------------- 2.6/101.7 MB 26.0 kB/s eta 1:03:36\n",
      "   - -------------------------------------- 2.6/101.7 MB 26.0 kB/s eta 1:03:36\n",
      "   - -------------------------------------- 2.6/101.7 MB 26.0 kB/s eta 1:03:36\n",
      "   - -------------------------------------- 2.6/101.7 MB 26.0 kB/s eta 1:03:36\n",
      "   - -------------------------------------- 2.6/101.7 MB 26.0 kB/s eta 1:03:36\n",
      "   - -------------------------------------- 2.6/101.7 MB 26.0 kB/s eta 1:03:36\n",
      "   - -------------------------------------- 2.6/101.7 MB 26.0 kB/s eta 1:03:36\n",
      "   - -------------------------------------- 2.6/101.7 MB 26.0 kB/s eta 1:03:36\n",
      "   - -------------------------------------- 2.6/101.7 MB 26.0 kB/s eta 1:03:36\n",
      "   - -------------------------------------- 2.6/101.7 MB 26.0 kB/s eta 1:03:36\n",
      "   - -------------------------------------- 2.6/101.7 MB 26.0 kB/s eta 1:03:36\n",
      "   - -------------------------------------- 2.6/101.7 MB 26.0 kB/s eta 1:03:36\n",
      "   - -------------------------------------- 2.6/101.7 MB 26.0 kB/s eta 1:03:36\n",
      "   - -------------------------------------- 2.6/101.7 MB 26.0 kB/s eta 1:03:36\n",
      "   - -------------------------------------- 2.6/101.7 MB 26.0 kB/s eta 1:03:36\n",
      "   - -------------------------------------- 2.6/101.7 MB 26.0 kB/s eta 1:03:36\n",
      "   - -------------------------------------- 2.6/101.7 MB 26.0 kB/s eta 1:03:36\n",
      "   - -------------------------------------- 2.6/101.7 MB 26.0 kB/s eta 1:03:36\n",
      "   - -------------------------------------- 2.6/101.7 MB 26.0 kB/s eta 1:03:36\n",
      "   - -------------------------------------- 2.6/101.7 MB 26.0 kB/s eta 1:03:36\n",
      "   - -------------------------------------- 2.6/101.7 MB 26.0 kB/s eta 1:03:36\n",
      "   - -------------------------------------- 2.6/101.7 MB 26.0 kB/s eta 1:03:36\n",
      "   - -------------------------------------- 2.6/101.7 MB 26.0 kB/s eta 1:03:36\n",
      "   - -------------------------------------- 2.6/101.7 MB 26.0 kB/s eta 1:03:36\n",
      "   - -------------------------------------- 2.6/101.7 MB 26.0 kB/s eta 1:03:36\n",
      "   - -------------------------------------- 2.6/101.7 MB 26.0 kB/s eta 1:03:36\n",
      "   - -------------------------------------- 2.6/101.7 MB 26.0 kB/s eta 1:03:36\n",
      "   - -------------------------------------- 2.6/101.7 MB 26.0 kB/s eta 1:03:36\n",
      "   - -------------------------------------- 2.6/101.7 MB 26.0 kB/s eta 1:03:36\n",
      "   - -------------------------------------- 2.6/101.7 MB 26.0 kB/s eta 1:03:36\n",
      "   - -------------------------------------- 2.6/101.7 MB 26.0 kB/s eta 1:03:36\n",
      "   - -------------------------------------- 2.6/101.7 MB 26.0 kB/s eta 1:03:36\n",
      "   - -------------------------------------- 2.6/101.7 MB 26.0 kB/s eta 1:03:36\n",
      "   - -------------------------------------- 2.6/101.7 MB 26.0 kB/s eta 1:03:36\n",
      "   - -------------------------------------- 2.6/101.7 MB 26.0 kB/s eta 1:03:36\n",
      "   - -------------------------------------- 2.6/101.7 MB 26.0 kB/s eta 1:03:36\n",
      "   - -------------------------------------- 2.6/101.7 MB 26.0 kB/s eta 1:03:36\n",
      "   - -------------------------------------- 2.9/101.7 MB 19.1 kB/s eta 1:26:13\n",
      "   - -------------------------------------- 2.9/101.7 MB 19.1 kB/s eta 1:26:13\n",
      "   - -------------------------------------- 2.9/101.7 MB 19.1 kB/s eta 1:26:13\n",
      "   - -------------------------------------- 2.9/101.7 MB 19.1 kB/s eta 1:26:13\n",
      "   - -------------------------------------- 2.9/101.7 MB 19.1 kB/s eta 1:26:13\n",
      "   - -------------------------------------- 2.9/101.7 MB 19.1 kB/s eta 1:26:13\n",
      "   - -------------------------------------- 2.9/101.7 MB 19.1 kB/s eta 1:26:13\n",
      "   - -------------------------------------- 2.9/101.7 MB 19.1 kB/s eta 1:26:13\n",
      "   - -------------------------------------- 2.9/101.7 MB 19.1 kB/s eta 1:26:13\n",
      "   - -------------------------------------- 2.9/101.7 MB 19.1 kB/s eta 1:26:13\n",
      "   - -------------------------------------- 2.9/101.7 MB 19.1 kB/s eta 1:26:13\n",
      "   - -------------------------------------- 2.9/101.7 MB 19.1 kB/s eta 1:26:13\n",
      "   - -------------------------------------- 2.9/101.7 MB 19.1 kB/s eta 1:26:13\n",
      "   - -------------------------------------- 2.9/101.7 MB 19.1 kB/s eta 1:26:13\n",
      "   - -------------------------------------- 2.9/101.7 MB 19.1 kB/s eta 1:26:13\n",
      "   - -------------------------------------- 2.9/101.7 MB 19.1 kB/s eta 1:26:13\n",
      "   - -------------------------------------- 2.9/101.7 MB 19.1 kB/s eta 1:26:13\n",
      "   - -------------------------------------- 2.9/101.7 MB 19.1 kB/s eta 1:26:13\n",
      "   - -------------------------------------- 2.9/101.7 MB 19.1 kB/s eta 1:26:13\n",
      "   - -------------------------------------- 2.9/101.7 MB 19.1 kB/s eta 1:26:13\n",
      "   - -------------------------------------- 2.9/101.7 MB 19.1 kB/s eta 1:26:13\n",
      "   - -------------------------------------- 2.9/101.7 MB 19.1 kB/s eta 1:26:13\n",
      "   - -------------------------------------- 2.9/101.7 MB 19.1 kB/s eta 1:26:13\n",
      "   - -------------------------------------- 2.9/101.7 MB 19.1 kB/s eta 1:26:13\n",
      "   - -------------------------------------- 2.9/101.7 MB 19.1 kB/s eta 1:26:13\n",
      "   - -------------------------------------- 2.9/101.7 MB 19.1 kB/s eta 1:26:13\n",
      "   - -------------------------------------- 2.9/101.7 MB 19.1 kB/s eta 1:26:13\n",
      "   - -------------------------------------- 2.9/101.7 MB 19.1 kB/s eta 1:26:13\n",
      "   - -------------------------------------- 2.9/101.7 MB 19.1 kB/s eta 1:26:13\n",
      "   - -------------------------------------- 2.9/101.7 MB 19.1 kB/s eta 1:26:13\n",
      "   - -------------------------------------- 2.9/101.7 MB 19.1 kB/s eta 1:26:13\n",
      "   - -------------------------------------- 2.9/101.7 MB 19.1 kB/s eta 1:26:13\n",
      "   - -------------------------------------- 2.9/101.7 MB 19.1 kB/s eta 1:26:13\n",
      "   - -------------------------------------- 2.9/101.7 MB 19.1 kB/s eta 1:26:13\n",
      "   - -------------------------------------- 2.9/101.7 MB 19.1 kB/s eta 1:26:13\n",
      "   - -------------------------------------- 2.9/101.7 MB 19.1 kB/s eta 1:26:13\n",
      "   - -------------------------------------- 2.9/101.7 MB 19.1 kB/s eta 1:26:13\n",
      "   - -------------------------------------- 2.9/101.7 MB 19.1 kB/s eta 1:26:13\n",
      "   - -------------------------------------- 2.9/101.7 MB 19.1 kB/s eta 1:26:13\n",
      "   - -------------------------------------- 3.1/101.7 MB 23.5 kB/s eta 1:09:53\n",
      "   - -------------------------------------- 3.1/101.7 MB 23.5 kB/s eta 1:09:53\n",
      "   - -------------------------------------- 3.1/101.7 MB 23.5 kB/s eta 1:09:53\n",
      "   - -------------------------------------- 3.1/101.7 MB 23.5 kB/s eta 1:09:53\n",
      "   - -------------------------------------- 3.1/101.7 MB 23.5 kB/s eta 1:09:53\n",
      "   - -------------------------------------- 3.1/101.7 MB 23.5 kB/s eta 1:09:53\n",
      "   - -------------------------------------- 3.1/101.7 MB 23.5 kB/s eta 1:09:53\n",
      "   - -------------------------------------- 3.1/101.7 MB 23.5 kB/s eta 1:09:53\n",
      "   - -------------------------------------- 3.1/101.7 MB 23.5 kB/s eta 1:09:53\n",
      "   - -------------------------------------- 3.1/101.7 MB 23.5 kB/s eta 1:09:53\n",
      "   - -------------------------------------- 3.1/101.7 MB 23.5 kB/s eta 1:09:53\n",
      "   - -------------------------------------- 3.1/101.7 MB 23.5 kB/s eta 1:09:53\n",
      "   - -------------------------------------- 3.1/101.7 MB 23.5 kB/s eta 1:09:53\n",
      "   - -------------------------------------- 3.1/101.7 MB 23.5 kB/s eta 1:09:53\n",
      "   - -------------------------------------- 3.1/101.7 MB 23.5 kB/s eta 1:09:53\n",
      "   - -------------------------------------- 3.1/101.7 MB 23.5 kB/s eta 1:09:53\n",
      "   - -------------------------------------- 3.1/101.7 MB 23.5 kB/s eta 1:09:53\n",
      "   - -------------------------------------- 3.1/101.7 MB 23.5 kB/s eta 1:09:53\n",
      "   - -------------------------------------- 3.1/101.7 MB 23.5 kB/s eta 1:09:53\n",
      "   - -------------------------------------- 3.1/101.7 MB 23.5 kB/s eta 1:09:53\n",
      "   - -------------------------------------- 3.1/101.7 MB 23.5 kB/s eta 1:09:53\n",
      "   - -------------------------------------- 3.1/101.7 MB 23.5 kB/s eta 1:09:53\n",
      "   - -------------------------------------- 3.1/101.7 MB 23.5 kB/s eta 1:09:53\n",
      "   - -------------------------------------- 3.1/101.7 MB 23.5 kB/s eta 1:09:53\n",
      "   - -------------------------------------- 3.1/101.7 MB 23.5 kB/s eta 1:09:53\n",
      "   - -------------------------------------- 3.1/101.7 MB 23.5 kB/s eta 1:09:53\n",
      "   - -------------------------------------- 3.1/101.7 MB 23.5 kB/s eta 1:09:53\n",
      "   - -------------------------------------- 3.1/101.7 MB 23.5 kB/s eta 1:09:53\n",
      "   - -------------------------------------- 3.1/101.7 MB 23.5 kB/s eta 1:09:53\n",
      "   - -------------------------------------- 3.1/101.7 MB 23.5 kB/s eta 1:09:53\n",
      "   - -------------------------------------- 3.1/101.7 MB 23.5 kB/s eta 1:09:53\n",
      "   - -------------------------------------- 3.1/101.7 MB 23.5 kB/s eta 1:09:53\n",
      "   - -------------------------------------- 3.1/101.7 MB 23.5 kB/s eta 1:09:53\n",
      "   - -------------------------------------- 3.1/101.7 MB 23.5 kB/s eta 1:09:53\n",
      "   - -------------------------------------- 3.1/101.7 MB 23.5 kB/s eta 1:09:53\n",
      "   - -------------------------------------- 3.1/101.7 MB 23.5 kB/s eta 1:09:53\n",
      "   - -------------------------------------- 3.1/101.7 MB 23.5 kB/s eta 1:09:53\n",
      "   - -------------------------------------- 3.1/101.7 MB 23.5 kB/s eta 1:09:53\n",
      "   - -------------------------------------- 3.1/101.7 MB 23.5 kB/s eta 1:09:53\n",
      "   - -------------------------------------- 3.1/101.7 MB 23.5 kB/s eta 1:09:53\n",
      "   - -------------------------------------- 3.1/101.7 MB 23.5 kB/s eta 1:09:53\n",
      "   - -------------------------------------- 3.1/101.7 MB 23.5 kB/s eta 1:09:53\n",
      "   - -------------------------------------- 3.1/101.7 MB 23.5 kB/s eta 1:09:53\n",
      "   - -------------------------------------- 3.1/101.7 MB 23.5 kB/s eta 1:09:53\n",
      "   - -------------------------------------- 3.1/101.7 MB 23.5 kB/s eta 1:09:53\n",
      "   - -------------------------------------- 3.1/101.7 MB 23.5 kB/s eta 1:09:53\n",
      "   - -------------------------------------- 3.1/101.7 MB 23.5 kB/s eta 1:09:53\n",
      "   - -------------------------------------- 3.1/101.7 MB 23.5 kB/s eta 1:09:53\n",
      "   - -------------------------------------- 3.1/101.7 MB 23.5 kB/s eta 1:09:53\n",
      "   - -------------------------------------- 3.1/101.7 MB 23.5 kB/s eta 1:09:53\n",
      "   - -------------------------------------- 3.1/101.7 MB 23.5 kB/s eta 1:09:53\n",
      "   - -------------------------------------- 3.1/101.7 MB 23.5 kB/s eta 1:09:53\n",
      "   - -------------------------------------- 3.1/101.7 MB 23.5 kB/s eta 1:09:53\n",
      "   - -------------------------------------- 3.1/101.7 MB 23.5 kB/s eta 1:09:53\n",
      "   - -------------------------------------- 3.1/101.7 MB 23.5 kB/s eta 1:09:53\n",
      "   - -------------------------------------- 3.1/101.7 MB 23.5 kB/s eta 1:09:53\n",
      "   - -------------------------------------- 3.4/101.7 MB 26.1 kB/s eta 1:02:42\n",
      "   - -------------------------------------- 3.4/101.7 MB 26.1 kB/s eta 1:02:42\n",
      "   - -------------------------------------- 3.4/101.7 MB 26.1 kB/s eta 1:02:42\n",
      "   - -------------------------------------- 3.4/101.7 MB 26.1 kB/s eta 1:02:42\n",
      "   - -------------------------------------- 3.4/101.7 MB 26.1 kB/s eta 1:02:42\n",
      "   - -------------------------------------- 3.4/101.7 MB 26.1 kB/s eta 1:02:42\n",
      "   - -------------------------------------- 3.4/101.7 MB 26.1 kB/s eta 1:02:42\n",
      "   - -------------------------------------- 3.4/101.7 MB 26.1 kB/s eta 1:02:42\n",
      "   - -------------------------------------- 3.4/101.7 MB 26.1 kB/s eta 1:02:42\n",
      "   - -------------------------------------- 3.4/101.7 MB 26.1 kB/s eta 1:02:42\n",
      "   - -------------------------------------- 3.4/101.7 MB 26.1 kB/s eta 1:02:42\n",
      "   - -------------------------------------- 3.4/101.7 MB 26.1 kB/s eta 1:02:42\n",
      "   - -------------------------------------- 3.4/101.7 MB 26.1 kB/s eta 1:02:42\n",
      "   - -------------------------------------- 3.4/101.7 MB 26.1 kB/s eta 1:02:42\n",
      "   - -------------------------------------- 3.4/101.7 MB 26.1 kB/s eta 1:02:42\n",
      "   - -------------------------------------- 3.4/101.7 MB 26.1 kB/s eta 1:02:42\n",
      "   - -------------------------------------- 3.4/101.7 MB 26.1 kB/s eta 1:02:42\n",
      "   - -------------------------------------- 3.4/101.7 MB 26.1 kB/s eta 1:02:42\n",
      "   - -------------------------------------- 3.4/101.7 MB 26.1 kB/s eta 1:02:42\n",
      "   - -------------------------------------- 3.4/101.7 MB 26.1 kB/s eta 1:02:42\n",
      "   - -------------------------------------- 3.4/101.7 MB 26.1 kB/s eta 1:02:42\n",
      "   - -------------------------------------- 3.4/101.7 MB 26.1 kB/s eta 1:02:42\n",
      "   - -------------------------------------- 3.4/101.7 MB 26.1 kB/s eta 1:02:42\n",
      "   - -------------------------------------- 3.4/101.7 MB 26.1 kB/s eta 1:02:42\n",
      "   - -------------------------------------- 3.4/101.7 MB 26.1 kB/s eta 1:02:42\n",
      "   - -------------------------------------- 3.4/101.7 MB 26.1 kB/s eta 1:02:42\n",
      "   - -------------------------------------- 3.4/101.7 MB 26.1 kB/s eta 1:02:42\n",
      "   - -------------------------------------- 3.4/101.7 MB 26.1 kB/s eta 1:02:42\n",
      "   - -------------------------------------- 3.4/101.7 MB 26.1 kB/s eta 1:02:42\n",
      "   - -------------------------------------- 3.4/101.7 MB 26.1 kB/s eta 1:02:42\n",
      "   - -------------------------------------- 3.4/101.7 MB 26.1 kB/s eta 1:02:42\n",
      "   - -------------------------------------- 3.4/101.7 MB 26.1 kB/s eta 1:02:42\n",
      "   - -------------------------------------- 3.4/101.7 MB 26.1 kB/s eta 1:02:42\n",
      "   - -------------------------------------- 3.4/101.7 MB 26.1 kB/s eta 1:02:42\n",
      "   - -------------------------------------- 3.4/101.7 MB 26.1 kB/s eta 1:02:42\n",
      "   - -------------------------------------- 3.4/101.7 MB 26.1 kB/s eta 1:02:42\n",
      "   - -------------------------------------- 3.4/101.7 MB 26.1 kB/s eta 1:02:42\n",
      "   - -------------------------------------- 3.4/101.7 MB 26.1 kB/s eta 1:02:42\n",
      "   - -------------------------------------- 3.4/101.7 MB 26.1 kB/s eta 1:02:42\n",
      "   - -------------------------------------- 3.4/101.7 MB 26.1 kB/s eta 1:02:42\n",
      "   - -------------------------------------- 3.4/101.7 MB 26.1 kB/s eta 1:02:42\n",
      "   - -------------------------------------- 3.4/101.7 MB 26.1 kB/s eta 1:02:42\n",
      "   - -------------------------------------- 3.4/101.7 MB 26.1 kB/s eta 1:02:42\n",
      "   - -------------------------------------- 3.4/101.7 MB 26.1 kB/s eta 1:02:42\n",
      "   - -------------------------------------- 3.4/101.7 MB 26.1 kB/s eta 1:02:42\n",
      "   - -------------------------------------- 3.4/101.7 MB 26.1 kB/s eta 1:02:42\n",
      "   - -------------------------------------- 3.4/101.7 MB 26.1 kB/s eta 1:02:42\n",
      "   - -------------------------------------- 3.4/101.7 MB 26.1 kB/s eta 1:02:42\n",
      "   - -------------------------------------- 3.7/101.7 MB 23.6 kB/s eta 1:09:10\n",
      "   - -------------------------------------- 3.7/101.7 MB 23.6 kB/s eta 1:09:10\n",
      "   - -------------------------------------- 3.7/101.7 MB 23.6 kB/s eta 1:09:10\n",
      "   - -------------------------------------- 3.7/101.7 MB 23.6 kB/s eta 1:09:10\n",
      "   - -------------------------------------- 3.7/101.7 MB 23.6 kB/s eta 1:09:10\n",
      "   - -------------------------------------- 3.7/101.7 MB 23.6 kB/s eta 1:09:10\n",
      "   - -------------------------------------- 3.7/101.7 MB 23.6 kB/s eta 1:09:10\n",
      "   - -------------------------------------- 3.7/101.7 MB 23.6 kB/s eta 1:09:10\n",
      "   - -------------------------------------- 3.7/101.7 MB 23.6 kB/s eta 1:09:10\n",
      "   - -------------------------------------- 3.7/101.7 MB 23.6 kB/s eta 1:09:10\n",
      "   - -------------------------------------- 3.7/101.7 MB 23.6 kB/s eta 1:09:10\n",
      "   - -------------------------------------- 3.7/101.7 MB 23.6 kB/s eta 1:09:10\n",
      "   - -------------------------------------- 3.7/101.7 MB 23.6 kB/s eta 1:09:10\n",
      "   - -------------------------------------- 3.7/101.7 MB 23.6 kB/s eta 1:09:10\n",
      "   - -------------------------------------- 3.7/101.7 MB 23.6 kB/s eta 1:09:10\n",
      "   - -------------------------------------- 3.7/101.7 MB 23.6 kB/s eta 1:09:10\n",
      "   - -------------------------------------- 3.7/101.7 MB 23.6 kB/s eta 1:09:10\n",
      "   - -------------------------------------- 3.7/101.7 MB 23.6 kB/s eta 1:09:10\n",
      "   - -------------------------------------- 3.7/101.7 MB 23.6 kB/s eta 1:09:10\n",
      "   - -------------------------------------- 3.7/101.7 MB 23.6 kB/s eta 1:09:10\n",
      "   - -------------------------------------- 3.7/101.7 MB 23.6 kB/s eta 1:09:10\n",
      "   - -------------------------------------- 3.7/101.7 MB 23.6 kB/s eta 1:09:10\n",
      "   - -------------------------------------- 3.7/101.7 MB 23.6 kB/s eta 1:09:10\n",
      "   - -------------------------------------- 3.7/101.7 MB 23.6 kB/s eta 1:09:10\n",
      "   - -------------------------------------- 3.7/101.7 MB 23.6 kB/s eta 1:09:10\n",
      "   - -------------------------------------- 3.7/101.7 MB 23.6 kB/s eta 1:09:10\n",
      "   - -------------------------------------- 3.7/101.7 MB 23.6 kB/s eta 1:09:10\n",
      "   - -------------------------------------- 3.7/101.7 MB 23.6 kB/s eta 1:09:10\n",
      "   - -------------------------------------- 3.7/101.7 MB 23.6 kB/s eta 1:09:10\n",
      "   - -------------------------------------- 3.7/101.7 MB 23.6 kB/s eta 1:09:10\n",
      "   - -------------------------------------- 3.7/101.7 MB 23.6 kB/s eta 1:09:10\n",
      "   - -------------------------------------- 3.7/101.7 MB 23.6 kB/s eta 1:09:10\n",
      "   - -------------------------------------- 3.7/101.7 MB 23.6 kB/s eta 1:09:10\n",
      "   - -------------------------------------- 3.7/101.7 MB 23.6 kB/s eta 1:09:10\n",
      "   - -------------------------------------- 3.7/101.7 MB 23.6 kB/s eta 1:09:10\n",
      "   - -------------------------------------- 3.7/101.7 MB 23.6 kB/s eta 1:09:10\n",
      "   - -------------------------------------- 3.7/101.7 MB 23.6 kB/s eta 1:09:10\n",
      "   - -------------------------------------- 3.7/101.7 MB 23.6 kB/s eta 1:09:10\n",
      "   - -------------------------------------- 3.7/101.7 MB 23.6 kB/s eta 1:09:10\n",
      "   - -------------------------------------- 3.7/101.7 MB 23.6 kB/s eta 1:09:10\n",
      "   - -------------------------------------- 3.9/101.7 MB 27.8 kB/s eta 0:58:44\n",
      "   - -------------------------------------- 3.9/101.7 MB 27.8 kB/s eta 0:58:44\n",
      "   - -------------------------------------- 3.9/101.7 MB 27.8 kB/s eta 0:58:44\n",
      "   - -------------------------------------- 3.9/101.7 MB 27.8 kB/s eta 0:58:44\n",
      "   - -------------------------------------- 3.9/101.7 MB 27.8 kB/s eta 0:58:44\n",
      "   - -------------------------------------- 3.9/101.7 MB 27.8 kB/s eta 0:58:44\n",
      "   - -------------------------------------- 3.9/101.7 MB 27.8 kB/s eta 0:58:44\n",
      "   - -------------------------------------- 3.9/101.7 MB 27.8 kB/s eta 0:58:44\n",
      "   - -------------------------------------- 3.9/101.7 MB 27.8 kB/s eta 0:58:44\n",
      "   - -------------------------------------- 3.9/101.7 MB 27.8 kB/s eta 0:58:44\n",
      "   - -------------------------------------- 3.9/101.7 MB 27.8 kB/s eta 0:58:44\n",
      "   - -------------------------------------- 3.9/101.7 MB 27.8 kB/s eta 0:58:44\n",
      "   - -------------------------------------- 3.9/101.7 MB 27.8 kB/s eta 0:58:44\n",
      "   - -------------------------------------- 3.9/101.7 MB 27.8 kB/s eta 0:58:44\n",
      "   - -------------------------------------- 3.9/101.7 MB 27.8 kB/s eta 0:58:44\n",
      "   - -------------------------------------- 3.9/101.7 MB 27.8 kB/s eta 0:58:44\n",
      "   - -------------------------------------- 3.9/101.7 MB 27.8 kB/s eta 0:58:44\n",
      "   - -------------------------------------- 3.9/101.7 MB 27.8 kB/s eta 0:58:44\n",
      "   - -------------------------------------- 3.9/101.7 MB 27.8 kB/s eta 0:58:44\n",
      "   - -------------------------------------- 3.9/101.7 MB 27.8 kB/s eta 0:58:44\n",
      "   - -------------------------------------- 3.9/101.7 MB 27.8 kB/s eta 0:58:44\n",
      "   - -------------------------------------- 3.9/101.7 MB 27.8 kB/s eta 0:58:44\n",
      "   - -------------------------------------- 3.9/101.7 MB 27.8 kB/s eta 0:58:44\n",
      "   - -------------------------------------- 3.9/101.7 MB 27.8 kB/s eta 0:58:44\n",
      "   - -------------------------------------- 3.9/101.7 MB 27.8 kB/s eta 0:58:44\n",
      "   - -------------------------------------- 3.9/101.7 MB 27.8 kB/s eta 0:58:44\n",
      "   - -------------------------------------- 3.9/101.7 MB 27.8 kB/s eta 0:58:44\n",
      "   - -------------------------------------- 3.9/101.7 MB 27.8 kB/s eta 0:58:44\n",
      "   - -------------------------------------- 3.9/101.7 MB 27.8 kB/s eta 0:58:44\n",
      "   - -------------------------------------- 3.9/101.7 MB 27.8 kB/s eta 0:58:44\n",
      "   - -------------------------------------- 3.9/101.7 MB 27.8 kB/s eta 0:58:44\n",
      "   - -------------------------------------- 3.9/101.7 MB 27.8 kB/s eta 0:58:44\n",
      "   - -------------------------------------- 3.9/101.7 MB 27.8 kB/s eta 0:58:44\n",
      "   - -------------------------------------- 3.9/101.7 MB 27.8 kB/s eta 0:58:44\n",
      "   - -------------------------------------- 3.9/101.7 MB 27.8 kB/s eta 0:58:44\n",
      "   - -------------------------------------- 3.9/101.7 MB 27.8 kB/s eta 0:58:44\n",
      "   - -------------------------------------- 3.9/101.7 MB 27.8 kB/s eta 0:58:44\n",
      "   - -------------------------------------- 3.9/101.7 MB 27.8 kB/s eta 0:58:44\n",
      "   - -------------------------------------- 3.9/101.7 MB 27.8 kB/s eta 0:58:44\n",
      "   - -------------------------------------- 3.9/101.7 MB 27.8 kB/s eta 0:58:44\n",
      "   - -------------------------------------- 3.9/101.7 MB 27.8 kB/s eta 0:58:44\n",
      "   - -------------------------------------- 3.9/101.7 MB 27.8 kB/s eta 0:58:44\n",
      "   - -------------------------------------- 3.9/101.7 MB 27.8 kB/s eta 0:58:44\n",
      "   - -------------------------------------- 3.9/101.7 MB 27.8 kB/s eta 0:58:44\n",
      "   - -------------------------------------- 3.9/101.7 MB 27.8 kB/s eta 0:58:44\n",
      "   - -------------------------------------- 3.9/101.7 MB 27.8 kB/s eta 0:58:44\n",
      "   - -------------------------------------- 3.9/101.7 MB 27.8 kB/s eta 0:58:44\n",
      "   - -------------------------------------- 3.9/101.7 MB 27.8 kB/s eta 0:58:44\n",
      "   - -------------------------------------- 3.9/101.7 MB 27.8 kB/s eta 0:58:44\n",
      "   - -------------------------------------- 3.9/101.7 MB 27.8 kB/s eta 0:58:44\n",
      "   - -------------------------------------- 3.9/101.7 MB 27.8 kB/s eta 0:58:44\n",
      "   - -------------------------------------- 3.9/101.7 MB 27.8 kB/s eta 0:58:44\n",
      "   - -------------------------------------- 3.9/101.7 MB 27.8 kB/s eta 0:58:44\n",
      "   - -------------------------------------- 3.9/101.7 MB 27.8 kB/s eta 0:58:44\n",
      "   - -------------------------------------- 3.9/101.7 MB 27.8 kB/s eta 0:58:44\n",
      "   - -------------------------------------- 3.9/101.7 MB 27.8 kB/s eta 0:58:44\n",
      "   - -------------------------------------- 3.9/101.7 MB 27.8 kB/s eta 0:58:44\n",
      "   - -------------------------------------- 3.9/101.7 MB 27.8 kB/s eta 0:58:44\n",
      "   - -------------------------------------- 3.9/101.7 MB 27.8 kB/s eta 0:58:44\n",
      "   - -------------------------------------- 3.9/101.7 MB 27.8 kB/s eta 0:58:44\n",
      "   - -------------------------------------- 3.9/101.7 MB 27.8 kB/s eta 0:58:44\n",
      "   - -------------------------------------- 3.9/101.7 MB 27.8 kB/s eta 0:58:44\n",
      "   - -------------------------------------- 3.9/101.7 MB 27.8 kB/s eta 0:58:44\n",
      "   - -------------------------------------- 3.9/101.7 MB 27.8 kB/s eta 0:58:44\n",
      "   - -------------------------------------- 3.9/101.7 MB 27.8 kB/s eta 0:58:44\n",
      "   - -------------------------------------- 3.9/101.7 MB 27.8 kB/s eta 0:58:44\n",
      "   - -------------------------------------- 3.9/101.7 MB 27.8 kB/s eta 0:58:44\n",
      "   - -------------------------------------- 3.9/101.7 MB 27.8 kB/s eta 0:58:44\n",
      "   - -------------------------------------- 3.9/101.7 MB 27.8 kB/s eta 0:58:44\n",
      "   - -------------------------------------- 3.9/101.7 MB 27.8 kB/s eta 0:58:44\n",
      "   - -------------------------------------- 3.9/101.7 MB 27.8 kB/s eta 0:58:44\n",
      "   - -------------------------------------- 3.9/101.7 MB 27.8 kB/s eta 0:58:44\n",
      "   - -------------------------------------- 3.9/101.7 MB 27.8 kB/s eta 0:58:44\n",
      "   - -------------------------------------- 3.9/101.7 MB 27.8 kB/s eta 0:58:44\n",
      "   - -------------------------------------- 3.9/101.7 MB 27.8 kB/s eta 0:58:44\n",
      "   - -------------------------------------- 3.9/101.7 MB 27.8 kB/s eta 0:58:44\n",
      "   - -------------------------------------- 3.9/101.7 MB 27.8 kB/s eta 0:58:44\n",
      "   - -------------------------------------- 3.9/101.7 MB 27.8 kB/s eta 0:58:44\n",
      "   - -------------------------------------- 3.9/101.7 MB 27.8 kB/s eta 0:58:44\n",
      "   - -------------------------------------- 4.2/101.7 MB 20.8 kB/s eta 1:18:17\n",
      "   - -------------------------------------- 4.2/101.7 MB 20.8 kB/s eta 1:18:17\n",
      "   - -------------------------------------- 4.2/101.7 MB 20.8 kB/s eta 1:18:17\n",
      "   - -------------------------------------- 4.2/101.7 MB 20.8 kB/s eta 1:18:17\n",
      "   - -------------------------------------- 4.2/101.7 MB 20.8 kB/s eta 1:18:17\n",
      "   - -------------------------------------- 4.2/101.7 MB 20.8 kB/s eta 1:18:17\n",
      "   - -------------------------------------- 4.2/101.7 MB 20.8 kB/s eta 1:18:17\n",
      "   - -------------------------------------- 4.2/101.7 MB 20.8 kB/s eta 1:18:17\n",
      "   - -------------------------------------- 4.2/101.7 MB 20.8 kB/s eta 1:18:17\n",
      "   - -------------------------------------- 4.2/101.7 MB 20.8 kB/s eta 1:18:17\n",
      "   - -------------------------------------- 4.2/101.7 MB 20.8 kB/s eta 1:18:17\n",
      "   - -------------------------------------- 4.2/101.7 MB 20.8 kB/s eta 1:18:17\n",
      "   - -------------------------------------- 4.2/101.7 MB 20.8 kB/s eta 1:18:17\n",
      "   - -------------------------------------- 4.2/101.7 MB 20.8 kB/s eta 1:18:17\n",
      "   - -------------------------------------- 4.2/101.7 MB 20.8 kB/s eta 1:18:17\n",
      "   - -------------------------------------- 4.2/101.7 MB 20.8 kB/s eta 1:18:17\n",
      "   - -------------------------------------- 4.2/101.7 MB 20.8 kB/s eta 1:18:17\n",
      "   - -------------------------------------- 4.2/101.7 MB 20.8 kB/s eta 1:18:17\n",
      "   - -------------------------------------- 4.2/101.7 MB 20.8 kB/s eta 1:18:17\n",
      "   - -------------------------------------- 4.2/101.7 MB 20.8 kB/s eta 1:18:17\n",
      "   - -------------------------------------- 4.2/101.7 MB 20.8 kB/s eta 1:18:17\n",
      "   - -------------------------------------- 4.2/101.7 MB 20.8 kB/s eta 1:18:17\n",
      "   - -------------------------------------- 4.2/101.7 MB 20.8 kB/s eta 1:18:17\n",
      "   - -------------------------------------- 4.2/101.7 MB 20.8 kB/s eta 1:18:17\n",
      "   - -------------------------------------- 4.2/101.7 MB 20.8 kB/s eta 1:18:17\n",
      "   - -------------------------------------- 4.2/101.7 MB 20.8 kB/s eta 1:18:17\n",
      "   - -------------------------------------- 4.2/101.7 MB 20.8 kB/s eta 1:18:17\n",
      "   - -------------------------------------- 4.2/101.7 MB 20.8 kB/s eta 1:18:17\n",
      "   - -------------------------------------- 4.2/101.7 MB 20.8 kB/s eta 1:18:17\n",
      "   - -------------------------------------- 4.2/101.7 MB 20.8 kB/s eta 1:18:17\n",
      "   - -------------------------------------- 4.2/101.7 MB 20.8 kB/s eta 1:18:17\n",
      "   - -------------------------------------- 4.2/101.7 MB 20.8 kB/s eta 1:18:17\n",
      "   - -------------------------------------- 4.2/101.7 MB 20.8 kB/s eta 1:18:17\n",
      "   - -------------------------------------- 4.2/101.7 MB 20.8 kB/s eta 1:18:17\n",
      "   - -------------------------------------- 4.2/101.7 MB 20.8 kB/s eta 1:18:17\n",
      "   - -------------------------------------- 4.2/101.7 MB 20.8 kB/s eta 1:18:17\n",
      "   - -------------------------------------- 4.2/101.7 MB 20.8 kB/s eta 1:18:17\n",
      "   - -------------------------------------- 4.2/101.7 MB 20.8 kB/s eta 1:18:17\n",
      "   - -------------------------------------- 4.2/101.7 MB 20.8 kB/s eta 1:18:17\n",
      "   - -------------------------------------- 4.5/101.7 MB 21.0 kB/s eta 1:17:21\n",
      "   - -------------------------------------- 4.5/101.7 MB 21.0 kB/s eta 1:17:21\n",
      "   - -------------------------------------- 4.5/101.7 MB 21.0 kB/s eta 1:17:21\n",
      "   - -------------------------------------- 4.5/101.7 MB 21.0 kB/s eta 1:17:21\n",
      "   - -------------------------------------- 4.5/101.7 MB 21.0 kB/s eta 1:17:21\n",
      "   - -------------------------------------- 4.5/101.7 MB 21.0 kB/s eta 1:17:21\n",
      "   - -------------------------------------- 4.5/101.7 MB 21.0 kB/s eta 1:17:21\n",
      "   - -------------------------------------- 4.5/101.7 MB 21.0 kB/s eta 1:17:21\n",
      "   - -------------------------------------- 4.5/101.7 MB 21.0 kB/s eta 1:17:21\n",
      "   - -------------------------------------- 4.5/101.7 MB 21.0 kB/s eta 1:17:21\n",
      "   - -------------------------------------- 4.5/101.7 MB 21.0 kB/s eta 1:17:21\n",
      "   - -------------------------------------- 4.5/101.7 MB 21.0 kB/s eta 1:17:21\n",
      "   - -------------------------------------- 4.5/101.7 MB 21.0 kB/s eta 1:17:21\n",
      "   - -------------------------------------- 4.5/101.7 MB 21.0 kB/s eta 1:17:21\n",
      "   - -------------------------------------- 4.5/101.7 MB 21.0 kB/s eta 1:17:21\n",
      "   - -------------------------------------- 4.5/101.7 MB 21.0 kB/s eta 1:17:21\n",
      "   - -------------------------------------- 4.5/101.7 MB 21.0 kB/s eta 1:17:21\n",
      "   - -------------------------------------- 4.5/101.7 MB 21.0 kB/s eta 1:17:21\n",
      "   - -------------------------------------- 4.5/101.7 MB 21.0 kB/s eta 1:17:21\n",
      "   - -------------------------------------- 4.5/101.7 MB 21.0 kB/s eta 1:17:21\n",
      "   - -------------------------------------- 4.5/101.7 MB 21.0 kB/s eta 1:17:21\n",
      "   - -------------------------------------- 4.5/101.7 MB 21.0 kB/s eta 1:17:21\n",
      "   - -------------------------------------- 4.5/101.7 MB 21.0 kB/s eta 1:17:21\n",
      "   - -------------------------------------- 4.5/101.7 MB 21.0 kB/s eta 1:17:21\n",
      "   - -------------------------------------- 4.5/101.7 MB 21.0 kB/s eta 1:17:21\n",
      "   - -------------------------------------- 4.5/101.7 MB 21.0 kB/s eta 1:17:21\n",
      "   - -------------------------------------- 4.5/101.7 MB 21.0 kB/s eta 1:17:21\n",
      "   - -------------------------------------- 4.5/101.7 MB 21.0 kB/s eta 1:17:21\n",
      "   - -------------------------------------- 4.5/101.7 MB 21.0 kB/s eta 1:17:21\n",
      "   - -------------------------------------- 4.5/101.7 MB 21.0 kB/s eta 1:17:21\n",
      "   - -------------------------------------- 4.5/101.7 MB 21.0 kB/s eta 1:17:21\n",
      "   - -------------------------------------- 4.5/101.7 MB 21.0 kB/s eta 1:17:21\n",
      "   - -------------------------------------- 4.5/101.7 MB 21.0 kB/s eta 1:17:21\n",
      "   - -------------------------------------- 4.5/101.7 MB 21.0 kB/s eta 1:17:21\n",
      "   - -------------------------------------- 4.5/101.7 MB 21.0 kB/s eta 1:17:21\n",
      "   - -------------------------------------- 4.5/101.7 MB 21.0 kB/s eta 1:17:21\n",
      "   - -------------------------------------- 4.5/101.7 MB 21.0 kB/s eta 1:17:21\n",
      "   - -------------------------------------- 4.5/101.7 MB 21.0 kB/s eta 1:17:21\n",
      "   - -------------------------------------- 4.5/101.7 MB 21.0 kB/s eta 1:17:21\n",
      "   - -------------------------------------- 4.5/101.7 MB 21.0 kB/s eta 1:17:21\n",
      "   - -------------------------------------- 4.5/101.7 MB 21.0 kB/s eta 1:17:21\n",
      "   - -------------------------------------- 4.5/101.7 MB 21.0 kB/s eta 1:17:21\n",
      "   - -------------------------------------- 4.5/101.7 MB 21.0 kB/s eta 1:17:21\n",
      "   - -------------------------------------- 4.5/101.7 MB 21.0 kB/s eta 1:17:21\n",
      "   - -------------------------------------- 4.5/101.7 MB 21.0 kB/s eta 1:17:21\n",
      "   - -------------------------------------- 4.5/101.7 MB 21.0 kB/s eta 1:17:21\n",
      "   - -------------------------------------- 4.5/101.7 MB 21.0 kB/s eta 1:17:21\n",
      "   - -------------------------------------- 4.5/101.7 MB 21.0 kB/s eta 1:17:21\n",
      "   - -------------------------------------- 4.5/101.7 MB 21.0 kB/s eta 1:17:21\n",
      "   - -------------------------------------- 4.5/101.7 MB 21.0 kB/s eta 1:17:21\n",
      "   - -------------------------------------- 4.7/101.7 MB 27.7 kB/s eta 0:58:21\n",
      "   - -------------------------------------- 4.7/101.7 MB 27.7 kB/s eta 0:58:21\n",
      "   - -------------------------------------- 4.7/101.7 MB 27.7 kB/s eta 0:58:21\n",
      "   - -------------------------------------- 4.7/101.7 MB 27.7 kB/s eta 0:58:21\n",
      "   - -------------------------------------- 4.7/101.7 MB 27.7 kB/s eta 0:58:21\n",
      "   - -------------------------------------- 4.7/101.7 MB 27.7 kB/s eta 0:58:21\n",
      "   - -------------------------------------- 4.7/101.7 MB 27.7 kB/s eta 0:58:21\n",
      "   - -------------------------------------- 4.7/101.7 MB 27.7 kB/s eta 0:58:21\n",
      "   - -------------------------------------- 4.7/101.7 MB 27.7 kB/s eta 0:58:21\n",
      "   - -------------------------------------- 4.7/101.7 MB 27.7 kB/s eta 0:58:21\n",
      "   - -------------------------------------- 4.7/101.7 MB 27.7 kB/s eta 0:58:21\n",
      "   - -------------------------------------- 4.7/101.7 MB 27.7 kB/s eta 0:58:21\n",
      "   - -------------------------------------- 4.7/101.7 MB 27.7 kB/s eta 0:58:21\n",
      "   - -------------------------------------- 4.7/101.7 MB 27.7 kB/s eta 0:58:21\n",
      "   - -------------------------------------- 4.7/101.7 MB 27.7 kB/s eta 0:58:21\n",
      "   - -------------------------------------- 4.7/101.7 MB 27.7 kB/s eta 0:58:21\n",
      "   - -------------------------------------- 4.7/101.7 MB 27.7 kB/s eta 0:58:21\n",
      "   - -------------------------------------- 4.7/101.7 MB 27.7 kB/s eta 0:58:21\n",
      "   - -------------------------------------- 4.7/101.7 MB 27.7 kB/s eta 0:58:21\n",
      "   - -------------------------------------- 4.7/101.7 MB 27.7 kB/s eta 0:58:21\n",
      "   - -------------------------------------- 4.7/101.7 MB 27.7 kB/s eta 0:58:21\n",
      "   - -------------------------------------- 4.7/101.7 MB 27.7 kB/s eta 0:58:21\n",
      "   - -------------------------------------- 4.7/101.7 MB 27.7 kB/s eta 0:58:21\n",
      "   - -------------------------------------- 4.7/101.7 MB 27.7 kB/s eta 0:58:21\n",
      "   - -------------------------------------- 4.7/101.7 MB 27.7 kB/s eta 0:58:21\n",
      "   - -------------------------------------- 4.7/101.7 MB 27.7 kB/s eta 0:58:21\n",
      "   - -------------------------------------- 4.7/101.7 MB 27.7 kB/s eta 0:58:21\n",
      "   - -------------------------------------- 4.7/101.7 MB 27.7 kB/s eta 0:58:21\n",
      "   - -------------------------------------- 4.7/101.7 MB 27.7 kB/s eta 0:58:21\n",
      "   - -------------------------------------- 4.7/101.7 MB 27.7 kB/s eta 0:58:21\n",
      "   - -------------------------------------- 4.7/101.7 MB 27.7 kB/s eta 0:58:21\n",
      "   - -------------------------------------- 4.7/101.7 MB 27.7 kB/s eta 0:58:21\n",
      "   - -------------------------------------- 4.7/101.7 MB 27.7 kB/s eta 0:58:21\n",
      "   - -------------------------------------- 4.7/101.7 MB 27.7 kB/s eta 0:58:21\n",
      "   - -------------------------------------- 4.7/101.7 MB 27.7 kB/s eta 0:58:21\n",
      "   - -------------------------------------- 4.7/101.7 MB 27.7 kB/s eta 0:58:21\n",
      "   - -------------------------------------- 4.7/101.7 MB 27.7 kB/s eta 0:58:21\n",
      "   - -------------------------------------- 4.7/101.7 MB 27.7 kB/s eta 0:58:21\n",
      "   - -------------------------------------- 4.7/101.7 MB 27.7 kB/s eta 0:58:21\n",
      "   - -------------------------------------- 4.7/101.7 MB 27.7 kB/s eta 0:58:21\n",
      "   - -------------------------------------- 4.7/101.7 MB 27.7 kB/s eta 0:58:21\n",
      "   - -------------------------------------- 4.7/101.7 MB 27.7 kB/s eta 0:58:21\n",
      "   - -------------------------------------- 4.7/101.7 MB 27.7 kB/s eta 0:58:21\n",
      "   - -------------------------------------- 4.7/101.7 MB 27.7 kB/s eta 0:58:21\n",
      "   - -------------------------------------- 4.7/101.7 MB 27.7 kB/s eta 0:58:21\n",
      "   - -------------------------------------- 4.7/101.7 MB 27.7 kB/s eta 0:58:21\n",
      "   - -------------------------------------- 4.7/101.7 MB 27.7 kB/s eta 0:58:21\n",
      "   - -------------------------------------- 4.7/101.7 MB 27.7 kB/s eta 0:58:21\n",
      "   - -------------------------------------- 4.7/101.7 MB 27.7 kB/s eta 0:58:21\n",
      "   - -------------------------------------- 4.7/101.7 MB 27.7 kB/s eta 0:58:21\n",
      "   - -------------------------------------- 4.7/101.7 MB 27.7 kB/s eta 0:58:21\n",
      "   - -------------------------------------- 4.7/101.7 MB 27.7 kB/s eta 0:58:21\n",
      "   - -------------------------------------- 4.7/101.7 MB 27.7 kB/s eta 0:58:21\n",
      "   - -------------------------------------- 4.7/101.7 MB 27.7 kB/s eta 0:58:21\n",
      "   - -------------------------------------- 4.7/101.7 MB 27.7 kB/s eta 0:58:21\n",
      "   - -------------------------------------- 4.7/101.7 MB 27.7 kB/s eta 0:58:21\n",
      "   - -------------------------------------- 4.7/101.7 MB 27.7 kB/s eta 0:58:21\n",
      "   - -------------------------------------- 4.7/101.7 MB 27.7 kB/s eta 0:58:21\n",
      "   - -------------------------------------- 4.7/101.7 MB 27.7 kB/s eta 0:58:21\n",
      "   - -------------------------------------- 4.7/101.7 MB 27.7 kB/s eta 0:58:21\n",
      "   - -------------------------------------- 4.7/101.7 MB 27.7 kB/s eta 0:58:21\n",
      "   - -------------------------------------- 4.7/101.7 MB 27.7 kB/s eta 0:58:21\n",
      "   - -------------------------------------- 4.7/101.7 MB 27.7 kB/s eta 0:58:21\n",
      "   - -------------------------------------- 4.7/101.7 MB 27.7 kB/s eta 0:58:21\n",
      "   - -------------------------------------- 4.7/101.7 MB 27.7 kB/s eta 0:58:21\n",
      "   - -------------------------------------- 4.7/101.7 MB 27.7 kB/s eta 0:58:21\n",
      "   - -------------------------------------- 4.7/101.7 MB 27.7 kB/s eta 0:58:21\n",
      "   - -------------------------------------- 4.7/101.7 MB 27.7 kB/s eta 0:58:21\n",
      "   - -------------------------------------- 4.7/101.7 MB 27.7 kB/s eta 0:58:21\n",
      "   - -------------------------------------- 4.7/101.7 MB 27.7 kB/s eta 0:58:21\n",
      "   - -------------------------------------- 4.7/101.7 MB 27.7 kB/s eta 0:58:21\n",
      "   - -------------------------------------- 4.7/101.7 MB 27.7 kB/s eta 0:58:21\n",
      "   - -------------------------------------- 4.7/101.7 MB 27.7 kB/s eta 0:58:21\n",
      "   - -------------------------------------- 4.7/101.7 MB 27.7 kB/s eta 0:58:21\n",
      "   - -------------------------------------- 4.7/101.7 MB 27.7 kB/s eta 0:58:21\n",
      "   - -------------------------------------- 4.7/101.7 MB 27.7 kB/s eta 0:58:21\n",
      "   - -------------------------------------- 4.7/101.7 MB 27.7 kB/s eta 0:58:21\n",
      "   - -------------------------------------- 4.7/101.7 MB 27.7 kB/s eta 0:58:21\n",
      "   - -------------------------------------- 4.7/101.7 MB 27.7 kB/s eta 0:58:21\n",
      "   - -------------------------------------- 4.7/101.7 MB 27.7 kB/s eta 0:58:21\n",
      "   - -------------------------------------- 4.7/101.7 MB 27.7 kB/s eta 0:58:21\n",
      "   - -------------------------------------- 4.7/101.7 MB 27.7 kB/s eta 0:58:21\n",
      "   - -------------------------------------- 4.7/101.7 MB 27.7 kB/s eta 0:58:21\n",
      "   - -------------------------------------- 4.7/101.7 MB 27.7 kB/s eta 0:58:21\n",
      "   - -------------------------------------- 4.7/101.7 MB 27.7 kB/s eta 0:58:21\n",
      "   - -------------------------------------- 4.7/101.7 MB 27.7 kB/s eta 0:58:21\n",
      "   - -------------------------------------- 4.7/101.7 MB 27.7 kB/s eta 0:58:21\n",
      "   - -------------------------------------- 4.7/101.7 MB 27.7 kB/s eta 0:58:21\n",
      "   - -------------------------------------- 4.7/101.7 MB 27.7 kB/s eta 0:58:21\n",
      "   - -------------------------------------- 4.7/101.7 MB 27.7 kB/s eta 0:58:21\n",
      "   - -------------------------------------- 4.7/101.7 MB 27.7 kB/s eta 0:58:21\n",
      "   - -------------------------------------- 4.7/101.7 MB 27.7 kB/s eta 0:58:21\n",
      "   - -------------------------------------- 4.7/101.7 MB 27.7 kB/s eta 0:58:21\n",
      "   - -------------------------------------- 4.7/101.7 MB 27.7 kB/s eta 0:58:21\n",
      "   - -------------------------------------- 4.7/101.7 MB 27.7 kB/s eta 0:58:21\n",
      "   - -------------------------------------- 4.7/101.7 MB 27.7 kB/s eta 0:58:21\n",
      "   - -------------------------------------- 4.7/101.7 MB 27.7 kB/s eta 0:58:21\n",
      "   - -------------------------------------- 4.7/101.7 MB 27.7 kB/s eta 0:58:21\n",
      "   - -------------------------------------- 4.7/101.7 MB 27.7 kB/s eta 0:58:21\n",
      "   - -------------------------------------- 4.7/101.7 MB 27.7 kB/s eta 0:58:21\n",
      "   - -------------------------------------- 5.0/101.7 MB 12.4 kB/s eta 2:10:02\n",
      "   - -------------------------------------- 5.0/101.7 MB 12.4 kB/s eta 2:10:02\n",
      "   - -------------------------------------- 5.0/101.7 MB 12.4 kB/s eta 2:10:02\n",
      "   - -------------------------------------- 5.0/101.7 MB 12.4 kB/s eta 2:10:02\n",
      "   - -------------------------------------- 5.0/101.7 MB 12.4 kB/s eta 2:10:02\n",
      "   - -------------------------------------- 5.0/101.7 MB 12.4 kB/s eta 2:10:02\n",
      "   - -------------------------------------- 5.0/101.7 MB 12.4 kB/s eta 2:10:02\n",
      "   - -------------------------------------- 5.0/101.7 MB 12.4 kB/s eta 2:10:02\n",
      "   - -------------------------------------- 5.0/101.7 MB 12.4 kB/s eta 2:10:02\n",
      "   - -------------------------------------- 5.0/101.7 MB 12.4 kB/s eta 2:10:02\n",
      "   - -------------------------------------- 5.0/101.7 MB 12.4 kB/s eta 2:10:02\n",
      "   - -------------------------------------- 5.0/101.7 MB 12.4 kB/s eta 2:10:02\n",
      "   - -------------------------------------- 5.0/101.7 MB 12.4 kB/s eta 2:10:02\n",
      "   - -------------------------------------- 5.0/101.7 MB 12.4 kB/s eta 2:10:02\n",
      "   - -------------------------------------- 5.0/101.7 MB 12.4 kB/s eta 2:10:02\n",
      "   - -------------------------------------- 5.0/101.7 MB 12.4 kB/s eta 2:10:02\n",
      "   - -------------------------------------- 5.0/101.7 MB 12.4 kB/s eta 2:10:02\n",
      "   - -------------------------------------- 5.0/101.7 MB 12.4 kB/s eta 2:10:02\n",
      "   - -------------------------------------- 5.0/101.7 MB 12.4 kB/s eta 2:10:02\n",
      "   - -------------------------------------- 5.0/101.7 MB 12.4 kB/s eta 2:10:02\n",
      "   - -------------------------------------- 5.0/101.7 MB 12.4 kB/s eta 2:10:02\n",
      "   - -------------------------------------- 5.0/101.7 MB 12.4 kB/s eta 2:10:02\n",
      "   - -------------------------------------- 5.0/101.7 MB 12.4 kB/s eta 2:10:02\n",
      "   - -------------------------------------- 5.0/101.7 MB 12.4 kB/s eta 2:10:02\n",
      "   - -------------------------------------- 5.0/101.7 MB 12.4 kB/s eta 2:10:02\n",
      "   - -------------------------------------- 5.0/101.7 MB 12.4 kB/s eta 2:10:02\n",
      "   - -------------------------------------- 5.0/101.7 MB 12.4 kB/s eta 2:10:02\n",
      "   - -------------------------------------- 5.0/101.7 MB 12.4 kB/s eta 2:10:02\n",
      "   - -------------------------------------- 5.0/101.7 MB 12.4 kB/s eta 2:10:02\n",
      "   - -------------------------------------- 5.0/101.7 MB 12.4 kB/s eta 2:10:02\n",
      "   - -------------------------------------- 5.0/101.7 MB 12.4 kB/s eta 2:10:02\n",
      "   - -------------------------------------- 5.0/101.7 MB 12.4 kB/s eta 2:10:02\n",
      "   - -------------------------------------- 5.0/101.7 MB 12.4 kB/s eta 2:10:02\n",
      "   - -------------------------------------- 5.0/101.7 MB 12.4 kB/s eta 2:10:02\n",
      "   - -------------------------------------- 5.0/101.7 MB 12.4 kB/s eta 2:10:02\n",
      "   - -------------------------------------- 5.0/101.7 MB 12.4 kB/s eta 2:10:02\n",
      "   - -------------------------------------- 5.0/101.7 MB 12.4 kB/s eta 2:10:02\n",
      "   - -------------------------------------- 5.0/101.7 MB 12.4 kB/s eta 2:10:02\n",
      "   - -------------------------------------- 5.0/101.7 MB 12.4 kB/s eta 2:10:02\n",
      "   - -------------------------------------- 5.0/101.7 MB 12.4 kB/s eta 2:10:02\n",
      "   - -------------------------------------- 5.0/101.7 MB 12.4 kB/s eta 2:10:02\n",
      "   - -------------------------------------- 5.0/101.7 MB 12.4 kB/s eta 2:10:02\n",
      "   - -------------------------------------- 5.0/101.7 MB 12.4 kB/s eta 2:10:02\n",
      "   - -------------------------------------- 5.0/101.7 MB 12.4 kB/s eta 2:10:02\n",
      "   - -------------------------------------- 5.0/101.7 MB 12.4 kB/s eta 2:10:02\n",
      "   - -------------------------------------- 5.0/101.7 MB 12.4 kB/s eta 2:10:02\n",
      "   - -------------------------------------- 5.0/101.7 MB 12.4 kB/s eta 2:10:02\n",
      "   - -------------------------------------- 5.0/101.7 MB 12.4 kB/s eta 2:10:02\n",
      "   - -------------------------------------- 5.0/101.7 MB 12.4 kB/s eta 2:10:02\n",
      "   - -------------------------------------- 5.0/101.7 MB 12.4 kB/s eta 2:10:02\n",
      "   - -------------------------------------- 5.0/101.7 MB 12.4 kB/s eta 2:10:02\n",
      "   - -------------------------------------- 5.0/101.7 MB 12.4 kB/s eta 2:10:02\n",
      "   - -------------------------------------- 5.0/101.7 MB 12.4 kB/s eta 2:10:02\n",
      "   - -------------------------------------- 5.0/101.7 MB 12.4 kB/s eta 2:10:02\n",
      "   - -------------------------------------- 5.0/101.7 MB 12.4 kB/s eta 2:10:02\n",
      "   - -------------------------------------- 5.0/101.7 MB 12.4 kB/s eta 2:10:02\n",
      "   - -------------------------------------- 5.0/101.7 MB 12.4 kB/s eta 2:10:02\n",
      "   - -------------------------------------- 5.0/101.7 MB 12.4 kB/s eta 2:10:02\n",
      "   - -------------------------------------- 5.0/101.7 MB 12.4 kB/s eta 2:10:02\n",
      "   - -------------------------------------- 5.0/101.7 MB 12.4 kB/s eta 2:10:02\n",
      "   - -------------------------------------- 5.0/101.7 MB 12.4 kB/s eta 2:10:02\n",
      "   - -------------------------------------- 5.0/101.7 MB 12.4 kB/s eta 2:10:02\n",
      "   - -------------------------------------- 5.0/101.7 MB 12.4 kB/s eta 2:10:02\n",
      "   - -------------------------------------- 5.0/101.7 MB 12.4 kB/s eta 2:10:02\n",
      "   - -------------------------------------- 5.0/101.7 MB 12.4 kB/s eta 2:10:02\n",
      "   - -------------------------------------- 5.0/101.7 MB 12.4 kB/s eta 2:10:02\n",
      "   - -------------------------------------- 5.0/101.7 MB 12.4 kB/s eta 2:10:02\n",
      "   - -------------------------------------- 5.0/101.7 MB 12.4 kB/s eta 2:10:02\n",
      "   - -------------------------------------- 5.0/101.7 MB 12.4 kB/s eta 2:10:02\n",
      "   - -------------------------------------- 5.0/101.7 MB 12.4 kB/s eta 2:10:02\n",
      "   - -------------------------------------- 5.0/101.7 MB 12.4 kB/s eta 2:10:02\n",
      "   - -------------------------------------- 5.0/101.7 MB 12.4 kB/s eta 2:10:02\n",
      "   - -------------------------------------- 5.0/101.7 MB 12.4 kB/s eta 2:10:02\n",
      "   - -------------------------------------- 5.0/101.7 MB 12.4 kB/s eta 2:10:02\n",
      "   - -------------------------------------- 5.0/101.7 MB 12.4 kB/s eta 2:10:02\n",
      "   - -------------------------------------- 5.0/101.7 MB 12.4 kB/s eta 2:10:02\n",
      "   - -------------------------------------- 5.0/101.7 MB 12.4 kB/s eta 2:10:02\n",
      "   - -------------------------------------- 5.0/101.7 MB 12.4 kB/s eta 2:10:02\n",
      "   - -------------------------------------- 5.0/101.7 MB 12.4 kB/s eta 2:10:02\n",
      "   - -------------------------------------- 5.0/101.7 MB 12.4 kB/s eta 2:10:02\n",
      "   - -------------------------------------- 5.0/101.7 MB 12.4 kB/s eta 2:10:02\n",
      "   - -------------------------------------- 5.0/101.7 MB 12.4 kB/s eta 2:10:02\n",
      "   - -------------------------------------- 5.0/101.7 MB 12.4 kB/s eta 2:10:02\n",
      "   - -------------------------------------- 5.0/101.7 MB 12.4 kB/s eta 2:10:02\n",
      "   - -------------------------------------- 5.0/101.7 MB 12.4 kB/s eta 2:10:02\n",
      "   -- ------------------------------------- 5.2/101.7 MB 14.5 kB/s eta 1:50:54\n",
      "   -- ------------------------------------- 5.2/101.7 MB 14.5 kB/s eta 1:50:54\n",
      "   -- ------------------------------------- 5.2/101.7 MB 14.5 kB/s eta 1:50:54\n",
      "   -- ------------------------------------- 5.2/101.7 MB 14.5 kB/s eta 1:50:54\n",
      "   -- ------------------------------------- 5.2/101.7 MB 14.5 kB/s eta 1:50:54\n",
      "   -- ------------------------------------- 5.2/101.7 MB 14.5 kB/s eta 1:50:54\n",
      "   -- ------------------------------------- 5.2/101.7 MB 14.5 kB/s eta 1:50:54\n",
      "   -- ------------------------------------- 5.2/101.7 MB 14.5 kB/s eta 1:50:54\n",
      "   -- ------------------------------------- 5.2/101.7 MB 14.5 kB/s eta 1:50:54\n",
      "   -- ------------------------------------- 5.2/101.7 MB 14.5 kB/s eta 1:50:54\n",
      "   -- ------------------------------------- 5.2/101.7 MB 14.5 kB/s eta 1:50:54\n",
      "   -- ------------------------------------- 5.2/101.7 MB 14.5 kB/s eta 1:50:54\n",
      "   -- ------------------------------------- 5.2/101.7 MB 14.5 kB/s eta 1:50:54\n",
      "   -- ------------------------------------- 5.2/101.7 MB 14.5 kB/s eta 1:50:54\n",
      "   -- ------------------------------------- 5.2/101.7 MB 14.5 kB/s eta 1:50:54\n",
      "   -- ------------------------------------- 5.2/101.7 MB 14.5 kB/s eta 1:50:54\n",
      "   -- ------------------------------------- 5.2/101.7 MB 14.5 kB/s eta 1:50:54\n",
      "   -- ------------------------------------- 5.2/101.7 MB 14.5 kB/s eta 1:50:54\n",
      "   -- ------------------------------------- 5.2/101.7 MB 14.5 kB/s eta 1:50:54\n",
      "   -- ------------------------------------- 5.2/101.7 MB 14.5 kB/s eta 1:50:54\n",
      "   -- ------------------------------------- 5.2/101.7 MB 14.5 kB/s eta 1:50:54\n",
      "   -- ------------------------------------- 5.2/101.7 MB 14.5 kB/s eta 1:50:54\n",
      "   -- ------------------------------------- 5.2/101.7 MB 14.5 kB/s eta 1:50:54\n",
      "   -- ------------------------------------- 5.2/101.7 MB 14.5 kB/s eta 1:50:54\n",
      "   -- ------------------------------------- 5.2/101.7 MB 14.5 kB/s eta 1:50:54\n",
      "   -- ------------------------------------- 5.2/101.7 MB 14.5 kB/s eta 1:50:54\n",
      "   -- ------------------------------------- 5.2/101.7 MB 14.5 kB/s eta 1:50:54\n",
      "   -- ------------------------------------- 5.2/101.7 MB 14.5 kB/s eta 1:50:54\n",
      "   -- ------------------------------------- 5.2/101.7 MB 14.5 kB/s eta 1:50:54\n",
      "   -- ------------------------------------- 5.2/101.7 MB 14.5 kB/s eta 1:50:54\n",
      "   -- ------------------------------------- 5.2/101.7 MB 14.5 kB/s eta 1:50:54\n",
      "   -- ------------------------------------- 5.2/101.7 MB 14.5 kB/s eta 1:50:54\n",
      "   -- ------------------------------------- 5.2/101.7 MB 14.5 kB/s eta 1:50:54\n",
      "   -- ------------------------------------- 5.2/101.7 MB 14.5 kB/s eta 1:50:54\n",
      "   -- ------------------------------------- 5.2/101.7 MB 14.5 kB/s eta 1:50:54\n",
      "   -- ------------------------------------- 5.2/101.7 MB 14.5 kB/s eta 1:50:54\n",
      "   -- ------------------------------------- 5.2/101.7 MB 14.5 kB/s eta 1:50:54\n",
      "   -- ------------------------------------- 5.2/101.7 MB 14.5 kB/s eta 1:50:54\n",
      "   -- ------------------------------------- 5.2/101.7 MB 14.5 kB/s eta 1:50:54\n",
      "   -- ------------------------------------- 5.2/101.7 MB 14.5 kB/s eta 1:50:54\n",
      "   -- ------------------------------------- 5.2/101.7 MB 14.5 kB/s eta 1:50:54\n",
      "   -- ------------------------------------- 5.2/101.7 MB 14.5 kB/s eta 1:50:54\n",
      "   -- ------------------------------------- 5.2/101.7 MB 14.5 kB/s eta 1:50:54\n",
      "   -- ------------------------------------- 5.2/101.7 MB 14.5 kB/s eta 1:50:54\n",
      "   -- ------------------------------------- 5.2/101.7 MB 14.5 kB/s eta 1:50:54\n",
      "   -- ------------------------------------- 5.2/101.7 MB 14.5 kB/s eta 1:50:54\n",
      "   -- ------------------------------------- 5.2/101.7 MB 14.5 kB/s eta 1:50:54\n",
      "   -- ------------------------------------- 5.2/101.7 MB 14.5 kB/s eta 1:50:54\n",
      "   -- ------------------------------------- 5.2/101.7 MB 14.5 kB/s eta 1:50:54\n",
      "   -- ------------------------------------- 5.2/101.7 MB 14.5 kB/s eta 1:50:54\n",
      "   -- ------------------------------------- 5.2/101.7 MB 14.5 kB/s eta 1:50:54\n",
      "   -- ------------------------------------- 5.2/101.7 MB 14.5 kB/s eta 1:50:54\n",
      "   -- ------------------------------------- 5.2/101.7 MB 14.5 kB/s eta 1:50:54\n",
      "   -- ------------------------------------- 5.2/101.7 MB 14.5 kB/s eta 1:50:54\n",
      "   -- ------------------------------------- 5.2/101.7 MB 14.5 kB/s eta 1:50:54\n",
      "   -- ------------------------------------- 5.2/101.7 MB 14.5 kB/s eta 1:50:54\n",
      "   -- ------------------------------------- 5.2/101.7 MB 14.5 kB/s eta 1:50:54\n",
      "   -- ------------------------------------- 5.2/101.7 MB 14.5 kB/s eta 1:50:54\n",
      "   -- ------------------------------------- 5.2/101.7 MB 14.5 kB/s eta 1:50:54\n",
      "   -- ------------------------------------- 5.2/101.7 MB 14.5 kB/s eta 1:50:54\n",
      "   -- ------------------------------------- 5.2/101.7 MB 14.5 kB/s eta 1:50:54\n",
      "   -- ------------------------------------- 5.5/101.7 MB 20.0 kB/s eta 1:20:18\n",
      "   -- ------------------------------------- 5.5/101.7 MB 20.0 kB/s eta 1:20:18\n",
      "   -- ------------------------------------- 5.5/101.7 MB 20.0 kB/s eta 1:20:18\n",
      "   -- ------------------------------------- 5.5/101.7 MB 20.0 kB/s eta 1:20:18\n",
      "   -- ------------------------------------- 5.5/101.7 MB 20.0 kB/s eta 1:20:18\n",
      "   -- ------------------------------------- 5.5/101.7 MB 20.0 kB/s eta 1:20:18\n",
      "   -- ------------------------------------- 5.5/101.7 MB 20.0 kB/s eta 1:20:18\n",
      "   -- ------------------------------------- 5.5/101.7 MB 20.0 kB/s eta 1:20:18\n",
      "   -- ------------------------------------- 5.5/101.7 MB 20.0 kB/s eta 1:20:18\n",
      "   -- ------------------------------------- 5.5/101.7 MB 20.0 kB/s eta 1:20:18\n",
      "   -- ------------------------------------- 5.5/101.7 MB 20.0 kB/s eta 1:20:18\n",
      "   -- ------------------------------------- 5.5/101.7 MB 20.0 kB/s eta 1:20:18\n",
      "   -- ------------------------------------- 5.5/101.7 MB 20.0 kB/s eta 1:20:18\n",
      "   -- ------------------------------------- 5.5/101.7 MB 20.0 kB/s eta 1:20:18\n",
      "   -- ------------------------------------- 5.5/101.7 MB 20.0 kB/s eta 1:20:18\n",
      "   -- ------------------------------------- 5.5/101.7 MB 20.0 kB/s eta 1:20:18\n",
      "   -- ------------------------------------- 5.5/101.7 MB 20.0 kB/s eta 1:20:18\n",
      "   -- ------------------------------------- 5.5/101.7 MB 20.0 kB/s eta 1:20:18\n",
      "   -- ------------------------------------- 5.5/101.7 MB 20.0 kB/s eta 1:20:18\n",
      "   -- ------------------------------------- 5.5/101.7 MB 20.0 kB/s eta 1:20:18\n",
      "   -- ------------------------------------- 5.5/101.7 MB 20.0 kB/s eta 1:20:18\n",
      "   -- ------------------------------------- 5.5/101.7 MB 20.0 kB/s eta 1:20:18\n",
      "   -- ------------------------------------- 5.5/101.7 MB 20.0 kB/s eta 1:20:18\n",
      "   -- ------------------------------------- 5.5/101.7 MB 20.0 kB/s eta 1:20:18\n",
      "   -- ------------------------------------- 5.5/101.7 MB 20.0 kB/s eta 1:20:18\n",
      "   -- ------------------------------------- 5.5/101.7 MB 20.0 kB/s eta 1:20:18\n",
      "   -- ------------------------------------- 5.5/101.7 MB 20.0 kB/s eta 1:20:18\n",
      "   -- ------------------------------------- 5.5/101.7 MB 20.0 kB/s eta 1:20:18\n",
      "   -- ------------------------------------- 5.5/101.7 MB 20.0 kB/s eta 1:20:18\n",
      "   -- ------------------------------------- 5.5/101.7 MB 20.0 kB/s eta 1:20:18\n",
      "   -- ------------------------------------- 5.5/101.7 MB 20.0 kB/s eta 1:20:18\n",
      "   -- ------------------------------------- 5.5/101.7 MB 20.0 kB/s eta 1:20:18\n",
      "   -- ------------------------------------- 5.5/101.7 MB 20.0 kB/s eta 1:20:18\n",
      "   -- ------------------------------------- 5.5/101.7 MB 20.0 kB/s eta 1:20:18\n",
      "   -- ------------------------------------- 5.5/101.7 MB 20.0 kB/s eta 1:20:18\n",
      "   -- ------------------------------------- 5.5/101.7 MB 20.0 kB/s eta 1:20:18\n",
      "   -- ------------------------------------- 5.5/101.7 MB 20.0 kB/s eta 1:20:18\n",
      "   -- ------------------------------------- 5.5/101.7 MB 20.0 kB/s eta 1:20:18\n",
      "   -- ------------------------------------- 5.5/101.7 MB 20.0 kB/s eta 1:20:18\n",
      "   -- ------------------------------------- 5.5/101.7 MB 20.0 kB/s eta 1:20:18\n",
      "   -- ------------------------------------- 5.5/101.7 MB 20.0 kB/s eta 1:20:18\n",
      "   -- ------------------------------------- 5.5/101.7 MB 20.0 kB/s eta 1:20:18\n",
      "   -- ------------------------------------- 5.5/101.7 MB 20.0 kB/s eta 1:20:18\n",
      "   -- ------------------------------------- 5.5/101.7 MB 20.0 kB/s eta 1:20:18\n",
      "   -- ------------------------------------- 5.5/101.7 MB 20.0 kB/s eta 1:20:18\n",
      "   -- ------------------------------------- 5.5/101.7 MB 20.0 kB/s eta 1:20:18\n",
      "   -- ------------------------------------- 5.5/101.7 MB 20.0 kB/s eta 1:20:18\n",
      "   -- ------------------------------------- 5.5/101.7 MB 20.0 kB/s eta 1:20:18\n",
      "   -- ------------------------------------- 5.5/101.7 MB 20.0 kB/s eta 1:20:18\n",
      "   -- ------------------------------------- 5.5/101.7 MB 20.0 kB/s eta 1:20:18\n",
      "   -- ------------------------------------- 5.5/101.7 MB 20.0 kB/s eta 1:20:18\n",
      "   -- ------------------------------------- 5.5/101.7 MB 20.0 kB/s eta 1:20:18\n",
      "   -- ------------------------------------- 5.5/101.7 MB 20.0 kB/s eta 1:20:18\n",
      "   -- ------------------------------------- 5.5/101.7 MB 20.0 kB/s eta 1:20:18\n",
      "   -- ------------------------------------- 5.5/101.7 MB 20.0 kB/s eta 1:20:18\n",
      "   -- ------------------------------------- 5.5/101.7 MB 20.0 kB/s eta 1:20:18\n",
      "   -- ------------------------------------- 5.5/101.7 MB 20.0 kB/s eta 1:20:18\n",
      "   -- ------------------------------------- 5.5/101.7 MB 20.0 kB/s eta 1:20:18\n",
      "   -- ------------------------------------- 5.5/101.7 MB 20.0 kB/s eta 1:20:18\n",
      "   -- ------------------------------------- 5.5/101.7 MB 20.0 kB/s eta 1:20:18\n",
      "   -- ------------------------------------- 5.5/101.7 MB 20.0 kB/s eta 1:20:18\n",
      "   -- ------------------------------------- 5.5/101.7 MB 20.0 kB/s eta 1:20:18\n",
      "   -- ------------------------------------- 5.5/101.7 MB 20.0 kB/s eta 1:20:18\n",
      "   -- ------------------------------------- 5.5/101.7 MB 20.0 kB/s eta 1:20:18\n",
      "   -- ------------------------------------- 5.5/101.7 MB 20.0 kB/s eta 1:20:18\n",
      "   -- ------------------------------------- 5.5/101.7 MB 20.0 kB/s eta 1:20:18\n",
      "   -- ------------------------------------- 5.5/101.7 MB 20.0 kB/s eta 1:20:18\n",
      "   -- ------------------------------------- 5.5/101.7 MB 20.0 kB/s eta 1:20:18\n",
      "   -- ------------------------------------- 5.5/101.7 MB 20.0 kB/s eta 1:20:18\n",
      "   -- ------------------------------------- 5.5/101.7 MB 20.0 kB/s eta 1:20:18\n",
      "   -- ------------------------------------- 5.5/101.7 MB 20.0 kB/s eta 1:20:18\n",
      "   -- ------------------------------------- 5.5/101.7 MB 20.0 kB/s eta 1:20:18\n",
      "   -- ------------------------------------- 5.5/101.7 MB 20.0 kB/s eta 1:20:18\n",
      "   -- ------------------------------------- 5.5/101.7 MB 20.0 kB/s eta 1:20:18\n",
      "   -- ------------------------------------- 5.5/101.7 MB 20.0 kB/s eta 1:20:18\n",
      "   -- ------------------------------------- 5.5/101.7 MB 20.0 kB/s eta 1:20:18\n",
      "   -- ------------------------------------- 5.5/101.7 MB 20.0 kB/s eta 1:20:18\n",
      "   -- ------------------------------------- 5.5/101.7 MB 20.0 kB/s eta 1:20:18\n",
      "   -- ------------------------------------- 5.5/101.7 MB 20.0 kB/s eta 1:20:18\n",
      "   -- ------------------------------------- 5.5/101.7 MB 20.0 kB/s eta 1:20:18\n",
      "   -- ------------------------------------- 5.5/101.7 MB 20.0 kB/s eta 1:20:18\n",
      "   -- ------------------------------------- 5.5/101.7 MB 20.0 kB/s eta 1:20:18\n",
      "   -- ------------------------------------- 5.8/101.7 MB 15.0 kB/s eta 1:46:52\n",
      "   -- ------------------------------------- 5.8/101.7 MB 15.0 kB/s eta 1:46:52\n",
      "   -- ------------------------------------- 5.8/101.7 MB 15.0 kB/s eta 1:46:52\n",
      "   -- ------------------------------------- 5.8/101.7 MB 15.0 kB/s eta 1:46:52\n",
      "   -- ------------------------------------- 5.8/101.7 MB 15.0 kB/s eta 1:46:52\n",
      "   -- ------------------------------------- 5.8/101.7 MB 15.0 kB/s eta 1:46:52\n",
      "   -- ------------------------------------- 5.8/101.7 MB 15.0 kB/s eta 1:46:52\n",
      "   -- ------------------------------------- 5.8/101.7 MB 15.0 kB/s eta 1:46:52\n",
      "   -- ------------------------------------- 5.8/101.7 MB 15.0 kB/s eta 1:46:52\n",
      "   -- ------------------------------------- 5.8/101.7 MB 15.0 kB/s eta 1:46:52\n",
      "   -- ------------------------------------- 5.8/101.7 MB 15.0 kB/s eta 1:46:52\n",
      "   -- ------------------------------------- 5.8/101.7 MB 15.0 kB/s eta 1:46:52\n",
      "   -- ------------------------------------- 5.8/101.7 MB 15.0 kB/s eta 1:46:52\n",
      "   -- ------------------------------------- 5.8/101.7 MB 15.0 kB/s eta 1:46:52\n",
      "   -- ------------------------------------- 5.8/101.7 MB 15.0 kB/s eta 1:46:52\n",
      "   -- ------------------------------------- 5.8/101.7 MB 15.0 kB/s eta 1:46:52\n",
      "   -- ------------------------------------- 5.8/101.7 MB 15.0 kB/s eta 1:46:52\n",
      "   -- ------------------------------------- 5.8/101.7 MB 15.0 kB/s eta 1:46:52\n",
      "   -- ------------------------------------- 5.8/101.7 MB 15.0 kB/s eta 1:46:52\n",
      "   -- ------------------------------------- 5.8/101.7 MB 15.0 kB/s eta 1:46:52\n",
      "   -- ------------------------------------- 5.8/101.7 MB 15.0 kB/s eta 1:46:52\n",
      "   -- ------------------------------------- 5.8/101.7 MB 15.0 kB/s eta 1:46:52\n",
      "   -- ------------------------------------- 5.8/101.7 MB 15.0 kB/s eta 1:46:52\n",
      "   -- ------------------------------------- 5.8/101.7 MB 15.0 kB/s eta 1:46:52\n",
      "   -- ------------------------------------- 5.8/101.7 MB 15.0 kB/s eta 1:46:52\n",
      "   -- ------------------------------------- 5.8/101.7 MB 15.0 kB/s eta 1:46:52\n",
      "   -- ------------------------------------- 5.8/101.7 MB 15.0 kB/s eta 1:46:52\n",
      "   -- ------------------------------------- 5.8/101.7 MB 15.0 kB/s eta 1:46:52\n",
      "   -- ------------------------------------- 5.8/101.7 MB 15.0 kB/s eta 1:46:52\n",
      "   -- ------------------------------------- 5.8/101.7 MB 15.0 kB/s eta 1:46:52\n",
      "   -- ------------------------------------- 5.8/101.7 MB 15.0 kB/s eta 1:46:52\n",
      "   -- ------------------------------------- 5.8/101.7 MB 15.0 kB/s eta 1:46:52\n",
      "   -- ------------------------------------- 5.8/101.7 MB 15.0 kB/s eta 1:46:52\n",
      "   -- ------------------------------------- 5.8/101.7 MB 15.0 kB/s eta 1:46:52\n",
      "   -- ------------------------------------- 5.8/101.7 MB 15.0 kB/s eta 1:46:52\n",
      "   -- ------------------------------------- 5.8/101.7 MB 15.0 kB/s eta 1:46:52\n",
      "   -- ------------------------------------- 5.8/101.7 MB 15.0 kB/s eta 1:46:52\n",
      "   -- ------------------------------------- 5.8/101.7 MB 15.0 kB/s eta 1:46:52\n",
      "   -- ------------------------------------- 5.8/101.7 MB 15.0 kB/s eta 1:46:52\n",
      "   -- ------------------------------------- 5.8/101.7 MB 15.0 kB/s eta 1:46:52\n",
      "   -- ------------------------------------- 5.8/101.7 MB 15.0 kB/s eta 1:46:52\n",
      "   -- ------------------------------------- 5.8/101.7 MB 15.0 kB/s eta 1:46:52\n",
      "   -- ------------------------------------- 5.8/101.7 MB 15.0 kB/s eta 1:46:52\n",
      "   -- ------------------------------------- 5.8/101.7 MB 15.0 kB/s eta 1:46:52\n",
      "   -- ------------------------------------- 5.8/101.7 MB 15.0 kB/s eta 1:46:52\n",
      "   -- ------------------------------------- 5.8/101.7 MB 15.0 kB/s eta 1:46:52\n",
      "   -- ------------------------------------- 5.8/101.7 MB 15.0 kB/s eta 1:46:52\n",
      "   -- ------------------------------------- 5.8/101.7 MB 15.0 kB/s eta 1:46:52\n",
      "   -- ------------------------------------- 5.8/101.7 MB 15.0 kB/s eta 1:46:52\n",
      "   -- ------------------------------------- 5.8/101.7 MB 15.0 kB/s eta 1:46:52\n",
      "   -- ------------------------------------- 5.8/101.7 MB 15.0 kB/s eta 1:46:52\n",
      "   -- ------------------------------------- 5.8/101.7 MB 15.0 kB/s eta 1:46:52\n",
      "   -- ------------------------------------- 5.8/101.7 MB 15.0 kB/s eta 1:46:52\n",
      "   -- ------------------------------------- 5.8/101.7 MB 15.0 kB/s eta 1:46:52\n",
      "   -- ------------------------------------- 5.8/101.7 MB 15.0 kB/s eta 1:46:52\n",
      "   -- ------------------------------------- 5.8/101.7 MB 15.0 kB/s eta 1:46:52\n",
      "   -- ------------------------------------- 5.8/101.7 MB 15.0 kB/s eta 1:46:52\n",
      "   -- ------------------------------------- 5.8/101.7 MB 15.0 kB/s eta 1:46:52\n",
      "   -- ------------------------------------- 5.8/101.7 MB 15.0 kB/s eta 1:46:52\n",
      "   -- ------------------------------------- 5.8/101.7 MB 15.0 kB/s eta 1:46:52\n",
      "   -- ------------------------------------- 5.8/101.7 MB 15.0 kB/s eta 1:46:52\n",
      "   -- ------------------------------------- 5.8/101.7 MB 15.0 kB/s eta 1:46:52\n",
      "   -- ------------------------------------- 5.8/101.7 MB 15.0 kB/s eta 1:46:52\n",
      "   -- ------------------------------------- 5.8/101.7 MB 15.0 kB/s eta 1:46:52\n",
      "   -- ------------------------------------- 5.8/101.7 MB 15.0 kB/s eta 1:46:52\n",
      "   -- ------------------------------------- 5.8/101.7 MB 15.0 kB/s eta 1:46:52\n",
      "   -- ------------------------------------- 5.8/101.7 MB 15.0 kB/s eta 1:46:52\n",
      "   -- ------------------------------------- 5.8/101.7 MB 15.0 kB/s eta 1:46:52\n",
      "   -- ------------------------------------- 5.8/101.7 MB 15.0 kB/s eta 1:46:52\n",
      "   -- ------------------------------------- 5.8/101.7 MB 15.0 kB/s eta 1:46:52\n",
      "   -- ------------------------------------- 5.8/101.7 MB 15.0 kB/s eta 1:46:52\n",
      "   -- ------------------------------------- 5.8/101.7 MB 15.0 kB/s eta 1:46:52\n",
      "   -- ------------------------------------- 5.8/101.7 MB 15.0 kB/s eta 1:46:52\n",
      "   -- ------------------------------------- 5.8/101.7 MB 15.0 kB/s eta 1:46:52\n",
      "   -- ------------------------------------- 5.8/101.7 MB 15.0 kB/s eta 1:46:52\n",
      "   -- ------------------------------------- 5.8/101.7 MB 15.0 kB/s eta 1:46:52\n",
      "   -- ------------------------------------- 5.8/101.7 MB 15.0 kB/s eta 1:46:52\n",
      "   -- ------------------------------------- 5.8/101.7 MB 15.0 kB/s eta 1:46:52\n",
      "   -- ------------------------------------- 5.8/101.7 MB 15.0 kB/s eta 1:46:52\n",
      "   -- ------------------------------------- 5.8/101.7 MB 15.0 kB/s eta 1:46:52\n",
      "   -- ------------------------------------- 5.8/101.7 MB 15.0 kB/s eta 1:46:52\n",
      "   -- ------------------------------------- 5.8/101.7 MB 15.0 kB/s eta 1:46:52\n",
      "   -- ------------------------------------- 5.8/101.7 MB 15.0 kB/s eta 1:46:52\n",
      "   -- ------------------------------------- 5.8/101.7 MB 15.0 kB/s eta 1:46:52\n",
      "   -- ------------------------------------- 5.8/101.7 MB 15.0 kB/s eta 1:46:52\n",
      "   -- ------------------------------------- 5.8/101.7 MB 15.0 kB/s eta 1:46:52\n",
      "   -- ------------------------------------- 5.8/101.7 MB 15.0 kB/s eta 1:46:52\n",
      "   -- ------------------------------------- 5.8/101.7 MB 15.0 kB/s eta 1:46:52\n",
      "   -- ------------------------------------- 5.8/101.7 MB 15.0 kB/s eta 1:46:52\n",
      "   -- ------------------------------------- 5.8/101.7 MB 15.0 kB/s eta 1:46:52\n",
      "   -- ------------------------------------- 6.0/101.7 MB 13.6 kB/s eta 1:57:01\n",
      "   -- ------------------------------------- 6.0/101.7 MB 13.6 kB/s eta 1:57:01\n",
      "   -- ------------------------------------- 6.0/101.7 MB 13.6 kB/s eta 1:57:01\n",
      "   -- ------------------------------------- 6.0/101.7 MB 13.6 kB/s eta 1:57:01\n",
      "   -- ------------------------------------- 6.0/101.7 MB 13.6 kB/s eta 1:57:01\n",
      "   -- ------------------------------------- 6.0/101.7 MB 13.6 kB/s eta 1:57:01\n",
      "   -- ------------------------------------- 6.0/101.7 MB 13.6 kB/s eta 1:57:01\n",
      "   -- ------------------------------------- 6.0/101.7 MB 13.6 kB/s eta 1:57:01\n",
      "   -- ------------------------------------- 6.0/101.7 MB 13.6 kB/s eta 1:57:01\n",
      "   -- ------------------------------------- 6.0/101.7 MB 13.6 kB/s eta 1:57:01\n",
      "   -- ------------------------------------- 6.0/101.7 MB 13.6 kB/s eta 1:57:01\n",
      "   -- ------------------------------------- 6.0/101.7 MB 13.6 kB/s eta 1:57:01\n",
      "   -- ------------------------------------- 6.0/101.7 MB 13.6 kB/s eta 1:57:01\n",
      "   -- ------------------------------------- 6.0/101.7 MB 13.6 kB/s eta 1:57:01\n",
      "   -- ------------------------------------- 6.0/101.7 MB 13.6 kB/s eta 1:57:01\n",
      "   -- ------------------------------------- 6.0/101.7 MB 13.6 kB/s eta 1:57:01\n",
      "   -- ------------------------------------- 6.0/101.7 MB 13.6 kB/s eta 1:57:01\n",
      "   -- ------------------------------------- 6.0/101.7 MB 13.6 kB/s eta 1:57:01\n",
      "   -- ------------------------------------- 6.0/101.7 MB 13.6 kB/s eta 1:57:01\n",
      "   -- ------------------------------------- 6.0/101.7 MB 13.6 kB/s eta 1:57:01\n",
      "   -- ------------------------------------- 6.0/101.7 MB 13.6 kB/s eta 1:57:01\n",
      "   -- ------------------------------------- 6.0/101.7 MB 13.6 kB/s eta 1:57:01\n",
      "   -- ------------------------------------- 6.0/101.7 MB 13.6 kB/s eta 1:57:01\n",
      "   -- ------------------------------------- 6.0/101.7 MB 13.6 kB/s eta 1:57:01\n",
      "   -- ------------------------------------- 6.0/101.7 MB 13.6 kB/s eta 1:57:01\n",
      "   -- ------------------------------------- 6.0/101.7 MB 13.6 kB/s eta 1:57:01\n",
      "   -- ------------------------------------- 6.0/101.7 MB 13.6 kB/s eta 1:57:01\n",
      "   -- ------------------------------------- 6.0/101.7 MB 13.6 kB/s eta 1:57:01\n",
      "   -- ------------------------------------- 6.0/101.7 MB 13.6 kB/s eta 1:57:01\n",
      "   -- ------------------------------------- 6.0/101.7 MB 13.6 kB/s eta 1:57:01\n",
      "   -- ------------------------------------- 6.0/101.7 MB 13.6 kB/s eta 1:57:01\n",
      "   -- ------------------------------------- 6.0/101.7 MB 13.6 kB/s eta 1:57:01\n",
      "   -- ------------------------------------- 6.0/101.7 MB 13.6 kB/s eta 1:57:01\n",
      "   -- ------------------------------------- 6.0/101.7 MB 13.6 kB/s eta 1:57:01\n",
      "   -- ------------------------------------- 6.0/101.7 MB 13.6 kB/s eta 1:57:01\n",
      "   -- ------------------------------------- 6.0/101.7 MB 13.6 kB/s eta 1:57:01\n",
      "   -- ------------------------------------- 6.0/101.7 MB 13.6 kB/s eta 1:57:01\n",
      "   -- ------------------------------------- 6.0/101.7 MB 13.6 kB/s eta 1:57:01\n",
      "   -- ------------------------------------- 6.0/101.7 MB 13.6 kB/s eta 1:57:01\n",
      "   -- ------------------------------------- 6.0/101.7 MB 13.6 kB/s eta 1:57:01\n",
      "   -- ------------------------------------- 6.0/101.7 MB 13.6 kB/s eta 1:57:01\n",
      "   -- ------------------------------------- 6.0/101.7 MB 13.6 kB/s eta 1:57:01\n",
      "   -- ------------------------------------- 6.0/101.7 MB 13.6 kB/s eta 1:57:01\n",
      "   -- ------------------------------------- 6.0/101.7 MB 13.6 kB/s eta 1:57:01\n",
      "   -- ------------------------------------- 6.0/101.7 MB 13.6 kB/s eta 1:57:01\n",
      "   -- ------------------------------------- 6.0/101.7 MB 13.6 kB/s eta 1:57:01\n",
      "   -- ------------------------------------- 6.3/101.7 MB 18.2 kB/s eta 1:27:36\n",
      "   -- ------------------------------------- 6.3/101.7 MB 18.2 kB/s eta 1:27:36\n",
      "   -- ------------------------------------- 6.3/101.7 MB 18.2 kB/s eta 1:27:36\n",
      "   -- ------------------------------------- 6.3/101.7 MB 18.2 kB/s eta 1:27:36\n",
      "   -- ------------------------------------- 6.3/101.7 MB 18.2 kB/s eta 1:27:36\n",
      "   -- ------------------------------------- 6.3/101.7 MB 18.2 kB/s eta 1:27:36\n",
      "   -- ------------------------------------- 6.3/101.7 MB 18.2 kB/s eta 1:27:36\n",
      "   -- ------------------------------------- 6.3/101.7 MB 18.2 kB/s eta 1:27:36\n",
      "   -- ------------------------------------- 6.3/101.7 MB 18.2 kB/s eta 1:27:36\n",
      "   -- ------------------------------------- 6.3/101.7 MB 18.2 kB/s eta 1:27:36\n",
      "   -- ------------------------------------- 6.3/101.7 MB 18.2 kB/s eta 1:27:36\n",
      "   -- ------------------------------------- 6.3/101.7 MB 18.2 kB/s eta 1:27:36\n",
      "   -- ------------------------------------- 6.3/101.7 MB 18.2 kB/s eta 1:27:36\n",
      "   -- ------------------------------------- 6.3/101.7 MB 18.2 kB/s eta 1:27:36\n",
      "   -- ------------------------------------- 6.3/101.7 MB 18.2 kB/s eta 1:27:36\n",
      "   -- ------------------------------------- 6.3/101.7 MB 18.2 kB/s eta 1:27:36\n",
      "   -- ------------------------------------- 6.3/101.7 MB 18.2 kB/s eta 1:27:36\n",
      "   -- ------------------------------------- 6.3/101.7 MB 18.2 kB/s eta 1:27:36\n",
      "   -- ------------------------------------- 6.3/101.7 MB 18.2 kB/s eta 1:27:36\n",
      "   -- ------------------------------------- 6.3/101.7 MB 18.2 kB/s eta 1:27:36\n",
      "   -- ------------------------------------- 6.3/101.7 MB 18.2 kB/s eta 1:27:36\n",
      "   -- ------------------------------------- 6.3/101.7 MB 18.2 kB/s eta 1:27:36\n",
      "   -- ------------------------------------- 6.3/101.7 MB 18.2 kB/s eta 1:27:36\n",
      "   -- ------------------------------------- 6.3/101.7 MB 18.2 kB/s eta 1:27:36\n",
      "   -- ------------------------------------- 6.3/101.7 MB 18.2 kB/s eta 1:27:36\n",
      "   -- ------------------------------------- 6.3/101.7 MB 18.2 kB/s eta 1:27:36\n",
      "   -- ------------------------------------- 6.3/101.7 MB 18.2 kB/s eta 1:27:36\n",
      "   -- ------------------------------------- 6.3/101.7 MB 18.2 kB/s eta 1:27:36\n",
      "   -- ------------------------------------- 6.3/101.7 MB 18.2 kB/s eta 1:27:36\n",
      "   -- ------------------------------------- 6.3/101.7 MB 18.2 kB/s eta 1:27:36\n",
      "   -- ------------------------------------- 6.6/101.7 MB 32.9 kB/s eta 0:48:13\n",
      "   -- ------------------------------------- 6.6/101.7 MB 32.9 kB/s eta 0:48:13\n",
      "   -- ------------------------------------- 6.6/101.7 MB 32.9 kB/s eta 0:48:13\n",
      "   -- ------------------------------------- 6.6/101.7 MB 32.9 kB/s eta 0:48:13\n",
      "   -- ------------------------------------- 6.6/101.7 MB 32.9 kB/s eta 0:48:13\n",
      "   -- ------------------------------------- 6.6/101.7 MB 32.9 kB/s eta 0:48:13\n",
      "   -- ------------------------------------- 6.6/101.7 MB 32.9 kB/s eta 0:48:13\n",
      "   -- ------------------------------------- 6.6/101.7 MB 32.9 kB/s eta 0:48:13\n",
      "   -- ------------------------------------- 6.6/101.7 MB 32.9 kB/s eta 0:48:13\n",
      "   -- ------------------------------------- 6.6/101.7 MB 32.9 kB/s eta 0:48:13\n",
      "   -- ------------------------------------- 6.6/101.7 MB 32.9 kB/s eta 0:48:13\n",
      "   -- ------------------------------------- 6.6/101.7 MB 32.9 kB/s eta 0:48:13\n",
      "   -- ------------------------------------- 6.6/101.7 MB 32.9 kB/s eta 0:48:13\n",
      "   -- ------------------------------------- 6.6/101.7 MB 32.9 kB/s eta 0:48:13\n",
      "   -- ------------------------------------- 6.6/101.7 MB 32.9 kB/s eta 0:48:13\n",
      "   -- ------------------------------------- 6.6/101.7 MB 32.9 kB/s eta 0:48:13\n",
      "   -- ------------------------------------- 6.6/101.7 MB 32.9 kB/s eta 0:48:13\n",
      "   -- ------------------------------------- 6.6/101.7 MB 32.9 kB/s eta 0:48:13\n",
      "   -- ------------------------------------- 6.6/101.7 MB 32.9 kB/s eta 0:48:13\n",
      "   -- ------------------------------------- 6.6/101.7 MB 32.9 kB/s eta 0:48:13\n",
      "   -- ------------------------------------- 6.6/101.7 MB 32.9 kB/s eta 0:48:13\n",
      "   -- ------------------------------------- 6.6/101.7 MB 32.9 kB/s eta 0:48:13\n",
      "   -- ------------------------------------- 6.6/101.7 MB 32.9 kB/s eta 0:48:13\n",
      "   -- ------------------------------------- 6.6/101.7 MB 32.9 kB/s eta 0:48:13\n",
      "   -- ------------------------------------- 6.6/101.7 MB 32.9 kB/s eta 0:48:13\n",
      "   -- ------------------------------------- 6.6/101.7 MB 32.9 kB/s eta 0:48:13\n",
      "   -- ------------------------------------- 6.6/101.7 MB 32.9 kB/s eta 0:48:13\n",
      "   -- ------------------------------------- 6.6/101.7 MB 32.9 kB/s eta 0:48:13\n",
      "   -- ------------------------------------- 6.6/101.7 MB 32.9 kB/s eta 0:48:13\n",
      "   -- ------------------------------------- 6.6/101.7 MB 32.9 kB/s eta 0:48:13\n",
      "   -- ------------------------------------- 6.6/101.7 MB 32.9 kB/s eta 0:48:13\n",
      "   -- ------------------------------------- 6.6/101.7 MB 32.9 kB/s eta 0:48:13\n",
      "   -- ------------------------------------- 6.6/101.7 MB 32.9 kB/s eta 0:48:13\n",
      "   -- ------------------------------------- 6.6/101.7 MB 32.9 kB/s eta 0:48:13\n",
      "   -- ------------------------------------- 6.6/101.7 MB 32.9 kB/s eta 0:48:13\n",
      "   -- ------------------------------------- 6.6/101.7 MB 32.9 kB/s eta 0:48:13\n",
      "   -- ------------------------------------- 6.6/101.7 MB 32.9 kB/s eta 0:48:13\n",
      "   -- ------------------------------------- 6.6/101.7 MB 32.9 kB/s eta 0:48:13\n",
      "   -- ------------------------------------- 6.6/101.7 MB 32.9 kB/s eta 0:48:13\n",
      "   -- ------------------------------------- 6.6/101.7 MB 32.9 kB/s eta 0:48:13\n",
      "   -- ------------------------------------- 6.6/101.7 MB 32.9 kB/s eta 0:48:13\n",
      "   -- ------------------------------------- 6.6/101.7 MB 32.9 kB/s eta 0:48:13\n",
      "   -- ------------------------------------- 6.6/101.7 MB 32.9 kB/s eta 0:48:13\n",
      "   -- ------------------------------------- 6.6/101.7 MB 32.9 kB/s eta 0:48:13\n",
      "   -- ------------------------------------- 6.6/101.7 MB 32.9 kB/s eta 0:48:13\n",
      "   -- ------------------------------------- 6.6/101.7 MB 32.9 kB/s eta 0:48:13\n",
      "   -- ------------------------------------- 6.6/101.7 MB 32.9 kB/s eta 0:48:13\n",
      "   -- ------------------------------------- 6.6/101.7 MB 32.9 kB/s eta 0:48:13\n",
      "   -- ------------------------------------- 6.6/101.7 MB 32.9 kB/s eta 0:48:13\n",
      "   -- ------------------------------------- 6.6/101.7 MB 32.9 kB/s eta 0:48:13\n",
      "   -- ------------------------------------- 6.6/101.7 MB 32.9 kB/s eta 0:48:13\n",
      "   -- ------------------------------------- 6.6/101.7 MB 32.9 kB/s eta 0:48:13\n",
      "   -- ------------------------------------- 6.6/101.7 MB 32.9 kB/s eta 0:48:13\n",
      "   -- ------------------------------------- 6.6/101.7 MB 32.9 kB/s eta 0:48:13\n",
      "   -- ------------------------------------- 6.6/101.7 MB 32.9 kB/s eta 0:48:13\n",
      "   -- ------------------------------------- 6.6/101.7 MB 32.9 kB/s eta 0:48:13\n",
      "   -- ------------------------------------- 6.6/101.7 MB 32.9 kB/s eta 0:48:13\n",
      "   -- ------------------------------------- 6.6/101.7 MB 32.9 kB/s eta 0:48:13\n",
      "   -- ------------------------------------- 6.6/101.7 MB 32.9 kB/s eta 0:48:13\n",
      "   -- ------------------------------------- 6.6/101.7 MB 32.9 kB/s eta 0:48:13\n",
      "   -- ------------------------------------- 6.6/101.7 MB 32.9 kB/s eta 0:48:13\n",
      "   -- ------------------------------------- 6.8/101.7 MB 27.1 kB/s eta 0:58:28\n",
      "   -- ------------------------------------- 6.8/101.7 MB 27.1 kB/s eta 0:58:28\n",
      "   -- ------------------------------------- 6.8/101.7 MB 27.1 kB/s eta 0:58:28\n"
     ]
    },
    {
     "name": "stderr",
     "output_type": "stream",
     "text": [
      "IOPub message rate exceeded.\n",
      "The Jupyter server will temporarily stop sending output\n",
      "to the client in order to avoid crashing it.\n",
      "To change this limit, set the config variable\n",
      "`--ServerApp.iopub_msg_rate_limit`.\n",
      "\n",
      "Current values:\n",
      "ServerApp.iopub_msg_rate_limit=1000.0 (msgs/sec)\n",
      "ServerApp.rate_limit_window=3.0 (secs)\n",
      "\n"
     ]
    },
    {
     "name": "stdout",
     "output_type": "stream",
     "text": [
      "   --- ------------------------------------ 8.4/101.7 MB 17.7 kB/s eta 1:28:00\n",
      "   --- ------------------------------------ 8.4/101.7 MB 17.7 kB/s eta 1:28:00\n",
      "   --- ------------------------------------ 8.4/101.7 MB 17.7 kB/s eta 1:28:00\n",
      "   --- ------------------------------------ 8.4/101.7 MB 17.7 kB/s eta 1:28:00\n",
      "   --- ------------------------------------ 8.4/101.7 MB 17.7 kB/s eta 1:28:00\n",
      "   --- ------------------------------------ 8.4/101.7 MB 17.7 kB/s eta 1:28:00\n",
      "   --- ------------------------------------ 8.4/101.7 MB 17.7 kB/s eta 1:28:00\n",
      "   --- ------------------------------------ 8.4/101.7 MB 17.7 kB/s eta 1:28:00\n",
      "   --- ------------------------------------ 8.4/101.7 MB 17.7 kB/s eta 1:28:00\n",
      "   --- ------------------------------------ 8.4/101.7 MB 17.7 kB/s eta 1:28:00\n",
      "   --- ------------------------------------ 8.4/101.7 MB 17.7 kB/s eta 1:28:00\n",
      "   --- ------------------------------------ 8.4/101.7 MB 17.7 kB/s eta 1:28:00\n",
      "   --- ------------------------------------ 8.4/101.7 MB 17.7 kB/s eta 1:28:00\n",
      "   --- ------------------------------------ 8.4/101.7 MB 17.7 kB/s eta 1:28:00\n",
      "   --- ------------------------------------ 8.4/101.7 MB 17.7 kB/s eta 1:28:00\n",
      "   --- ------------------------------------ 8.4/101.7 MB 17.7 kB/s eta 1:28:00\n",
      "   --- ------------------------------------ 8.4/101.7 MB 17.7 kB/s eta 1:28:00\n",
      "   --- ------------------------------------ 8.4/101.7 MB 17.7 kB/s eta 1:28:00\n",
      "   --- ------------------------------------ 8.4/101.7 MB 17.7 kB/s eta 1:28:00\n",
      "   --- ------------------------------------ 8.4/101.7 MB 17.7 kB/s eta 1:28:00\n",
      "   --- ------------------------------------ 8.4/101.7 MB 17.7 kB/s eta 1:28:00\n",
      "   --- ------------------------------------ 8.4/101.7 MB 17.7 kB/s eta 1:28:00\n",
      "   --- ------------------------------------ 8.4/101.7 MB 17.7 kB/s eta 1:28:00\n",
      "   --- ------------------------------------ 8.4/101.7 MB 17.7 kB/s eta 1:28:00\n",
      "   --- ------------------------------------ 8.4/101.7 MB 17.7 kB/s eta 1:28:00\n",
      "   --- ------------------------------------ 8.4/101.7 MB 17.7 kB/s eta 1:28:00\n",
      "   --- ------------------------------------ 8.4/101.7 MB 17.7 kB/s eta 1:28:00\n",
      "   --- ------------------------------------ 8.4/101.7 MB 17.7 kB/s eta 1:28:00\n",
      "   --- ------------------------------------ 8.4/101.7 MB 17.7 kB/s eta 1:28:00\n",
      "   --- ------------------------------------ 8.4/101.7 MB 17.7 kB/s eta 1:28:00\n",
      "   --- ------------------------------------ 8.4/101.7 MB 17.7 kB/s eta 1:28:00\n",
      "   --- ------------------------------------ 8.4/101.7 MB 17.7 kB/s eta 1:28:00\n",
      "   --- ------------------------------------ 8.4/101.7 MB 17.7 kB/s eta 1:28:00\n",
      "   --- ------------------------------------ 8.4/101.7 MB 17.7 kB/s eta 1:28:00\n",
      "   --- ------------------------------------ 8.4/101.7 MB 17.7 kB/s eta 1:28:00\n",
      "   --- ------------------------------------ 8.4/101.7 MB 17.7 kB/s eta 1:28:00\n",
      "   --- ------------------------------------ 8.4/101.7 MB 17.7 kB/s eta 1:28:00\n",
      "   --- ------------------------------------ 8.4/101.7 MB 17.7 kB/s eta 1:28:00\n",
      "   --- ------------------------------------ 8.4/101.7 MB 17.7 kB/s eta 1:28:00\n",
      "   --- ------------------------------------ 8.4/101.7 MB 17.7 kB/s eta 1:28:00\n",
      "   --- ------------------------------------ 8.4/101.7 MB 17.7 kB/s eta 1:28:00\n",
      "   --- ------------------------------------ 8.4/101.7 MB 17.7 kB/s eta 1:28:00\n",
      "   --- ------------------------------------ 8.4/101.7 MB 17.7 kB/s eta 1:28:00\n",
      "   --- ------------------------------------ 8.7/101.7 MB 19.6 kB/s eta 1:19:20\n",
      "   --- ------------------------------------ 8.7/101.7 MB 19.6 kB/s eta 1:19:20\n",
      "   --- ------------------------------------ 8.7/101.7 MB 19.6 kB/s eta 1:19:20\n",
      "   --- ------------------------------------ 8.7/101.7 MB 19.6 kB/s eta 1:19:20\n",
      "   --- ------------------------------------ 8.7/101.7 MB 19.6 kB/s eta 1:19:20\n",
      "   --- ------------------------------------ 8.7/101.7 MB 19.6 kB/s eta 1:19:20\n",
      "   --- ------------------------------------ 8.7/101.7 MB 19.6 kB/s eta 1:19:20\n",
      "   --- ------------------------------------ 8.7/101.7 MB 19.6 kB/s eta 1:19:20\n",
      "   --- ------------------------------------ 8.7/101.7 MB 19.6 kB/s eta 1:19:20\n",
      "   --- ------------------------------------ 8.7/101.7 MB 19.6 kB/s eta 1:19:20\n",
      "   --- ------------------------------------ 8.7/101.7 MB 19.6 kB/s eta 1:19:20\n",
      "   --- ------------------------------------ 8.7/101.7 MB 19.6 kB/s eta 1:19:20\n",
      "   --- ------------------------------------ 8.7/101.7 MB 19.6 kB/s eta 1:19:20\n",
      "   --- ------------------------------------ 8.7/101.7 MB 19.6 kB/s eta 1:19:20\n",
      "   --- ------------------------------------ 8.7/101.7 MB 19.6 kB/s eta 1:19:20\n",
      "   --- ------------------------------------ 8.7/101.7 MB 19.6 kB/s eta 1:19:20\n",
      "   --- ------------------------------------ 8.7/101.7 MB 19.6 kB/s eta 1:19:20\n",
      "   --- ------------------------------------ 8.7/101.7 MB 19.6 kB/s eta 1:19:20\n",
      "   --- ------------------------------------ 8.7/101.7 MB 19.6 kB/s eta 1:19:20\n",
      "   --- ------------------------------------ 8.7/101.7 MB 19.6 kB/s eta 1:19:20\n",
      "   --- ------------------------------------ 8.7/101.7 MB 19.6 kB/s eta 1:19:20\n",
      "   --- ------------------------------------ 8.7/101.7 MB 19.6 kB/s eta 1:19:20\n",
      "   --- ------------------------------------ 8.7/101.7 MB 19.6 kB/s eta 1:19:20\n",
      "   --- ------------------------------------ 8.7/101.7 MB 19.6 kB/s eta 1:19:20\n",
      "   --- ------------------------------------ 8.7/101.7 MB 19.6 kB/s eta 1:19:20\n",
      "   --- ------------------------------------ 8.7/101.7 MB 19.6 kB/s eta 1:19:20\n",
      "   --- ------------------------------------ 8.7/101.7 MB 19.6 kB/s eta 1:19:20\n",
      "   --- ------------------------------------ 8.7/101.7 MB 19.6 kB/s eta 1:19:20\n",
      "   --- ------------------------------------ 8.7/101.7 MB 19.6 kB/s eta 1:19:20\n",
      "   --- ------------------------------------ 8.7/101.7 MB 19.6 kB/s eta 1:19:20\n",
      "   --- ------------------------------------ 8.7/101.7 MB 19.6 kB/s eta 1:19:20\n",
      "   --- ------------------------------------ 8.7/101.7 MB 19.6 kB/s eta 1:19:20\n",
      "   --- ------------------------------------ 8.7/101.7 MB 19.6 kB/s eta 1:19:20\n",
      "   --- ------------------------------------ 8.7/101.7 MB 19.6 kB/s eta 1:19:20\n",
      "   --- ------------------------------------ 8.7/101.7 MB 19.6 kB/s eta 1:19:20\n",
      "   --- ------------------------------------ 8.7/101.7 MB 19.6 kB/s eta 1:19:20\n",
      "   --- ------------------------------------ 8.7/101.7 MB 19.6 kB/s eta 1:19:20\n",
      "   --- ------------------------------------ 8.7/101.7 MB 19.6 kB/s eta 1:19:20\n",
      "   --- ------------------------------------ 8.7/101.7 MB 19.6 kB/s eta 1:19:20\n",
      "   --- ------------------------------------ 8.7/101.7 MB 19.6 kB/s eta 1:19:20\n",
      "   --- ------------------------------------ 8.7/101.7 MB 19.6 kB/s eta 1:19:20\n",
      "   --- ------------------------------------ 8.7/101.7 MB 19.6 kB/s eta 1:19:20\n",
      "   --- ------------------------------------ 8.7/101.7 MB 19.6 kB/s eta 1:19:20\n",
      "   --- ------------------------------------ 8.7/101.7 MB 19.6 kB/s eta 1:19:20\n",
      "   --- ------------------------------------ 8.7/101.7 MB 19.6 kB/s eta 1:19:20\n",
      "   --- ------------------------------------ 8.7/101.7 MB 19.6 kB/s eta 1:19:20\n",
      "   --- ------------------------------------ 8.9/101.7 MB 24.4 kB/s eta 1:03:23\n",
      "   --- ------------------------------------ 8.9/101.7 MB 24.4 kB/s eta 1:03:23\n",
      "   --- ------------------------------------ 8.9/101.7 MB 24.4 kB/s eta 1:03:23\n",
      "   --- ------------------------------------ 8.9/101.7 MB 24.4 kB/s eta 1:03:23\n",
      "   --- ------------------------------------ 8.9/101.7 MB 24.4 kB/s eta 1:03:23\n",
      "   --- ------------------------------------ 8.9/101.7 MB 24.4 kB/s eta 1:03:23\n",
      "   --- ------------------------------------ 8.9/101.7 MB 24.4 kB/s eta 1:03:23\n",
      "   --- ------------------------------------ 8.9/101.7 MB 24.4 kB/s eta 1:03:23\n",
      "   --- ------------------------------------ 8.9/101.7 MB 24.4 kB/s eta 1:03:23\n",
      "   --- ------------------------------------ 8.9/101.7 MB 24.4 kB/s eta 1:03:23\n",
      "   --- ------------------------------------ 8.9/101.7 MB 24.4 kB/s eta 1:03:23\n",
      "   --- ------------------------------------ 8.9/101.7 MB 24.4 kB/s eta 1:03:23\n",
      "   --- ------------------------------------ 8.9/101.7 MB 24.4 kB/s eta 1:03:23\n",
      "   --- ------------------------------------ 8.9/101.7 MB 24.4 kB/s eta 1:03:23\n",
      "   --- ------------------------------------ 8.9/101.7 MB 24.4 kB/s eta 1:03:23\n",
      "   --- ------------------------------------ 8.9/101.7 MB 24.4 kB/s eta 1:03:23\n",
      "   --- ------------------------------------ 8.9/101.7 MB 24.4 kB/s eta 1:03:23\n",
      "   --- ------------------------------------ 8.9/101.7 MB 24.4 kB/s eta 1:03:23\n",
      "   --- ------------------------------------ 8.9/101.7 MB 24.4 kB/s eta 1:03:23\n",
      "   --- ------------------------------------ 8.9/101.7 MB 24.4 kB/s eta 1:03:23\n",
      "   --- ------------------------------------ 8.9/101.7 MB 24.4 kB/s eta 1:03:23\n",
      "   --- ------------------------------------ 8.9/101.7 MB 24.4 kB/s eta 1:03:23\n",
      "   --- ------------------------------------ 8.9/101.7 MB 24.4 kB/s eta 1:03:23\n",
      "   --- ------------------------------------ 8.9/101.7 MB 24.4 kB/s eta 1:03:23\n",
      "   --- ------------------------------------ 8.9/101.7 MB 24.4 kB/s eta 1:03:23\n",
      "   --- ------------------------------------ 8.9/101.7 MB 24.4 kB/s eta 1:03:23\n",
      "   --- ------------------------------------ 8.9/101.7 MB 24.4 kB/s eta 1:03:23\n",
      "   --- ------------------------------------ 8.9/101.7 MB 24.4 kB/s eta 1:03:23\n",
      "   --- ------------------------------------ 8.9/101.7 MB 24.4 kB/s eta 1:03:23\n",
      "   --- ------------------------------------ 8.9/101.7 MB 24.4 kB/s eta 1:03:23\n",
      "   --- ------------------------------------ 8.9/101.7 MB 24.4 kB/s eta 1:03:23\n",
      "   --- ------------------------------------ 8.9/101.7 MB 24.4 kB/s eta 1:03:23\n",
      "   --- ------------------------------------ 8.9/101.7 MB 24.4 kB/s eta 1:03:23\n",
      "   --- ------------------------------------ 8.9/101.7 MB 24.4 kB/s eta 1:03:23\n",
      "   --- ------------------------------------ 8.9/101.7 MB 24.4 kB/s eta 1:03:23\n",
      "   --- ------------------------------------ 8.9/101.7 MB 24.4 kB/s eta 1:03:23\n",
      "   --- ------------------------------------ 8.9/101.7 MB 24.4 kB/s eta 1:03:23\n",
      "   --- ------------------------------------ 8.9/101.7 MB 24.4 kB/s eta 1:03:23\n",
      "   --- ------------------------------------ 8.9/101.7 MB 24.4 kB/s eta 1:03:23\n",
      "   --- ------------------------------------ 8.9/101.7 MB 24.4 kB/s eta 1:03:23\n",
      "   --- ------------------------------------ 8.9/101.7 MB 24.4 kB/s eta 1:03:23\n",
      "   --- ------------------------------------ 8.9/101.7 MB 24.4 kB/s eta 1:03:23\n",
      "   --- ------------------------------------ 8.9/101.7 MB 24.4 kB/s eta 1:03:23\n",
      "   --- ------------------------------------ 8.9/101.7 MB 24.4 kB/s eta 1:03:23\n",
      "   --- ------------------------------------ 8.9/101.7 MB 24.4 kB/s eta 1:03:23\n",
      "   --- ------------------------------------ 8.9/101.7 MB 24.4 kB/s eta 1:03:23\n",
      "   --- ------------------------------------ 8.9/101.7 MB 24.4 kB/s eta 1:03:23\n",
      "   --- ------------------------------------ 8.9/101.7 MB 24.4 kB/s eta 1:03:23\n",
      "   --- ------------------------------------ 8.9/101.7 MB 24.4 kB/s eta 1:03:23\n",
      "   --- ------------------------------------ 8.9/101.7 MB 24.4 kB/s eta 1:03:23\n",
      "   --- ------------------------------------ 8.9/101.7 MB 24.4 kB/s eta 1:03:23\n",
      "   --- ------------------------------------ 8.9/101.7 MB 24.4 kB/s eta 1:03:23\n",
      "   --- ------------------------------------ 8.9/101.7 MB 24.4 kB/s eta 1:03:23\n",
      "   --- ------------------------------------ 8.9/101.7 MB 24.4 kB/s eta 1:03:23\n",
      "   --- ------------------------------------ 8.9/101.7 MB 24.4 kB/s eta 1:03:23\n",
      "   --- ------------------------------------ 8.9/101.7 MB 24.4 kB/s eta 1:03:23\n",
      "   --- ------------------------------------ 8.9/101.7 MB 24.4 kB/s eta 1:03:23\n",
      "   --- ------------------------------------ 8.9/101.7 MB 24.4 kB/s eta 1:03:23\n",
      "   --- ------------------------------------ 8.9/101.7 MB 24.4 kB/s eta 1:03:23\n",
      "   --- ------------------------------------ 8.9/101.7 MB 24.4 kB/s eta 1:03:23\n",
      "   --- ------------------------------------ 8.9/101.7 MB 24.4 kB/s eta 1:03:23\n",
      "   --- ------------------------------------ 8.9/101.7 MB 24.4 kB/s eta 1:03:23\n",
      "   --- ------------------------------------ 8.9/101.7 MB 24.4 kB/s eta 1:03:23\n",
      "   --- ------------------------------------ 8.9/101.7 MB 24.4 kB/s eta 1:03:23\n",
      "   --- ------------------------------------ 8.9/101.7 MB 24.4 kB/s eta 1:03:23\n",
      "   --- ------------------------------------ 8.9/101.7 MB 24.4 kB/s eta 1:03:23\n",
      "   --- ------------------------------------ 8.9/101.7 MB 24.4 kB/s eta 1:03:23\n",
      "   --- ------------------------------------ 8.9/101.7 MB 24.4 kB/s eta 1:03:23\n",
      "   --- ------------------------------------ 8.9/101.7 MB 24.4 kB/s eta 1:03:23\n",
      "   --- ------------------------------------ 8.9/101.7 MB 24.4 kB/s eta 1:03:23\n",
      "   --- ------------------------------------ 8.9/101.7 MB 24.4 kB/s eta 1:03:23\n",
      "   --- ------------------------------------ 8.9/101.7 MB 24.4 kB/s eta 1:03:23\n",
      "   --- ------------------------------------ 8.9/101.7 MB 24.4 kB/s eta 1:03:23\n",
      "   --- ------------------------------------ 8.9/101.7 MB 24.4 kB/s eta 1:03:23\n",
      "   --- ------------------------------------ 8.9/101.7 MB 24.4 kB/s eta 1:03:23\n",
      "   --- ------------------------------------ 9.2/101.7 MB 20.5 kB/s eta 1:15:07\n",
      "   --- ------------------------------------ 9.2/101.7 MB 20.5 kB/s eta 1:15:07\n",
      "   --- ------------------------------------ 9.2/101.7 MB 20.5 kB/s eta 1:15:07\n",
      "   --- ------------------------------------ 9.2/101.7 MB 20.5 kB/s eta 1:15:07\n",
      "   --- ------------------------------------ 9.2/101.7 MB 20.5 kB/s eta 1:15:07\n",
      "   --- ------------------------------------ 9.2/101.7 MB 20.5 kB/s eta 1:15:07\n",
      "   --- ------------------------------------ 9.2/101.7 MB 20.5 kB/s eta 1:15:07\n",
      "   --- ------------------------------------ 9.2/101.7 MB 20.5 kB/s eta 1:15:07\n",
      "   --- ------------------------------------ 9.2/101.7 MB 20.5 kB/s eta 1:15:07\n",
      "   --- ------------------------------------ 9.2/101.7 MB 20.5 kB/s eta 1:15:07\n",
      "   --- ------------------------------------ 9.2/101.7 MB 20.5 kB/s eta 1:15:07\n",
      "   --- ------------------------------------ 9.2/101.7 MB 20.5 kB/s eta 1:15:07\n",
      "   --- ------------------------------------ 9.2/101.7 MB 20.5 kB/s eta 1:15:07\n",
      "   --- ------------------------------------ 9.2/101.7 MB 20.5 kB/s eta 1:15:07\n",
      "   --- ------------------------------------ 9.2/101.7 MB 20.5 kB/s eta 1:15:07\n",
      "   --- ------------------------------------ 9.2/101.7 MB 20.5 kB/s eta 1:15:07\n",
      "   --- ------------------------------------ 9.2/101.7 MB 20.5 kB/s eta 1:15:07\n",
      "   --- ------------------------------------ 9.2/101.7 MB 20.5 kB/s eta 1:15:07\n",
      "   --- ------------------------------------ 9.2/101.7 MB 20.5 kB/s eta 1:15:07\n",
      "   --- ------------------------------------ 9.2/101.7 MB 20.5 kB/s eta 1:15:07\n",
      "   --- ------------------------------------ 9.2/101.7 MB 20.5 kB/s eta 1:15:07\n",
      "   --- ------------------------------------ 9.2/101.7 MB 20.5 kB/s eta 1:15:07\n",
      "   --- ------------------------------------ 9.2/101.7 MB 20.5 kB/s eta 1:15:07\n",
      "   --- ------------------------------------ 9.2/101.7 MB 20.5 kB/s eta 1:15:07\n",
      "   --- ------------------------------------ 9.2/101.7 MB 20.5 kB/s eta 1:15:07\n",
      "   --- ------------------------------------ 9.2/101.7 MB 20.5 kB/s eta 1:15:07\n",
      "   --- ------------------------------------ 9.2/101.7 MB 20.5 kB/s eta 1:15:07\n",
      "   --- ------------------------------------ 9.2/101.7 MB 20.5 kB/s eta 1:15:07\n",
      "   --- ------------------------------------ 9.2/101.7 MB 20.5 kB/s eta 1:15:07\n",
      "   --- ------------------------------------ 9.2/101.7 MB 20.5 kB/s eta 1:15:07\n",
      "   --- ------------------------------------ 9.2/101.7 MB 20.5 kB/s eta 1:15:07\n",
      "   --- ------------------------------------ 9.2/101.7 MB 20.5 kB/s eta 1:15:07\n",
      "   --- ------------------------------------ 9.2/101.7 MB 20.5 kB/s eta 1:15:07\n",
      "   --- ------------------------------------ 9.2/101.7 MB 20.5 kB/s eta 1:15:07\n",
      "   --- ------------------------------------ 9.2/101.7 MB 20.5 kB/s eta 1:15:07\n",
      "   --- ------------------------------------ 9.2/101.7 MB 20.5 kB/s eta 1:15:07\n",
      "   --- ------------------------------------ 9.2/101.7 MB 20.5 kB/s eta 1:15:07\n",
      "   --- ------------------------------------ 9.2/101.7 MB 20.5 kB/s eta 1:15:07\n",
      "   --- ------------------------------------ 9.2/101.7 MB 20.5 kB/s eta 1:15:07\n",
      "   --- ------------------------------------ 9.2/101.7 MB 20.5 kB/s eta 1:15:07\n",
      "   --- ------------------------------------ 9.2/101.7 MB 20.5 kB/s eta 1:15:07\n",
      "   --- ------------------------------------ 9.2/101.7 MB 20.5 kB/s eta 1:15:07\n",
      "   --- ------------------------------------ 9.4/101.7 MB 21.2 kB/s eta 1:12:40\n",
      "   --- ------------------------------------ 9.4/101.7 MB 21.2 kB/s eta 1:12:40\n",
      "   --- ------------------------------------ 9.4/101.7 MB 21.2 kB/s eta 1:12:40\n",
      "   --- ------------------------------------ 9.4/101.7 MB 21.2 kB/s eta 1:12:40\n",
      "   --- ------------------------------------ 9.4/101.7 MB 21.2 kB/s eta 1:12:40\n",
      "   --- ------------------------------------ 9.4/101.7 MB 21.2 kB/s eta 1:12:40\n",
      "   --- ------------------------------------ 9.4/101.7 MB 21.2 kB/s eta 1:12:40\n",
      "   --- ------------------------------------ 9.4/101.7 MB 21.2 kB/s eta 1:12:40\n",
      "   --- ------------------------------------ 9.4/101.7 MB 21.2 kB/s eta 1:12:40\n",
      "   --- ------------------------------------ 9.4/101.7 MB 21.2 kB/s eta 1:12:40\n",
      "   --- ------------------------------------ 9.4/101.7 MB 21.2 kB/s eta 1:12:40\n",
      "   --- ------------------------------------ 9.4/101.7 MB 21.2 kB/s eta 1:12:40\n",
      "   --- ------------------------------------ 9.4/101.7 MB 21.2 kB/s eta 1:12:40\n",
      "   --- ------------------------------------ 9.4/101.7 MB 21.2 kB/s eta 1:12:40\n",
      "   --- ------------------------------------ 9.4/101.7 MB 21.2 kB/s eta 1:12:40\n",
      "   --- ------------------------------------ 9.4/101.7 MB 21.2 kB/s eta 1:12:40\n",
      "   --- ------------------------------------ 9.4/101.7 MB 21.2 kB/s eta 1:12:40\n",
      "   --- ------------------------------------ 9.4/101.7 MB 21.2 kB/s eta 1:12:40\n",
      "   --- ------------------------------------ 9.4/101.7 MB 21.2 kB/s eta 1:12:40\n",
      "   --- ------------------------------------ 9.4/101.7 MB 21.2 kB/s eta 1:12:40\n",
      "   --- ------------------------------------ 9.4/101.7 MB 21.2 kB/s eta 1:12:40\n",
      "   --- ------------------------------------ 9.4/101.7 MB 21.2 kB/s eta 1:12:40\n",
      "   --- ------------------------------------ 9.4/101.7 MB 21.2 kB/s eta 1:12:40\n",
      "   --- ------------------------------------ 9.4/101.7 MB 21.2 kB/s eta 1:12:40\n",
      "   --- ------------------------------------ 9.4/101.7 MB 21.2 kB/s eta 1:12:40\n",
      "   --- ------------------------------------ 9.4/101.7 MB 21.2 kB/s eta 1:12:40\n",
      "   --- ------------------------------------ 9.4/101.7 MB 21.2 kB/s eta 1:12:40\n",
      "   --- ------------------------------------ 9.4/101.7 MB 21.2 kB/s eta 1:12:40\n",
      "   --- ------------------------------------ 9.4/101.7 MB 21.2 kB/s eta 1:12:40\n",
      "   --- ------------------------------------ 9.4/101.7 MB 21.2 kB/s eta 1:12:40\n",
      "   --- ------------------------------------ 9.4/101.7 MB 21.2 kB/s eta 1:12:40\n",
      "   --- ------------------------------------ 9.4/101.7 MB 21.2 kB/s eta 1:12:40\n",
      "   --- ------------------------------------ 9.4/101.7 MB 21.2 kB/s eta 1:12:40\n",
      "   --- ------------------------------------ 9.4/101.7 MB 21.2 kB/s eta 1:12:40\n",
      "   --- ------------------------------------ 9.4/101.7 MB 21.2 kB/s eta 1:12:40\n",
      "   --- ------------------------------------ 9.4/101.7 MB 21.2 kB/s eta 1:12:40\n",
      "   --- ------------------------------------ 9.4/101.7 MB 21.2 kB/s eta 1:12:40\n",
      "   --- ------------------------------------ 9.4/101.7 MB 21.2 kB/s eta 1:12:40\n",
      "   --- ------------------------------------ 9.4/101.7 MB 21.2 kB/s eta 1:12:40\n",
      "   --- ------------------------------------ 9.4/101.7 MB 21.2 kB/s eta 1:12:40\n",
      "   --- ------------------------------------ 9.4/101.7 MB 21.2 kB/s eta 1:12:40\n",
      "   --- ------------------------------------ 9.4/101.7 MB 21.2 kB/s eta 1:12:40\n",
      "   --- ------------------------------------ 9.4/101.7 MB 21.2 kB/s eta 1:12:40\n",
      "   --- ------------------------------------ 9.4/101.7 MB 21.2 kB/s eta 1:12:40\n",
      "   --- ------------------------------------ 9.4/101.7 MB 21.2 kB/s eta 1:12:40\n",
      "   --- ------------------------------------ 9.4/101.7 MB 21.2 kB/s eta 1:12:40\n",
      "   --- ------------------------------------ 9.4/101.7 MB 21.2 kB/s eta 1:12:40\n",
      "   --- ------------------------------------ 9.4/101.7 MB 21.2 kB/s eta 1:12:40\n",
      "   --- ------------------------------------ 9.4/101.7 MB 21.2 kB/s eta 1:12:40\n",
      "   --- ------------------------------------ 9.4/101.7 MB 21.2 kB/s eta 1:12:40\n",
      "   --- ------------------------------------ 9.4/101.7 MB 21.2 kB/s eta 1:12:40\n",
      "   --- ------------------------------------ 9.4/101.7 MB 21.2 kB/s eta 1:12:40\n",
      "   --- ------------------------------------ 9.4/101.7 MB 21.2 kB/s eta 1:12:40\n",
      "   --- ------------------------------------ 9.4/101.7 MB 21.2 kB/s eta 1:12:40\n",
      "   --- ------------------------------------ 9.4/101.7 MB 21.2 kB/s eta 1:12:40\n",
      "   --- ------------------------------------ 9.4/101.7 MB 21.2 kB/s eta 1:12:40\n",
      "   --- ------------------------------------ 9.4/101.7 MB 21.2 kB/s eta 1:12:40\n",
      "   --- ------------------------------------ 9.4/101.7 MB 21.2 kB/s eta 1:12:40\n",
      "   --- ------------------------------------ 9.4/101.7 MB 21.2 kB/s eta 1:12:40\n",
      "   --- ------------------------------------ 9.4/101.7 MB 21.2 kB/s eta 1:12:40\n",
      "   --- ------------------------------------ 9.4/101.7 MB 21.2 kB/s eta 1:12:40\n",
      "   --- ------------------------------------ 9.4/101.7 MB 21.2 kB/s eta 1:12:40\n",
      "   --- ------------------------------------ 9.4/101.7 MB 21.2 kB/s eta 1:12:40\n",
      "   --- ------------------------------------ 9.4/101.7 MB 21.2 kB/s eta 1:12:40\n",
      "   --- ------------------------------------ 9.7/101.7 MB 23.6 kB/s eta 1:05:03\n",
      "   --- ------------------------------------ 9.7/101.7 MB 23.6 kB/s eta 1:05:03\n",
      "   --- ------------------------------------ 9.7/101.7 MB 23.6 kB/s eta 1:05:03\n",
      "   --- ------------------------------------ 9.7/101.7 MB 23.6 kB/s eta 1:05:03\n",
      "   --- ------------------------------------ 9.7/101.7 MB 23.6 kB/s eta 1:05:03\n",
      "   --- ------------------------------------ 9.7/101.7 MB 23.6 kB/s eta 1:05:03\n",
      "   --- ------------------------------------ 9.7/101.7 MB 23.6 kB/s eta 1:05:03\n",
      "   --- ------------------------------------ 9.7/101.7 MB 23.6 kB/s eta 1:05:03\n",
      "   --- ------------------------------------ 9.7/101.7 MB 23.6 kB/s eta 1:05:03\n",
      "   --- ------------------------------------ 9.7/101.7 MB 23.6 kB/s eta 1:05:03\n",
      "   --- ------------------------------------ 9.7/101.7 MB 23.6 kB/s eta 1:05:03\n",
      "   --- ------------------------------------ 9.7/101.7 MB 23.6 kB/s eta 1:05:03\n",
      "   --- ------------------------------------ 9.7/101.7 MB 23.6 kB/s eta 1:05:03\n",
      "   --- ------------------------------------ 9.7/101.7 MB 23.6 kB/s eta 1:05:03\n",
      "   --- ------------------------------------ 9.7/101.7 MB 23.6 kB/s eta 1:05:03\n",
      "   --- ------------------------------------ 9.7/101.7 MB 23.6 kB/s eta 1:05:03\n",
      "   --- ------------------------------------ 9.7/101.7 MB 23.6 kB/s eta 1:05:03\n",
      "   --- ------------------------------------ 9.7/101.7 MB 23.6 kB/s eta 1:05:03\n",
      "   --- ------------------------------------ 9.7/101.7 MB 23.6 kB/s eta 1:05:03\n",
      "   --- ------------------------------------ 9.7/101.7 MB 23.6 kB/s eta 1:05:03\n",
      "   --- ------------------------------------ 9.7/101.7 MB 23.6 kB/s eta 1:05:03\n",
      "   --- ------------------------------------ 9.7/101.7 MB 23.6 kB/s eta 1:05:03\n",
      "   --- ------------------------------------ 9.7/101.7 MB 23.6 kB/s eta 1:05:03\n",
      "   --- ------------------------------------ 9.7/101.7 MB 23.6 kB/s eta 1:05:03\n",
      "   --- ------------------------------------ 9.7/101.7 MB 23.6 kB/s eta 1:05:03\n",
      "   --- ------------------------------------ 9.7/101.7 MB 23.6 kB/s eta 1:05:03\n",
      "   --- ------------------------------------ 9.7/101.7 MB 23.6 kB/s eta 1:05:03\n",
      "   --- ------------------------------------ 9.7/101.7 MB 23.6 kB/s eta 1:05:03\n",
      "   --- ------------------------------------ 9.7/101.7 MB 23.6 kB/s eta 1:05:03\n",
      "   --- ------------------------------------ 9.7/101.7 MB 23.6 kB/s eta 1:05:03\n",
      "   --- ------------------------------------ 9.7/101.7 MB 23.6 kB/s eta 1:05:03\n",
      "   --- ------------------------------------ 9.7/101.7 MB 23.6 kB/s eta 1:05:03\n",
      "   --- ------------------------------------ 9.7/101.7 MB 23.6 kB/s eta 1:05:03\n",
      "   --- ------------------------------------ 9.7/101.7 MB 23.6 kB/s eta 1:05:03\n",
      "   --- ------------------------------------ 9.7/101.7 MB 23.6 kB/s eta 1:05:03\n",
      "   --- ------------------------------------ 9.7/101.7 MB 23.6 kB/s eta 1:05:03\n",
      "   --- ------------------------------------ 9.7/101.7 MB 23.6 kB/s eta 1:05:03\n",
      "   --- ------------------------------------ 9.7/101.7 MB 23.6 kB/s eta 1:05:03\n",
      "   --- ------------------------------------ 9.7/101.7 MB 23.6 kB/s eta 1:05:03\n",
      "   --- ------------------------------------ 9.7/101.7 MB 23.6 kB/s eta 1:05:03\n",
      "   --- ------------------------------------ 9.7/101.7 MB 23.6 kB/s eta 1:05:03\n",
      "   --- ------------------------------------ 9.7/101.7 MB 23.6 kB/s eta 1:05:03\n",
      "   --- ------------------------------------ 9.7/101.7 MB 23.6 kB/s eta 1:05:03\n",
      "   --- ------------------------------------ 9.7/101.7 MB 23.6 kB/s eta 1:05:03\n",
      "   --- ------------------------------------ 9.7/101.7 MB 23.6 kB/s eta 1:05:03\n",
      "   --- ------------------------------------ 9.7/101.7 MB 23.6 kB/s eta 1:05:03\n",
      "   --- ------------------------------------ 9.7/101.7 MB 23.6 kB/s eta 1:05:03\n",
      "   --- ------------------------------------ 9.7/101.7 MB 23.6 kB/s eta 1:05:03\n",
      "   --- ------------------------------------ 9.7/101.7 MB 23.6 kB/s eta 1:05:03\n",
      "   --- ------------------------------------ 9.7/101.7 MB 23.6 kB/s eta 1:05:03\n",
      "   --- ------------------------------------ 9.7/101.7 MB 23.6 kB/s eta 1:05:03\n",
      "   --- ------------------------------------ 9.7/101.7 MB 23.6 kB/s eta 1:05:03\n",
      "   --- ------------------------------------ 9.7/101.7 MB 23.6 kB/s eta 1:05:03\n",
      "   --- ------------------------------------ 9.7/101.7 MB 23.6 kB/s eta 1:05:03\n",
      "   --- ------------------------------------ 9.7/101.7 MB 23.6 kB/s eta 1:05:03\n",
      "   --- ------------------------------------ 9.7/101.7 MB 23.6 kB/s eta 1:05:03\n",
      "   --- ------------------------------------ 9.7/101.7 MB 23.6 kB/s eta 1:05:03\n",
      "   --- ------------------------------------ 9.7/101.7 MB 23.6 kB/s eta 1:05:03\n",
      "   --- ------------------------------------ 9.7/101.7 MB 23.6 kB/s eta 1:05:03\n",
      "   --- ------------------------------------ 9.7/101.7 MB 23.6 kB/s eta 1:05:03\n",
      "   --- ------------------------------------ 9.7/101.7 MB 23.6 kB/s eta 1:05:03\n",
      "   --- ------------------------------------ 9.7/101.7 MB 23.6 kB/s eta 1:05:03\n",
      "   --- ------------------------------------ 9.7/101.7 MB 23.6 kB/s eta 1:05:03\n",
      "   --- ------------------------------------ 9.7/101.7 MB 23.6 kB/s eta 1:05:03\n",
      "   --- ------------------------------------ 9.7/101.7 MB 23.6 kB/s eta 1:05:03\n",
      "   --- ------------------------------------ 9.7/101.7 MB 23.6 kB/s eta 1:05:03\n",
      "   --- ------------------------------------ 9.7/101.7 MB 23.6 kB/s eta 1:05:03\n",
      "   --- ------------------------------------ 9.7/101.7 MB 23.6 kB/s eta 1:05:03\n",
      "   --- ------------------------------------ 9.7/101.7 MB 23.6 kB/s eta 1:05:03\n",
      "   --- ------------------------------------ 9.7/101.7 MB 23.6 kB/s eta 1:05:03\n",
      "   --- ------------------------------------ 9.7/101.7 MB 23.6 kB/s eta 1:05:03\n",
      "   --- ------------------------------------ 9.7/101.7 MB 23.6 kB/s eta 1:05:03\n",
      "   --- ------------------------------------ 9.7/101.7 MB 23.6 kB/s eta 1:05:03\n",
      "   --- ------------------------------------ 9.7/101.7 MB 23.6 kB/s eta 1:05:03\n",
      "   --- ------------------------------------ 9.7/101.7 MB 23.6 kB/s eta 1:05:03\n",
      "   --- ------------------------------------ 9.7/101.7 MB 23.6 kB/s eta 1:05:03\n",
      "   --- ------------------------------------ 9.7/101.7 MB 23.6 kB/s eta 1:05:03\n",
      "   --- ------------------------------------ 9.7/101.7 MB 23.6 kB/s eta 1:05:03\n",
      "   --- ------------------------------------ 9.7/101.7 MB 23.6 kB/s eta 1:05:03\n",
      "   --- ------------------------------------ 9.7/101.7 MB 23.6 kB/s eta 1:05:03\n",
      "   --- ------------------------------------ 9.7/101.7 MB 23.6 kB/s eta 1:05:03\n",
      "   --- ------------------------------------ 9.7/101.7 MB 23.6 kB/s eta 1:05:03\n",
      "   --- ------------------------------------ 9.7/101.7 MB 23.6 kB/s eta 1:05:03\n",
      "   --- ------------------------------------ 9.7/101.7 MB 23.6 kB/s eta 1:05:03\n",
      "   --- ------------------------------------ 9.7/101.7 MB 23.6 kB/s eta 1:05:03\n",
      "   --- ------------------------------------ 9.7/101.7 MB 23.6 kB/s eta 1:05:03\n",
      "   --- ------------------------------------ 9.7/101.7 MB 23.6 kB/s eta 1:05:03\n",
      "   --- ------------------------------------ 9.7/101.7 MB 23.6 kB/s eta 1:05:03\n",
      "   --- ------------------------------------ 9.7/101.7 MB 23.6 kB/s eta 1:05:03\n",
      "   --- ------------------------------------ 9.7/101.7 MB 23.6 kB/s eta 1:05:03\n",
      "   --- ------------------------------------ 9.7/101.7 MB 23.6 kB/s eta 1:05:03\n",
      "   --- ------------------------------------ 9.7/101.7 MB 23.6 kB/s eta 1:05:03\n",
      "   --- ------------------------------------ 9.7/101.7 MB 23.6 kB/s eta 1:05:03\n",
      "   --- ------------------------------------ 9.7/101.7 MB 23.6 kB/s eta 1:05:03\n",
      "   --- ------------------------------------ 9.7/101.7 MB 23.6 kB/s eta 1:05:03\n",
      "   --- ------------------------------------ 9.7/101.7 MB 23.6 kB/s eta 1:05:03\n",
      "   --- ------------------------------------ 9.7/101.7 MB 23.6 kB/s eta 1:05:03\n",
      "   --- ------------------------------------ 9.7/101.7 MB 23.6 kB/s eta 1:05:03\n",
      "   --- ------------------------------------ 9.7/101.7 MB 23.6 kB/s eta 1:05:03\n",
      "   --- ------------------------------------ 9.7/101.7 MB 23.6 kB/s eta 1:05:03\n",
      "   --- ------------------------------------ 9.7/101.7 MB 23.6 kB/s eta 1:05:03\n",
      "   --- ------------------------------------ 9.7/101.7 MB 23.6 kB/s eta 1:05:03\n",
      "Requirement already satisfied: pyqlib[all] in c:\\users\\kiit\\appdata\\roaming\\python\\python312\\site-packages (0.9.6)"
     ]
    },
    {
     "name": "stderr",
     "output_type": "stream",
     "text": [
      "WARNING: pyqlib 0.9.6 does not provide the extra 'all'"
     ]
    },
    {
     "name": "stdout",
     "output_type": "stream",
     "text": [
      "\n",
      "Requirement already satisfied: pyyaml in c:\\users\\kiit\\appdata\\roaming\\python\\python312\\site-packages (from pyqlib[all]) (6.0.2)"
     ]
    },
    {
     "name": "stderr",
     "output_type": "stream",
     "text": [
      "\n"
     ]
    },
    {
     "name": "stdout",
     "output_type": "stream",
     "text": [
      "\n",
      "Requirement already satisfied: numpy in c:\\users\\kiit\\anaconda3\\lib\\site-packages (from pyqlib[all]) (1.26.4)\n",
      "Requirement already satisfied: pandas in c:\\users\\kiit\\appdata\\roaming\\python\\python312\\site-packages (from pyqlib[all]) (2.2.3)\n",
      "Requirement already satisfied: mlflow in c:\\users\\kiit\\appdata\\roaming\\python\\python312\\site-packages (from pyqlib[all]) (2.21.0)\n",
      "Requirement already satisfied: filelock>=3.16.0 in c:\\users\\kiit\\appdata\\roaming\\python\\python312\\site-packages (from pyqlib[all]) (3.18.0)\n",
      "Requirement already satisfied: redis in c:\\users\\kiit\\appdata\\roaming\\python\\python312\\site-packages (from pyqlib[all]) (5.2.1)\n",
      "Requirement already satisfied: dill in c:\\users\\kiit\\appdata\\roaming\\python\\python312\\site-packages (from pyqlib[all]) (0.3.9)\n",
      "Requirement already satisfied: fire in c:\\users\\kiit\\appdata\\roaming\\python\\python312\\site-packages (from pyqlib[all]) (0.7.0)\n",
      "Requirement already satisfied: ruamel.yaml>=0.17.38 in c:\\users\\kiit\\appdata\\roaming\\python\\python312\\site-packages (from pyqlib[all]) (0.18.10)\n",
      "Requirement already satisfied: python-redis-lock in c:\\users\\kiit\\appdata\\roaming\\python\\python312\\site-packages (from pyqlib[all]) (4.0.0)\n",
      "Requirement already satisfied: tqdm in c:\\users\\kiit\\appdata\\roaming\\python\\python312\\site-packages (from pyqlib[all]) (4.67.1)\n",
      "Requirement already satisfied: pymongo in c:\\users\\kiit\\appdata\\roaming\\python\\python312\\site-packages (from pyqlib[all]) (4.11.3)\n",
      "Requirement already satisfied: loguru in c:\\users\\kiit\\appdata\\roaming\\python\\python312\\site-packages (from pyqlib[all]) (0.7.3)\n",
      "Requirement already satisfied: lightgbm in c:\\users\\kiit\\appdata\\roaming\\python\\python312\\site-packages (from pyqlib[all]) (4.6.0)\n",
      "Requirement already satisfied: gym in c:\\users\\kiit\\appdata\\roaming\\python\\python312\\site-packages (from pyqlib[all]) (0.26.2)\n",
      "Requirement already satisfied: cvxpy in c:\\users\\kiit\\appdata\\roaming\\python\\python312\\site-packages (from pyqlib[all]) (1.6.4)\n",
      "Requirement already satisfied: joblib in c:\\users\\kiit\\appdata\\roaming\\python\\python312\\site-packages (from pyqlib[all]) (1.4.2)\n",
      "Requirement already satisfied: matplotlib in c:\\users\\kiit\\appdata\\roaming\\python\\python312\\site-packages (from pyqlib[all]) (3.10.1)\n",
      "Requirement already satisfied: jupyter in c:\\users\\kiit\\appdata\\roaming\\python\\python312\\site-packages (from pyqlib[all]) (1.1.1)\n",
      "Requirement already satisfied: nbconvert in c:\\users\\kiit\\appdata\\roaming\\python\\python312\\site-packages (from pyqlib[all]) (7.16.6)\n",
      "Requirement already satisfied: ruamel.yaml.clib>=0.2.7 in c:\\users\\kiit\\appdata\\roaming\\python\\python312\\site-packages (from ruamel.yaml>=0.17.38->pyqlib[all]) (0.2.12)\n",
      "Requirement already satisfied: osqp>=0.6.2 in c:\\users\\kiit\\appdata\\roaming\\python\\python312\\site-packages (from cvxpy->pyqlib[all]) (0.6.7.post3)\n",
      "Requirement already satisfied: clarabel>=0.5.0 in c:\\users\\kiit\\appdata\\roaming\\python\\python312\\site-packages (from cvxpy->pyqlib[all]) (0.10.0)\n",
      "Requirement already satisfied: scs>=3.2.4.post1 in c:\\users\\kiit\\appdata\\roaming\\python\\python312\\site-packages (from cvxpy->pyqlib[all]) (3.2.7.post2)\n",
      "Requirement already satisfied: scipy>=1.11.0 in c:\\users\\kiit\\appdata\\roaming\\python\\python312\\site-packages (from cvxpy->pyqlib[all]) (1.15.2)\n",
      "Requirement already satisfied: termcolor in c:\\users\\kiit\\appdata\\roaming\\python\\python312\\site-packages (from fire->pyqlib[all]) (2.5.0)\n",
      "Requirement already satisfied: cloudpickle>=1.2.0 in c:\\users\\kiit\\appdata\\roaming\\python\\python312\\site-packages (from gym->pyqlib[all]) (3.1.1)\n",
      "Requirement already satisfied: gym_notices>=0.0.4 in c:\\users\\kiit\\appdata\\roaming\\python\\python312\\site-packages (from gym->pyqlib[all]) (0.0.8)\n",
      "Requirement already satisfied: notebook in c:\\users\\kiit\\appdata\\roaming\\python\\python312\\site-packages (from jupyter->pyqlib[all]) (7.3.3)\n",
      "Requirement already satisfied: jupyter-console in c:\\users\\kiit\\appdata\\roaming\\python\\python312\\site-packages (from jupyter->pyqlib[all]) (6.6.3)\n",
      "Requirement already satisfied: ipykernel in c:\\users\\kiit\\appdata\\roaming\\python\\python312\\site-packages (from jupyter->pyqlib[all]) (6.29.5)\n",
      "Requirement already satisfied: ipywidgets in c:\\users\\kiit\\appdata\\roaming\\python\\python312\\site-packages (from jupyter->pyqlib[all]) (8.1.5)\n",
      "Requirement already satisfied: jupyterlab in c:\\users\\kiit\\appdata\\roaming\\python\\python312\\site-packages (from jupyter->pyqlib[all]) (4.3.6)\n",
      "Requirement already satisfied: colorama>=0.3.4 in c:\\users\\kiit\\appdata\\roaming\\python\\python312\\site-packages (from loguru->pyqlib[all]) (0.4.6)\n",
      "Requirement already satisfied: win32-setctime>=1.0.0 in c:\\users\\kiit\\appdata\\roaming\\python\\python312\\site-packages (from loguru->pyqlib[all]) (1.2.0)\n",
      "Requirement already satisfied: contourpy>=1.0.1 in c:\\users\\kiit\\appdata\\roaming\\python\\python312\\site-packages (from matplotlib->pyqlib[all]) (1.3.1)\n",
      "Requirement already satisfied: cycler>=0.10 in c:\\users\\kiit\\appdata\\roaming\\python\\python312\\site-packages (from matplotlib->pyqlib[all]) (0.12.1)\n",
      "Requirement already satisfied: fonttools>=4.22.0 in c:\\users\\kiit\\appdata\\roaming\\python\\python312\\site-packages (from matplotlib->pyqlib[all]) (4.56.0)\n",
      "Requirement already satisfied: kiwisolver>=1.3.1 in c:\\users\\kiit\\appdata\\roaming\\python\\python312\\site-packages (from matplotlib->pyqlib[all]) (1.4.8)\n",
      "Requirement already satisfied: packaging>=20.0 in c:\\users\\kiit\\appdata\\roaming\\python\\python312\\site-packages (from matplotlib->pyqlib[all]) (24.2)\n",
      "Requirement already satisfied: pillow>=8 in c:\\users\\kiit\\appdata\\roaming\\python\\python312\\site-packages (from matplotlib->pyqlib[all]) (11.1.0)\n",
      "Requirement already satisfied: pyparsing>=2.3.1 in c:\\users\\kiit\\appdata\\roaming\\python\\python312\\site-packages (from matplotlib->pyqlib[all]) (3.2.1)\n",
      "Requirement already satisfied: python-dateutil>=2.7 in c:\\users\\kiit\\appdata\\roaming\\python\\python312\\site-packages (from matplotlib->pyqlib[all]) (2.9.0.post0)\n",
      "Requirement already satisfied: mlflow-skinny==2.21.0 in c:\\users\\kiit\\appdata\\roaming\\python\\python312\\site-packages (from mlflow->pyqlib[all]) (2.21.0)\n",
      "Requirement already satisfied: Flask<4 in c:\\users\\kiit\\appdata\\roaming\\python\\python312\\site-packages (from mlflow->pyqlib[all]) (3.1.0)\n",
      "Requirement already satisfied: Jinja2<4,>=3.0 in c:\\users\\kiit\\appdata\\roaming\\python\\python312\\site-packages (from mlflow->pyqlib[all]) (3.1.6)\n",
      "Requirement already satisfied: alembic!=1.10.0,<2 in c:\\users\\kiit\\appdata\\roaming\\python\\python312\\site-packages (from mlflow->pyqlib[all]) (1.15.1)\n",
      "Requirement already satisfied: docker<8,>=4.0.0 in c:\\users\\kiit\\appdata\\roaming\\python\\python312\\site-packages (from mlflow->pyqlib[all]) (7.1.0)\n",
      "Requirement already satisfied: graphene<4 in c:\\users\\kiit\\appdata\\roaming\\python\\python312\\site-packages (from mlflow->pyqlib[all]) (3.4.3)\n",
      "Requirement already satisfied: markdown<4,>=3.3 in c:\\users\\kiit\\appdata\\roaming\\python\\python312\\site-packages (from mlflow->pyqlib[all]) (3.7)\n",
      "Requirement already satisfied: pyarrow<20,>=4.0.0 in c:\\users\\kiit\\appdata\\roaming\\python\\python312\\site-packages (from mlflow->pyqlib[all]) (19.0.1)\n",
      "Requirement already satisfied: scikit-learn<2 in c:\\users\\kiit\\appdata\\roaming\\python\\python312\\site-packages (from mlflow->pyqlib[all]) (1.6.1)\n",
      "Requirement already satisfied: sqlalchemy<3,>=1.4.0 in c:\\users\\kiit\\appdata\\roaming\\python\\python312\\site-packages (from mlflow->pyqlib[all]) (2.0.39)\n",
      "Requirement already satisfied: waitress<4 in c:\\users\\kiit\\appdata\\roaming\\python\\python312\\site-packages (from mlflow->pyqlib[all]) (3.0.2)\n",
      "Requirement already satisfied: cachetools<6,>=5.0.0 in c:\\users\\kiit\\appdata\\roaming\\python\\python312\\site-packages (from mlflow-skinny==2.21.0->mlflow->pyqlib[all]) (5.5.2)\n",
      "Requirement already satisfied: click<9,>=7.0 in c:\\users\\kiit\\appdata\\roaming\\python\\python312\\site-packages (from mlflow-skinny==2.21.0->mlflow->pyqlib[all]) (8.1.8)\n",
      "Requirement already satisfied: databricks-sdk<1,>=0.20.0 in c:\\users\\kiit\\appdata\\roaming\\python\\python312\\site-packages (from mlflow-skinny==2.21.0->mlflow->pyqlib[all]) (0.46.0)\n",
      "Requirement already satisfied: fastapi<1 in c:\\users\\kiit\\appdata\\roaming\\python\\python312\\site-packages (from mlflow-skinny==2.21.0->mlflow->pyqlib[all]) (0.115.11)\n",
      "Requirement already satisfied: gitpython<4,>=3.1.9 in c:\\users\\kiit\\appdata\\roaming\\python\\python312\\site-packages (from mlflow-skinny==2.21.0->mlflow->pyqlib[all]) (3.1.44)\n",
      "Requirement already satisfied: importlib_metadata!=4.7.0,<9,>=3.7.0 in c:\\users\\kiit\\appdata\\roaming\\python\\python312\\site-packages (from mlflow-skinny==2.21.0->mlflow->pyqlib[all]) (8.6.1)\n",
      "Requirement already satisfied: opentelemetry-api<3,>=1.9.0 in c:\\users\\kiit\\appdata\\roaming\\python\\python312\\site-packages (from mlflow-skinny==2.21.0->mlflow->pyqlib[all]) (1.31.0)\n",
      "Requirement already satisfied: opentelemetry-sdk<3,>=1.9.0 in c:\\users\\kiit\\appdata\\roaming\\python\\python312\\site-packages (from mlflow-skinny==2.21.0->mlflow->pyqlib[all]) (1.31.0)\n",
      "Requirement already satisfied: protobuf<6,>=3.12.0 in c:\\users\\kiit\\appdata\\roaming\\python\\python312\\site-packages (from mlflow-skinny==2.21.0->mlflow->pyqlib[all]) (5.29.4)\n",
      "Requirement already satisfied: pydantic<3,>=1.10.8 in c:\\users\\kiit\\appdata\\roaming\\python\\python312\\site-packages (from mlflow-skinny==2.21.0->mlflow->pyqlib[all]) (2.10.6)\n",
      "Requirement already satisfied: requests<3,>=2.17.3 in c:\\users\\kiit\\appdata\\roaming\\python\\python312\\site-packages (from mlflow-skinny==2.21.0->mlflow->pyqlib[all]) (2.32.3)\n",
      "Requirement already satisfied: sqlparse<1,>=0.4.0 in c:\\users\\kiit\\appdata\\roaming\\python\\python312\\site-packages (from mlflow-skinny==2.21.0->mlflow->pyqlib[all]) (0.5.3)\n",
      "Requirement already satisfied: typing-extensions<5,>=4.0.0 in c:\\users\\kiit\\appdata\\roaming\\python\\python312\\site-packages (from mlflow-skinny==2.21.0->mlflow->pyqlib[all]) (4.12.2)\n",
      "Requirement already satisfied: uvicorn<1 in c:\\users\\kiit\\appdata\\roaming\\python\\python312\\site-packages (from mlflow-skinny==2.21.0->mlflow->pyqlib[all]) (0.34.0)\n",
      "Requirement already satisfied: pytz>=2020.1 in c:\\users\\kiit\\appdata\\roaming\\python\\python312\\site-packages (from pandas->pyqlib[all]) (2025.1)\n",
      "Requirement already satisfied: tzdata>=2022.7 in c:\\users\\kiit\\appdata\\roaming\\python\\python312\\site-packages (from pandas->pyqlib[all]) (2025.1)\n",
      "Requirement already satisfied: beautifulsoup4 in c:\\users\\kiit\\appdata\\roaming\\python\\python312\\site-packages (from nbconvert->pyqlib[all]) (4.13.3)\n",
      "Requirement already satisfied: bleach!=5.0.0 in c:\\users\\kiit\\appdata\\roaming\\python\\python312\\site-packages (from bleach[css]!=5.0.0->nbconvert->pyqlib[all]) (6.2.0)\n",
      "Requirement already satisfied: defusedxml in c:\\users\\kiit\\appdata\\roaming\\python\\python312\\site-packages (from nbconvert->pyqlib[all]) (0.7.1)\n",
      "Requirement already satisfied: jupyter-core>=4.7 in c:\\users\\kiit\\appdata\\roaming\\python\\python312\\site-packages (from nbconvert->pyqlib[all]) (5.7.2)\n",
      "Requirement already satisfied: jupyterlab-pygments in c:\\users\\kiit\\appdata\\roaming\\python\\python312\\site-packages (from nbconvert->pyqlib[all]) (0.3.0)\n",
      "Requirement already satisfied: markupsafe>=2.0 in c:\\users\\kiit\\appdata\\roaming\\python\\python312\\site-packages (from nbconvert->pyqlib[all]) (3.0.2)\n",
      "Requirement already satisfied: mistune<4,>=2.0.3 in c:\\users\\kiit\\appdata\\roaming\\python\\python312\\site-packages (from nbconvert->pyqlib[all]) (3.1.3)\n",
      "Requirement already satisfied: nbclient>=0.5.0 in c:\\users\\kiit\\appdata\\roaming\\python\\python312\\site-packages (from nbconvert->pyqlib[all]) (0.10.2)\n",
      "Requirement already satisfied: nbformat>=5.7 in c:\\users\\kiit\\appdata\\roaming\\python\\python312\\site-packages (from nbconvert->pyqlib[all]) (5.10.4)\n",
      "Requirement already satisfied: pandocfilters>=1.4.1 in c:\\users\\kiit\\appdata\\roaming\\python\\python312\\site-packages (from nbconvert->pyqlib[all]) (1.5.1)\n",
      "Requirement already satisfied: pygments>=2.4.1 in c:\\users\\kiit\\appdata\\roaming\\python\\python312\\site-packages (from nbconvert->pyqlib[all]) (2.19.1)\n",
      "Requirement already satisfied: traitlets>=5.1 in c:\\users\\kiit\\appdata\\roaming\\python\\python312\\site-packages (from nbconvert->pyqlib[all]) (5.14.3)\n",
      "Requirement already satisfied: dnspython<3.0.0,>=1.16.0 in c:\\users\\kiit\\appdata\\roaming\\python\\python312\\site-packages (from pymongo->pyqlib[all]) (2.7.0)\n",
      "Requirement already satisfied: Mako in c:\\users\\kiit\\appdata\\roaming\\python\\python312\\site-packages (from alembic!=1.10.0,<2->mlflow->pyqlib[all]) (1.3.9)\n",
      "Requirement already satisfied: webencodings in c:\\users\\kiit\\appdata\\roaming\\python\\python312\\site-packages (from bleach!=5.0.0->bleach[css]!=5.0.0->nbconvert->pyqlib[all]) (0.5.1)\n",
      "Requirement already satisfied: tinycss2<1.5,>=1.1.0 in c:\\users\\kiit\\appdata\\roaming\\python\\python312\\site-packages (from bleach[css]!=5.0.0->nbconvert->pyqlib[all]) (1.4.0)\n",
      "Requirement already satisfied: pywin32>=304 in c:\\users\\kiit\\appdata\\roaming\\python\\python312\\site-packages (from docker<8,>=4.0.0->mlflow->pyqlib[all]) (310)\n",
      "Requirement already satisfied: urllib3>=1.26.0 in c:\\users\\kiit\\appdata\\roaming\\python\\python312\\site-packages (from docker<8,>=4.0.0->mlflow->pyqlib[all]) (2.3.0)\n",
      "Requirement already satisfied: Werkzeug>=3.1 in c:\\users\\kiit\\appdata\\roaming\\python\\python312\\site-packages (from Flask<4->mlflow->pyqlib[all]) (3.1.3)\n",
      "Requirement already satisfied: itsdangerous>=2.2 in c:\\users\\kiit\\appdata\\roaming\\python\\python312\\site-packages (from Flask<4->mlflow->pyqlib[all]) (2.2.0)\n",
      "Requirement already satisfied: blinker>=1.9 in c:\\users\\kiit\\appdata\\roaming\\python\\python312\\site-packages (from Flask<4->mlflow->pyqlib[all]) (1.9.0)\n",
      "Requirement already satisfied: graphql-core<3.3,>=3.1 in c:\\users\\kiit\\appdata\\roaming\\python\\python312\\site-packages (from graphene<4->mlflow->pyqlib[all]) (3.2.6)\n",
      "Requirement already satisfied: graphql-relay<3.3,>=3.1 in c:\\users\\kiit\\appdata\\roaming\\python\\python312\\site-packages (from graphene<4->mlflow->pyqlib[all]) (3.2.0)\n",
      "Requirement already satisfied: platformdirs>=2.5 in c:\\users\\kiit\\appdata\\roaming\\python\\python312\\site-packages (from jupyter-core>=4.7->nbconvert->pyqlib[all]) (4.3.7)\n",
      "Requirement already satisfied: jupyter-client>=6.1.12 in c:\\users\\kiit\\appdata\\roaming\\python\\python312\\site-packages (from nbclient>=0.5.0->nbconvert->pyqlib[all]) (8.6.3)\n",
      "Requirement already satisfied: fastjsonschema>=2.15 in c:\\users\\kiit\\appdata\\roaming\\python\\python312\\site-packages (from nbformat>=5.7->nbconvert->pyqlib[all]) (2.21.1)\n",
      "Requirement already satisfied: jsonschema>=2.6 in c:\\users\\kiit\\appdata\\roaming\\python\\python312\\site-packages (from nbformat>=5.7->nbconvert->pyqlib[all]) (4.23.0)\n",
      "Requirement already satisfied: qdldl in c:\\users\\kiit\\appdata\\roaming\\python\\python312\\site-packages (from osqp>=0.6.2->cvxpy->pyqlib[all]) (0.1.7.post5)\n",
      "Requirement already satisfied: six>=1.5 in c:\\users\\kiit\\appdata\\roaming\\python\\python312\\site-packages (from python-dateutil>=2.7->matplotlib->pyqlib[all]) (1.17.0)\n",
      "Requirement already satisfied: threadpoolctl>=3.1.0 in c:\\users\\kiit\\appdata\\roaming\\python\\python312\\site-packages (from scikit-learn<2->mlflow->pyqlib[all]) (3.6.0)\n",
      "Requirement already satisfied: greenlet!=0.4.17 in c:\\users\\kiit\\appdata\\roaming\\python\\python312\\site-packages (from sqlalchemy<3,>=1.4.0->mlflow->pyqlib[all]) (3.1.1)\n",
      "Requirement already satisfied: soupsieve>1.2 in c:\\users\\kiit\\appdata\\roaming\\python\\python312\\site-packages (from beautifulsoup4->nbconvert->pyqlib[all]) (2.6)\n",
      "Requirement already satisfied: comm>=0.1.1 in c:\\users\\kiit\\appdata\\roaming\\python\\python312\\site-packages (from ipykernel->jupyter->pyqlib[all]) (0.2.2)\n",
      "Requirement already satisfied: debugpy>=1.6.5 in c:\\users\\kiit\\appdata\\roaming\\python\\python312\\site-packages (from ipykernel->jupyter->pyqlib[all]) (1.8.13)\n",
      "Requirement already satisfied: ipython>=7.23.1 in c:\\users\\kiit\\appdata\\roaming\\python\\python312\\site-packages (from ipykernel->jupyter->pyqlib[all]) (9.0.2)\n",
      "Requirement already satisfied: matplotlib-inline>=0.1 in c:\\users\\kiit\\appdata\\roaming\\python\\python312\\site-packages (from ipykernel->jupyter->pyqlib[all]) (0.1.7)\n",
      "Requirement already satisfied: nest-asyncio in c:\\users\\kiit\\appdata\\roaming\\python\\python312\\site-packages (from ipykernel->jupyter->pyqlib[all]) (1.6.0)\n",
      "Requirement already satisfied: psutil in c:\\users\\kiit\\appdata\\roaming\\python\\python312\\site-packages (from ipykernel->jupyter->pyqlib[all]) (7.0.0)\n",
      "Requirement already satisfied: pyzmq>=24 in c:\\users\\kiit\\appdata\\roaming\\python\\python312\\site-packages (from ipykernel->jupyter->pyqlib[all]) (26.3.0)\n",
      "Requirement already satisfied: tornado>=6.1 in c:\\users\\kiit\\appdata\\roaming\\python\\python312\\site-packages (from ipykernel->jupyter->pyqlib[all]) (6.4.2)\n",
      "Requirement already satisfied: widgetsnbextension~=4.0.12 in c:\\users\\kiit\\appdata\\roaming\\python\\python312\\site-packages (from ipywidgets->jupyter->pyqlib[all]) (4.0.13)\n",
      "Requirement already satisfied: jupyterlab-widgets~=3.0.12 in c:\\users\\kiit\\appdata\\roaming\\python\\python312\\site-packages (from ipywidgets->jupyter->pyqlib[all]) (3.0.13)\n",
      "Requirement already satisfied: prompt-toolkit>=3.0.30 in c:\\users\\kiit\\appdata\\roaming\\python\\python312\\site-packages (from jupyter-console->jupyter->pyqlib[all]) (3.0.50)\n",
      "Requirement already satisfied: async-lru>=1.0.0 in c:\\users\\kiit\\appdata\\roaming\\python\\python312\\site-packages (from jupyterlab->jupyter->pyqlib[all]) (2.0.5)\n",
      "Requirement already satisfied: httpx>=0.25.0 in c:\\users\\kiit\\appdata\\roaming\\python\\python312\\site-packages (from jupyterlab->jupyter->pyqlib[all]) (0.28.1)\n",
      "Requirement already satisfied: jupyter-lsp>=2.0.0 in c:\\users\\kiit\\appdata\\roaming\\python\\python312\\site-packages (from jupyterlab->jupyter->pyqlib[all]) (2.2.5)\n",
      "Requirement already satisfied: jupyter-server<3,>=2.4.0 in c:\\users\\kiit\\appdata\\roaming\\python\\python312\\site-packages (from jupyterlab->jupyter->pyqlib[all]) (2.15.0)\n",
      "Requirement already satisfied: jupyterlab-server<3,>=2.27.1 in c:\\users\\kiit\\appdata\\roaming\\python\\python312\\site-packages (from jupyterlab->jupyter->pyqlib[all]) (2.27.3)\n",
      "Requirement already satisfied: notebook-shim>=0.2 in c:\\users\\kiit\\appdata\\roaming\\python\\python312\\site-packages (from jupyterlab->jupyter->pyqlib[all]) (0.2.4)\n",
      "Requirement already satisfied: setuptools>=40.8.0 in c:\\users\\kiit\\appdata\\roaming\\python\\python312\\site-packages (from jupyterlab->jupyter->pyqlib[all]) (77.0.1)\n",
      "Requirement already satisfied: google-auth~=2.0 in c:\\users\\kiit\\appdata\\roaming\\python\\python312\\site-packages (from databricks-sdk<1,>=0.20.0->mlflow-skinny==2.21.0->mlflow->pyqlib[all]) (2.38.0)\n",
      "Requirement already satisfied: starlette<0.47.0,>=0.40.0 in c:\\users\\kiit\\appdata\\roaming\\python\\python312\\site-packages (from fastapi<1->mlflow-skinny==2.21.0->mlflow->pyqlib[all]) (0.46.1)\n",
      "Requirement already satisfied: gitdb<5,>=4.0.1 in c:\\users\\kiit\\appdata\\roaming\\python\\python312\\site-packages (from gitpython<4,>=3.1.9->mlflow-skinny==2.21.0->mlflow->pyqlib[all]) (4.0.12)\n",
      "Requirement already satisfied: anyio in c:\\users\\kiit\\appdata\\roaming\\python\\python312\\site-packages (from httpx>=0.25.0->jupyterlab->jupyter->pyqlib[all]) (4.8.0)\n",
      "Requirement already satisfied: certifi in c:\\users\\kiit\\appdata\\roaming\\python\\python312\\site-packages (from httpx>=0.25.0->jupyterlab->jupyter->pyqlib[all]) (2025.1.31)\n",
      "Requirement already satisfied: httpcore==1.* in c:\\users\\kiit\\appdata\\roaming\\python\\python312\\site-packages (from httpx>=0.25.0->jupyterlab->jupyter->pyqlib[all]) (1.0.7)\n",
      "Requirement already satisfied: idna in c:\\users\\kiit\\appdata\\roaming\\python\\python312\\site-packages (from httpx>=0.25.0->jupyterlab->jupyter->pyqlib[all]) (3.10)\n",
      "Requirement already satisfied: h11<0.15,>=0.13 in c:\\users\\kiit\\appdata\\roaming\\python\\python312\\site-packages (from httpcore==1.*->httpx>=0.25.0->jupyterlab->jupyter->pyqlib[all]) (0.14.0)\n",
      "Requirement already satisfied: zipp>=3.20 in c:\\users\\kiit\\appdata\\roaming\\python\\python312\\site-packages (from importlib_metadata!=4.7.0,<9,>=3.7.0->mlflow-skinny==2.21.0->mlflow->pyqlib[all]) (3.21.0)\n",
      "Requirement already satisfied: decorator in c:\\users\\kiit\\appdata\\roaming\\python\\python312\\site-packages (from ipython>=7.23.1->ipykernel->jupyter->pyqlib[all]) (5.2.1)\n",
      "Requirement already satisfied: ipython-pygments-lexers in c:\\users\\kiit\\appdata\\roaming\\python\\python312\\site-packages (from ipython>=7.23.1->ipykernel->jupyter->pyqlib[all]) (1.1.1)\n",
      "Requirement already satisfied: jedi>=0.16 in c:\\users\\kiit\\appdata\\roaming\\python\\python312\\site-packages (from ipython>=7.23.1->ipykernel->jupyter->pyqlib[all]) (0.19.2)\n",
      "Requirement already satisfied: stack_data in c:\\users\\kiit\\appdata\\roaming\\python\\python312\\site-packages (from ipython>=7.23.1->ipykernel->jupyter->pyqlib[all]) (0.6.3)\n",
      "Requirement already satisfied: attrs>=22.2.0 in c:\\users\\kiit\\appdata\\roaming\\python\\python312\\site-packages (from jsonschema>=2.6->nbformat>=5.7->nbconvert->pyqlib[all]) (25.3.0)\n",
      "Requirement already satisfied: jsonschema-specifications>=2023.03.6 in c:\\users\\kiit\\appdata\\roaming\\python\\python312\\site-packages (from jsonschema>=2.6->nbformat>=5.7->nbconvert->pyqlib[all]) (2024.10.1)\n",
      "Requirement already satisfied: referencing>=0.28.4 in c:\\users\\kiit\\appdata\\roaming\\python\\python312\\site-packages (from jsonschema>=2.6->nbformat>=5.7->nbconvert->pyqlib[all]) (0.36.2)\n",
      "Requirement already satisfied: rpds-py>=0.7.1 in c:\\users\\kiit\\appdata\\roaming\\python\\python312\\site-packages (from jsonschema>=2.6->nbformat>=5.7->nbconvert->pyqlib[all]) (0.23.1)\n",
      "Requirement already satisfied: argon2-cffi>=21.1 in c:\\users\\kiit\\appdata\\roaming\\python\\python312\\site-packages (from jupyter-server<3,>=2.4.0->jupyterlab->jupyter->pyqlib[all]) (23.1.0)\n",
      "Requirement already satisfied: jupyter-events>=0.11.0 in c:\\users\\kiit\\appdata\\roaming\\python\\python312\\site-packages (from jupyter-server<3,>=2.4.0->jupyterlab->jupyter->pyqlib[all]) (0.12.0)\n",
      "Requirement already satisfied: jupyter-server-terminals>=0.4.4 in c:\\users\\kiit\\appdata\\roaming\\python\\python312\\site-packages (from jupyter-server<3,>=2.4.0->jupyterlab->jupyter->pyqlib[all]) (0.5.3)\n",
      "Requirement already satisfied: overrides>=5.0 in c:\\users\\kiit\\appdata\\roaming\\python\\python312\\site-packages (from jupyter-server<3,>=2.4.0->jupyterlab->jupyter->pyqlib[all]) (7.7.0)\n",
      "Requirement already satisfied: prometheus-client>=0.9 in c:\\users\\kiit\\appdata\\roaming\\python\\python312\\site-packages (from jupyter-server<3,>=2.4.0->jupyterlab->jupyter->pyqlib[all]) (0.21.1)\n",
      "Requirement already satisfied: pywinpty>=2.0.1 in c:\\users\\kiit\\appdata\\roaming\\python\\python312\\site-packages (from jupyter-server<3,>=2.4.0->jupyterlab->jupyter->pyqlib[all]) (2.0.15)\n",
      "Requirement already satisfied: send2trash>=1.8.2 in c:\\users\\kiit\\appdata\\roaming\\python\\python312\\site-packages (from jupyter-server<3,>=2.4.0->jupyterlab->jupyter->pyqlib[all]) (1.8.3)\n",
      "Requirement already satisfied: terminado>=0.8.3 in c:\\users\\kiit\\appdata\\roaming\\python\\python312\\site-packages (from jupyter-server<3,>=2.4.0->jupyterlab->jupyter->pyqlib[all]) (0.18.1)\n",
      "Requirement already satisfied: websocket-client>=1.7 in c:\\users\\kiit\\appdata\\roaming\\python\\python312\\site-packages (from jupyter-server<3,>=2.4.0->jupyterlab->jupyter->pyqlib[all]) (1.8.0)\n",
      "Requirement already satisfied: babel>=2.10 in c:\\users\\kiit\\appdata\\roaming\\python\\python312\\site-packages (from jupyterlab-server<3,>=2.27.1->jupyterlab->jupyter->pyqlib[all]) (2.17.0)\n",
      "Requirement already satisfied: json5>=0.9.0 in c:\\users\\kiit\\appdata\\roaming\\python\\python312\\site-packages (from jupyterlab-server<3,>=2.27.1->jupyterlab->jupyter->pyqlib[all]) (0.10.0)\n",
      "Requirement already satisfied: deprecated>=1.2.6 in c:\\users\\kiit\\appdata\\roaming\\python\\python312\\site-packages (from opentelemetry-api<3,>=1.9.0->mlflow-skinny==2.21.0->mlflow->pyqlib[all]) (1.2.18)\n",
      "Requirement already satisfied: opentelemetry-semantic-conventions==0.52b0 in c:\\users\\kiit\\appdata\\roaming\\python\\python312\\site-packages (from opentelemetry-sdk<3,>=1.9.0->mlflow-skinny==2.21.0->mlflow->pyqlib[all]) (0.52b0)\n",
      "Requirement already satisfied: wcwidth in c:\\users\\kiit\\appdata\\roaming\\python\\python312\\site-packages (from prompt-toolkit>=3.0.30->jupyter-console->jupyter->pyqlib[all]) (0.2.13)\n",
      "Requirement already satisfied: annotated-types>=0.6.0 in c:\\users\\kiit\\appdata\\roaming\\python\\python312\\site-packages (from pydantic<3,>=1.10.8->mlflow-skinny==2.21.0->mlflow->pyqlib[all]) (0.7.0)\n",
      "Requirement already satisfied: pydantic-core==2.27.2 in c:\\users\\kiit\\appdata\\roaming\\python\\python312\\site-packages (from pydantic<3,>=1.10.8->mlflow-skinny==2.21.0->mlflow->pyqlib[all]) (2.27.2)\n",
      "Requirement already satisfied: charset-normalizer<4,>=2 in c:\\users\\kiit\\appdata\\roaming\\python\\python312\\site-packages (from requests<3,>=2.17.3->mlflow-skinny==2.21.0->mlflow->pyqlib[all]) (3.4.1)\n",
      "Requirement already satisfied: sniffio>=1.1 in c:\\users\\kiit\\appdata\\roaming\\python\\python312\\site-packages (from anyio->httpx>=0.25.0->jupyterlab->jupyter->pyqlib[all]) (1.3.1)\n",
      "Requirement already satisfied: argon2-cffi-bindings in c:\\users\\kiit\\appdata\\roaming\\python\\python312\\site-packages (from argon2-cffi>=21.1->jupyter-server<3,>=2.4.0->jupyterlab->jupyter->pyqlib[all]) (21.2.0)\n",
      "Requirement already satisfied: wrapt<2,>=1.10 in c:\\users\\kiit\\appdata\\roaming\\python\\python312\\site-packages (from deprecated>=1.2.6->opentelemetry-api<3,>=1.9.0->mlflow-skinny==2.21.0->mlflow->pyqlib[all]) (1.17.2)\n",
      "Requirement already satisfied: smmap<6,>=3.0.1 in c:\\users\\kiit\\appdata\\roaming\\python\\python312\\site-packages (from gitdb<5,>=4.0.1->gitpython<4,>=3.1.9->mlflow-skinny==2.21.0->mlflow->pyqlib[all]) (5.0.2)\n",
      "Requirement already satisfied: pyasn1-modules>=0.2.1 in c:\\users\\kiit\\appdata\\roaming\\python\\python312\\site-packages (from google-auth~=2.0->databricks-sdk<1,>=0.20.0->mlflow-skinny==2.21.0->mlflow->pyqlib[all]) (0.4.1)\n",
      "Requirement already satisfied: rsa<5,>=3.1.4 in c:\\users\\kiit\\appdata\\roaming\\python\\python312\\site-packages (from google-auth~=2.0->databricks-sdk<1,>=0.20.0->mlflow-skinny==2.21.0->mlflow->pyqlib[all]) (4.9)\n",
      "Requirement already satisfied: parso<0.9.0,>=0.8.4 in c:\\users\\kiit\\appdata\\roaming\\python\\python312\\site-packages (from jedi>=0.16->ipython>=7.23.1->ipykernel->jupyter->pyqlib[all]) (0.8.4)\n",
      "Requirement already satisfied: python-json-logger>=2.0.4 in c:\\users\\kiit\\appdata\\roaming\\python\\python312\\site-packages (from jupyter-events>=0.11.0->jupyter-server<3,>=2.4.0->jupyterlab->jupyter->pyqlib[all]) (3.3.0)\n",
      "Requirement already satisfied: rfc3339-validator in c:\\users\\kiit\\appdata\\roaming\\python\\python312\\site-packages (from jupyter-events>=0.11.0->jupyter-server<3,>=2.4.0->jupyterlab->jupyter->pyqlib[all]) (0.1.4)\n",
      "Requirement already satisfied: rfc3986-validator>=0.1.1 in c:\\users\\kiit\\appdata\\roaming\\python\\python312\\site-packages (from jupyter-events>=0.11.0->jupyter-server<3,>=2.4.0->jupyterlab->jupyter->pyqlib[all]) (0.1.1)\n",
      "Requirement already satisfied: executing>=1.2.0 in c:\\users\\kiit\\appdata\\roaming\\python\\python312\\site-packages (from stack_data->ipython>=7.23.1->ipykernel->jupyter->pyqlib[all]) (2.2.0)\n",
      "Requirement already satisfied: asttokens>=2.1.0 in c:\\users\\kiit\\appdata\\roaming\\python\\python312\\site-packages (from stack_data->ipython>=7.23.1->ipykernel->jupyter->pyqlib[all]) (3.0.0)\n",
      "Requirement already satisfied: pure-eval in c:\\users\\kiit\\appdata\\roaming\\python\\python312\\site-packages (from stack_data->ipython>=7.23.1->ipykernel->jupyter->pyqlib[all]) (0.2.3)\n",
      "Requirement already satisfied: fqdn in c:\\users\\kiit\\appdata\\roaming\\python\\python312\\site-packages (from jsonschema[format-nongpl]>=4.18.0->jupyter-events>=0.11.0->jupyter-server<3,>=2.4.0->jupyterlab->jupyter->pyqlib[all]) (1.5.1)\n",
      "Requirement already satisfied: isoduration in c:\\users\\kiit\\appdata\\roaming\\python\\python312\\site-packages (from jsonschema[format-nongpl]>=4.18.0->jupyter-events>=0.11.0->jupyter-server<3,>=2.4.0->jupyterlab->jupyter->pyqlib[all]) (20.11.0)\n",
      "Requirement already satisfied: jsonpointer>1.13 in c:\\users\\kiit\\appdata\\roaming\\python\\python312\\site-packages (from jsonschema[format-nongpl]>=4.18.0->jupyter-events>=0.11.0->jupyter-server<3,>=2.4.0->jupyterlab->jupyter->pyqlib[all]) (3.0.0)\n",
      "Requirement already satisfied: uri-template in c:\\users\\kiit\\appdata\\roaming\\python\\python312\\site-packages (from jsonschema[format-nongpl]>=4.18.0->jupyter-events>=0.11.0->jupyter-server<3,>=2.4.0->jupyterlab->jupyter->pyqlib[all]) (1.3.0)\n",
      "Requirement already satisfied: webcolors>=24.6.0 in c:\\users\\kiit\\appdata\\roaming\\python\\python312\\site-packages (from jsonschema[format-nongpl]>=4.18.0->jupyter-events>=0.11.0->jupyter-server<3,>=2.4.0->jupyterlab->jupyter->pyqlib[all]) (24.11.1)\n",
      "Requirement already satisfied: pyasn1<0.7.0,>=0.4.6 in c:\\users\\kiit\\appdata\\roaming\\python\\python312\\site-packages (from pyasn1-modules>=0.2.1->google-auth~=2.0->databricks-sdk<1,>=0.20.0->mlflow-skinny==2.21.0->mlflow->pyqlib[all]) (0.6.1)\n",
      "Requirement already satisfied: cffi>=1.0.1 in c:\\users\\kiit\\appdata\\roaming\\python\\python312\\site-packages (from argon2-cffi-bindings->argon2-cffi>=21.1->jupyter-server<3,>=2.4.0->jupyterlab->jupyter->pyqlib[all]) (1.17.1)\n",
      "Requirement already satisfied: pycparser in c:\\users\\kiit\\appdata\\roaming\\python\\python312\\site-packages (from cffi>=1.0.1->argon2-cffi-bindings->argon2-cffi>=21.1->jupyter-server<3,>=2.4.0->jupyterlab->jupyter->pyqlib[all]) (2.22)\n",
      "Requirement already satisfied: arrow>=0.15.0 in c:\\users\\kiit\\appdata\\roaming\\python\\python312\\site-packages (from isoduration->jsonschema[format-nongpl]>=4.18.0->jupyter-events>=0.11.0->jupyter-server<3,>=2.4.0->jupyterlab->jupyter->pyqlib[all]) (1.3.0)\n",
      "Requirement already satisfied: types-python-dateutil>=2.8.10 in c:\\users\\kiit\\appdata\\roaming\\python\\python312\\site-packages (from arrow>=0.15.0->isoduration->jsonschema[format-nongpl]>=4.18.0->jupyter-events>=0.11.0->jupyter-server<3,>=2.4.0->jupyterlab->jupyter->pyqlib[all]) (2.9.0.20241206)\n"
     ]
    },
    {
     "name": "stderr",
     "output_type": "stream",
     "text": [
      "[14312:MainThread](2025-03-21 00:42:04,996) INFO - qlib.Initialization - [config.py:420] - default_conf: client.\n",
      "[14312:MainThread](2025-03-21 00:42:05,003) WARNING - qlib.Initialization - [__init__.py:64] - auto_path is False, please make sure None is mounted\n",
      "[14312:MainThread](2025-03-21 00:42:05,013) INFO - qlib.Initialization - [__init__.py:74] - qlib successfully initialized based on client settings.\n",
      "[14312:MainThread](2025-03-21 00:42:05,019) INFO - qlib.Initialization - [__init__.py:76] - data_path={'__DEFAULT_FREQ': WindowsPath('C:/Users/KIIT/.qlib/qlib_data/cn_data')}\n"
     ]
    },
    {
     "ename": "FileNotFoundError",
     "evalue": "[Errno 2] No such file or directory: 'all_stocks_historical_data.csv'",
     "output_type": "error",
     "traceback": [
      "\u001b[31m---------------------------------------------------------------------------\u001b[39m",
      "\u001b[31mFileNotFoundError\u001b[39m                         Traceback (most recent call last)",
      "\u001b[36mCell\u001b[39m\u001b[36m \u001b[39m\u001b[32mIn[7]\u001b[39m\u001b[32m, line 24\u001b[39m\n\u001b[32m     21\u001b[39m qlib.init(provider_uri=\u001b[33m\"\u001b[39m\u001b[33m~/.qlib/qlib_data/cn_data\u001b[39m\u001b[33m\"\u001b[39m)\n\u001b[32m     23\u001b[39m \u001b[38;5;66;03m# Step 1: Load and Process Stock Data from CSV\u001b[39;00m\n\u001b[32m---> \u001b[39m\u001b[32m24\u001b[39m df_combined = \u001b[43mpd\u001b[49m\u001b[43m.\u001b[49m\u001b[43mread_csv\u001b[49m\u001b[43m(\u001b[49m\u001b[33;43m\"\u001b[39;49m\u001b[33;43mall_stocks_historical_data.csv\u001b[39;49m\u001b[33;43m\"\u001b[39;49m\u001b[43m,\u001b[49m\u001b[43m \u001b[49m\u001b[43mindex_col\u001b[49m\u001b[43m=\u001b[49m\u001b[32;43m0\u001b[39;49m\u001b[43m,\u001b[49m\u001b[43m \u001b[49m\u001b[43mparse_dates\u001b[49m\u001b[43m=\u001b[49m\u001b[38;5;28;43;01mTrue\u001b[39;49;00m\u001b[43m)\u001b[49m\n\u001b[32m     25\u001b[39m df_combined.dropna(inplace=\u001b[38;5;28;01mTrue\u001b[39;00m)\n\u001b[32m     26\u001b[39m scaler = MinMaxScaler()\n",
      "\u001b[36mFile \u001b[39m\u001b[32m~\\AppData\\Roaming\\Python\\Python312\\site-packages\\pandas\\io\\parsers\\readers.py:1026\u001b[39m, in \u001b[36mread_csv\u001b[39m\u001b[34m(filepath_or_buffer, sep, delimiter, header, names, index_col, usecols, dtype, engine, converters, true_values, false_values, skipinitialspace, skiprows, skipfooter, nrows, na_values, keep_default_na, na_filter, verbose, skip_blank_lines, parse_dates, infer_datetime_format, keep_date_col, date_parser, date_format, dayfirst, cache_dates, iterator, chunksize, compression, thousands, decimal, lineterminator, quotechar, quoting, doublequote, escapechar, comment, encoding, encoding_errors, dialect, on_bad_lines, delim_whitespace, low_memory, memory_map, float_precision, storage_options, dtype_backend)\u001b[39m\n\u001b[32m   1013\u001b[39m kwds_defaults = _refine_defaults_read(\n\u001b[32m   1014\u001b[39m     dialect,\n\u001b[32m   1015\u001b[39m     delimiter,\n\u001b[32m   (...)\u001b[39m\u001b[32m   1022\u001b[39m     dtype_backend=dtype_backend,\n\u001b[32m   1023\u001b[39m )\n\u001b[32m   1024\u001b[39m kwds.update(kwds_defaults)\n\u001b[32m-> \u001b[39m\u001b[32m1026\u001b[39m \u001b[38;5;28;01mreturn\u001b[39;00m \u001b[43m_read\u001b[49m\u001b[43m(\u001b[49m\u001b[43mfilepath_or_buffer\u001b[49m\u001b[43m,\u001b[49m\u001b[43m \u001b[49m\u001b[43mkwds\u001b[49m\u001b[43m)\u001b[49m\n",
      "\u001b[36mFile \u001b[39m\u001b[32m~\\AppData\\Roaming\\Python\\Python312\\site-packages\\pandas\\io\\parsers\\readers.py:620\u001b[39m, in \u001b[36m_read\u001b[39m\u001b[34m(filepath_or_buffer, kwds)\u001b[39m\n\u001b[32m    617\u001b[39m _validate_names(kwds.get(\u001b[33m\"\u001b[39m\u001b[33mnames\u001b[39m\u001b[33m\"\u001b[39m, \u001b[38;5;28;01mNone\u001b[39;00m))\n\u001b[32m    619\u001b[39m \u001b[38;5;66;03m# Create the parser.\u001b[39;00m\n\u001b[32m--> \u001b[39m\u001b[32m620\u001b[39m parser = \u001b[43mTextFileReader\u001b[49m\u001b[43m(\u001b[49m\u001b[43mfilepath_or_buffer\u001b[49m\u001b[43m,\u001b[49m\u001b[43m \u001b[49m\u001b[43m*\u001b[49m\u001b[43m*\u001b[49m\u001b[43mkwds\u001b[49m\u001b[43m)\u001b[49m\n\u001b[32m    622\u001b[39m \u001b[38;5;28;01mif\u001b[39;00m chunksize \u001b[38;5;129;01mor\u001b[39;00m iterator:\n\u001b[32m    623\u001b[39m     \u001b[38;5;28;01mreturn\u001b[39;00m parser\n",
      "\u001b[36mFile \u001b[39m\u001b[32m~\\AppData\\Roaming\\Python\\Python312\\site-packages\\pandas\\io\\parsers\\readers.py:1620\u001b[39m, in \u001b[36mTextFileReader.__init__\u001b[39m\u001b[34m(self, f, engine, **kwds)\u001b[39m\n\u001b[32m   1617\u001b[39m     \u001b[38;5;28mself\u001b[39m.options[\u001b[33m\"\u001b[39m\u001b[33mhas_index_names\u001b[39m\u001b[33m\"\u001b[39m] = kwds[\u001b[33m\"\u001b[39m\u001b[33mhas_index_names\u001b[39m\u001b[33m\"\u001b[39m]\n\u001b[32m   1619\u001b[39m \u001b[38;5;28mself\u001b[39m.handles: IOHandles | \u001b[38;5;28;01mNone\u001b[39;00m = \u001b[38;5;28;01mNone\u001b[39;00m\n\u001b[32m-> \u001b[39m\u001b[32m1620\u001b[39m \u001b[38;5;28mself\u001b[39m._engine = \u001b[38;5;28;43mself\u001b[39;49m\u001b[43m.\u001b[49m\u001b[43m_make_engine\u001b[49m\u001b[43m(\u001b[49m\u001b[43mf\u001b[49m\u001b[43m,\u001b[49m\u001b[43m \u001b[49m\u001b[38;5;28;43mself\u001b[39;49m\u001b[43m.\u001b[49m\u001b[43mengine\u001b[49m\u001b[43m)\u001b[49m\n",
      "\u001b[36mFile \u001b[39m\u001b[32m~\\AppData\\Roaming\\Python\\Python312\\site-packages\\pandas\\io\\parsers\\readers.py:1880\u001b[39m, in \u001b[36mTextFileReader._make_engine\u001b[39m\u001b[34m(self, f, engine)\u001b[39m\n\u001b[32m   1878\u001b[39m     \u001b[38;5;28;01mif\u001b[39;00m \u001b[33m\"\u001b[39m\u001b[33mb\u001b[39m\u001b[33m\"\u001b[39m \u001b[38;5;129;01mnot\u001b[39;00m \u001b[38;5;129;01min\u001b[39;00m mode:\n\u001b[32m   1879\u001b[39m         mode += \u001b[33m\"\u001b[39m\u001b[33mb\u001b[39m\u001b[33m\"\u001b[39m\n\u001b[32m-> \u001b[39m\u001b[32m1880\u001b[39m \u001b[38;5;28mself\u001b[39m.handles = \u001b[43mget_handle\u001b[49m\u001b[43m(\u001b[49m\n\u001b[32m   1881\u001b[39m \u001b[43m    \u001b[49m\u001b[43mf\u001b[49m\u001b[43m,\u001b[49m\n\u001b[32m   1882\u001b[39m \u001b[43m    \u001b[49m\u001b[43mmode\u001b[49m\u001b[43m,\u001b[49m\n\u001b[32m   1883\u001b[39m \u001b[43m    \u001b[49m\u001b[43mencoding\u001b[49m\u001b[43m=\u001b[49m\u001b[38;5;28;43mself\u001b[39;49m\u001b[43m.\u001b[49m\u001b[43moptions\u001b[49m\u001b[43m.\u001b[49m\u001b[43mget\u001b[49m\u001b[43m(\u001b[49m\u001b[33;43m\"\u001b[39;49m\u001b[33;43mencoding\u001b[39;49m\u001b[33;43m\"\u001b[39;49m\u001b[43m,\u001b[49m\u001b[43m \u001b[49m\u001b[38;5;28;43;01mNone\u001b[39;49;00m\u001b[43m)\u001b[49m\u001b[43m,\u001b[49m\n\u001b[32m   1884\u001b[39m \u001b[43m    \u001b[49m\u001b[43mcompression\u001b[49m\u001b[43m=\u001b[49m\u001b[38;5;28;43mself\u001b[39;49m\u001b[43m.\u001b[49m\u001b[43moptions\u001b[49m\u001b[43m.\u001b[49m\u001b[43mget\u001b[49m\u001b[43m(\u001b[49m\u001b[33;43m\"\u001b[39;49m\u001b[33;43mcompression\u001b[39;49m\u001b[33;43m\"\u001b[39;49m\u001b[43m,\u001b[49m\u001b[43m \u001b[49m\u001b[38;5;28;43;01mNone\u001b[39;49;00m\u001b[43m)\u001b[49m\u001b[43m,\u001b[49m\n\u001b[32m   1885\u001b[39m \u001b[43m    \u001b[49m\u001b[43mmemory_map\u001b[49m\u001b[43m=\u001b[49m\u001b[38;5;28;43mself\u001b[39;49m\u001b[43m.\u001b[49m\u001b[43moptions\u001b[49m\u001b[43m.\u001b[49m\u001b[43mget\u001b[49m\u001b[43m(\u001b[49m\u001b[33;43m\"\u001b[39;49m\u001b[33;43mmemory_map\u001b[39;49m\u001b[33;43m\"\u001b[39;49m\u001b[43m,\u001b[49m\u001b[43m \u001b[49m\u001b[38;5;28;43;01mFalse\u001b[39;49;00m\u001b[43m)\u001b[49m\u001b[43m,\u001b[49m\n\u001b[32m   1886\u001b[39m \u001b[43m    \u001b[49m\u001b[43mis_text\u001b[49m\u001b[43m=\u001b[49m\u001b[43mis_text\u001b[49m\u001b[43m,\u001b[49m\n\u001b[32m   1887\u001b[39m \u001b[43m    \u001b[49m\u001b[43merrors\u001b[49m\u001b[43m=\u001b[49m\u001b[38;5;28;43mself\u001b[39;49m\u001b[43m.\u001b[49m\u001b[43moptions\u001b[49m\u001b[43m.\u001b[49m\u001b[43mget\u001b[49m\u001b[43m(\u001b[49m\u001b[33;43m\"\u001b[39;49m\u001b[33;43mencoding_errors\u001b[39;49m\u001b[33;43m\"\u001b[39;49m\u001b[43m,\u001b[49m\u001b[43m \u001b[49m\u001b[33;43m\"\u001b[39;49m\u001b[33;43mstrict\u001b[39;49m\u001b[33;43m\"\u001b[39;49m\u001b[43m)\u001b[49m\u001b[43m,\u001b[49m\n\u001b[32m   1888\u001b[39m \u001b[43m    \u001b[49m\u001b[43mstorage_options\u001b[49m\u001b[43m=\u001b[49m\u001b[38;5;28;43mself\u001b[39;49m\u001b[43m.\u001b[49m\u001b[43moptions\u001b[49m\u001b[43m.\u001b[49m\u001b[43mget\u001b[49m\u001b[43m(\u001b[49m\u001b[33;43m\"\u001b[39;49m\u001b[33;43mstorage_options\u001b[39;49m\u001b[33;43m\"\u001b[39;49m\u001b[43m,\u001b[49m\u001b[43m \u001b[49m\u001b[38;5;28;43;01mNone\u001b[39;49;00m\u001b[43m)\u001b[49m\u001b[43m,\u001b[49m\n\u001b[32m   1889\u001b[39m \u001b[43m\u001b[49m\u001b[43m)\u001b[49m\n\u001b[32m   1890\u001b[39m \u001b[38;5;28;01massert\u001b[39;00m \u001b[38;5;28mself\u001b[39m.handles \u001b[38;5;129;01mis\u001b[39;00m \u001b[38;5;129;01mnot\u001b[39;00m \u001b[38;5;28;01mNone\u001b[39;00m\n\u001b[32m   1891\u001b[39m f = \u001b[38;5;28mself\u001b[39m.handles.handle\n",
      "\u001b[36mFile \u001b[39m\u001b[32m~\\AppData\\Roaming\\Python\\Python312\\site-packages\\pandas\\io\\common.py:873\u001b[39m, in \u001b[36mget_handle\u001b[39m\u001b[34m(path_or_buf, mode, encoding, compression, memory_map, is_text, errors, storage_options)\u001b[39m\n\u001b[32m    868\u001b[39m \u001b[38;5;28;01melif\u001b[39;00m \u001b[38;5;28misinstance\u001b[39m(handle, \u001b[38;5;28mstr\u001b[39m):\n\u001b[32m    869\u001b[39m     \u001b[38;5;66;03m# Check whether the filename is to be opened in binary mode.\u001b[39;00m\n\u001b[32m    870\u001b[39m     \u001b[38;5;66;03m# Binary mode does not support 'encoding' and 'newline'.\u001b[39;00m\n\u001b[32m    871\u001b[39m     \u001b[38;5;28;01mif\u001b[39;00m ioargs.encoding \u001b[38;5;129;01mand\u001b[39;00m \u001b[33m\"\u001b[39m\u001b[33mb\u001b[39m\u001b[33m\"\u001b[39m \u001b[38;5;129;01mnot\u001b[39;00m \u001b[38;5;129;01min\u001b[39;00m ioargs.mode:\n\u001b[32m    872\u001b[39m         \u001b[38;5;66;03m# Encoding\u001b[39;00m\n\u001b[32m--> \u001b[39m\u001b[32m873\u001b[39m         handle = \u001b[38;5;28;43mopen\u001b[39;49m\u001b[43m(\u001b[49m\n\u001b[32m    874\u001b[39m \u001b[43m            \u001b[49m\u001b[43mhandle\u001b[49m\u001b[43m,\u001b[49m\n\u001b[32m    875\u001b[39m \u001b[43m            \u001b[49m\u001b[43mioargs\u001b[49m\u001b[43m.\u001b[49m\u001b[43mmode\u001b[49m\u001b[43m,\u001b[49m\n\u001b[32m    876\u001b[39m \u001b[43m            \u001b[49m\u001b[43mencoding\u001b[49m\u001b[43m=\u001b[49m\u001b[43mioargs\u001b[49m\u001b[43m.\u001b[49m\u001b[43mencoding\u001b[49m\u001b[43m,\u001b[49m\n\u001b[32m    877\u001b[39m \u001b[43m            \u001b[49m\u001b[43merrors\u001b[49m\u001b[43m=\u001b[49m\u001b[43merrors\u001b[49m\u001b[43m,\u001b[49m\n\u001b[32m    878\u001b[39m \u001b[43m            \u001b[49m\u001b[43mnewline\u001b[49m\u001b[43m=\u001b[49m\u001b[33;43m\"\u001b[39;49m\u001b[33;43m\"\u001b[39;49m\u001b[43m,\u001b[49m\n\u001b[32m    879\u001b[39m \u001b[43m        \u001b[49m\u001b[43m)\u001b[49m\n\u001b[32m    880\u001b[39m     \u001b[38;5;28;01melse\u001b[39;00m:\n\u001b[32m    881\u001b[39m         \u001b[38;5;66;03m# Binary mode\u001b[39;00m\n\u001b[32m    882\u001b[39m         handle = \u001b[38;5;28mopen\u001b[39m(handle, ioargs.mode)\n",
      "\u001b[31mFileNotFoundError\u001b[39m: [Errno 2] No such file or directory: 'all_stocks_historical_data.csv'"
     ]
    }
   ],
   "source": [
    "!pip install catboost xgboost\n",
    "!pip install pyqlib[all]\n",
    "\n",
    "import qlib\n",
    "from qlib.workflow import R\n",
    "from qlib.workflow.record_temp import SignalRecord\n",
    "from qlib.data import D  # Qlib Data Module\n",
    "from qlib.contrib.model.gbdt import LGBModel\n",
    "  # Using LightGBM as an additional model\n",
    "from qlib.contrib.data.handler import Alpha158  # Feature Engineering\n",
    "import numpy as np\n",
    "import pandas as pd\n",
    "import torch\n",
    "import torch.nn as nn\n",
    "import torch.optim as optim\n",
    "from sklearn.preprocessing import MinMaxScaler\n",
    "from torch.utils.data import DataLoader, TensorDataset\n",
    "import matplotlib.pyplot as plt\n",
    "\n",
    "# Initialize Qlib\n",
    "qlib.init(provider_uri=\"~/.qlib/qlib_data/cn_data\")\n",
    "\n",
    "# Step 1: Load and Process Stock Data from CSV\n",
    "df_combined = pd.read_csv(\"all_stocks_historical_data.csv\", index_col=0, parse_dates=True)\n",
    "df_combined.dropna(inplace=True)\n",
    "scaler = MinMaxScaler()\n",
    "df_scaled = scaler.fit_transform(df_combined)\n",
    "data_tensor = torch.FloatTensor(df_scaled)\n",
    "\n",
    "# Function to create sequences\n",
    "def create_sequences(data, seq_length):\n",
    "    X, y = [], []\n",
    "    for i in range(len(data) - seq_length):\n",
    "        X.append(data[i:i+seq_length])\n",
    "        y.append(data[i+seq_length])\n",
    "    return torch.stack(X), torch.stack(y)\n",
    "\n",
    "seq_length = 30\n",
    "X, y = create_sequences(data_tensor, seq_length)\n",
    "\n",
    "# Train-Test Split\n",
    "train_size = int(0.8 * len(X))\n",
    "X_train, X_test = X[:train_size], X[train_size:]\n",
    "y_train, y_test = y[:train_size], y[train_size:]\n",
    "train_dataset = TensorDataset(X_train, y_train)\n",
    "test_dataset = TensorDataset(X_test, y_test)\n",
    "train_loader = DataLoader(train_dataset, batch_size=32, shuffle=True)\n",
    "test_loader = DataLoader(test_dataset, batch_size=32, shuffle=False)\n",
    "\n",
    "# Step 2: Define and Train the Model\n",
    "class StockPredictorSAMBA(nn.Module):\n",
    "    def _init_(self, input_dim, hidden_dim, output_dim):\n",
    "        super(StockPredictorSAMBA, self)._init_()\n",
    "        self.bi_mamba = nn.LSTM(input_dim, hidden_dim, batch_first=True, bidirectional=True)\n",
    "        self.agc = nn.Linear(2 * hidden_dim, hidden_dim)\n",
    "        self.ffn = nn.Sequential(\n",
    "            nn.Linear(hidden_dim, hidden_dim),\n",
    "            nn.ReLU(),\n",
    "            nn.LayerNorm(hidden_dim),\n",
    "            nn.Linear(hidden_dim, output_dim)\n",
    "        )\n",
    "    def forward(self, x):\n",
    "        x, _ = self.bi_mamba(x)\n",
    "        x = torch.relu(self.agc(x))\n",
    "        x = self.ffn(x[:, -1, :])\n",
    "        return x\n",
    "\n",
    "# Model Setup\n",
    "device = torch.device(\"cuda\" if torch.cuda.is_available() else \"cpu\")\n",
    "model = StockPredictorSAMBA(input_dim=df_combined.shape[1], hidden_dim=64, output_dim=df_combined.shape[1]).to(device)\n",
    "criterion = nn.MSELoss()\n",
    "optimizer = optim.Adam(model.parameters(), lr=0.001)\n",
    "\n",
    "def train_model(model, train_loader, epochs=50):\n",
    "    model.train()\n",
    "    for epoch in range(epochs):\n",
    "        total_loss = 0\n",
    "        for batch_X, batch_y in train_loader:\n",
    "            batch_X, batch_y = batch_X.to(device), batch_y.to(device)\n",
    "            optimizer.zero_grad()\n",
    "            output = model(batch_X)\n",
    "            loss = criterion(output, batch_y)\n",
    "            loss.backward()\n",
    "            optimizer.step()\n",
    "            total_loss += loss.item()\n",
    "        print(f\"Epoch [{epoch+1}/{epochs}], Loss: {total_loss / len(train_loader):.6f}\")\n",
    "\n",
    "train_model(model, train_loader)\n",
    "\n",
    "def evaluate_model(model, test_loader):\n",
    "    model.eval()\n",
    "    total_loss = 0\n",
    "    with torch.no_grad():\n",
    "        for batch_X, batch_y in test_loader:\n",
    "            batch_X, batch_y = batch_X.to(device), batch_y.to(device)\n",
    "            output = model(batch_X)\n",
    "            loss = criterion(output, batch_y)\n",
    "            total_loss += loss.item()\n",
    "    print(f\"Test Loss: {total_loss / len(test_loader):.6f}\")\n",
    "\n",
    "evaluate_model(model, test_loader)\n",
    "\n",
    "# Step 3: Prediction and Qlib Experiment Logging\n",
    "def predict_future(model, last_data, days=30):\n",
    "    model.eval()\n",
    "    predictions = []\n",
    "    input_seq = torch.FloatTensor(last_data).to(device).unsqueeze(0)\n",
    "    with torch.no_grad():\n",
    "        for _ in range(days):\n",
    "            pred = model(input_seq)\n",
    "            predictions.append(pred.cpu().numpy())\n",
    "            pred = pred.unsqueeze(1)\n",
    "            input_seq = torch.cat((input_seq[:, 1:, :], pred), dim=1)\n",
    "    return scaler.inverse_transform(np.array(predictions).squeeze())\n",
    "\n",
    "# Record Experiment in Qlib\n",
    "with R.start(exp_name=\"Samba_Qlib_Experiment\"):\n",
    "    sr = SignalRecord(model, df_combined, df_combined.columns.tolist())\n",
    "    sr.generate()\n",
    "\n",
    "future_predictions = predict_future(model, data_tensor[-seq_length:], days=30)\n",
    "print(future_predictions)"
   ]
  },
  {
   "cell_type": "code",
   "execution_count": null,
   "id": "946939aa-f32f-4918-ab50-767e14ea66c9",
   "metadata": {},
   "outputs": [],
   "source": []
  },
  {
   "cell_type": "code",
   "execution_count": null,
   "id": "8277fbdb-1846-4203-9e20-31cef9679c15",
   "metadata": {},
   "outputs": [],
   "source": []
  }
 ],
 "metadata": {
  "kernelspec": {
   "display_name": "Python 3 (ipykernel)",
   "language": "python",
   "name": "python3"
  },
  "language_info": {
   "codemirror_mode": {
    "name": "ipython",
    "version": 3
   },
   "file_extension": ".py",
   "mimetype": "text/x-python",
   "name": "python",
   "nbconvert_exporter": "python",
   "pygments_lexer": "ipython3",
   "version": "3.12.4"
  }
 },
 "nbformat": 4,
 "nbformat_minor": 5
}
