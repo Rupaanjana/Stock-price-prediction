{
 "cells": [
  {
   "cell_type": "code",
   "execution_count": 1,
   "id": "77506d62-b06b-4872-b762-66c773c2e367",
   "metadata": {},
   "outputs": [
    {
     "name": "stdout",
     "output_type": "stream",
     "text": [
      "Requirement already satisfied: pyqlib in c:\\users\\kiit\\appdata\\roaming\\python\\python312\\site-packages (0.9.6)\n",
      "Requirement already satisfied: pyyaml in c:\\users\\kiit\\appdata\\roaming\\python\\python312\\site-packages (from pyqlib) (6.0.2)\n",
      "Requirement already satisfied: numpy in c:\\users\\kiit\\anaconda3\\lib\\site-packages (from pyqlib) (1.26.4)\n",
      "Requirement already satisfied: pandas in c:\\users\\kiit\\anaconda3\\lib\\site-packages (from pyqlib) (2.2.3)\n",
      "Requirement already satisfied: mlflow in c:\\users\\kiit\\appdata\\roaming\\python\\python312\\site-packages (from pyqlib) (2.21.0)\n",
      "Requirement already satisfied: filelock>=3.16.0 in c:\\users\\kiit\\anaconda3\\lib\\site-packages (from pyqlib) (3.18.0)\n",
      "Requirement already satisfied: redis in c:\\users\\kiit\\appdata\\roaming\\python\\python312\\site-packages (from pyqlib) (5.2.1)\n",
      "Requirement already satisfied: dill in c:\\users\\kiit\\appdata\\roaming\\python\\python312\\site-packages (from pyqlib) (0.3.9)\n",
      "Requirement already satisfied: fire in c:\\users\\kiit\\appdata\\roaming\\python\\python312\\site-packages (from pyqlib) (0.7.0)\n",
      "Requirement already satisfied: ruamel.yaml>=0.17.38 in c:\\users\\kiit\\appdata\\roaming\\python\\python312\\site-packages (from pyqlib) (0.18.10)\n",
      "Requirement already satisfied: python-redis-lock in c:\\users\\kiit\\appdata\\roaming\\python\\python312\\site-packages (from pyqlib) (4.0.0)\n",
      "Requirement already satisfied: tqdm in c:\\users\\kiit\\appdata\\roaming\\python\\python312\\site-packages (from pyqlib) (4.67.1)\n",
      "Requirement already satisfied: pymongo in c:\\users\\kiit\\appdata\\roaming\\python\\python312\\site-packages (from pyqlib) (4.11.3)\n",
      "Requirement already satisfied: loguru in c:\\users\\kiit\\appdata\\roaming\\python\\python312\\site-packages (from pyqlib) (0.7.3)\n",
      "Requirement already satisfied: lightgbm in c:\\users\\kiit\\appdata\\roaming\\python\\python312\\site-packages (from pyqlib) (4.6.0)\n",
      "Requirement already satisfied: gym in c:\\users\\kiit\\appdata\\roaming\\python\\python312\\site-packages (from pyqlib) (0.26.2)\n",
      "Requirement already satisfied: cvxpy in c:\\users\\kiit\\appdata\\roaming\\python\\python312\\site-packages (from pyqlib) (1.6.4)\n",
      "Requirement already satisfied: joblib in c:\\users\\kiit\\appdata\\roaming\\python\\python312\\site-packages (from pyqlib) (1.4.2)\n",
      "Requirement already satisfied: matplotlib in c:\\users\\kiit\\anaconda3\\lib\\site-packages (from pyqlib) (3.10.1)\n",
      "Requirement already satisfied: jupyter in c:\\users\\kiit\\appdata\\roaming\\python\\python312\\site-packages (from pyqlib) (1.1.1)\n",
      "Requirement already satisfied: nbconvert in c:\\users\\kiit\\appdata\\roaming\\python\\python312\\site-packages (from pyqlib) (7.16.6)\n",
      "Requirement already satisfied: ruamel.yaml.clib>=0.2.7 in c:\\users\\kiit\\appdata\\roaming\\python\\python312\\site-packages (from ruamel.yaml>=0.17.38->pyqlib) (0.2.12)\n",
      "Requirement already satisfied: osqp>=0.6.2 in c:\\users\\kiit\\appdata\\roaming\\python\\python312\\site-packages (from cvxpy->pyqlib) (0.6.7.post3)\n",
      "Requirement already satisfied: clarabel>=0.5.0 in c:\\users\\kiit\\appdata\\roaming\\python\\python312\\site-packages (from cvxpy->pyqlib) (0.10.0)\n",
      "Requirement already satisfied: scs>=3.2.4.post1 in c:\\users\\kiit\\appdata\\roaming\\python\\python312\\site-packages (from cvxpy->pyqlib) (3.2.7.post2)\n",
      "Requirement already satisfied: scipy>=1.11.0 in c:\\users\\kiit\\anaconda3\\lib\\site-packages (from cvxpy->pyqlib) (1.15.2)\n",
      "Requirement already satisfied: termcolor in c:\\users\\kiit\\appdata\\roaming\\python\\python312\\site-packages (from fire->pyqlib) (2.5.0)\n",
      "Requirement already satisfied: cloudpickle>=1.2.0 in c:\\users\\kiit\\appdata\\roaming\\python\\python312\\site-packages (from gym->pyqlib) (3.1.1)\n",
      "Requirement already satisfied: gym_notices>=0.0.4 in c:\\users\\kiit\\appdata\\roaming\\python\\python312\\site-packages (from gym->pyqlib) (0.0.8)\n",
      "Requirement already satisfied: notebook in c:\\users\\kiit\\appdata\\roaming\\python\\python312\\site-packages (from jupyter->pyqlib) (7.3.3)\n",
      "Requirement already satisfied: jupyter-console in c:\\users\\kiit\\appdata\\roaming\\python\\python312\\site-packages (from jupyter->pyqlib) (6.6.3)\n",
      "Requirement already satisfied: ipykernel in c:\\users\\kiit\\appdata\\roaming\\python\\python312\\site-packages (from jupyter->pyqlib) (6.29.5)\n",
      "Requirement already satisfied: ipywidgets in c:\\users\\kiit\\appdata\\roaming\\python\\python312\\site-packages (from jupyter->pyqlib) (8.1.5)\n",
      "Requirement already satisfied: jupyterlab in c:\\users\\kiit\\appdata\\roaming\\python\\python312\\site-packages (from jupyter->pyqlib) (4.3.6)\n",
      "Requirement already satisfied: colorama>=0.3.4 in c:\\users\\kiit\\appdata\\roaming\\python\\python312\\site-packages (from loguru->pyqlib) (0.4.6)\n",
      "Requirement already satisfied: win32-setctime>=1.0.0 in c:\\users\\kiit\\appdata\\roaming\\python\\python312\\site-packages (from loguru->pyqlib) (1.2.0)\n",
      "Requirement already satisfied: contourpy>=1.0.1 in c:\\users\\kiit\\anaconda3\\lib\\site-packages (from matplotlib->pyqlib) (1.3.1)\n",
      "Requirement already satisfied: cycler>=0.10 in c:\\users\\kiit\\anaconda3\\lib\\site-packages (from matplotlib->pyqlib) (0.12.1)\n",
      "Requirement already satisfied: fonttools>=4.22.0 in c:\\users\\kiit\\anaconda3\\lib\\site-packages (from matplotlib->pyqlib) (4.56.0)\n",
      "Requirement already satisfied: kiwisolver>=1.3.1 in c:\\users\\kiit\\anaconda3\\lib\\site-packages (from matplotlib->pyqlib) (1.4.8)\n",
      "Requirement already satisfied: packaging>=20.0 in c:\\users\\kiit\\anaconda3\\lib\\site-packages (from matplotlib->pyqlib) (24.2)\n",
      "Requirement already satisfied: pillow>=8 in c:\\users\\kiit\\anaconda3\\lib\\site-packages (from matplotlib->pyqlib) (11.1.0)\n",
      "Requirement already satisfied: pyparsing>=2.3.1 in c:\\users\\kiit\\anaconda3\\lib\\site-packages (from matplotlib->pyqlib) (3.2.1)\n",
      "Requirement already satisfied: python-dateutil>=2.7 in c:\\users\\kiit\\anaconda3\\lib\\site-packages (from matplotlib->pyqlib) (2.9.0.post0)\n",
      "Requirement already satisfied: mlflow-skinny==2.21.0 in c:\\users\\kiit\\appdata\\roaming\\python\\python312\\site-packages (from mlflow->pyqlib) (2.21.0)\n",
      "Requirement already satisfied: Flask<4 in c:\\users\\kiit\\appdata\\roaming\\python\\python312\\site-packages (from mlflow->pyqlib) (3.1.0)\n",
      "Requirement already satisfied: Jinja2<4,>=3.0 in c:\\users\\kiit\\anaconda3\\lib\\site-packages (from mlflow->pyqlib) (3.1.6)\n",
      "Requirement already satisfied: alembic!=1.10.0,<2 in c:\\users\\kiit\\appdata\\roaming\\python\\python312\\site-packages (from mlflow->pyqlib) (1.15.1)\n",
      "Requirement already satisfied: docker<8,>=4.0.0 in c:\\users\\kiit\\appdata\\roaming\\python\\python312\\site-packages (from mlflow->pyqlib) (7.1.0)\n",
      "Requirement already satisfied: graphene<4 in c:\\users\\kiit\\appdata\\roaming\\python\\python312\\site-packages (from mlflow->pyqlib) (3.4.3)\n",
      "Requirement already satisfied: markdown<4,>=3.3 in c:\\users\\kiit\\appdata\\roaming\\python\\python312\\site-packages (from mlflow->pyqlib) (3.7)\n",
      "Requirement already satisfied: pyarrow<20,>=4.0.0 in c:\\users\\kiit\\appdata\\roaming\\python\\python312\\site-packages (from mlflow->pyqlib) (19.0.1)\n",
      "Requirement already satisfied: scikit-learn<2 in c:\\users\\kiit\\appdata\\roaming\\python\\python312\\site-packages (from mlflow->pyqlib) (1.6.1)\n",
      "Requirement already satisfied: sqlalchemy<3,>=1.4.0 in c:\\users\\kiit\\appdata\\roaming\\python\\python312\\site-packages (from mlflow->pyqlib) (2.0.39)\n",
      "Requirement already satisfied: waitress<4 in c:\\users\\kiit\\appdata\\roaming\\python\\python312\\site-packages (from mlflow->pyqlib) (3.0.2)\n",
      "Requirement already satisfied: cachetools<6,>=5.0.0 in c:\\users\\kiit\\appdata\\roaming\\python\\python312\\site-packages (from mlflow-skinny==2.21.0->mlflow->pyqlib) (5.5.2)\n",
      "Requirement already satisfied: click<9,>=7.0 in c:\\users\\kiit\\appdata\\roaming\\python\\python312\\site-packages (from mlflow-skinny==2.21.0->mlflow->pyqlib) (8.1.8)\n",
      "Requirement already satisfied: databricks-sdk<1,>=0.20.0 in c:\\users\\kiit\\appdata\\roaming\\python\\python312\\site-packages (from mlflow-skinny==2.21.0->mlflow->pyqlib) (0.46.0)\n",
      "Requirement already satisfied: fastapi<1 in c:\\users\\kiit\\appdata\\roaming\\python\\python312\\site-packages (from mlflow-skinny==2.21.0->mlflow->pyqlib) (0.115.11)\n",
      "Requirement already satisfied: gitpython<4,>=3.1.9 in c:\\users\\kiit\\appdata\\roaming\\python\\python312\\site-packages (from mlflow-skinny==2.21.0->mlflow->pyqlib) (3.1.44)\n",
      "Requirement already satisfied: importlib_metadata!=4.7.0,<9,>=3.7.0 in c:\\users\\kiit\\appdata\\roaming\\python\\python312\\site-packages (from mlflow-skinny==2.21.0->mlflow->pyqlib) (8.6.1)\n",
      "Requirement already satisfied: opentelemetry-api<3,>=1.9.0 in c:\\users\\kiit\\appdata\\roaming\\python\\python312\\site-packages (from mlflow-skinny==2.21.0->mlflow->pyqlib) (1.31.0)\n",
      "Requirement already satisfied: opentelemetry-sdk<3,>=1.9.0 in c:\\users\\kiit\\appdata\\roaming\\python\\python312\\site-packages (from mlflow-skinny==2.21.0->mlflow->pyqlib) (1.31.0)\n",
      "Requirement already satisfied: protobuf<6,>=3.12.0 in c:\\users\\kiit\\appdata\\roaming\\python\\python312\\site-packages (from mlflow-skinny==2.21.0->mlflow->pyqlib) (5.29.4)\n",
      "Requirement already satisfied: pydantic<3,>=1.10.8 in c:\\users\\kiit\\appdata\\roaming\\python\\python312\\site-packages (from mlflow-skinny==2.21.0->mlflow->pyqlib) (2.10.6)\n",
      "Requirement already satisfied: requests<3,>=2.17.3 in c:\\users\\kiit\\appdata\\roaming\\python\\python312\\site-packages (from mlflow-skinny==2.21.0->mlflow->pyqlib) (2.32.3)\n",
      "Requirement already satisfied: sqlparse<1,>=0.4.0 in c:\\users\\kiit\\appdata\\roaming\\python\\python312\\site-packages (from mlflow-skinny==2.21.0->mlflow->pyqlib) (0.5.3)\n",
      "Requirement already satisfied: typing-extensions<5,>=4.0.0 in c:\\users\\kiit\\anaconda3\\lib\\site-packages (from mlflow-skinny==2.21.0->mlflow->pyqlib) (4.12.2)\n",
      "Requirement already satisfied: uvicorn<1 in c:\\users\\kiit\\appdata\\roaming\\python\\python312\\site-packages (from mlflow-skinny==2.21.0->mlflow->pyqlib) (0.34.0)\n",
      "Requirement already satisfied: pytz>=2020.1 in c:\\users\\kiit\\anaconda3\\lib\\site-packages (from pandas->pyqlib) (2025.1)\n",
      "Requirement already satisfied: tzdata>=2022.7 in c:\\users\\kiit\\anaconda3\\lib\\site-packages (from pandas->pyqlib) (2025.1)\n",
      "Requirement already satisfied: beautifulsoup4 in c:\\users\\kiit\\appdata\\roaming\\python\\python312\\site-packages (from nbconvert->pyqlib) (4.13.3)\n",
      "Requirement already satisfied: bleach!=5.0.0 in c:\\users\\kiit\\appdata\\roaming\\python\\python312\\site-packages (from bleach[css]!=5.0.0->nbconvert->pyqlib) (6.2.0)\n",
      "Requirement already satisfied: defusedxml in c:\\users\\kiit\\appdata\\roaming\\python\\python312\\site-packages (from nbconvert->pyqlib) (0.7.1)\n",
      "Requirement already satisfied: jupyter-core>=4.7 in c:\\users\\kiit\\appdata\\roaming\\python\\python312\\site-packages (from nbconvert->pyqlib) (5.7.2)\n",
      "Requirement already satisfied: jupyterlab-pygments in c:\\users\\kiit\\appdata\\roaming\\python\\python312\\site-packages (from nbconvert->pyqlib) (0.3.0)\n",
      "Requirement already satisfied: markupsafe>=2.0 in c:\\users\\kiit\\anaconda3\\lib\\site-packages (from nbconvert->pyqlib) (3.0.2)\n",
      "Requirement already satisfied: mistune<4,>=2.0.3 in c:\\users\\kiit\\appdata\\roaming\\python\\python312\\site-packages (from nbconvert->pyqlib) (3.1.3)\n",
      "Requirement already satisfied: nbclient>=0.5.0 in c:\\users\\kiit\\appdata\\roaming\\python\\python312\\site-packages (from nbconvert->pyqlib) (0.10.2)\n",
      "Requirement already satisfied: nbformat>=5.7 in c:\\users\\kiit\\appdata\\roaming\\python\\python312\\site-packages (from nbconvert->pyqlib) (5.10.4)\n",
      "Requirement already satisfied: pandocfilters>=1.4.1 in c:\\users\\kiit\\appdata\\roaming\\python\\python312\\site-packages (from nbconvert->pyqlib) (1.5.1)\n",
      "Requirement already satisfied: pygments>=2.4.1 in c:\\users\\kiit\\appdata\\roaming\\python\\python312\\site-packages (from nbconvert->pyqlib) (2.19.1)\n",
      "Requirement already satisfied: traitlets>=5.1 in c:\\users\\kiit\\appdata\\roaming\\python\\python312\\site-packages (from nbconvert->pyqlib) (5.14.3)\n",
      "Requirement already satisfied: dnspython<3.0.0,>=1.16.0 in c:\\users\\kiit\\appdata\\roaming\\python\\python312\\site-packages (from pymongo->pyqlib) (2.7.0)\n",
      "Requirement already satisfied: Mako in c:\\users\\kiit\\appdata\\roaming\\python\\python312\\site-packages (from alembic!=1.10.0,<2->mlflow->pyqlib) (1.3.9)\n",
      "Requirement already satisfied: webencodings in c:\\users\\kiit\\appdata\\roaming\\python\\python312\\site-packages (from bleach!=5.0.0->bleach[css]!=5.0.0->nbconvert->pyqlib) (0.5.1)\n",
      "Requirement already satisfied: tinycss2<1.5,>=1.1.0 in c:\\users\\kiit\\appdata\\roaming\\python\\python312\\site-packages (from bleach[css]!=5.0.0->nbconvert->pyqlib) (1.4.0)\n",
      "Requirement already satisfied: pywin32>=304 in c:\\users\\kiit\\appdata\\roaming\\python\\python312\\site-packages (from docker<8,>=4.0.0->mlflow->pyqlib) (310)\n",
      "Requirement already satisfied: urllib3>=1.26.0 in c:\\users\\kiit\\appdata\\roaming\\python\\python312\\site-packages (from docker<8,>=4.0.0->mlflow->pyqlib) (2.3.0)\n",
      "Requirement already satisfied: Werkzeug>=3.1 in c:\\users\\kiit\\appdata\\roaming\\python\\python312\\site-packages (from Flask<4->mlflow->pyqlib) (3.1.3)\n",
      "Requirement already satisfied: itsdangerous>=2.2 in c:\\users\\kiit\\appdata\\roaming\\python\\python312\\site-packages (from Flask<4->mlflow->pyqlib) (2.2.0)\n",
      "Requirement already satisfied: blinker>=1.9 in c:\\users\\kiit\\appdata\\roaming\\python\\python312\\site-packages (from Flask<4->mlflow->pyqlib) (1.9.0)\n",
      "Requirement already satisfied: graphql-core<3.3,>=3.1 in c:\\users\\kiit\\appdata\\roaming\\python\\python312\\site-packages (from graphene<4->mlflow->pyqlib) (3.2.6)\n",
      "Requirement already satisfied: graphql-relay<3.3,>=3.1 in c:\\users\\kiit\\appdata\\roaming\\python\\python312\\site-packages (from graphene<4->mlflow->pyqlib) (3.2.0)\n",
      "Requirement already satisfied: platformdirs>=2.5 in c:\\users\\kiit\\appdata\\roaming\\python\\python312\\site-packages (from jupyter-core>=4.7->nbconvert->pyqlib) (4.3.7)\n",
      "Requirement already satisfied: jupyter-client>=6.1.12 in c:\\users\\kiit\\appdata\\roaming\\python\\python312\\site-packages (from nbclient>=0.5.0->nbconvert->pyqlib) (8.6.3)\n",
      "Requirement already satisfied: fastjsonschema>=2.15 in c:\\users\\kiit\\appdata\\roaming\\python\\python312\\site-packages (from nbformat>=5.7->nbconvert->pyqlib) (2.21.1)\n",
      "Requirement already satisfied: jsonschema>=2.6 in c:\\users\\kiit\\appdata\\roaming\\python\\python312\\site-packages (from nbformat>=5.7->nbconvert->pyqlib) (4.23.0)\n",
      "Requirement already satisfied: qdldl in c:\\users\\kiit\\appdata\\roaming\\python\\python312\\site-packages (from osqp>=0.6.2->cvxpy->pyqlib) (0.1.7.post5)\n",
      "Requirement already satisfied: six>=1.5 in c:\\users\\kiit\\anaconda3\\lib\\site-packages (from python-dateutil>=2.7->matplotlib->pyqlib) (1.17.0)\n",
      "Requirement already satisfied: threadpoolctl>=3.1.0 in c:\\users\\kiit\\appdata\\roaming\\python\\python312\\site-packages (from scikit-learn<2->mlflow->pyqlib) (3.6.0)\n",
      "Requirement already satisfied: greenlet!=0.4.17 in c:\\users\\kiit\\appdata\\roaming\\python\\python312\\site-packages (from sqlalchemy<3,>=1.4.0->mlflow->pyqlib) (3.1.1)\n",
      "Requirement already satisfied: soupsieve>1.2 in c:\\users\\kiit\\appdata\\roaming\\python\\python312\\site-packages (from beautifulsoup4->nbconvert->pyqlib) (2.6)\n",
      "Requirement already satisfied: comm>=0.1.1 in c:\\users\\kiit\\appdata\\roaming\\python\\python312\\site-packages (from ipykernel->jupyter->pyqlib) (0.2.2)\n",
      "Requirement already satisfied: debugpy>=1.6.5 in c:\\users\\kiit\\appdata\\roaming\\python\\python312\\site-packages (from ipykernel->jupyter->pyqlib) (1.8.13)\n",
      "Requirement already satisfied: ipython>=7.23.1 in c:\\users\\kiit\\appdata\\roaming\\python\\python312\\site-packages (from ipykernel->jupyter->pyqlib) (9.0.2)\n",
      "Requirement already satisfied: matplotlib-inline>=0.1 in c:\\users\\kiit\\appdata\\roaming\\python\\python312\\site-packages (from ipykernel->jupyter->pyqlib) (0.1.7)\n",
      "Requirement already satisfied: nest-asyncio in c:\\users\\kiit\\appdata\\roaming\\python\\python312\\site-packages (from ipykernel->jupyter->pyqlib) (1.6.0)\n",
      "Requirement already satisfied: psutil in c:\\users\\kiit\\appdata\\roaming\\python\\python312\\site-packages (from ipykernel->jupyter->pyqlib) (7.0.0)\n",
      "Requirement already satisfied: pyzmq>=24 in c:\\users\\kiit\\appdata\\roaming\\python\\python312\\site-packages (from ipykernel->jupyter->pyqlib) (26.3.0)\n",
      "Requirement already satisfied: tornado>=6.1 in c:\\users\\kiit\\appdata\\roaming\\python\\python312\\site-packages (from ipykernel->jupyter->pyqlib) (6.4.2)\n",
      "Requirement already satisfied: widgetsnbextension~=4.0.12 in c:\\users\\kiit\\appdata\\roaming\\python\\python312\\site-packages (from ipywidgets->jupyter->pyqlib) (4.0.13)\n",
      "Requirement already satisfied: jupyterlab-widgets~=3.0.12 in c:\\users\\kiit\\appdata\\roaming\\python\\python312\\site-packages (from ipywidgets->jupyter->pyqlib) (3.0.13)\n",
      "Requirement already satisfied: prompt-toolkit>=3.0.30 in c:\\users\\kiit\\appdata\\roaming\\python\\python312\\site-packages (from jupyter-console->jupyter->pyqlib) (3.0.50)\n",
      "Requirement already satisfied: async-lru>=1.0.0 in c:\\users\\kiit\\appdata\\roaming\\python\\python312\\site-packages (from jupyterlab->jupyter->pyqlib) (2.0.5)\n",
      "Requirement already satisfied: httpx>=0.25.0 in c:\\users\\kiit\\appdata\\roaming\\python\\python312\\site-packages (from jupyterlab->jupyter->pyqlib) (0.28.1)\n",
      "Requirement already satisfied: jupyter-lsp>=2.0.0 in c:\\users\\kiit\\appdata\\roaming\\python\\python312\\site-packages (from jupyterlab->jupyter->pyqlib) (2.2.5)\n",
      "Requirement already satisfied: jupyter-server<3,>=2.4.0 in c:\\users\\kiit\\appdata\\roaming\\python\\python312\\site-packages (from jupyterlab->jupyter->pyqlib) (2.15.0)\n",
      "Requirement already satisfied: jupyterlab-server<3,>=2.27.1 in c:\\users\\kiit\\appdata\\roaming\\python\\python312\\site-packages (from jupyterlab->jupyter->pyqlib) (2.27.3)\n",
      "Requirement already satisfied: notebook-shim>=0.2 in c:\\users\\kiit\\appdata\\roaming\\python\\python312\\site-packages (from jupyterlab->jupyter->pyqlib) (0.2.4)\n",
      "Requirement already satisfied: setuptools>=40.8.0 in c:\\users\\kiit\\anaconda3\\lib\\site-packages (from jupyterlab->jupyter->pyqlib) (77.0.3)\n",
      "Requirement already satisfied: google-auth~=2.0 in c:\\users\\kiit\\appdata\\roaming\\python\\python312\\site-packages (from databricks-sdk<1,>=0.20.0->mlflow-skinny==2.21.0->mlflow->pyqlib) (2.38.0)\n",
      "Requirement already satisfied: starlette<0.47.0,>=0.40.0 in c:\\users\\kiit\\appdata\\roaming\\python\\python312\\site-packages (from fastapi<1->mlflow-skinny==2.21.0->mlflow->pyqlib) (0.46.1)\n",
      "Requirement already satisfied: gitdb<5,>=4.0.1 in c:\\users\\kiit\\appdata\\roaming\\python\\python312\\site-packages (from gitpython<4,>=3.1.9->mlflow-skinny==2.21.0->mlflow->pyqlib) (4.0.12)\n",
      "Requirement already satisfied: anyio in c:\\users\\kiit\\appdata\\roaming\\python\\python312\\site-packages (from httpx>=0.25.0->jupyterlab->jupyter->pyqlib) (4.8.0)\n",
      "Requirement already satisfied: certifi in c:\\users\\kiit\\appdata\\roaming\\python\\python312\\site-packages (from httpx>=0.25.0->jupyterlab->jupyter->pyqlib) (2025.1.31)\n",
      "Requirement already satisfied: httpcore==1.* in c:\\users\\kiit\\appdata\\roaming\\python\\python312\\site-packages (from httpx>=0.25.0->jupyterlab->jupyter->pyqlib) (1.0.7)\n",
      "Requirement already satisfied: idna in c:\\users\\kiit\\appdata\\roaming\\python\\python312\\site-packages (from httpx>=0.25.0->jupyterlab->jupyter->pyqlib) (3.10)\n",
      "Requirement already satisfied: h11<0.15,>=0.13 in c:\\users\\kiit\\appdata\\roaming\\python\\python312\\site-packages (from httpcore==1.*->httpx>=0.25.0->jupyterlab->jupyter->pyqlib) (0.14.0)\n",
      "Requirement already satisfied: zipp>=3.20 in c:\\users\\kiit\\appdata\\roaming\\python\\python312\\site-packages (from importlib_metadata!=4.7.0,<9,>=3.7.0->mlflow-skinny==2.21.0->mlflow->pyqlib) (3.21.0)\n",
      "Requirement already satisfied: decorator in c:\\users\\kiit\\appdata\\roaming\\python\\python312\\site-packages (from ipython>=7.23.1->ipykernel->jupyter->pyqlib) (5.2.1)\n",
      "Requirement already satisfied: ipython-pygments-lexers in c:\\users\\kiit\\appdata\\roaming\\python\\python312\\site-packages (from ipython>=7.23.1->ipykernel->jupyter->pyqlib) (1.1.1)\n",
      "Requirement already satisfied: jedi>=0.16 in c:\\users\\kiit\\appdata\\roaming\\python\\python312\\site-packages (from ipython>=7.23.1->ipykernel->jupyter->pyqlib) (0.19.2)\n",
      "Requirement already satisfied: stack_data in c:\\users\\kiit\\appdata\\roaming\\python\\python312\\site-packages (from ipython>=7.23.1->ipykernel->jupyter->pyqlib) (0.6.3)\n",
      "Requirement already satisfied: attrs>=22.2.0 in c:\\users\\kiit\\appdata\\roaming\\python\\python312\\site-packages (from jsonschema>=2.6->nbformat>=5.7->nbconvert->pyqlib) (25.3.0)\n",
      "Requirement already satisfied: jsonschema-specifications>=2023.03.6 in c:\\users\\kiit\\appdata\\roaming\\python\\python312\\site-packages (from jsonschema>=2.6->nbformat>=5.7->nbconvert->pyqlib) (2024.10.1)\n",
      "Requirement already satisfied: referencing>=0.28.4 in c:\\users\\kiit\\appdata\\roaming\\python\\python312\\site-packages (from jsonschema>=2.6->nbformat>=5.7->nbconvert->pyqlib) (0.36.2)\n",
      "Requirement already satisfied: rpds-py>=0.7.1 in c:\\users\\kiit\\appdata\\roaming\\python\\python312\\site-packages (from jsonschema>=2.6->nbformat>=5.7->nbconvert->pyqlib) (0.23.1)\n",
      "Requirement already satisfied: argon2-cffi>=21.1 in c:\\users\\kiit\\appdata\\roaming\\python\\python312\\site-packages (from jupyter-server<3,>=2.4.0->jupyterlab->jupyter->pyqlib) (23.1.0)\n",
      "Requirement already satisfied: jupyter-events>=0.11.0 in c:\\users\\kiit\\appdata\\roaming\\python\\python312\\site-packages (from jupyter-server<3,>=2.4.0->jupyterlab->jupyter->pyqlib) (0.12.0)\n",
      "Requirement already satisfied: jupyter-server-terminals>=0.4.4 in c:\\users\\kiit\\appdata\\roaming\\python\\python312\\site-packages (from jupyter-server<3,>=2.4.0->jupyterlab->jupyter->pyqlib) (0.5.3)\n",
      "Requirement already satisfied: overrides>=5.0 in c:\\users\\kiit\\appdata\\roaming\\python\\python312\\site-packages (from jupyter-server<3,>=2.4.0->jupyterlab->jupyter->pyqlib) (7.7.0)\n",
      "Requirement already satisfied: prometheus-client>=0.9 in c:\\users\\kiit\\appdata\\roaming\\python\\python312\\site-packages (from jupyter-server<3,>=2.4.0->jupyterlab->jupyter->pyqlib) (0.21.1)\n",
      "Requirement already satisfied: pywinpty>=2.0.1 in c:\\users\\kiit\\appdata\\roaming\\python\\python312\\site-packages (from jupyter-server<3,>=2.4.0->jupyterlab->jupyter->pyqlib) (2.0.15)\n",
      "Requirement already satisfied: send2trash>=1.8.2 in c:\\users\\kiit\\appdata\\roaming\\python\\python312\\site-packages (from jupyter-server<3,>=2.4.0->jupyterlab->jupyter->pyqlib) (1.8.3)\n",
      "Requirement already satisfied: terminado>=0.8.3 in c:\\users\\kiit\\appdata\\roaming\\python\\python312\\site-packages (from jupyter-server<3,>=2.4.0->jupyterlab->jupyter->pyqlib) (0.18.1)\n",
      "Requirement already satisfied: websocket-client>=1.7 in c:\\users\\kiit\\appdata\\roaming\\python\\python312\\site-packages (from jupyter-server<3,>=2.4.0->jupyterlab->jupyter->pyqlib) (1.8.0)\n",
      "Requirement already satisfied: babel>=2.10 in c:\\users\\kiit\\appdata\\roaming\\python\\python312\\site-packages (from jupyterlab-server<3,>=2.27.1->jupyterlab->jupyter->pyqlib) (2.17.0)\n",
      "Requirement already satisfied: json5>=0.9.0 in c:\\users\\kiit\\appdata\\roaming\\python\\python312\\site-packages (from jupyterlab-server<3,>=2.27.1->jupyterlab->jupyter->pyqlib) (0.10.0)\n",
      "Requirement already satisfied: deprecated>=1.2.6 in c:\\users\\kiit\\appdata\\roaming\\python\\python312\\site-packages (from opentelemetry-api<3,>=1.9.0->mlflow-skinny==2.21.0->mlflow->pyqlib) (1.2.18)\n",
      "Requirement already satisfied: opentelemetry-semantic-conventions==0.52b0 in c:\\users\\kiit\\appdata\\roaming\\python\\python312\\site-packages (from opentelemetry-sdk<3,>=1.9.0->mlflow-skinny==2.21.0->mlflow->pyqlib) (0.52b0)\n",
      "Requirement already satisfied: wcwidth in c:\\users\\kiit\\appdata\\roaming\\python\\python312\\site-packages (from prompt-toolkit>=3.0.30->jupyter-console->jupyter->pyqlib) (0.2.13)\n",
      "Requirement already satisfied: annotated-types>=0.6.0 in c:\\users\\kiit\\appdata\\roaming\\python\\python312\\site-packages (from pydantic<3,>=1.10.8->mlflow-skinny==2.21.0->mlflow->pyqlib) (0.7.0)\n",
      "Requirement already satisfied: pydantic-core==2.27.2 in c:\\users\\kiit\\appdata\\roaming\\python\\python312\\site-packages (from pydantic<3,>=1.10.8->mlflow-skinny==2.21.0->mlflow->pyqlib) (2.27.2)\n",
      "Requirement already satisfied: charset-normalizer<4,>=2 in c:\\users\\kiit\\appdata\\roaming\\python\\python312\\site-packages (from requests<3,>=2.17.3->mlflow-skinny==2.21.0->mlflow->pyqlib) (3.4.1)\n",
      "Requirement already satisfied: sniffio>=1.1 in c:\\users\\kiit\\appdata\\roaming\\python\\python312\\site-packages (from anyio->httpx>=0.25.0->jupyterlab->jupyter->pyqlib) (1.3.1)\n",
      "Requirement already satisfied: argon2-cffi-bindings in c:\\users\\kiit\\appdata\\roaming\\python\\python312\\site-packages (from argon2-cffi>=21.1->jupyter-server<3,>=2.4.0->jupyterlab->jupyter->pyqlib) (21.2.0)\n",
      "Requirement already satisfied: wrapt<2,>=1.10 in c:\\users\\kiit\\appdata\\roaming\\python\\python312\\site-packages (from deprecated>=1.2.6->opentelemetry-api<3,>=1.9.0->mlflow-skinny==2.21.0->mlflow->pyqlib) (1.17.2)\n",
      "Requirement already satisfied: smmap<6,>=3.0.1 in c:\\users\\kiit\\appdata\\roaming\\python\\python312\\site-packages (from gitdb<5,>=4.0.1->gitpython<4,>=3.1.9->mlflow-skinny==2.21.0->mlflow->pyqlib) (5.0.2)\n",
      "Requirement already satisfied: pyasn1-modules>=0.2.1 in c:\\users\\kiit\\appdata\\roaming\\python\\python312\\site-packages (from google-auth~=2.0->databricks-sdk<1,>=0.20.0->mlflow-skinny==2.21.0->mlflow->pyqlib) (0.4.1)\n",
      "Requirement already satisfied: rsa<5,>=3.1.4 in c:\\users\\kiit\\appdata\\roaming\\python\\python312\\site-packages (from google-auth~=2.0->databricks-sdk<1,>=0.20.0->mlflow-skinny==2.21.0->mlflow->pyqlib) (4.9)\n",
      "Requirement already satisfied: parso<0.9.0,>=0.8.4 in c:\\users\\kiit\\appdata\\roaming\\python\\python312\\site-packages (from jedi>=0.16->ipython>=7.23.1->ipykernel->jupyter->pyqlib) (0.8.4)\n",
      "Requirement already satisfied: python-json-logger>=2.0.4 in c:\\users\\kiit\\appdata\\roaming\\python\\python312\\site-packages (from jupyter-events>=0.11.0->jupyter-server<3,>=2.4.0->jupyterlab->jupyter->pyqlib) (3.3.0)\n",
      "Requirement already satisfied: rfc3339-validator in c:\\users\\kiit\\appdata\\roaming\\python\\python312\\site-packages (from jupyter-events>=0.11.0->jupyter-server<3,>=2.4.0->jupyterlab->jupyter->pyqlib) (0.1.4)\n",
      "Requirement already satisfied: rfc3986-validator>=0.1.1 in c:\\users\\kiit\\appdata\\roaming\\python\\python312\\site-packages (from jupyter-events>=0.11.0->jupyter-server<3,>=2.4.0->jupyterlab->jupyter->pyqlib) (0.1.1)\n",
      "Requirement already satisfied: executing>=1.2.0 in c:\\users\\kiit\\appdata\\roaming\\python\\python312\\site-packages (from stack_data->ipython>=7.23.1->ipykernel->jupyter->pyqlib) (2.2.0)\n",
      "Requirement already satisfied: asttokens>=2.1.0 in c:\\users\\kiit\\appdata\\roaming\\python\\python312\\site-packages (from stack_data->ipython>=7.23.1->ipykernel->jupyter->pyqlib) (3.0.0)\n",
      "Requirement already satisfied: pure-eval in c:\\users\\kiit\\appdata\\roaming\\python\\python312\\site-packages (from stack_data->ipython>=7.23.1->ipykernel->jupyter->pyqlib) (0.2.3)\n",
      "Requirement already satisfied: fqdn in c:\\users\\kiit\\appdata\\roaming\\python\\python312\\site-packages (from jsonschema[format-nongpl]>=4.18.0->jupyter-events>=0.11.0->jupyter-server<3,>=2.4.0->jupyterlab->jupyter->pyqlib) (1.5.1)\n",
      "Requirement already satisfied: isoduration in c:\\users\\kiit\\appdata\\roaming\\python\\python312\\site-packages (from jsonschema[format-nongpl]>=4.18.0->jupyter-events>=0.11.0->jupyter-server<3,>=2.4.0->jupyterlab->jupyter->pyqlib) (20.11.0)\n",
      "Requirement already satisfied: jsonpointer>1.13 in c:\\users\\kiit\\appdata\\roaming\\python\\python312\\site-packages (from jsonschema[format-nongpl]>=4.18.0->jupyter-events>=0.11.0->jupyter-server<3,>=2.4.0->jupyterlab->jupyter->pyqlib) (3.0.0)\n",
      "Requirement already satisfied: uri-template in c:\\users\\kiit\\appdata\\roaming\\python\\python312\\site-packages (from jsonschema[format-nongpl]>=4.18.0->jupyter-events>=0.11.0->jupyter-server<3,>=2.4.0->jupyterlab->jupyter->pyqlib) (1.3.0)\n",
      "Requirement already satisfied: webcolors>=24.6.0 in c:\\users\\kiit\\appdata\\roaming\\python\\python312\\site-packages (from jsonschema[format-nongpl]>=4.18.0->jupyter-events>=0.11.0->jupyter-server<3,>=2.4.0->jupyterlab->jupyter->pyqlib) (24.11.1)\n",
      "Requirement already satisfied: pyasn1<0.7.0,>=0.4.6 in c:\\users\\kiit\\appdata\\roaming\\python\\python312\\site-packages (from pyasn1-modules>=0.2.1->google-auth~=2.0->databricks-sdk<1,>=0.20.0->mlflow-skinny==2.21.0->mlflow->pyqlib) (0.6.1)\n",
      "Requirement already satisfied: cffi>=1.0.1 in c:\\users\\kiit\\appdata\\roaming\\python\\python312\\site-packages (from argon2-cffi-bindings->argon2-cffi>=21.1->jupyter-server<3,>=2.4.0->jupyterlab->jupyter->pyqlib) (1.17.1)\n",
      "Requirement already satisfied: pycparser in c:\\users\\kiit\\appdata\\roaming\\python\\python312\\site-packages (from cffi>=1.0.1->argon2-cffi-bindings->argon2-cffi>=21.1->jupyter-server<3,>=2.4.0->jupyterlab->jupyter->pyqlib) (2.22)\n",
      "Requirement already satisfied: arrow>=0.15.0 in c:\\users\\kiit\\appdata\\roaming\\python\\python312\\site-packages (from isoduration->jsonschema[format-nongpl]>=4.18.0->jupyter-events>=0.11.0->jupyter-server<3,>=2.4.0->jupyterlab->jupyter->pyqlib) (1.3.0)\n",
      "Requirement already satisfied: types-python-dateutil>=2.8.10 in c:\\users\\kiit\\appdata\\roaming\\python\\python312\\site-packages (from arrow>=0.15.0->isoduration->jsonschema[format-nongpl]>=4.18.0->jupyter-events>=0.11.0->jupyter-server<3,>=2.4.0->jupyterlab->jupyter->pyqlib) (2.9.0.20241206)\n"
     ]
    }
   ],
   "source": [
    "!pip install pyqlib"
   ]
  },
  {
   "cell_type": "code",
   "execution_count": 3,
   "id": "874aa5d6-347f-4117-a13f-7b01b20a8172",
   "metadata": {},
   "outputs": [],
   "source": [
    "import qlib\n",
    "from qlib.data import D\n",
    "from qlib.contrib.model.pytorch_gru import GRU\n",
    "from qlib.utils import init_instance_by_config\n",
    "import pandas as pd\n",
    "import numpy as np\n",
    "import torch\n",
    "import matplotlib.pyplot as plt"
   ]
  },
  {
   "cell_type": "code",
   "execution_count": null,
   "id": "f7df8dc6-3b44-4c36-b6d6-d4683e834db8",
   "metadata": {},
   "outputs": [],
   "source": []
  },
  {
   "cell_type": "code",
   "execution_count": 3,
   "id": "26aa0ac0-097c-4b75-a9a1-17166af5a2d4",
   "metadata": {},
   "outputs": [
    {
     "ename": "ModuleNotFoundError",
     "evalue": "No module named 'yfinance'",
     "output_type": "error",
     "traceback": [
      "\u001b[31m---------------------------------------------------------------------------\u001b[39m",
      "\u001b[31mModuleNotFoundError\u001b[39m                       Traceback (most recent call last)",
      "\u001b[36mCell\u001b[39m\u001b[36m \u001b[39m\u001b[32mIn[3]\u001b[39m\u001b[32m, line 1\u001b[39m\n\u001b[32m----> \u001b[39m\u001b[32m1\u001b[39m \u001b[38;5;28;01mimport\u001b[39;00m\u001b[38;5;250m \u001b[39m\u001b[34;01myfinance\u001b[39;00m\u001b[38;5;250m \u001b[39m\u001b[38;5;28;01mas\u001b[39;00m\u001b[38;5;250m \u001b[39m\u001b[34;01myf\u001b[39;00m\n\u001b[32m      2\u001b[39m \u001b[38;5;28;01mimport\u001b[39;00m\u001b[38;5;250m \u001b[39m\u001b[34;01mpandas\u001b[39;00m\u001b[38;5;250m \u001b[39m\u001b[38;5;28;01mas\u001b[39;00m\u001b[38;5;250m \u001b[39m\u001b[34;01mpd\u001b[39;00m\n\u001b[32m      3\u001b[39m \u001b[38;5;28;01mfrom\u001b[39;00m\u001b[38;5;250m \u001b[39m\u001b[34;01mdatetime\u001b[39;00m\u001b[38;5;250m \u001b[39m\u001b[38;5;28;01mimport\u001b[39;00m datetime, timedelta\n",
      "\u001b[31mModuleNotFoundError\u001b[39m: No module named 'yfinance'"
     ]
    }
   ],
   "source": [
    "import yfinance as yf\n",
    "import pandas as pd\n",
    "from datetime import datetime, timedelta\n",
    "\n",
    "# Define top 10 Indian companies (based on market cap)\n",
    "tickers = [\n",
    "    \"RELIANCE.NS\", \"TCS.NS\", \"HDFCBANK.NS\", \"ICICIBANK.NS\", \"INFY.NS\",\n",
    "    \"HINDUNILVR.NS\", \"SBIN.NS\", \"BHARTIARTL.NS\", \"HDFCBANK.NS\", \"ITC.NS\"\n",
    "]\n",
    "\n",
    "# Define date range\n",
    "end_date = datetime.today().strftime('%Y-%m-%d')\n",
    "start_date = (datetime.today() - timedelta(days=730)).strftime('%Y-%m-%d')\n",
    "\n",
    "# Fetch data and store in a DataFrame\n",
    "all_data = []\n",
    "for ticker in tickers:\n",
    "    stock_data = yf.download(ticker, start=start_date, end=end_date)\n",
    "    stock_data.insert(0, \"ticker\", ticker)  # Add ticker column\n",
    "    all_data.append(stock_data)\n",
    "\n",
    "# Concatenate all stock data\n",
    "df = pd.concat(all_data)\n",
    "df.reset_index(inplace=True)\n",
    "\n",
    "# Rename columns to match Qlib format\n",
    "df.rename(columns={\n",
    "    \"Date\": \"date\",\n",
    "    \"Open\": \"open\",\n",
    "    \"High\": \"high\",\n",
    "    \"Low\": \"low\",\n",
    "    \"Close\": \"close\",\n",
    "    \"Adj Close\": \"adj_close\",\n",
    "    \"Volume\": \"volume\"\n",
    "}, inplace=True)\n",
    "\n",
    "# Save as CSV\n",
    "csv_file = \"indian_stocks_last_2_years.csv\"\n",
    "df.to_csv(csv_file, index=False)\n",
    "print(f\"Dataset saved as {csv_file}\")"
   ]
  },
  {
   "cell_type": "code",
   "execution_count": 5,
   "id": "cd508510-b6e0-4554-bd88-358de9847247",
   "metadata": {},
   "outputs": [
    {
     "name": "stdout",
     "output_type": "stream",
     "text": [
      "Collecting yfinance\n",
      "  Downloading yfinance-0.2.55-py2.py3-none-any.whl.metadata (5.8 kB)\n",
      "Requirement already satisfied: pandas>=1.3.0 in c:\\users\\kiit\\anaconda3\\lib\\site-packages (from yfinance) (2.2.3)\n",
      "Requirement already satisfied: numpy>=1.16.5 in c:\\users\\kiit\\anaconda3\\lib\\site-packages (from yfinance) (1.26.4)\n",
      "Requirement already satisfied: requests>=2.31 in c:\\users\\kiit\\appdata\\roaming\\python\\python312\\site-packages (from yfinance) (2.32.3)\n",
      "Collecting multitasking>=0.0.7 (from yfinance)\n",
      "  Downloading multitasking-0.0.11-py3-none-any.whl.metadata (5.5 kB)\n",
      "Requirement already satisfied: platformdirs>=2.0.0 in c:\\users\\kiit\\appdata\\roaming\\python\\python312\\site-packages (from yfinance) (4.3.7)\n",
      "Requirement already satisfied: pytz>=2022.5 in c:\\users\\kiit\\anaconda3\\lib\\site-packages (from yfinance) (2025.1)\n",
      "Requirement already satisfied: frozendict>=2.3.4 in c:\\users\\kiit\\anaconda3\\lib\\site-packages (from yfinance) (2.4.2)\n",
      "Collecting peewee>=3.16.2 (from yfinance)\n",
      "  Downloading peewee-3.17.9.tar.gz (3.0 MB)\n",
      "     ---------------------------------------- 0.0/3.0 MB ? eta -:--:--\n",
      "     ---------- ----------------------------- 0.8/3.0 MB 4.2 MB/s eta 0:00:01\n",
      "     ------------------------ --------------- 1.8/3.0 MB 4.6 MB/s eta 0:00:01\n",
      "     ------------------------------- -------- 2.4/3.0 MB 3.9 MB/s eta 0:00:01\n",
      "     ---------------------------------------- 3.0/3.0 MB 3.7 MB/s eta 0:00:00\n",
      "  Installing build dependencies: started\n",
      "  Installing build dependencies: finished with status 'done'\n",
      "  Getting requirements to build wheel: started\n",
      "  Getting requirements to build wheel: finished with status 'done'\n",
      "  Preparing metadata (pyproject.toml): started\n",
      "  Preparing metadata (pyproject.toml): finished with status 'done'\n",
      "Requirement already satisfied: beautifulsoup4>=4.11.1 in c:\\users\\kiit\\appdata\\roaming\\python\\python312\\site-packages (from yfinance) (4.13.3)\n",
      "Requirement already satisfied: soupsieve>1.2 in c:\\users\\kiit\\appdata\\roaming\\python\\python312\\site-packages (from beautifulsoup4>=4.11.1->yfinance) (2.6)\n",
      "Requirement already satisfied: typing-extensions>=4.0.0 in c:\\users\\kiit\\anaconda3\\lib\\site-packages (from beautifulsoup4>=4.11.1->yfinance) (4.12.2)\n",
      "Requirement already satisfied: python-dateutil>=2.8.2 in c:\\users\\kiit\\anaconda3\\lib\\site-packages (from pandas>=1.3.0->yfinance) (2.9.0.post0)\n",
      "Requirement already satisfied: tzdata>=2022.7 in c:\\users\\kiit\\anaconda3\\lib\\site-packages (from pandas>=1.3.0->yfinance) (2025.1)\n",
      "Requirement already satisfied: charset-normalizer<4,>=2 in c:\\users\\kiit\\appdata\\roaming\\python\\python312\\site-packages (from requests>=2.31->yfinance) (3.4.1)\n",
      "Requirement already satisfied: idna<4,>=2.5 in c:\\users\\kiit\\appdata\\roaming\\python\\python312\\site-packages (from requests>=2.31->yfinance) (3.10)\n",
      "Requirement already satisfied: urllib3<3,>=1.21.1 in c:\\users\\kiit\\appdata\\roaming\\python\\python312\\site-packages (from requests>=2.31->yfinance) (2.3.0)\n",
      "Requirement already satisfied: certifi>=2017.4.17 in c:\\users\\kiit\\appdata\\roaming\\python\\python312\\site-packages (from requests>=2.31->yfinance) (2025.1.31)\n",
      "Requirement already satisfied: six>=1.5 in c:\\users\\kiit\\anaconda3\\lib\\site-packages (from python-dateutil>=2.8.2->pandas>=1.3.0->yfinance) (1.17.0)\n",
      "Downloading yfinance-0.2.55-py2.py3-none-any.whl (109 kB)\n",
      "Downloading multitasking-0.0.11-py3-none-any.whl (8.5 kB)\n",
      "Building wheels for collected packages: peewee\n",
      "  Building wheel for peewee (pyproject.toml): started\n",
      "  Building wheel for peewee (pyproject.toml): finished with status 'done'\n",
      "  Created wheel for peewee: filename=peewee-3.17.9-py3-none-any.whl size=139127 sha256=fa92891f0c1b7781abf8de412e88461b46fdbe8c043d4be869005bfe36c4be3f\n",
      "  Stored in directory: c:\\users\\kiit\\appdata\\local\\pip\\cache\\wheels\\43\\ef\\2d\\2c51d496bf084945ffdf838b4cc8767b8ba1cc20eb41588831\n",
      "Successfully built peewee\n",
      "Installing collected packages: peewee, multitasking, yfinance\n",
      "Successfully installed multitasking-0.0.11 peewee-3.17.9 yfinance-0.2.55\n"
     ]
    }
   ],
   "source": [
    "!pip install yfinance"
   ]
  },
  {
   "cell_type": "code",
   "execution_count": 38,
   "id": "5204a4fb-86da-4ab3-945a-2953973ad1f5",
   "metadata": {},
   "outputs": [
    {
     "name": "stderr",
     "output_type": "stream",
     "text": [
      "[*********************100%***********************]  1 of 1 completed\n",
      "[*********************100%***********************]  1 of 1 completed\n",
      "[*********************100%***********************]  1 of 1 completed\n",
      "[*********************100%***********************]  1 of 1 completed\n",
      "[*********************100%***********************]  1 of 1 completed\n",
      "[*********************100%***********************]  1 of 1 completed\n",
      "[*********************100%***********************]  1 of 1 completed\n",
      "[*********************100%***********************]  1 of 1 completed\n",
      "[*********************100%***********************]  1 of 1 completed\n",
      "[*********************100%***********************]  1 of 1 completed\n"
     ]
    },
    {
     "name": "stdout",
     "output_type": "stream",
     "text": [
      "Dataset saved as indian_stocks_last_2_years.csv\n"
     ]
    }
   ],
   "source": [
    "import yfinance as yf\n",
    "import pandas as pd\n",
    "from datetime import datetime, timedelta\n",
    "\n",
    "# Define top 10 Indian companies (based on market cap)\n",
    "tickers = [\n",
    "    \"RELIANCE.NS\", \"TCS.NS\", \"HDFCBANK.NS\", \"ICICIBANK.NS\", \"INFY.NS\",\n",
    "    \"HINDUNILVR.NS\", \"SBIN.NS\", \"BHARTIARTL.NS\", \"HDFCBANK.NS\", \"ITC.NS\"\n",
    "]\n",
    "\n",
    "# Define date range\n",
    "end_date = datetime.today().strftime('%Y-%m-%d')\n",
    "start_date = (datetime.today() - timedelta(days=730)).strftime('%Y-%m-%d')\n",
    "\n",
    "# Fetch data and store in a DataFrame\n",
    "all_data = []\n",
    "for ticker in tickers:\n",
    "    stock_data = yf.download(ticker, start=start_date, end=end_date)\n",
    "    stock_data.insert(0, \"ticker\", ticker)  # Add ticker column\n",
    "    all_data.append(stock_data)\n",
    "\n",
    "# Concatenate all stock data\n",
    "df = pd.concat(all_data)\n",
    "df.reset_index(inplace=True)\n",
    "\n",
    "# Rename columns to match Qlib format\n",
    "df.rename(columns={\n",
    "    \"Date\": \"date\",\n",
    "    \"Open\": \"open\",\n",
    "    \"High\": \"high\",\n",
    "    \"Low\": \"low\",\n",
    "    \"Close\": \"close\",\n",
    "    \"Adj Close\": \"adj_close\",\n",
    "    \"Volume\": \"volume\"\n",
    "}, inplace=True)\n",
    "\n",
    "# Save as CSV\n",
    "csv_file = \"indian_stocks_last_2_years.csv\"\n",
    "df.to_csv(csv_file, index=False)\n",
    "print(f\"Dataset saved as {csv_file}\")"
   ]
  },
  {
   "cell_type": "code",
   "execution_count": 40,
   "id": "c32ab0a5-f948-4eb2-b01d-6c79cd66647c",
   "metadata": {},
   "outputs": [
    {
     "name": "stdout",
     "output_type": "stream",
     "text": [
      "Data formatted for Qlib and saved at: C:\\Users\\KIIT/.qlib/qlib_data/in_data/features\\market.csv\n"
     ]
    }
   ],
   "source": [
    "import pandas as pd\n",
    "import os\n",
    "\n",
    "# Load your dataset\n",
    "df = pd.read_csv(\"indian_stocks_last_2_years.csv\")\n",
    "\n",
    "# Convert date format to Qlib format (YYYYMMDD)\n",
    "df[\"date\"] = pd.to_datetime(df[\"date\"]).dt.strftime(\"%Y%m%d\")\n",
    "\n",
    "# Define the output directory\n",
    "features_dir = os.path.expanduser(\"~/.qlib/qlib_data/in_data/features\")\n",
    "\n",
    "# Create the directory if it does not exist\n",
    "os.makedirs(features_dir, exist_ok=True)\n",
    "\n",
    "# Save as Market CSV (Features)\n",
    "features_path = os.path.join(features_dir, \"market.csv\")\n",
    "df.to_csv(features_path, index=False)\n",
    "\n",
    "print(f\"Data formatted for Qlib and saved at: {features_path}\")\n"
   ]
  },
  {
   "cell_type": "code",
   "execution_count": 17,
   "id": "142820be-7be9-420d-be6e-3963568a6daa",
   "metadata": {},
   "outputs": [
    {
     "name": "stdout",
     "output_type": "stream",
     "text": [
      "Instruments file created at: C:\\Users\\KIIT/.qlib/qlib_data/in_data/instruments\\all.txt\n"
     ]
    }
   ],
   "source": [
    "import os\n",
    "import pandas as pd\n",
    "\n",
    "# Load dataset\n",
    "df = pd.read_csv(\"indian_stocks_last_2_years.csv\")\n",
    "\n",
    "# Define the instruments directory\n",
    "instruments_dir = os.path.expanduser(\"~/.qlib/qlib_data/in_data/instruments\")\n",
    "\n",
    "# Create the directory if it doesn't exist\n",
    "os.makedirs(instruments_dir, exist_ok=True)\n",
    "\n",
    "# Define the file path\n",
    "instruments_path = os.path.join(instruments_dir, \"all.txt\")\n",
    "\n",
    "# Write unique tickers to the file\n",
    "with open(instruments_path, \"w\") as f:\n",
    "    for ticker in df[\"ticker\"].unique():\n",
    "        f.write(f\"{ticker}\\n\")\n",
    "\n",
    "print(f\"Instruments file created at: {instruments_path}\")\n"
   ]
  },
  {
   "cell_type": "code",
   "execution_count": 42,
   "id": "2d615dbd-cf72-4077-868f-012dba27d9c9",
   "metadata": {},
   "outputs": [
    {
     "name": "stdout",
     "output_type": "stream",
     "text": [
      "Qlib Initialized with Indian stock data.\n"
     ]
    }
   ],
   "source": [
    "from qlib.config import C\n",
    "from qlib.utils import init_instance_by_config\n",
    "\n",
    "C[\"data_path\"] = \"~/.qlib/qlib_data/in_data\"\n",
    "\n",
    "print(\"Qlib Initialized with Indian stock data.\")"
   ]
  },
  {
   "cell_type": "code",
   "execution_count": 44,
   "id": "c34254f0-2d44-427d-9bf3-86484b4aeff4",
   "metadata": {},
   "outputs": [
    {
     "name": "stderr",
     "output_type": "stream",
     "text": [
      "[11768:MainThread](2025-03-23 20:30:13,079) INFO - qlib.Initialization - [config.py:420] - default_conf: client.\n",
      "[11768:MainThread](2025-03-23 20:30:13,086) INFO - qlib.Initialization - [__init__.py:74] - qlib successfully initialized based on client settings.\n",
      "[11768:MainThread](2025-03-23 20:30:13,088) INFO - qlib.Initialization - [__init__.py:76] - data_path={'__DEFAULT_FREQ': WindowsPath('C:/Users/KIIT/.qlib/qlib_data/in_data')}\n"
     ]
    },
    {
     "name": "stdout",
     "output_type": "stream",
     "text": [
      "✅ Qlib initialized successfully!\n"
     ]
    }
   ],
   "source": [
    "import qlib\n",
    "\n",
    "qlib.init(provider_uri=\"C:/Users/KIIT/.qlib/qlib_data/in_data\", region=\"cn\")\n",
    "\n",
    "from qlib.data import D\n",
    "\n",
    "print(\"✅ Qlib initialized successfully!\")\n"
   ]
  },
  {
   "cell_type": "code",
   "execution_count": 46,
   "id": "00b44598-69c3-41a9-85a0-4388d17c77df",
   "metadata": {},
   "outputs": [
    {
     "ename": "ValueError",
     "evalue": "instrument: {'__DEFAULT_FREQ': 'C:\\\\Users\\\\KIIT\\\\.qlib\\\\qlib_data\\\\in_data'} does not contain data for day",
     "output_type": "error",
     "traceback": [
      "\u001b[31m---------------------------------------------------------------------------\u001b[39m",
      "\u001b[31mTypeError\u001b[39m                                 Traceback (most recent call last)",
      "\u001b[36mFile \u001b[39m\u001b[32m~\\AppData\\Roaming\\Python\\Python312\\site-packages\\qlib\\data\\data.py:1186\u001b[39m, in \u001b[36mBaseProvider.features\u001b[39m\u001b[34m(self, instruments, fields, start_time, end_time, freq, disk_cache, inst_processors)\u001b[39m\n\u001b[32m   1185\u001b[39m \u001b[38;5;28;01mtry\u001b[39;00m:\n\u001b[32m-> \u001b[39m\u001b[32m1186\u001b[39m     \u001b[38;5;28;01mreturn\u001b[39;00m \u001b[43mDatasetD\u001b[49m\u001b[43m.\u001b[49m\u001b[43mdataset\u001b[49m\u001b[43m(\u001b[49m\n\u001b[32m   1187\u001b[39m \u001b[43m        \u001b[49m\u001b[43minstruments\u001b[49m\u001b[43m,\u001b[49m\u001b[43m \u001b[49m\u001b[43mfields\u001b[49m\u001b[43m,\u001b[49m\u001b[43m \u001b[49m\u001b[43mstart_time\u001b[49m\u001b[43m,\u001b[49m\u001b[43m \u001b[49m\u001b[43mend_time\u001b[49m\u001b[43m,\u001b[49m\u001b[43m \u001b[49m\u001b[43mfreq\u001b[49m\u001b[43m,\u001b[49m\u001b[43m \u001b[49m\u001b[43mdisk_cache\u001b[49m\u001b[43m,\u001b[49m\u001b[43m \u001b[49m\u001b[43minst_processors\u001b[49m\u001b[43m=\u001b[49m\u001b[43minst_processors\u001b[49m\n\u001b[32m   1188\u001b[39m \u001b[43m    \u001b[49m\u001b[43m)\u001b[49m\n\u001b[32m   1189\u001b[39m \u001b[38;5;28;01mexcept\u001b[39;00m \u001b[38;5;167;01mTypeError\u001b[39;00m:\n",
      "\u001b[31mTypeError\u001b[39m: LocalDatasetProvider.dataset() got multiple values for argument 'inst_processors'",
      "\nDuring handling of the above exception, another exception occurred:\n",
      "\u001b[31mValueError\u001b[39m                                Traceback (most recent call last)",
      "\u001b[36mCell\u001b[39m\u001b[36m \u001b[39m\u001b[32mIn[46]\u001b[39m\u001b[32m, line 9\u001b[39m\n\u001b[32m      6\u001b[39m \u001b[38;5;28;01mfrom\u001b[39;00m\u001b[38;5;250m \u001b[39m\u001b[34;01mqlib\u001b[39;00m\u001b[34;01m.\u001b[39;00m\u001b[34;01mcontrib\u001b[39;00m\u001b[34;01m.\u001b[39;00m\u001b[34;01mdata\u001b[39;00m\u001b[34;01m.\u001b[39;00m\u001b[34;01mhandler\u001b[39;00m\u001b[38;5;250m \u001b[39m\u001b[38;5;28;01mimport\u001b[39;00m Alpha158\n\u001b[32m      8\u001b[39m \u001b[38;5;66;03m# Load dataset\u001b[39;00m\n\u001b[32m----> \u001b[39m\u001b[32m9\u001b[39m handler = \u001b[43mAlpha158\u001b[49m\u001b[43m(\u001b[49m\u001b[43minstruments\u001b[49m\u001b[43m=\u001b[49m\u001b[33;43m\"\u001b[39;49m\u001b[33;43mall\u001b[39;49m\u001b[33;43m\"\u001b[39;49m\u001b[43m)\u001b[49m\n\u001b[32m     11\u001b[39m \u001b[38;5;66;03m# Train Model\u001b[39;00m\n\u001b[32m     12\u001b[39m model = LGBModel()\n",
      "\u001b[36mFile \u001b[39m\u001b[32m~\\AppData\\Roaming\\Python\\Python312\\site-packages\\qlib\\contrib\\data\\handler.py:129\u001b[39m, in \u001b[36mAlpha158.__init__\u001b[39m\u001b[34m(self, instruments, start_time, end_time, freq, infer_processors, learn_processors, fit_start_time, fit_end_time, process_type, filter_pipe, inst_processors, **kwargs)\u001b[39m\n\u001b[32m    115\u001b[39m learn_processors = check_transform_proc(learn_processors, fit_start_time, fit_end_time)\n\u001b[32m    117\u001b[39m data_loader = {\n\u001b[32m    118\u001b[39m     \u001b[33m\"\u001b[39m\u001b[33mclass\u001b[39m\u001b[33m\"\u001b[39m: \u001b[33m\"\u001b[39m\u001b[33mQlibDataLoader\u001b[39m\u001b[33m\"\u001b[39m,\n\u001b[32m    119\u001b[39m     \u001b[33m\"\u001b[39m\u001b[33mkwargs\u001b[39m\u001b[33m\"\u001b[39m: {\n\u001b[32m   (...)\u001b[39m\u001b[32m    127\u001b[39m     },\n\u001b[32m    128\u001b[39m }\n\u001b[32m--> \u001b[39m\u001b[32m129\u001b[39m \u001b[38;5;28;43msuper\u001b[39;49m\u001b[43m(\u001b[49m\u001b[43m)\u001b[49m\u001b[43m.\u001b[49m\u001b[34;43m__init__\u001b[39;49m\u001b[43m(\u001b[49m\n\u001b[32m    130\u001b[39m \u001b[43m    \u001b[49m\u001b[43minstruments\u001b[49m\u001b[43m=\u001b[49m\u001b[43minstruments\u001b[49m\u001b[43m,\u001b[49m\n\u001b[32m    131\u001b[39m \u001b[43m    \u001b[49m\u001b[43mstart_time\u001b[49m\u001b[43m=\u001b[49m\u001b[43mstart_time\u001b[49m\u001b[43m,\u001b[49m\n\u001b[32m    132\u001b[39m \u001b[43m    \u001b[49m\u001b[43mend_time\u001b[49m\u001b[43m=\u001b[49m\u001b[43mend_time\u001b[49m\u001b[43m,\u001b[49m\n\u001b[32m    133\u001b[39m \u001b[43m    \u001b[49m\u001b[43mdata_loader\u001b[49m\u001b[43m=\u001b[49m\u001b[43mdata_loader\u001b[49m\u001b[43m,\u001b[49m\n\u001b[32m    134\u001b[39m \u001b[43m    \u001b[49m\u001b[43minfer_processors\u001b[49m\u001b[43m=\u001b[49m\u001b[43minfer_processors\u001b[49m\u001b[43m,\u001b[49m\n\u001b[32m    135\u001b[39m \u001b[43m    \u001b[49m\u001b[43mlearn_processors\u001b[49m\u001b[43m=\u001b[49m\u001b[43mlearn_processors\u001b[49m\u001b[43m,\u001b[49m\n\u001b[32m    136\u001b[39m \u001b[43m    \u001b[49m\u001b[43mprocess_type\u001b[49m\u001b[43m=\u001b[49m\u001b[43mprocess_type\u001b[49m\u001b[43m,\u001b[49m\n\u001b[32m    137\u001b[39m \u001b[43m    \u001b[49m\u001b[43m*\u001b[49m\u001b[43m*\u001b[49m\u001b[43mkwargs\u001b[49m\u001b[43m,\u001b[49m\n\u001b[32m    138\u001b[39m \u001b[43m\u001b[49m\u001b[43m)\u001b[49m\n",
      "\u001b[36mFile \u001b[39m\u001b[32m~\\AppData\\Roaming\\Python\\Python312\\site-packages\\qlib\\data\\dataset\\handler.py:468\u001b[39m, in \u001b[36mDataHandlerLP.__init__\u001b[39m\u001b[34m(self, instruments, start_time, end_time, data_loader, infer_processors, learn_processors, shared_processors, process_type, drop_raw, **kwargs)\u001b[39m\n\u001b[32m    466\u001b[39m \u001b[38;5;28mself\u001b[39m.process_type = process_type\n\u001b[32m    467\u001b[39m \u001b[38;5;28mself\u001b[39m.drop_raw = drop_raw\n\u001b[32m--> \u001b[39m\u001b[32m468\u001b[39m \u001b[38;5;28;43msuper\u001b[39;49m\u001b[43m(\u001b[49m\u001b[43m)\u001b[49m\u001b[43m.\u001b[49m\u001b[34;43m__init__\u001b[39;49m\u001b[43m(\u001b[49m\u001b[43minstruments\u001b[49m\u001b[43m,\u001b[49m\u001b[43m \u001b[49m\u001b[43mstart_time\u001b[49m\u001b[43m,\u001b[49m\u001b[43m \u001b[49m\u001b[43mend_time\u001b[49m\u001b[43m,\u001b[49m\u001b[43m \u001b[49m\u001b[43mdata_loader\u001b[49m\u001b[43m,\u001b[49m\u001b[43m \u001b[49m\u001b[43m*\u001b[49m\u001b[43m*\u001b[49m\u001b[43mkwargs\u001b[49m\u001b[43m)\u001b[49m\n",
      "\u001b[36mFile \u001b[39m\u001b[32m~\\AppData\\Roaming\\Python\\Python312\\site-packages\\qlib\\data\\dataset\\handler.py:100\u001b[39m, in \u001b[36mDataHandler.__init__\u001b[39m\u001b[34m(self, instruments, start_time, end_time, data_loader, init_data, fetch_orig)\u001b[39m\n\u001b[32m     98\u001b[39m \u001b[38;5;28;01mif\u001b[39;00m init_data:\n\u001b[32m     99\u001b[39m     \u001b[38;5;28;01mwith\u001b[39;00m TimeInspector.logt(\u001b[33m\"\u001b[39m\u001b[33mInit data\u001b[39m\u001b[33m\"\u001b[39m):\n\u001b[32m--> \u001b[39m\u001b[32m100\u001b[39m         \u001b[38;5;28;43mself\u001b[39;49m\u001b[43m.\u001b[49m\u001b[43msetup_data\u001b[49m\u001b[43m(\u001b[49m\u001b[43m)\u001b[49m\n\u001b[32m    101\u001b[39m \u001b[38;5;28msuper\u001b[39m().\u001b[34m__init__\u001b[39m()\n",
      "\u001b[36mFile \u001b[39m\u001b[32m~\\AppData\\Roaming\\Python\\Python312\\site-packages\\qlib\\data\\dataset\\handler.py:610\u001b[39m, in \u001b[36mDataHandlerLP.setup_data\u001b[39m\u001b[34m(self, init_type, **kwargs)\u001b[39m\n\u001b[32m    594\u001b[39m \u001b[38;5;250m\u001b[39m\u001b[33;03m\"\"\"\u001b[39;00m\n\u001b[32m    595\u001b[39m \u001b[33;03mSet up the data in case of running initialization for multiple time\u001b[39;00m\n\u001b[32m    596\u001b[39m \n\u001b[32m   (...)\u001b[39m\u001b[32m    607\u001b[39m \u001b[33;03m        when we call `init` next time\u001b[39;00m\n\u001b[32m    608\u001b[39m \u001b[33;03m\"\"\"\u001b[39;00m\n\u001b[32m    609\u001b[39m \u001b[38;5;66;03m# init raw data\u001b[39;00m\n\u001b[32m--> \u001b[39m\u001b[32m610\u001b[39m \u001b[38;5;28;43msuper\u001b[39;49m\u001b[43m(\u001b[49m\u001b[43m)\u001b[49m\u001b[43m.\u001b[49m\u001b[43msetup_data\u001b[49m\u001b[43m(\u001b[49m\u001b[43m*\u001b[49m\u001b[43m*\u001b[49m\u001b[43mkwargs\u001b[49m\u001b[43m)\u001b[49m\n\u001b[32m    612\u001b[39m \u001b[38;5;28;01mwith\u001b[39;00m TimeInspector.logt(\u001b[33m\"\u001b[39m\u001b[33mfit & process data\u001b[39m\u001b[33m\"\u001b[39m):\n\u001b[32m    613\u001b[39m     \u001b[38;5;28;01mif\u001b[39;00m init_type == DataHandlerLP.IT_FIT_IND:\n",
      "\u001b[36mFile \u001b[39m\u001b[32m~\\AppData\\Roaming\\Python\\Python312\\site-packages\\qlib\\data\\dataset\\handler.py:144\u001b[39m, in \u001b[36mDataHandler.setup_data\u001b[39m\u001b[34m(self, enable_cache)\u001b[39m\n\u001b[32m    140\u001b[39m \u001b[38;5;66;03m# Setup data.\u001b[39;00m\n\u001b[32m    141\u001b[39m \u001b[38;5;66;03m# _data may be with multiple column index level. The outer level indicates the feature set name\u001b[39;00m\n\u001b[32m    142\u001b[39m \u001b[38;5;28;01mwith\u001b[39;00m TimeInspector.logt(\u001b[33m\"\u001b[39m\u001b[33mLoading data\u001b[39m\u001b[33m\"\u001b[39m):\n\u001b[32m    143\u001b[39m     \u001b[38;5;66;03m# make sure the fetch method is based on an index-sorted pd.DataFrame\u001b[39;00m\n\u001b[32m--> \u001b[39m\u001b[32m144\u001b[39m     \u001b[38;5;28mself\u001b[39m._data = lazy_sort_index(\u001b[38;5;28;43mself\u001b[39;49m\u001b[43m.\u001b[49m\u001b[43mdata_loader\u001b[49m\u001b[43m.\u001b[49m\u001b[43mload\u001b[49m\u001b[43m(\u001b[49m\u001b[38;5;28;43mself\u001b[39;49m\u001b[43m.\u001b[49m\u001b[43minstruments\u001b[49m\u001b[43m,\u001b[49m\u001b[43m \u001b[49m\u001b[38;5;28;43mself\u001b[39;49m\u001b[43m.\u001b[49m\u001b[43mstart_time\u001b[49m\u001b[43m,\u001b[49m\u001b[43m \u001b[49m\u001b[38;5;28;43mself\u001b[39;49m\u001b[43m.\u001b[49m\u001b[43mend_time\u001b[49m\u001b[43m)\u001b[49m)\n",
      "\u001b[36mFile \u001b[39m\u001b[32m~\\AppData\\Roaming\\Python\\Python312\\site-packages\\qlib\\data\\dataset\\loader.py:142\u001b[39m, in \u001b[36mDLWParser.load\u001b[39m\u001b[34m(self, instruments, start_time, end_time)\u001b[39m\n\u001b[32m    138\u001b[39m \u001b[38;5;28;01mdef\u001b[39;00m\u001b[38;5;250m \u001b[39m\u001b[34mload\u001b[39m(\u001b[38;5;28mself\u001b[39m, instruments=\u001b[38;5;28;01mNone\u001b[39;00m, start_time=\u001b[38;5;28;01mNone\u001b[39;00m, end_time=\u001b[38;5;28;01mNone\u001b[39;00m) -> pd.DataFrame:\n\u001b[32m    139\u001b[39m     \u001b[38;5;28;01mif\u001b[39;00m \u001b[38;5;28mself\u001b[39m.is_group:\n\u001b[32m    140\u001b[39m         df = pd.concat(\n\u001b[32m    141\u001b[39m             {\n\u001b[32m--> \u001b[39m\u001b[32m142\u001b[39m                 grp: \u001b[38;5;28;43mself\u001b[39;49m\u001b[43m.\u001b[49m\u001b[43mload_group_df\u001b[49m\u001b[43m(\u001b[49m\u001b[43minstruments\u001b[49m\u001b[43m,\u001b[49m\u001b[43m \u001b[49m\u001b[43mexprs\u001b[49m\u001b[43m,\u001b[49m\u001b[43m \u001b[49m\u001b[43mnames\u001b[49m\u001b[43m,\u001b[49m\u001b[43m \u001b[49m\u001b[43mstart_time\u001b[49m\u001b[43m,\u001b[49m\u001b[43m \u001b[49m\u001b[43mend_time\u001b[49m\u001b[43m,\u001b[49m\u001b[43m \u001b[49m\u001b[43mgrp\u001b[49m\u001b[43m)\u001b[49m\n\u001b[32m    143\u001b[39m                 \u001b[38;5;28;01mfor\u001b[39;00m grp, (exprs, names) \u001b[38;5;129;01min\u001b[39;00m \u001b[38;5;28mself\u001b[39m.fields.items()\n\u001b[32m    144\u001b[39m             },\n\u001b[32m    145\u001b[39m             axis=\u001b[32m1\u001b[39m,\n\u001b[32m    146\u001b[39m         )\n\u001b[32m    147\u001b[39m     \u001b[38;5;28;01melse\u001b[39;00m:\n\u001b[32m    148\u001b[39m         exprs, names = \u001b[38;5;28mself\u001b[39m.fields\n",
      "\u001b[36mFile \u001b[39m\u001b[32m~\\AppData\\Roaming\\Python\\Python312\\site-packages\\qlib\\data\\dataset\\loader.py:223\u001b[39m, in \u001b[36mQlibDataLoader.load_group_df\u001b[39m\u001b[34m(self, instruments, exprs, names, start_time, end_time, gp_name)\u001b[39m\n\u001b[32m    219\u001b[39m freq = \u001b[38;5;28mself\u001b[39m.freq[gp_name] \u001b[38;5;28;01mif\u001b[39;00m \u001b[38;5;28misinstance\u001b[39m(\u001b[38;5;28mself\u001b[39m.freq, \u001b[38;5;28mdict\u001b[39m) \u001b[38;5;28;01melse\u001b[39;00m \u001b[38;5;28mself\u001b[39m.freq\n\u001b[32m    220\u001b[39m inst_processors = (\n\u001b[32m    221\u001b[39m     \u001b[38;5;28mself\u001b[39m.inst_processors \u001b[38;5;28;01mif\u001b[39;00m \u001b[38;5;28misinstance\u001b[39m(\u001b[38;5;28mself\u001b[39m.inst_processors, \u001b[38;5;28mlist\u001b[39m) \u001b[38;5;28;01melse\u001b[39;00m \u001b[38;5;28mself\u001b[39m.inst_processors.get(gp_name, [])\n\u001b[32m    222\u001b[39m )\n\u001b[32m--> \u001b[39m\u001b[32m223\u001b[39m df = \u001b[43mD\u001b[49m\u001b[43m.\u001b[49m\u001b[43mfeatures\u001b[49m\u001b[43m(\u001b[49m\u001b[43minstruments\u001b[49m\u001b[43m,\u001b[49m\u001b[43m \u001b[49m\u001b[43mexprs\u001b[49m\u001b[43m,\u001b[49m\u001b[43m \u001b[49m\u001b[43mstart_time\u001b[49m\u001b[43m,\u001b[49m\u001b[43m \u001b[49m\u001b[43mend_time\u001b[49m\u001b[43m,\u001b[49m\u001b[43m \u001b[49m\u001b[43mfreq\u001b[49m\u001b[43m=\u001b[49m\u001b[43mfreq\u001b[49m\u001b[43m,\u001b[49m\u001b[43m \u001b[49m\u001b[43minst_processors\u001b[49m\u001b[43m=\u001b[49m\u001b[43minst_processors\u001b[49m\u001b[43m)\u001b[49m\n\u001b[32m    224\u001b[39m df.columns = names\n\u001b[32m    225\u001b[39m \u001b[38;5;28;01mif\u001b[39;00m \u001b[38;5;28mself\u001b[39m.swap_level:\n",
      "\u001b[36mFile \u001b[39m\u001b[32m~\\AppData\\Roaming\\Python\\Python312\\site-packages\\qlib\\data\\data.py:1190\u001b[39m, in \u001b[36mBaseProvider.features\u001b[39m\u001b[34m(self, instruments, fields, start_time, end_time, freq, disk_cache, inst_processors)\u001b[39m\n\u001b[32m   1186\u001b[39m     \u001b[38;5;28;01mreturn\u001b[39;00m DatasetD.dataset(\n\u001b[32m   1187\u001b[39m         instruments, fields, start_time, end_time, freq, disk_cache, inst_processors=inst_processors\n\u001b[32m   1188\u001b[39m     )\n\u001b[32m   1189\u001b[39m \u001b[38;5;28;01mexcept\u001b[39;00m \u001b[38;5;167;01mTypeError\u001b[39;00m:\n\u001b[32m-> \u001b[39m\u001b[32m1190\u001b[39m     \u001b[38;5;28;01mreturn\u001b[39;00m \u001b[43mDatasetD\u001b[49m\u001b[43m.\u001b[49m\u001b[43mdataset\u001b[49m\u001b[43m(\u001b[49m\u001b[43minstruments\u001b[49m\u001b[43m,\u001b[49m\u001b[43m \u001b[49m\u001b[43mfields\u001b[49m\u001b[43m,\u001b[49m\u001b[43m \u001b[49m\u001b[43mstart_time\u001b[49m\u001b[43m,\u001b[49m\u001b[43m \u001b[49m\u001b[43mend_time\u001b[49m\u001b[43m,\u001b[49m\u001b[43m \u001b[49m\u001b[43mfreq\u001b[49m\u001b[43m,\u001b[49m\u001b[43m \u001b[49m\u001b[43minst_processors\u001b[49m\u001b[43m=\u001b[49m\u001b[43minst_processors\u001b[49m\u001b[43m)\u001b[49m\n",
      "\u001b[36mFile \u001b[39m\u001b[32m~\\AppData\\Roaming\\Python\\Python312\\site-packages\\qlib\\data\\data.py:911\u001b[39m, in \u001b[36mLocalDatasetProvider.dataset\u001b[39m\u001b[34m(self, instruments, fields, start_time, end_time, freq, inst_processors)\u001b[39m\n\u001b[32m    902\u001b[39m \u001b[38;5;28;01mdef\u001b[39;00m\u001b[38;5;250m \u001b[39m\u001b[34mdataset\u001b[39m(\n\u001b[32m    903\u001b[39m     \u001b[38;5;28mself\u001b[39m,\n\u001b[32m    904\u001b[39m     instruments,\n\u001b[32m   (...)\u001b[39m\u001b[32m    909\u001b[39m     inst_processors=[],\n\u001b[32m    910\u001b[39m ):\n\u001b[32m--> \u001b[39m\u001b[32m911\u001b[39m     instruments_d = \u001b[38;5;28;43mself\u001b[39;49m\u001b[43m.\u001b[49m\u001b[43mget_instruments_d\u001b[49m\u001b[43m(\u001b[49m\u001b[43minstruments\u001b[49m\u001b[43m,\u001b[49m\u001b[43m \u001b[49m\u001b[43mfreq\u001b[49m\u001b[43m)\u001b[49m\n\u001b[32m    912\u001b[39m     column_names = \u001b[38;5;28mself\u001b[39m.get_column_names(fields)\n\u001b[32m    913\u001b[39m     \u001b[38;5;28;01mif\u001b[39;00m \u001b[38;5;28mself\u001b[39m.align_time:\n\u001b[32m    914\u001b[39m         \u001b[38;5;66;03m# NOTE: if the frequency is a fixed value.\u001b[39;00m\n\u001b[32m    915\u001b[39m         \u001b[38;5;66;03m# align the data to fixed calendar point\u001b[39;00m\n",
      "\u001b[36mFile \u001b[39m\u001b[32m~\\AppData\\Roaming\\Python\\Python312\\site-packages\\qlib\\data\\data.py:520\u001b[39m, in \u001b[36mDatasetProvider.get_instruments_d\u001b[39m\u001b[34m(instruments, freq)\u001b[39m\n\u001b[32m    517\u001b[39m \u001b[38;5;28;01mif\u001b[39;00m \u001b[38;5;28misinstance\u001b[39m(instruments, \u001b[38;5;28mdict\u001b[39m):\n\u001b[32m    518\u001b[39m     \u001b[38;5;28;01mif\u001b[39;00m \u001b[33m\"\u001b[39m\u001b[33mmarket\u001b[39m\u001b[33m\"\u001b[39m \u001b[38;5;129;01min\u001b[39;00m instruments:\n\u001b[32m    519\u001b[39m         \u001b[38;5;66;03m# dict of stockpool config\u001b[39;00m\n\u001b[32m--> \u001b[39m\u001b[32m520\u001b[39m         instruments_d = \u001b[43mInst\u001b[49m\u001b[43m.\u001b[49m\u001b[43mlist_instruments\u001b[49m\u001b[43m(\u001b[49m\u001b[43minstruments\u001b[49m\u001b[43m=\u001b[49m\u001b[43minstruments\u001b[49m\u001b[43m,\u001b[49m\u001b[43m \u001b[49m\u001b[43mfreq\u001b[49m\u001b[43m=\u001b[49m\u001b[43mfreq\u001b[49m\u001b[43m,\u001b[49m\u001b[43m \u001b[49m\u001b[43mas_list\u001b[49m\u001b[43m=\u001b[49m\u001b[38;5;28;43;01mFalse\u001b[39;49;00m\u001b[43m)\u001b[49m\n\u001b[32m    521\u001b[39m     \u001b[38;5;28;01melse\u001b[39;00m:\n\u001b[32m    522\u001b[39m         \u001b[38;5;66;03m# dict of instruments and timestamp\u001b[39;00m\n\u001b[32m    523\u001b[39m         instruments_d = instruments\n",
      "\u001b[36mFile \u001b[39m\u001b[32m~\\AppData\\Roaming\\Python\\Python312\\site-packages\\qlib\\data\\data.py:696\u001b[39m, in \u001b[36mLocalInstrumentProvider.list_instruments\u001b[39m\u001b[34m(self, instruments, start_time, end_time, freq, as_list)\u001b[39m\n\u001b[32m    694\u001b[39m     _instruments = H[\u001b[33m\"\u001b[39m\u001b[33mi\u001b[39m\u001b[33m\"\u001b[39m][market]\n\u001b[32m    695\u001b[39m \u001b[38;5;28;01melse\u001b[39;00m:\n\u001b[32m--> \u001b[39m\u001b[32m696\u001b[39m     _instruments = \u001b[38;5;28;43mself\u001b[39;49m\u001b[43m.\u001b[49m\u001b[43m_load_instruments\u001b[49m\u001b[43m(\u001b[49m\u001b[43mmarket\u001b[49m\u001b[43m,\u001b[49m\u001b[43m \u001b[49m\u001b[43mfreq\u001b[49m\u001b[43m=\u001b[49m\u001b[43mfreq\u001b[49m\u001b[43m)\u001b[49m\n\u001b[32m    697\u001b[39m     H[\u001b[33m\"\u001b[39m\u001b[33mi\u001b[39m\u001b[33m\"\u001b[39m][market] = _instruments\n\u001b[32m    698\u001b[39m \u001b[38;5;66;03m# strip\u001b[39;00m\n\u001b[32m    699\u001b[39m \u001b[38;5;66;03m# use calendar boundary\u001b[39;00m\n",
      "\u001b[36mFile \u001b[39m\u001b[32m~\\AppData\\Roaming\\Python\\Python312\\site-packages\\qlib\\data\\data.py:689\u001b[39m, in \u001b[36mLocalInstrumentProvider._load_instruments\u001b[39m\u001b[34m(self, market, freq)\u001b[39m\n\u001b[32m    688\u001b[39m \u001b[38;5;28;01mdef\u001b[39;00m\u001b[38;5;250m \u001b[39m\u001b[34m_load_instruments\u001b[39m(\u001b[38;5;28mself\u001b[39m, market, freq):\n\u001b[32m--> \u001b[39m\u001b[32m689\u001b[39m     \u001b[38;5;28;01mreturn\u001b[39;00m \u001b[38;5;28;43mself\u001b[39;49m\u001b[43m.\u001b[49m\u001b[43mbackend_obj\u001b[49m\u001b[43m(\u001b[49m\u001b[43mmarket\u001b[49m\u001b[43m=\u001b[49m\u001b[43mmarket\u001b[49m\u001b[43m,\u001b[49m\u001b[43m \u001b[49m\u001b[43mfreq\u001b[49m\u001b[43m=\u001b[49m\u001b[43mfreq\u001b[49m\u001b[43m)\u001b[49m\u001b[43m.\u001b[49m\u001b[43mdata\u001b[49m\n",
      "\u001b[36mFile \u001b[39m\u001b[32m~\\AppData\\Roaming\\Python\\Python312\\site-packages\\qlib\\data\\storage\\file_storage.py:243\u001b[39m, in \u001b[36mFileInstrumentStorage.data\u001b[39m\u001b[34m(self)\u001b[39m\n\u001b[32m    241\u001b[39m \u001b[38;5;129m@property\u001b[39m\n\u001b[32m    242\u001b[39m \u001b[38;5;28;01mdef\u001b[39;00m\u001b[38;5;250m \u001b[39m\u001b[34mdata\u001b[39m(\u001b[38;5;28mself\u001b[39m) -> Dict[InstKT, InstVT]:\n\u001b[32m--> \u001b[39m\u001b[32m243\u001b[39m     \u001b[38;5;28;43mself\u001b[39;49m\u001b[43m.\u001b[49m\u001b[43mcheck\u001b[49m\u001b[43m(\u001b[49m\u001b[43m)\u001b[49m\n\u001b[32m    244\u001b[39m     \u001b[38;5;28;01mreturn\u001b[39;00m \u001b[38;5;28mself\u001b[39m._read_instrument()\n",
      "\u001b[36mFile \u001b[39m\u001b[32m~\\AppData\\Roaming\\Python\\Python312\\site-packages\\qlib\\data\\storage\\file_storage.py:72\u001b[39m, in \u001b[36mFileStorageMixin.check\u001b[39m\u001b[34m(self)\u001b[39m\n\u001b[32m     65\u001b[39m \u001b[38;5;28;01mdef\u001b[39;00m\u001b[38;5;250m \u001b[39m\u001b[34mcheck\u001b[39m(\u001b[38;5;28mself\u001b[39m):\n\u001b[32m     66\u001b[39m \u001b[38;5;250m    \u001b[39m\u001b[33;03m\"\"\"check self.uri\u001b[39;00m\n\u001b[32m     67\u001b[39m \n\u001b[32m     68\u001b[39m \u001b[33;03m    Raises\u001b[39;00m\n\u001b[32m     69\u001b[39m \u001b[33;03m    -------\u001b[39;00m\n\u001b[32m     70\u001b[39m \u001b[33;03m    ValueError\u001b[39;00m\n\u001b[32m     71\u001b[39m \u001b[33;03m    \"\"\"\u001b[39;00m\n\u001b[32m---> \u001b[39m\u001b[32m72\u001b[39m     \u001b[38;5;28;01mif\u001b[39;00m \u001b[38;5;129;01mnot\u001b[39;00m \u001b[38;5;28;43mself\u001b[39;49m\u001b[43m.\u001b[49m\u001b[43muri\u001b[49m.exists():\n\u001b[32m     73\u001b[39m         \u001b[38;5;28;01mraise\u001b[39;00m \u001b[38;5;167;01mValueError\u001b[39;00m(\u001b[33mf\u001b[39m\u001b[33m\"\u001b[39m\u001b[38;5;132;01m{\u001b[39;00m\u001b[38;5;28mself\u001b[39m.storage_name\u001b[38;5;132;01m}\u001b[39;00m\u001b[33m not exists: \u001b[39m\u001b[38;5;132;01m{\u001b[39;00m\u001b[38;5;28mself\u001b[39m.uri\u001b[38;5;132;01m}\u001b[39;00m\u001b[33m\"\u001b[39m)\n",
      "\u001b[36mFile \u001b[39m\u001b[32m~\\AppData\\Roaming\\Python\\Python312\\site-packages\\qlib\\data\\storage\\file_storage.py:62\u001b[39m, in \u001b[36mFileStorageMixin.uri\u001b[39m\u001b[34m(self)\u001b[39m\n\u001b[32m     59\u001b[39m \u001b[38;5;129m@property\u001b[39m\n\u001b[32m     60\u001b[39m \u001b[38;5;28;01mdef\u001b[39;00m\u001b[38;5;250m \u001b[39m\u001b[34muri\u001b[39m(\u001b[38;5;28mself\u001b[39m) -> Path:\n\u001b[32m     61\u001b[39m     \u001b[38;5;28;01mif\u001b[39;00m \u001b[38;5;28mself\u001b[39m.freq \u001b[38;5;129;01mnot\u001b[39;00m \u001b[38;5;129;01min\u001b[39;00m \u001b[38;5;28mself\u001b[39m.support_freq:\n\u001b[32m---> \u001b[39m\u001b[32m62\u001b[39m         \u001b[38;5;28;01mraise\u001b[39;00m \u001b[38;5;167;01mValueError\u001b[39;00m(\u001b[33mf\u001b[39m\u001b[33m\"\u001b[39m\u001b[38;5;132;01m{\u001b[39;00m\u001b[38;5;28mself\u001b[39m.storage_name\u001b[38;5;132;01m}\u001b[39;00m\u001b[33m: \u001b[39m\u001b[38;5;132;01m{\u001b[39;00m\u001b[38;5;28mself\u001b[39m.provider_uri\u001b[38;5;132;01m}\u001b[39;00m\u001b[33m does not contain data for \u001b[39m\u001b[38;5;132;01m{\u001b[39;00m\u001b[38;5;28mself\u001b[39m.freq\u001b[38;5;132;01m}\u001b[39;00m\u001b[33m\"\u001b[39m)\n\u001b[32m     63\u001b[39m     \u001b[38;5;28;01mreturn\u001b[39;00m \u001b[38;5;28mself\u001b[39m.dpm.get_data_uri(\u001b[38;5;28mself\u001b[39m.freq).joinpath(\u001b[33mf\u001b[39m\u001b[33m\"\u001b[39m\u001b[38;5;132;01m{\u001b[39;00m\u001b[38;5;28mself\u001b[39m.storage_name\u001b[38;5;132;01m}\u001b[39;00m\u001b[33ms\u001b[39m\u001b[33m\"\u001b[39m, \u001b[38;5;28mself\u001b[39m.file_name)\n",
      "\u001b[31mValueError\u001b[39m: instrument: {'__DEFAULT_FREQ': 'C:\\\\Users\\\\KIIT\\\\.qlib\\\\qlib_data\\\\in_data'} does not contain data for day"
     ]
    }
   ],
   "source": [
    "from qlib.workflow import R\n",
    "from qlib.workflow.record_temp import SignalRecord, PortAnaRecord\n",
    "from qlib.contrib.strategy.signal_strategy import TopkDropoutStrategy\n",
    "from qlib.contrib.model.gbdt import LGBModel\n",
    "from qlib.data.dataset.loader import QlibDataLoader\n",
    "from qlib.contrib.data.handler import Alpha158\n",
    "\n",
    "# Load dataset\n",
    "handler = Alpha158(instruments=\"all\")\n",
    "\n",
    "# Train Model\n",
    "model = LGBModel()\n",
    "R.start(experiment_name=\"stock_prediction\")\n",
    "model.fit(handler)\n",
    "\n",
    "# Save results\n",
    "R.save_objects(model=model)\n",
    "print(\"Model training completed.\")"
   ]
  },
  {
   "cell_type": "code",
   "execution_count": 48,
   "id": "53149d48-22f3-4b24-b711-046991f25e65",
   "metadata": {},
   "outputs": [
    {
     "ename": "NameError",
     "evalue": "name 'model' is not defined",
     "output_type": "error",
     "traceback": [
      "\u001b[31m---------------------------------------------------------------------------\u001b[39m",
      "\u001b[31mNameError\u001b[39m                                 Traceback (most recent call last)",
      "\u001b[36mCell\u001b[39m\u001b[36m \u001b[39m\u001b[32mIn[48]\u001b[39m\u001b[32m, line 3\u001b[39m\n\u001b[32m      1\u001b[39m \u001b[38;5;28;01mimport\u001b[39;00m\u001b[38;5;250m \u001b[39m\u001b[34;01mmatplotlib\u001b[39;00m\u001b[34;01m.\u001b[39;00m\u001b[34;01mpyplot\u001b[39;00m\u001b[38;5;250m \u001b[39m\u001b[38;5;28;01mas\u001b[39;00m\u001b[38;5;250m \u001b[39m\u001b[34;01mplt\u001b[39;00m\n\u001b[32m----> \u001b[39m\u001b[32m3\u001b[39m preds = \u001b[43mmodel\u001b[49m.predict(handler)\n\u001b[32m      4\u001b[39m plt.plot(preds, label=\u001b[33m\"\u001b[39m\u001b[33mPredicted Stock Prices\u001b[39m\u001b[33m\"\u001b[39m)\n\u001b[32m      5\u001b[39m plt.legend()\n",
      "\u001b[31mNameError\u001b[39m: name 'model' is not defined"
     ]
    }
   ],
   "source": [
    "import matplotlib.pyplot as plt\n",
    "\n",
    "preds = model.predict(handler)\n",
    "plt.plot(preds, label=\"Predicted Stock Prices\")\n",
    "plt.legend()\n",
    "plt.show()"
   ]
  },
  {
   "cell_type": "code",
   "execution_count": 56,
   "id": "8d91731a-baff-4170-95c0-8a2493a8cbba",
   "metadata": {},
   "outputs": [
    {
     "ename": "TypeError",
     "evalue": "DataHandler.__init__() got an unexpected keyword argument 'infer_start_time'",
     "output_type": "error",
     "traceback": [
      "\u001b[31m---------------------------------------------------------------------------\u001b[39m",
      "\u001b[31mTypeError\u001b[39m                                 Traceback (most recent call last)",
      "\u001b[36mCell\u001b[39m\u001b[36m \u001b[39m\u001b[32mIn[56]\u001b[39m\u001b[32m, line 4\u001b[39m\n\u001b[32m      1\u001b[39m \u001b[38;5;28;01mfrom\u001b[39;00m\u001b[38;5;250m \u001b[39m\u001b[34;01mqlib\u001b[39;00m\u001b[34;01m.\u001b[39;00m\u001b[34;01mdata\u001b[39;00m\u001b[34;01m.\u001b[39;00m\u001b[34;01mdataset\u001b[39;00m\u001b[34;01m.\u001b[39;00m\u001b[34;01mhandler\u001b[39;00m\u001b[38;5;250m \u001b[39m\u001b[38;5;28;01mimport\u001b[39;00m DataHandlerLP\n\u001b[32m      2\u001b[39m \u001b[38;5;28;01mfrom\u001b[39;00m\u001b[38;5;250m \u001b[39m\u001b[34;01mqlib\u001b[39;00m\u001b[34;01m.\u001b[39;00m\u001b[34;01mdata\u001b[39;00m\u001b[34;01m.\u001b[39;00m\u001b[34;01mdataset\u001b[39;00m\u001b[38;5;250m \u001b[39m\u001b[38;5;28;01mimport\u001b[39;00m DatasetH\n\u001b[32m----> \u001b[39m\u001b[32m4\u001b[39m handler = \u001b[43mDataHandlerLP\u001b[49m\u001b[43m(\u001b[49m\n\u001b[32m      5\u001b[39m \u001b[43m    \u001b[49m\u001b[43minstruments\u001b[49m\u001b[43m=\u001b[49m\u001b[33;43m\"\u001b[39;49m\u001b[33;43mall\u001b[39;49m\u001b[33;43m\"\u001b[39;49m\u001b[43m,\u001b[49m\n\u001b[32m      6\u001b[39m \u001b[43m    \u001b[49m\u001b[43mstart_time\u001b[49m\u001b[43m=\u001b[49m\u001b[33;43m\"\u001b[39;49m\u001b[33;43m2022-03-23\u001b[39;49m\u001b[33;43m\"\u001b[39;49m\u001b[43m,\u001b[49m\n\u001b[32m      7\u001b[39m \u001b[43m    \u001b[49m\u001b[43mend_time\u001b[49m\u001b[43m=\u001b[49m\u001b[33;43m\"\u001b[39;49m\u001b[33;43m2024-03-23\u001b[39;49m\u001b[33;43m\"\u001b[39;49m\u001b[43m,\u001b[49m\n\u001b[32m      8\u001b[39m \u001b[43m    \u001b[49m\u001b[43minfer_start_time\u001b[49m\u001b[43m=\u001b[49m\u001b[33;43m\"\u001b[39;49m\u001b[33;43m2022-03-23\u001b[39;49m\u001b[33;43m\"\u001b[39;49m\u001b[43m,\u001b[49m\n\u001b[32m      9\u001b[39m \u001b[43m    \u001b[49m\u001b[43minfer_end_time\u001b[49m\u001b[43m=\u001b[49m\u001b[33;43m\"\u001b[39;49m\u001b[33;43m2024-03-23\u001b[39;49m\u001b[33;43m\"\u001b[39;49m\u001b[43m,\u001b[49m\n\u001b[32m     10\u001b[39m \u001b[43m    \u001b[49m\u001b[43mfreq\u001b[49m\u001b[43m=\u001b[49m\u001b[33;43m\"\u001b[39;49m\u001b[33;43mday\u001b[39;49m\u001b[33;43m\"\u001b[39;49m\u001b[43m,\u001b[49m\n\u001b[32m     11\u001b[39m \u001b[43m)\u001b[49m\n\u001b[32m     13\u001b[39m dataset = DatasetH(handler)\n\u001b[32m     14\u001b[39m \u001b[38;5;28mprint\u001b[39m(\u001b[33m\"\u001b[39m\u001b[33m✅ Qlib dataset loaded successfully!\u001b[39m\u001b[33m\"\u001b[39m)\n",
      "\u001b[36mFile \u001b[39m\u001b[32m~\\AppData\\Roaming\\Python\\Python312\\site-packages\\qlib\\data\\dataset\\handler.py:468\u001b[39m, in \u001b[36mDataHandlerLP.__init__\u001b[39m\u001b[34m(self, instruments, start_time, end_time, data_loader, infer_processors, learn_processors, shared_processors, process_type, drop_raw, **kwargs)\u001b[39m\n\u001b[32m    466\u001b[39m \u001b[38;5;28mself\u001b[39m.process_type = process_type\n\u001b[32m    467\u001b[39m \u001b[38;5;28mself\u001b[39m.drop_raw = drop_raw\n\u001b[32m--> \u001b[39m\u001b[32m468\u001b[39m \u001b[38;5;28;43msuper\u001b[39;49m\u001b[43m(\u001b[49m\u001b[43m)\u001b[49m\u001b[43m.\u001b[49m\u001b[34;43m__init__\u001b[39;49m\u001b[43m(\u001b[49m\u001b[43minstruments\u001b[49m\u001b[43m,\u001b[49m\u001b[43m \u001b[49m\u001b[43mstart_time\u001b[49m\u001b[43m,\u001b[49m\u001b[43m \u001b[49m\u001b[43mend_time\u001b[49m\u001b[43m,\u001b[49m\u001b[43m \u001b[49m\u001b[43mdata_loader\u001b[49m\u001b[43m,\u001b[49m\u001b[43m \u001b[49m\u001b[43m*\u001b[49m\u001b[43m*\u001b[49m\u001b[43mkwargs\u001b[49m\u001b[43m)\u001b[49m\n",
      "\u001b[31mTypeError\u001b[39m: DataHandler.__init__() got an unexpected keyword argument 'infer_start_time'"
     ]
    }
   ],
   "source": [
    "from qlib.data.dataset.handler import DataHandlerLP\n",
    "from qlib.data.dataset import DatasetH\n",
    "\n",
    "handler = DataHandlerLP(\n",
    "    instruments=\"all\",\n",
    "    start_time=\"2022-03-23\",\n",
    "    end_time=\"2024-03-23\",\n",
    "    infer_start_time=\"2022-03-23\",\n",
    "    infer_end_time=\"2024-03-23\",\n",
    "    freq=\"day\",\n",
    ")\n",
    "\n",
    "dataset = DatasetH(handler)\n",
    "print(\"✅ Qlib dataset loaded successfully!\")\n"
   ]
  },
  {
   "cell_type": "code",
   "execution_count": null,
   "id": "12e4f81d-fcb5-4bce-8280-e55f2a5f49f3",
   "metadata": {},
   "outputs": [],
   "source": []
  }
 ],
 "metadata": {
  "kernelspec": {
   "display_name": "Python 3 (ipykernel)",
   "language": "python",
   "name": "python3"
  },
  "language_info": {
   "codemirror_mode": {
    "name": "ipython",
    "version": 3
   },
   "file_extension": ".py",
   "mimetype": "text/x-python",
   "name": "python",
   "nbconvert_exporter": "python",
   "pygments_lexer": "ipython3",
   "version": "3.12.4"
  }
 },
 "nbformat": 4,
 "nbformat_minor": 5
}
