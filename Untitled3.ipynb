{
 "cells": [
  {
   "cell_type": "code",
   "execution_count": 1,
   "id": "138e30d3-6cb4-4933-9f68-ebdfcdbc249a",
   "metadata": {},
   "outputs": [
    {
     "name": "stdout",
     "output_type": "stream",
     "text": [
      "Requirement already satisfied: qlib in c:\\users\\kiit\\anaconda3\\lib\\site-packages (0.0.2.dev20)\n",
      "Requirement already satisfied: pandas in c:\\users\\kiit\\anaconda3\\lib\\site-packages (2.2.3)\n",
      "Requirement already satisfied: numpy in c:\\users\\kiit\\anaconda3\\lib\\site-packages (1.26.4)\n",
      "Requirement already satisfied: yfinance in c:\\users\\kiit\\anaconda3\\lib\\site-packages (0.2.55)\n",
      "Requirement already satisfied: python-dateutil>=2.8.2 in c:\\users\\kiit\\anaconda3\\lib\\site-packages (from pandas) (2.9.0.post0)\n",
      "Requirement already satisfied: pytz>=2020.1 in c:\\users\\kiit\\anaconda3\\lib\\site-packages (from pandas) (2025.1)\n",
      "Requirement already satisfied: tzdata>=2022.7 in c:\\users\\kiit\\anaconda3\\lib\\site-packages (from pandas) (2025.1)\n",
      "Requirement already satisfied: requests>=2.31 in c:\\users\\kiit\\appdata\\roaming\\python\\python312\\site-packages (from yfinance) (2.32.3)\n",
      "Requirement already satisfied: multitasking>=0.0.7 in c:\\users\\kiit\\anaconda3\\lib\\site-packages (from yfinance) (0.0.11)\n",
      "Requirement already satisfied: platformdirs>=2.0.0 in c:\\users\\kiit\\appdata\\roaming\\python\\python312\\site-packages (from yfinance) (4.3.7)\n",
      "Requirement already satisfied: frozendict>=2.3.4 in c:\\users\\kiit\\anaconda3\\lib\\site-packages (from yfinance) (2.4.2)\n",
      "Requirement already satisfied: peewee>=3.16.2 in c:\\users\\kiit\\anaconda3\\lib\\site-packages (from yfinance) (3.17.9)\n",
      "Requirement already satisfied: beautifulsoup4>=4.11.1 in c:\\users\\kiit\\appdata\\roaming\\python\\python312\\site-packages (from yfinance) (4.13.3)\n",
      "Requirement already satisfied: soupsieve>1.2 in c:\\users\\kiit\\appdata\\roaming\\python\\python312\\site-packages (from beautifulsoup4>=4.11.1->yfinance) (2.6)\n",
      "Requirement already satisfied: typing-extensions>=4.0.0 in c:\\users\\kiit\\anaconda3\\lib\\site-packages (from beautifulsoup4>=4.11.1->yfinance) (4.12.2)\n",
      "Requirement already satisfied: six>=1.5 in c:\\users\\kiit\\anaconda3\\lib\\site-packages (from python-dateutil>=2.8.2->pandas) (1.17.0)\n",
      "Requirement already satisfied: charset-normalizer<4,>=2 in c:\\users\\kiit\\appdata\\roaming\\python\\python312\\site-packages (from requests>=2.31->yfinance) (3.4.1)\n",
      "Requirement already satisfied: idna<4,>=2.5 in c:\\users\\kiit\\appdata\\roaming\\python\\python312\\site-packages (from requests>=2.31->yfinance) (3.10)\n",
      "Requirement already satisfied: urllib3<3,>=1.21.1 in c:\\users\\kiit\\appdata\\roaming\\python\\python312\\site-packages (from requests>=2.31->yfinance) (2.3.0)\n",
      "Requirement already satisfied: certifi>=2017.4.17 in c:\\users\\kiit\\appdata\\roaming\\python\\python312\\site-packages (from requests>=2.31->yfinance) (2025.1.31)\n"
     ]
    }
   ],
   "source": [
    "!pip install qlib pandas numpy yfinance"
   ]
  },
  {
   "cell_type": "code",
   "execution_count": 3,
   "id": "f9f0fd67-ae6b-4e52-bfe7-86c75cec4426",
   "metadata": {},
   "outputs": [
    {
     "name": "stdout",
     "output_type": "stream",
     "text": [
      "Qlib installed successfully!\n"
     ]
    }
   ],
   "source": [
    "import qlib\n",
    "print(\"Qlib installed successfully!\")"
   ]
  },
  {
   "cell_type": "code",
   "execution_count": 5,
   "id": "fd41b0e5-f37b-4b28-b961-9f1abda21710",
   "metadata": {},
   "outputs": [
    {
     "name": "stdout",
     "output_type": "stream",
     "text": [
      "YF.download() has changed argument auto_adjust default to True\n"
     ]
    },
    {
     "name": "stderr",
     "output_type": "stream",
     "text": [
      "[*********************100%***********************]  1 of 1 completed\n",
      "[*********************100%***********************]  1 of 1 completed\n",
      "[*********************100%***********************]  1 of 1 completed\n",
      "[*********************100%***********************]  1 of 1 completed\n",
      "[*********************100%***********************]  1 of 1 completed\n",
      "[*********************100%***********************]  1 of 1 completed\n",
      "[*********************100%***********************]  1 of 1 completed\n",
      "[*********************100%***********************]  1 of 1 completed\n",
      "[*********************100%***********************]  1 of 1 completed\n",
      "[*********************100%***********************]  1 of 1 completed\n"
     ]
    },
    {
     "name": "stdout",
     "output_type": "stream",
     "text": [
      "Dataset formatted and saved as indian_stocks_qlib.csv\n"
     ]
    }
   ],
   "source": [
    "import yfinance as yf\n",
    "import pandas as pd\n",
    "from datetime import datetime, timedelta\n",
    "\n",
    "# Define top 10 Indian companies (based on market cap)\n",
    "tickers = [\n",
    "    \"RELIANCE.NS\", \"TCS.NS\", \"HDFCBANK.NS\", \"ICICIBANK.NS\", \"INFY.NS\",\n",
    "    \"HINDUNILVR.NS\", \"SBIN.NS\", \"BHARTIARTL.NS\", \"HDFCBANK.NS\", \"ITC.NS\"\n",
    "]\n",
    "\n",
    "# Define date range\n",
    "end_date = datetime.today().strftime('%Y-%m-%d')\n",
    "start_date = (datetime.today() - timedelta(days=730)).strftime('%Y-%m-%d')\n",
    "\n",
    "# Fetch data and store in a DataFrame\n",
    "all_data = []\n",
    "for ticker in tickers:\n",
    "    stock_data = yf.download(ticker, start=start_date, end=end_date)\n",
    "    stock_data.insert(0, \"ticker\", ticker)  # Add ticker column\n",
    "    all_data.append(stock_data)\n",
    "\n",
    "# Concatenate all stock data\n",
    "df = pd.concat(all_data)\n",
    "df.reset_index(inplace=True)\n",
    "\n",
    "# Format data to match Qlib structure\n",
    "df.rename(columns={\n",
    "    \"Date\": \"datetime\",\n",
    "    \"Open\": \"open\",\n",
    "    \"High\": \"high\",\n",
    "    \"Low\": \"low\",\n",
    "    \"Close\": \"close\",\n",
    "    \"Adj Close\": \"close_adj\",\n",
    "    \"Volume\": \"volume\"\n",
    "}, inplace=True)\n",
    "\n",
    "# Save as CSV in Qlib format\n",
    "csv_file = \"indian_stocks_qlib.csv\"\n",
    "df.to_csv(csv_file, index=False)\n",
    "print(f\"Dataset formatted and saved as {csv_file}\")"
   ]
  },
  {
   "cell_type": "code",
   "execution_count": 5,
   "id": "91da13ea-02bc-48ff-a9a2-a523f66f9b7a",
   "metadata": {},
   "outputs": [
    {
     "name": "stderr",
     "output_type": "stream",
     "text": [
      "[13348:MainThread](2025-03-25 22:58:35,123) INFO - qlib.Initialization - [config.py:420] - default_conf: client.\n",
      "[13348:MainThread](2025-03-25 22:58:35,128) INFO - qlib.Initialization - [__init__.py:74] - qlib successfully initialized based on client settings.\n",
      "[13348:MainThread](2025-03-25 22:58:35,129) INFO - qlib.Initialization - [__init__.py:76] - data_path={'__DEFAULT_FREQ': WindowsPath('C:/Users/KIIT/.qlib/qlib_data/cn_data')}\n"
     ]
    },
    {
     "ename": "TypeError",
     "evalue": "DataHandler.__init__() got an unexpected keyword argument 'freq'",
     "output_type": "error",
     "traceback": [
      "\u001b[31m---------------------------------------------------------------------------\u001b[39m",
      "\u001b[31mTypeError\u001b[39m                                 Traceback (most recent call last)",
      "\u001b[36mCell\u001b[39m\u001b[36m \u001b[39m\u001b[32mIn[5]\u001b[39m\u001b[32m, line 12\u001b[39m\n\u001b[32m      9\u001b[39m tickers = [\u001b[33m\"\u001b[39m\u001b[33mSH600000\u001b[39m\u001b[33m\"\u001b[39m, \u001b[33m\"\u001b[39m\u001b[33mSH600001\u001b[39m\u001b[33m\"\u001b[39m]  \u001b[38;5;66;03m# Example Chinese stocks\u001b[39;00m\n\u001b[32m     11\u001b[39m \u001b[38;5;66;03m# Define DataHandlerLP correctly\u001b[39;00m\n\u001b[32m---> \u001b[39m\u001b[32m12\u001b[39m handler = \u001b[43mDataHandlerLP\u001b[49m\u001b[43m(\u001b[49m\n\u001b[32m     13\u001b[39m \u001b[43m    \u001b[49m\u001b[43minstruments\u001b[49m\u001b[43m=\u001b[49m\u001b[43mtickers\u001b[49m\u001b[43m,\u001b[49m\n\u001b[32m     14\u001b[39m \u001b[43m    \u001b[49m\u001b[43mstart_time\u001b[49m\u001b[43m=\u001b[49m\u001b[33;43m\"\u001b[39;49m\u001b[33;43m2022-03-23\u001b[39;49m\u001b[33;43m\"\u001b[39;49m\u001b[43m,\u001b[49m\n\u001b[32m     15\u001b[39m \u001b[43m    \u001b[49m\u001b[43mend_time\u001b[49m\u001b[43m=\u001b[49m\u001b[33;43m\"\u001b[39;49m\u001b[33;43m2024-03-23\u001b[39;49m\u001b[33;43m\"\u001b[39;49m\u001b[43m,\u001b[49m\n\u001b[32m     16\u001b[39m \u001b[43m    \u001b[49m\u001b[43mfreq\u001b[49m\u001b[43m=\u001b[49m\u001b[33;43m\"\u001b[39;49m\u001b[33;43mday\u001b[39;49m\u001b[33;43m\"\u001b[39;49m\u001b[43m  \u001b[49m\u001b[38;5;66;43;03m# Frequency of data (daily in this case)\u001b[39;49;00m\n\u001b[32m     17\u001b[39m \u001b[43m)\u001b[49m\n\u001b[32m     19\u001b[39m \u001b[38;5;66;03m# Create DatasetH\u001b[39;00m\n\u001b[32m     20\u001b[39m dataset = DatasetH(handler, segments={\n\u001b[32m     21\u001b[39m     \u001b[33m\"\u001b[39m\u001b[33mtrain\u001b[39m\u001b[33m\"\u001b[39m: (\u001b[33m\"\u001b[39m\u001b[33m2022-03-23\u001b[39m\u001b[33m\"\u001b[39m, \u001b[33m\"\u001b[39m\u001b[33m2023-03-23\u001b[39m\u001b[33m\"\u001b[39m),\n\u001b[32m     22\u001b[39m     \u001b[33m\"\u001b[39m\u001b[33mvalid\u001b[39m\u001b[33m\"\u001b[39m: (\u001b[33m\"\u001b[39m\u001b[33m2023-03-24\u001b[39m\u001b[33m\"\u001b[39m, \u001b[33m\"\u001b[39m\u001b[33m2024-02-23\u001b[39m\u001b[33m\"\u001b[39m),\n\u001b[32m     23\u001b[39m     \u001b[33m\"\u001b[39m\u001b[33mtest\u001b[39m\u001b[33m\"\u001b[39m: (\u001b[33m\"\u001b[39m\u001b[33m2024-02-24\u001b[39m\u001b[33m\"\u001b[39m, \u001b[33m\"\u001b[39m\u001b[33m2024-03-23\u001b[39m\u001b[33m\"\u001b[39m)\n\u001b[32m     24\u001b[39m })\n",
      "\u001b[36mFile \u001b[39m\u001b[32m~\\AppData\\Roaming\\Python\\Python312\\site-packages\\qlib\\data\\dataset\\handler.py:468\u001b[39m, in \u001b[36mDataHandlerLP.__init__\u001b[39m\u001b[34m(self, instruments, start_time, end_time, data_loader, infer_processors, learn_processors, shared_processors, process_type, drop_raw, **kwargs)\u001b[39m\n\u001b[32m    466\u001b[39m \u001b[38;5;28mself\u001b[39m.process_type = process_type\n\u001b[32m    467\u001b[39m \u001b[38;5;28mself\u001b[39m.drop_raw = drop_raw\n\u001b[32m--> \u001b[39m\u001b[32m468\u001b[39m \u001b[38;5;28;43msuper\u001b[39;49m\u001b[43m(\u001b[49m\u001b[43m)\u001b[49m\u001b[43m.\u001b[49m\u001b[34;43m__init__\u001b[39;49m\u001b[43m(\u001b[49m\u001b[43minstruments\u001b[49m\u001b[43m,\u001b[49m\u001b[43m \u001b[49m\u001b[43mstart_time\u001b[49m\u001b[43m,\u001b[49m\u001b[43m \u001b[49m\u001b[43mend_time\u001b[49m\u001b[43m,\u001b[49m\u001b[43m \u001b[49m\u001b[43mdata_loader\u001b[49m\u001b[43m,\u001b[49m\u001b[43m \u001b[49m\u001b[43m*\u001b[49m\u001b[43m*\u001b[49m\u001b[43mkwargs\u001b[49m\u001b[43m)\u001b[49m\n",
      "\u001b[31mTypeError\u001b[39m: DataHandler.__init__() got an unexpected keyword argument 'freq'"
     ]
    }
   ],
   "source": [
    "import qlib\n",
    "from qlib.data.dataset.handler import DataHandlerLP\n",
    "from qlib.data.dataset import DatasetH\n",
    "\n",
    "# Initialize Qlib (adjust path if needed)\n",
    "qlib.init(provider_uri=\"~/.qlib/qlib_data/cn_data\", region=\"cn\")\n",
    "\n",
    "# Define instruments (e.g., stock tickers)\n",
    "tickers = [\"SH600000\", \"SH600001\"]  # Example Chinese stocks\n",
    "\n",
    "# Define DataHandlerLP with specific instruments and data providera\n",
    "handler = DataHandlerLP(\n",
    "    instruments=tickers,\n",
    "    start_time=\"2022-03-23\",\n",
    "    end_time=\"2024-03-23\",\n",
    "    data_provider=\".csv\",  # Specify data provider\n",
    "    uri=\"path/to/your/data.csv\"  # Specify data file path\n",
    ")\n",
    "\n",
    "# Create DatasetH\n",
    "dataset = DatasetH(handler, segments={\"train\": (\"2022-03-23\", \"2023-03-23\"), \"valid\": (\"2023-03-24\", \"2024-02-23\"), \"test\": (\"2024-02-24\", \"2024-03-23\")})\n",
    "\n",
    "print(\"✅ Qlib dataset loaded successfully!\")\n"
   ]
  },
  {
   "cell_type": "code",
   "execution_count": 13,
   "id": "85116070-ed0c-4baf-9f54-63ca2aaa2cc4",
   "metadata": {},
   "outputs": [
    {
     "ename": "ImportError",
     "evalue": "cannot import name 'SFMModel' from 'qlib.contrib.model.pytorch_sfm' (C:\\Users\\KIIT\\AppData\\Roaming\\Python\\Python312\\site-packages\\qlib\\contrib\\model\\pytorch_sfm.py)",
     "output_type": "error",
     "traceback": [
      "\u001b[31m---------------------------------------------------------------------------\u001b[39m",
      "\u001b[31mImportError\u001b[39m                               Traceback (most recent call last)",
      "\u001b[36mCell\u001b[39m\u001b[36m \u001b[39m\u001b[32mIn[13]\u001b[39m\u001b[32m, line 1\u001b[39m\n\u001b[32m----> \u001b[39m\u001b[32m1\u001b[39m \u001b[38;5;28;01mfrom\u001b[39;00m\u001b[38;5;250m \u001b[39m\u001b[34;01mqlib\u001b[39;00m\u001b[34;01m.\u001b[39;00m\u001b[34;01mcontrib\u001b[39;00m\u001b[34;01m.\u001b[39;00m\u001b[34;01mmodel\u001b[39;00m\u001b[34;01m.\u001b[39;00m\u001b[34;01mpytorch_sfm\u001b[39;00m\u001b[38;5;250m \u001b[39m\u001b[38;5;28;01mimport\u001b[39;00m SFMModel\n\u001b[32m      3\u001b[39m \u001b[38;5;66;03m# Initialize SFM Model\u001b[39;00m\n\u001b[32m      4\u001b[39m sfm_model = SFMModel(d_feat=\u001b[32m6\u001b[39m, hidden_size=\u001b[32m64\u001b[39m, num_layers=\u001b[32m2\u001b[39m, dropout=\u001b[32m0.5\u001b[39m, freq_dim=\u001b[32m32\u001b[39m)\n",
      "\u001b[31mImportError\u001b[39m: cannot import name 'SFMModel' from 'qlib.contrib.model.pytorch_sfm' (C:\\Users\\KIIT\\AppData\\Roaming\\Python\\Python312\\site-packages\\qlib\\contrib\\model\\pytorch_sfm.py)"
     ]
    }
   ],
   "source": [
    "from qlib.contrib.model.pytorch_sfm import SFMModel\n",
    "\n",
    "# Initialize SFM Model\n",
    "sfm_model = SFMModel(d_feat=6, hidden_size=64, num_layers=2, dropout=0.5, freq_dim=32)\n",
    "\n",
    "# Define Trainer\n",
    "sfm_trainer = Trainer(model=sfm_model, dataset=market, loss=nn.MSELoss(), optimizer=optim.Adam(sfm_model.parameters(), lr=0.001))\n",
    "\n",
    "# Train SFM Model\n",
    "sfm_trainer.train()\n",
    "\n",
    "# Save the trained model\n",
    "torch.save(sfm_model.state_dict(), \"sfm_stock_model.pth\")\n",
    "print(\"SFM Model Trained & Saved!\")"
   ]
  },
  {
   "cell_type": "code",
   "execution_count": 15,
   "id": "83d0c486-3827-4127-bc68-2bc151c0df7c",
   "metadata": {},
   "outputs": [
    {
     "ename": "NameError",
     "evalue": "name 'sfm_model' is not defined",
     "output_type": "error",
     "traceback": [
      "\u001b[31m---------------------------------------------------------------------------\u001b[39m",
      "\u001b[31mNameError\u001b[39m                                 Traceback (most recent call last)",
      "\u001b[36mCell\u001b[39m\u001b[36m \u001b[39m\u001b[32mIn[15]\u001b[39m\u001b[32m, line 2\u001b[39m\n\u001b[32m      1\u001b[39m \u001b[38;5;66;03m# Load trained SFM model\u001b[39;00m\n\u001b[32m----> \u001b[39m\u001b[32m2\u001b[39m \u001b[43msfm_model\u001b[49m.load_state_dict(torch.load(\u001b[33m\"\u001b[39m\u001b[33msfm_stock_model.pth\u001b[39m\u001b[33m\"\u001b[39m))\n\u001b[32m      3\u001b[39m sfm_model.eval()\n\u001b[32m      5\u001b[39m \u001b[38;5;66;03m# Predict\u001b[39;00m\n",
      "\u001b[31mNameError\u001b[39m: name 'sfm_model' is not defined"
     ]
    }
   ],
   "source": [
    "# Load trained SFM model\n",
    "sfm_model.load_state_dict(torch.load(\"sfm_stock_model.pth\"))\n",
    "sfm_model.eval()\n",
    "\n",
    "# Predict\n",
    "predicted_price_sfm = sfm_model(sample_input).item()\n",
    "print(f\"SFM Predicted Price: {predicted_price_sfm}\")"
   ]
  }
 ],
 "metadata": {
  "kernelspec": {
   "display_name": "Python 3 (ipykernel)",
   "language": "python",
   "name": "python3"
  },
  "language_info": {
   "codemirror_mode": {
    "name": "ipython",
    "version": 3
   },
   "file_extension": ".py",
   "mimetype": "text/x-python",
   "name": "python",
   "nbconvert_exporter": "python",
   "pygments_lexer": "ipython3",
   "version": "3.12.4"
  }
 },
 "nbformat": 4,
 "nbformat_minor": 5
}
